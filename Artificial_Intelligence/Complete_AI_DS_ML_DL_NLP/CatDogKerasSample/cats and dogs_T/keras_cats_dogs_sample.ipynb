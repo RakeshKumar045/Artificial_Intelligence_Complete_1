{
 "cells": [
  {
   "cell_type": "code",
   "execution_count": 4,
   "metadata": {},
   "outputs": [],
   "source": [
    "from __future__ import print_function\n",
    "from __future__ import absolute_import\n",
    "\n",
    "import os\n",
    "import shutil\n",
    "import random\n",
    "import warnings\n",
    "\n",
    "import cv2\n",
    "import pandas as pd\n",
    "import matplotlib.pyplot as plt\n",
    "import seaborn as sns\n",
    "import numpy as np\n",
    "np.random.seed(0)\n",
    "from   tqdm import *\n",
    "from   sklearn.model_selection import train_test_split\n",
    "\n",
    "import tensorflow as tf\n",
    "from   keras           import backend as K\n",
    "from   keras.models    import Model\n",
    "from   keras.layers    import Dense, Input, BatchNormalization, Activation, merge, Dropout\n",
    "from   keras.layers    import Conv2D, SeparableConv2D, MaxPooling2D, GlobalAveragePooling2D\n",
    "from   keras.callbacks import ModelCheckpoint\n",
    "from   keras.preprocessing       import image\n",
    "from   keras.preprocessing.image import ImageDataGenerator\n",
    "from   keras.engine.topology     import get_source_inputs\n",
    "from   keras.utils.data_utils    import get_file\n",
    "from   keras_applications.imagenet_utils import decode_predictions, _obtain_input_shape\n"
   ]
  },
  {
   "cell_type": "code",
   "execution_count": 5,
   "metadata": {},
   "outputs": [],
   "source": [
    "from random import shuffle # mixing up or currently ordered data that might lead our network astray in training.\n",
    "from tqdm import tqdm      # a nice pretty percentage bar for tasks. Thanks to viewer Daniel BA1/4hler for this suggestion\n",
    "\n",
    "%matplotlib inline"
   ]
  },
  {
   "cell_type": "code",
   "execution_count": 6,
   "metadata": {},
   "outputs": [],
   "source": [
    "TRAIN_DATASET = 'train'\n",
    "TEST_DATASET = 'test1'\n",
    "IMG_SIZE = 50"
   ]
  },
  {
   "cell_type": "code",
   "execution_count": 7,
   "metadata": {},
   "outputs": [],
   "source": [
    "def label_img(img):\n",
    "    word_label = img.split('.')[-3]\n",
    "    # conversion to one-hot array [cat,dog]\n",
    "    #                            [much cat, no dog]\n",
    "    if word_label == 'cat': return [1,0]\n",
    "    #                             [no cat, very doggo]\n",
    "    elif word_label == 'dog': return [0,1]"
   ]
  },
  {
   "cell_type": "code",
   "execution_count": 8,
   "metadata": {},
   "outputs": [],
   "source": [
    "def create_train_data():\n",
    "    training_data = []\n",
    "    for img in tqdm(os.listdir(TRAIN_DATASET)):\n",
    "        label = label_img(img)\n",
    "        path = os.path.join(TRAIN_DATASET,img)\n",
    "        img = cv2.imread(path,cv2.IMREAD_GRAYSCALE)\n",
    "        img = cv2.resize(img, (IMG_SIZE,IMG_SIZE))\n",
    "        training_data.append([np.array(img),np.array(label)])\n",
    "    shuffle(training_data)\n",
    "   # np.save('train_data.npy', training_data)\n",
    "    return training_data"
   ]
  },
  {
   "cell_type": "code",
   "execution_count": 9,
   "metadata": {},
   "outputs": [],
   "source": [
    "def process_test_data():\n",
    "    testing_data = []\n",
    "    for img in tqdm(os.listdir(TEST_DATASET)):\n",
    "        path = os.path.join(TEST_DATASET,img)\n",
    "        img_num = img.split('.')[0]\n",
    "        img = cv2.imread(path,cv2.IMREAD_GRAYSCALE)\n",
    "        img = cv2.resize(img, (IMG_SIZE,IMG_SIZE))\n",
    "        testing_data.append([np.array(img), img_num])\n",
    "        \n",
    "    shuffle(testing_data)\n",
    "   # np.save('test_data.npy', testing_data)\n",
    "    return testing_data"
   ]
  },
  {
   "cell_type": "code",
   "execution_count": null,
   "metadata": {},
   "outputs": [],
   "source": [
    "#2. Preprocessing for the input images"
   ]
  },
  {
   "cell_type": "code",
   "execution_count": 10,
   "metadata": {},
   "outputs": [
    {
     "name": "stderr",
     "output_type": "stream",
     "text": [
      "100%|██████████| 25000/25000 [03:52<00:00, 107.68it/s]\n",
      "100%|██████████| 12500/12500 [01:48<00:00, 115.55it/s]\n"
     ]
    }
   ],
   "source": [
    "train_filenames = create_train_data()\n",
    "test_filenames  = process_test_data()\n"
   ]
  },
  {
   "cell_type": "code",
   "execution_count": 11,
   "metadata": {},
   "outputs": [
    {
     "name": "stdout",
     "output_type": "stream",
     "text": [
      "[[array([[104, 125, 151, ..., 230, 255, 255],\n",
      "       [106, 125, 136, ..., 255, 255, 255],\n",
      "       [123, 164, 148, ..., 248, 255, 254],\n",
      "       ...,\n",
      "       [ 24,  67, 123, ..., 167, 192, 190],\n",
      "       [ 84,  68,  56, ..., 126, 194, 188],\n",
      "       [ 80, 116,  43, ..., 191, 189, 190]], dtype=uint8), array([0, 1])], [array([[ 36,  35,  36, ..., 118,  97, 106],\n",
      "       [ 33,  53,  43, ...,  54,  62,  71],\n",
      "       [ 59,  39,  46, ...,  60,  55,  62],\n",
      "       ...,\n",
      "       [145, 177, 188, ..., 172, 178, 183],\n",
      "       [166, 172, 171, ..., 118, 138, 152],\n",
      "       [178, 179, 186, ..., 147, 119, 157]], dtype=uint8), array([0, 1])], [array([[142, 150, 157, ..., 212, 206, 199],\n",
      "       [148, 154, 161, ..., 217, 210, 204],\n",
      "       [149, 158, 164, ..., 216, 210, 210],\n",
      "       ...,\n",
      "       [136, 147, 148, ..., 139, 133, 122],\n",
      "       [134, 138, 146, ..., 132, 126, 121],\n",
      "       [129, 143, 146, ..., 125, 121, 119]], dtype=uint8), array([0, 1])], [array([[ 65, 110, 143, ..., 206, 204, 203],\n",
      "       [ 98, 132, 249, ..., 206, 206, 205],\n",
      "       [ 99, 153, 253, ..., 209, 209, 208],\n",
      "       ...,\n",
      "       [147, 150, 151, ..., 161, 157, 150],\n",
      "       [147, 150, 150, ..., 154, 163, 147],\n",
      "       [147, 146, 146, ..., 127, 139, 135]], dtype=uint8), array([0, 1])], [array([[126, 127, 131, ..., 255, 229, 215],\n",
      "       [121, 126, 127, ..., 254, 207, 215],\n",
      "       [126, 127, 124, ..., 251, 194, 211],\n",
      "       ...,\n",
      "       [141, 167, 137, ...,  96, 138, 141],\n",
      "       [129, 151, 175, ..., 124, 149, 131],\n",
      "       [162, 168, 153, ..., 128, 163, 137]], dtype=uint8), array([1, 0])], [array([[144, 142, 145, ..., 126, 119, 115],\n",
      "       [127, 127, 128, ..., 138, 139, 133],\n",
      "       [129, 129, 124, ..., 130, 130, 132],\n",
      "       ...,\n",
      "       [130, 141, 145, ..., 171, 171, 187],\n",
      "       [146, 138, 136, ..., 185, 188, 176],\n",
      "       [147, 143, 146, ..., 179, 187, 194]], dtype=uint8), array([1, 0])], [array([[ 39,  29, 147, ..., 134, 138, 144],\n",
      "       [ 39,  26, 125, ..., 138, 138, 141],\n",
      "       [ 39,  25, 100, ..., 136, 139, 141],\n",
      "       ...,\n",
      "       [112, 107, 111, ..., 125, 124, 120],\n",
      "       [108, 109, 114, ..., 125, 126, 123],\n",
      "       [113, 112, 116, ..., 125, 127, 128]], dtype=uint8), array([1, 0])], [array([[170, 165, 144, ..., 163, 150, 165],\n",
      "       [176, 190, 120, ..., 181, 143, 166],\n",
      "       [146, 167, 141, ..., 177, 167, 147],\n",
      "       ...,\n",
      "       [194, 239, 209, ..., 125, 117, 132],\n",
      "       [203, 240, 235, ..., 128, 113, 125],\n",
      "       [147, 244, 243, ..., 118, 112, 129]], dtype=uint8), array([0, 1])], [array([[69, 68, 67, ..., 60, 62, 60],\n",
      "       [70, 66, 71, ..., 65, 62, 65],\n",
      "       [69, 71, 71, ..., 66, 65, 64],\n",
      "       ...,\n",
      "       [96, 95, 97, ..., 85, 90, 85],\n",
      "       [94, 95, 95, ..., 94, 93, 85],\n",
      "       [97, 94, 95, ..., 89, 90, 93]], dtype=uint8), array([1, 0])], [array([[111, 109,  88, ...,  61, 109, 133],\n",
      "       [ 69,  74,  71, ..., 107,  97, 107],\n",
      "       [ 73,  51, 110, ..., 148, 206, 244],\n",
      "       ...,\n",
      "       [ 49,  84, 100, ...,  98,  74, 108],\n",
      "       [ 50,  84,  66, ...,  72,  74,  86],\n",
      "       [107,  84,  49, ...,  67,  88,  68]], dtype=uint8), array([0, 1])]]\n",
      "[[array([[26, 28, 30, ..., 32, 32, 30],\n",
      "       [26, 32, 33, ..., 33, 34, 32],\n",
      "       [29, 32, 35, ..., 37, 35, 34],\n",
      "       ...,\n",
      "       [56, 57, 59, ..., 80, 76, 72],\n",
      "       [56, 54, 56, ..., 78, 76, 71],\n",
      "       [59, 57, 53, ..., 79, 77, 74]], dtype=uint8), '3251'], [array([[ 89,  97,  57, ...,  21,  18,  23],\n",
      "       [ 45,  51,  70, ...,  24,  21,  31],\n",
      "       [ 77,  81,  47, ...,  23,  80, 116],\n",
      "       ...,\n",
      "       [115, 113, 106, ...,  22,  26,  13],\n",
      "       [107, 115, 109, ...,  29,  11,  20],\n",
      "       [ 72, 111, 108, ...,  35,  30,  38]], dtype=uint8), '4543'], [array([[158, 146, 151, ..., 109, 114, 200],\n",
      "       [151, 148, 145, ..., 105, 110, 138],\n",
      "       [146, 146, 143, ..., 106, 106, 114],\n",
      "       ...,\n",
      "       [124, 122, 124, ...,  98,  98,  95],\n",
      "       [131, 134, 130, ..., 102, 102,  95],\n",
      "       [131, 127, 131, ..., 103, 106, 110]], dtype=uint8), '10706'], [array([[180, 185, 218, ..., 102, 134, 109],\n",
      "       [177, 185, 235, ..., 147, 163, 121],\n",
      "       [ 98,  92, 250, ..., 154, 158, 126],\n",
      "       ...,\n",
      "       [108, 101, 146, ..., 115, 204, 196],\n",
      "       [160, 163, 133, ..., 186, 190, 196],\n",
      "       [192, 194, 196, ..., 146, 145, 115]], dtype=uint8), '2765'], [array([[158, 203, 154, ..., 138, 160, 130],\n",
      "       [210, 215, 137, ..., 127, 170, 140],\n",
      "       [151, 148, 124, ..., 120, 115, 132],\n",
      "       ...,\n",
      "       [ 71,  59,  64, ..., 104, 128, 171],\n",
      "       [ 60,  69,  75, ...,  76,  92, 148],\n",
      "       [ 68,  67,  76, ...,  86, 112,  68]], dtype=uint8), '5395'], [array([[19, 35, 48, ..., 87, 84, 82],\n",
      "       [23, 48, 28, ..., 90, 87, 78],\n",
      "       [29, 25, 24, ..., 91, 89, 83],\n",
      "       ...,\n",
      "       [79, 82, 86, ..., 71, 71, 69],\n",
      "       [75, 81, 77, ..., 72, 70, 65],\n",
      "       [70, 77, 83, ..., 70, 63, 62]], dtype=uint8), '2276'], [array([[ 80,  83,  87, ..., 101,  80,  54],\n",
      "       [ 81,  84,  88, ...,  92,  72,  48],\n",
      "       [ 83,  86,  90, ...,  83,  62,  40],\n",
      "       ...,\n",
      "       [ 58,  61,  57, ...,   5,   1,   4],\n",
      "       [ 88,  80,  79, ...,   3,  13,   8],\n",
      "       [ 99,  81,  97, ...,  18,  25,  15]], dtype=uint8), '1164'], [array([[193, 185, 200, ...,  73,  73,  76],\n",
      "       [201, 170, 179, ..., 226,  60, 116],\n",
      "       [171, 184, 204, ..., 197, 141, 211],\n",
      "       ...,\n",
      "       [179, 185, 190, ..., 104, 126, 132],\n",
      "       [219,  85, 150, ..., 167, 223, 174],\n",
      "       [187, 161, 191, ..., 174, 151, 182]], dtype=uint8), '9437'], [array([[ 49, 101,  51, ..., 100,  99, 102],\n",
      "       [ 52,  72,  52, ..., 102,  99, 102],\n",
      "       [ 48,  61,  49, ..., 101, 101, 102],\n",
      "       ...,\n",
      "       [107,  82,  96, ...,  49,  53,  48],\n",
      "       [120, 150, 155, ...,  77,  58,  61],\n",
      "       [124, 141, 110, ...,  74,  67,  37]], dtype=uint8), '4996'], [array([[  9,  10,  10, ...,  38,  38,  38],\n",
      "       [  8,   8,   8, ...,  39,  38,  40],\n",
      "       [  9,  10,  10, ...,  38,  39,  38],\n",
      "       ...,\n",
      "       [224, 223, 219, ..., 231, 229, 228],\n",
      "       [225, 222, 217, ..., 227, 226, 232],\n",
      "       [222, 220, 219, ..., 232, 235, 234]], dtype=uint8), '1373']]\n"
     ]
    }
   ],
   "source": [
    "print(train_filenames[0:10])\n",
    "print(test_filenames[0:10])"
   ]
  },
  {
   "cell_type": "code",
   "execution_count": 12,
   "metadata": {},
   "outputs": [
    {
     "ename": "TypeError",
     "evalue": "object of type 'filter' has no len()",
     "output_type": "error",
     "traceback": [
      "\u001b[0;31m---------------------------------------------------------------------------\u001b[0m",
      "\u001b[0;31mTypeError\u001b[0m                                 Traceback (most recent call last)",
      "\u001b[0;32m<ipython-input-12-834b24d8ad45>\u001b[0m in \u001b[0;36m<module>\u001b[0;34m()\u001b[0m\n\u001b[1;32m      3\u001b[0m \u001b[0mtrain_dog\u001b[0m \u001b[0;34m=\u001b[0m \u001b[0mfilter\u001b[0m\u001b[0;34m(\u001b[0m\u001b[0;32mlambda\u001b[0m \u001b[0mx\u001b[0m\u001b[0;34m:\u001b[0m \u001b[0mx\u001b[0m\u001b[0;34m.\u001b[0m\u001b[0msplit\u001b[0m\u001b[0;34m(\u001b[0m\u001b[0;34m\".\"\u001b[0m\u001b[0;34m)\u001b[0m\u001b[0;34m[\u001b[0m\u001b[0;36m0\u001b[0m\u001b[0;34m]\u001b[0m \u001b[0;34m==\u001b[0m \u001b[0;34m\"dog\"\u001b[0m\u001b[0;34m,\u001b[0m \u001b[0mtrain_filenames\u001b[0m\u001b[0;34m)\u001b[0m\u001b[0;34m\u001b[0m\u001b[0m\n\u001b[1;32m      4\u001b[0m \u001b[0mx\u001b[0m \u001b[0;34m=\u001b[0m \u001b[0;34m[\u001b[0m\u001b[0;34m'train_cat'\u001b[0m\u001b[0;34m,\u001b[0m \u001b[0;34m'train_dog'\u001b[0m\u001b[0;34m,\u001b[0m \u001b[0;34m'test'\u001b[0m\u001b[0;34m]\u001b[0m\u001b[0;34m\u001b[0m\u001b[0m\n\u001b[0;32m----> 5\u001b[0;31m \u001b[0my\u001b[0m \u001b[0;34m=\u001b[0m \u001b[0;34m[\u001b[0m\u001b[0mlen\u001b[0m\u001b[0;34m(\u001b[0m\u001b[0mtrain_cat\u001b[0m\u001b[0;34m)\u001b[0m\u001b[0;34m,\u001b[0m \u001b[0mlen\u001b[0m\u001b[0;34m(\u001b[0m\u001b[0mtrain_dog\u001b[0m\u001b[0;34m)\u001b[0m\u001b[0;34m,\u001b[0m \u001b[0mlen\u001b[0m\u001b[0;34m(\u001b[0m\u001b[0mtest_filenames\u001b[0m\u001b[0;34m)\u001b[0m\u001b[0;34m]\u001b[0m\u001b[0;34m\u001b[0m\u001b[0m\n\u001b[0m\u001b[1;32m      6\u001b[0m \u001b[0max\u001b[0m \u001b[0;34m=\u001b[0m \u001b[0msns\u001b[0m\u001b[0;34m.\u001b[0m\u001b[0mbarplot\u001b[0m\u001b[0;34m(\u001b[0m\u001b[0mx\u001b[0m\u001b[0;34m=\u001b[0m\u001b[0mx\u001b[0m\u001b[0;34m,\u001b[0m \u001b[0my\u001b[0m\u001b[0;34m=\u001b[0m\u001b[0my\u001b[0m\u001b[0;34m)\u001b[0m\u001b[0;34m\u001b[0m\u001b[0m\n",
      "\u001b[0;31mTypeError\u001b[0m: object of type 'filter' has no len()"
     ]
    }
   ],
   "source": [
    "#Let’s see the total number of images in training set and testing set\n",
    "train_cat = filter(lambda x: x.split(\".\")[0] == \"cat\", train_filenames)\n",
    "train_dog = filter(lambda x: x.split(\".\")[0] == \"dog\", train_filenames)\n",
    "x = ['train_cat', 'train_dog', 'test']\n",
    "y = [len(train_cat), len(train_dog), len(test_filenames)]\n",
    "ax = sns.barplot(x=x, y=y)\n"
   ]
  },
  {
   "cell_type": "code",
   "execution_count": null,
   "metadata": {},
   "outputs": [],
   "source": [
    "#Training sets were further divided into 90% for training the model and 10% for evaluate the model using cross validation.\n",
    "\n",
    "my_train, my_cv = train_test_split(train_filenames, test_size=0.1, random_state=0)\n",
    "print(len(my_train), len(my_cv))"
   ]
  }
 ],
 "metadata": {
  "kernelspec": {
   "display_name": "Python 3",
   "language": "python",
   "name": "python3"
  },
  "language_info": {
   "codemirror_mode": {
    "name": "ipython",
    "version": 3
   },
   "file_extension": ".py",
   "mimetype": "text/x-python",
   "name": "python",
   "nbconvert_exporter": "python",
   "pygments_lexer": "ipython3",
   "version": "3.6.6"
  }
 },
 "nbformat": 4,
 "nbformat_minor": 2
}

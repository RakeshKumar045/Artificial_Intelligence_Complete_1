{
 "cells": [
  {
   "cell_type": "code",
   "execution_count": 1,
   "metadata": {
    "colab": {
     "autoexec": {
      "startup": false,
      "wait_interval": 0
     }
    },
    "colab_type": "code",
    "id": "AjMXc1foIyKa"
   },
   "outputs": [],
   "source": [
    "from scipy import stats as s"
   ]
  },
  {
   "cell_type": "code",
   "execution_count": 2,
   "metadata": {
    "colab": {
     "autoexec": {
      "startup": false,
      "wait_interval": 0
     }
    },
    "colab_type": "code",
    "id": "ikEfMFw2I1vQ"
   },
   "outputs": [],
   "source": [
    "bangalore_marriage_male_age = [28,29,35,32,25,28,28,28,29,32,31]"
   ]
  },
  {
   "cell_type": "code",
   "execution_count": 5,
   "metadata": {
    "colab": {
     "autoexec": {
      "startup": false,
      "wait_interval": 0
     },
     "base_uri": "https://localhost:8080/",
     "height": 102
    },
    "colab_type": "code",
    "executionInfo": {
     "elapsed": 6447,
     "status": "ok",
     "timestamp": 1532255507516,
     "user": {
      "displayName": "Rakesh Kumar",
      "photoUrl": "//lh5.googleusercontent.com/-SubRmVObuK0/AAAAAAAAAAI/AAAAAAAAAAc/B9r837Sl0Gw/s50-c-k-no/photo.jpg",
      "userId": "113459008661195661190"
     },
     "user_tz": -330
    },
    "id": "FFhpLxrHJF4F",
    "outputId": "307c14e6-d825-4503-9a09-39c35e66c219"
   },
   "outputs": [
    {
     "name": "stderr",
     "output_type": "stream",
     "text": [
      "/anaconda3/lib/python3.6/site-packages/numpy/core/fromnumeric.py:3194: RuntimeWarning: Degrees of freedom <= 0 for slice\n",
      "  **kwargs)\n",
      "/anaconda3/lib/python3.6/site-packages/numpy/core/_methods.py:127: RuntimeWarning: invalid value encountered in double_scalars\n",
      "  ret = ret.dtype.type(ret / rcount)\n"
     ]
    },
    {
     "data": {
      "text/plain": [
       "Ttest_indResult(statistic=nan, pvalue=nan)"
      ]
     },
     "execution_count": 5,
     "metadata": {},
     "output_type": "execute_result"
    }
   ],
   "source": [
    "s.ttest_ind(bangalore_marriage_male_age,32)"
   ]
  },
  {
   "cell_type": "code",
   "execution_count": 6,
   "metadata": {
    "colab": {
     "autoexec": {
      "startup": false,
      "wait_interval": 0
     },
     "base_uri": "https://localhost:8080/",
     "height": 34
    },
    "colab_type": "code",
    "executionInfo": {
     "elapsed": 6236,
     "status": "ok",
     "timestamp": 1532255513804,
     "user": {
      "displayName": "Rakesh Kumar",
      "photoUrl": "//lh5.googleusercontent.com/-SubRmVObuK0/AAAAAAAAAAI/AAAAAAAAAAc/B9r837Sl0Gw/s50-c-k-no/photo.jpg",
      "userId": "113459008661195661190"
     },
     "user_tz": -330
    },
    "id": "zmmt8VWEJNl0",
    "outputId": "7d51e46b-d6e3-40af-fc03-1decd25f3b6b"
   },
   "outputs": [
    {
     "name": "stdout",
     "output_type": "stream",
     "text": [
      "Ttest_1sampResult(statistic=-2.9780216820376113, pvalue=0.013854471169603129)\n"
     ]
    }
   ],
   "source": [
    "print(s.ttest_1samp(bangalore_marriage_male_age,32))"
   ]
  },
  {
   "cell_type": "code",
   "execution_count": 7,
   "metadata": {
    "colab": {
     "autoexec": {
      "startup": false,
      "wait_interval": 0
     },
     "base_uri": "https://localhost:8080/",
     "height": 34
    },
    "colab_type": "code",
    "executionInfo": {
     "elapsed": 6048,
     "status": "ok",
     "timestamp": 1532255519888,
     "user": {
      "displayName": "Rakesh Kumar",
      "photoUrl": "//lh5.googleusercontent.com/-SubRmVObuK0/AAAAAAAAAAI/AAAAAAAAAAc/B9r837Sl0Gw/s50-c-k-no/photo.jpg",
      "userId": "113459008661195661190"
     },
     "user_tz": -330
    },
    "id": "qxLaRwfgJShq",
    "outputId": "45e6c10f-9b6f-4a56-83fe-81862f2892f5"
   },
   "outputs": [
    {
     "name": "stdout",
     "output_type": "stream",
     "text": [
      "Ttest_1sampResult(statistic=-0.5514854966736304, pvalue=0.593408994572831)\n"
     ]
    }
   ],
   "source": [
    "print(s.ttest_1samp(bangalore_marriage_male_age,30))"
   ]
  },
  {
   "cell_type": "code",
   "execution_count": 8,
   "metadata": {
    "colab": {
     "autoexec": {
      "startup": false,
      "wait_interval": 0
     }
    },
    "colab_type": "code",
    "id": "HBFQSqvDJabP"
   },
   "outputs": [],
   "source": [
    "chennai_marriage_male_age = [26,27,31,32,25,28,22,24,29,30,26]"
   ]
  },
  {
   "cell_type": "code",
   "execution_count": 9,
   "metadata": {
    "colab": {
     "autoexec": {
      "startup": false,
      "wait_interval": 0
     },
     "base_uri": "https://localhost:8080/",
     "height": 34
    },
    "colab_type": "code",
    "executionInfo": {
     "elapsed": 13781,
     "status": "ok",
     "timestamp": 1532255537645,
     "user": {
      "displayName": "Rakesh Kumar",
      "photoUrl": "//lh5.googleusercontent.com/-SubRmVObuK0/AAAAAAAAAAI/AAAAAAAAAAc/B9r837Sl0Gw/s50-c-k-no/photo.jpg",
      "userId": "113459008661195661190"
     },
     "user_tz": -330
    },
    "id": "nJxiRXqEMYQJ",
    "outputId": "c5f89364-22f4-4404-a989-b7a8470c4c37"
   },
   "outputs": [
    {
     "data": {
      "text/plain": [
       "Ttest_indResult(statistic=1.834075264950349, pvalue=0.08156642358021365)"
      ]
     },
     "execution_count": 9,
     "metadata": {},
     "output_type": "execute_result"
    }
   ],
   "source": [
    "s.ttest_ind(bangalore_marriage_male_age,chennai_marriage_male_age)"
   ]
  },
  {
   "cell_type": "code",
   "execution_count": 10,
   "metadata": {
    "colab": {
     "autoexec": {
      "startup": false,
      "wait_interval": 0
     }
    },
    "colab_type": "code",
    "id": "L0BgeVApMc5w"
   },
   "outputs": [],
   "source": [
    "before_red_bull = [36,32,28,23,27,23]"
   ]
  },
  {
   "cell_type": "code",
   "execution_count": 11,
   "metadata": {
    "colab": {
     "autoexec": {
      "startup": false,
      "wait_interval": 0
     }
    },
    "colab_type": "code",
    "id": "i-h5z9FiO9gy"
   },
   "outputs": [],
   "source": [
    "after_red_bull = [18,12,10,12,11,13]"
   ]
  },
  {
   "cell_type": "code",
   "execution_count": 12,
   "metadata": {
    "colab": {
     "autoexec": {
      "startup": false,
      "wait_interval": 0
     },
     "base_uri": "https://localhost:8080/",
     "height": 34
    },
    "colab_type": "code",
    "executionInfo": {
     "elapsed": 5170,
     "status": "ok",
     "timestamp": 1532255560186,
     "user": {
      "displayName": "Rakesh Kumar",
      "photoUrl": "//lh5.googleusercontent.com/-SubRmVObuK0/AAAAAAAAAAI/AAAAAAAAAAc/B9r837Sl0Gw/s50-c-k-no/photo.jpg",
      "userId": "113459008661195661190"
     },
     "user_tz": -330
    },
    "id": "nrraB0rtPFPY",
    "outputId": "7c3c9697-7247-4d44-a750-292e2f5ff37a"
   },
   "outputs": [
    {
     "data": {
      "text/plain": [
       "Ttest_relResult(statistic=9.290713926790614, pvalue=0.00024300064183316571)"
      ]
     },
     "execution_count": 12,
     "metadata": {},
     "output_type": "execute_result"
    }
   ],
   "source": [
    "s.ttest_rel(before_red_bull,after_red_bull)"
   ]
  },
  {
   "cell_type": "code",
   "execution_count": 13,
   "metadata": {
    "colab": {
     "autoexec": {
      "startup": false,
      "wait_interval": 0
     }
    },
    "colab_type": "code",
    "id": "u45Qoy_JPLiK"
   },
   "outputs": [],
   "source": [
    "lemon = [36,32,28,23,27,23] # analysis of variance"
   ]
  },
  {
   "cell_type": "code",
   "execution_count": 14,
   "metadata": {
    "colab": {
     "autoexec": {
      "startup": false,
      "wait_interval": 0
     }
    },
    "colab_type": "code",
    "id": "mte91l3oS_cH"
   },
   "outputs": [],
   "source": [
    "coffee = [23,26,28,20,18,21]"
   ]
  },
  {
   "cell_type": "code",
   "execution_count": 15,
   "metadata": {
    "colab": {
     "autoexec": {
      "startup": false,
      "wait_interval": 0
     }
    },
    "colab_type": "code",
    "id": "Md7gc9SVTEdd"
   },
   "outputs": [],
   "source": [
    "red_bull = [18,12,10,12,11,13]"
   ]
  },
  {
   "cell_type": "code",
   "execution_count": 16,
   "metadata": {
    "colab": {
     "autoexec": {
      "startup": false,
      "wait_interval": 0
     },
     "base_uri": "https://localhost:8080/",
     "height": 34
    },
    "colab_type": "code",
    "executionInfo": {
     "elapsed": 6258,
     "status": "ok",
     "timestamp": 1532255613690,
     "user": {
      "displayName": "Rakesh Kumar",
      "photoUrl": "//lh5.googleusercontent.com/-SubRmVObuK0/AAAAAAAAAAI/AAAAAAAAAAc/B9r837Sl0Gw/s50-c-k-no/photo.jpg",
      "userId": "113459008661195661190"
     },
     "user_tz": -330
    },
    "id": "s3nRcCggTKzL",
    "outputId": "e350e9dd-f6fa-43d1-ca96-43d2edf90750"
   },
   "outputs": [
    {
     "data": {
      "text/plain": [
       "F_onewayResult(statistic=23.01242236024846, pvalue=2.687721839800863e-05)"
      ]
     },
     "execution_count": 16,
     "metadata": {},
     "output_type": "execute_result"
    }
   ],
   "source": [
    "s.f_oneway(lemon,coffee,red_bull)"
   ]
  },
  {
   "cell_type": "code",
   "execution_count": 17,
   "metadata": {
    "colab": {
     "autoexec": {
      "startup": false,
      "wait_interval": 0
     }
    },
    "colab_type": "code",
    "id": "I6kEfZk3Tqxv"
   },
   "outputs": [],
   "source": [
    "bmi = [23,24,25,26,27,28,29,30,31,32,33]"
   ]
  },
  {
   "cell_type": "code",
   "execution_count": 18,
   "metadata": {
    "colab": {
     "autoexec": {
      "startup": false,
      "wait_interval": 0
     }
    },
    "colab_type": "code",
    "id": "g9O02knUUMup"
   },
   "outputs": [],
   "source": [
    "speed = [30,28,26,29,25,22,20,18,15,19,10]"
   ]
  },
  {
   "cell_type": "code",
   "execution_count": 19,
   "metadata": {
    "colab": {
     "autoexec": {
      "startup": false,
      "wait_interval": 0
     }
    },
    "colab_type": "code",
    "id": "X452y9ZOkHsy"
   },
   "outputs": [
    {
     "name": "stdout",
     "output_type": "stream",
     "text": [
      "[30, 28, 26, 29, 25, 22, 20, 18, 15, 19, 10]\n"
     ]
    }
   ],
   "source": [
    "print(speed)"
   ]
  },
  {
   "cell_type": "code",
   "execution_count": null,
   "metadata": {},
   "outputs": [],
   "source": []
  },
  {
   "cell_type": "code",
   "execution_count": null,
   "metadata": {},
   "outputs": [],
   "source": []
  },
  {
   "cell_type": "code",
   "execution_count": null,
   "metadata": {},
   "outputs": [],
   "source": []
  }
 ],
 "metadata": {
  "colab": {
   "default_view": {},
   "name": "Hypothesis_Test.ipynb",
   "provenance": [],
   "version": "0.3.2",
   "views": {}
  },
  "kernelspec": {
   "display_name": "Python 3",
   "language": "python",
   "name": "python3"
  },
  "language_info": {
   "codemirror_mode": {
    "name": "ipython",
    "version": 3
   },
   "file_extension": ".py",
   "mimetype": "text/x-python",
   "name": "python",
   "nbconvert_exporter": "python",
   "pygments_lexer": "ipython3",
   "version": "3.6.5"
  }
 },
 "nbformat": 4,
 "nbformat_minor": 1
}

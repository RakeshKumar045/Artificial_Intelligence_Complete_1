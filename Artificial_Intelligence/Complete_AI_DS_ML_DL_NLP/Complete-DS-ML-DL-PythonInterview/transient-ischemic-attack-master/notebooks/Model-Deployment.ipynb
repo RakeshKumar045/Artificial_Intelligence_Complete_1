{
 "cells": [
  {
   "cell_type": "markdown",
   "metadata": {
    "heading_collapsed": true
   },
   "source": [
    "# Introduction"
   ]
  },
  {
   "cell_type": "markdown",
   "metadata": {
    "hidden": true
   },
   "source": [
    "This notebooks serves as a test bench for a RESTful API of TIA model predictions. We'll run the application and try to test it with several inputs. "
   ]
  },
  {
   "cell_type": "markdown",
   "metadata": {
    "heading_collapsed": true
   },
   "source": [
    "# Imports"
   ]
  },
  {
   "cell_type": "code",
   "execution_count": 1,
   "metadata": {
    "hidden": true
   },
   "outputs": [],
   "source": [
    "import json\n",
    "import requests\n",
    "import pandas as pd\n",
    "from joblib import load, dump\n",
    "import re"
   ]
  },
  {
   "cell_type": "markdown",
   "metadata": {
    "heading_collapsed": true
   },
   "source": [
    "# Test Cases"
   ]
  },
  {
   "cell_type": "code",
   "execution_count": 6,
   "metadata": {
    "hidden": true
   },
   "outputs": [
    {
     "data": {
      "text/plain": [
       "{'predictions': '[{\"PatientID\":10,\"Predictions\":\"Yes\"}]'}"
      ]
     },
     "execution_count": 6,
     "metadata": {},
     "output_type": "execute_result"
    }
   ],
   "source": [
    "# One prediction\n",
    "test_case_1 = {\n",
    "    'PatientID':10,'Sex':'Male','Age':58.0,\n",
    "    'Hypertension_Status':1,'Heart_Disease_Status':0,\n",
    "    'Marital_Status':'Yes','Occupation':'Private',\n",
    "    'Residence':'Urban','Mean_Glucose':87.96,'BMI':39.2,\n",
    "    'Smoking_Status':'never smoked'\n",
    "}\n",
    "header = {'Content-Type': 'application/json',\n",
    "          'Accept': 'application/json'}\n",
    "test_case_1_json = pd.DataFrame(test_case_1, index=[0]).to_json()\n",
    "resp = requests.post('http://127.0.0.1:5000/predict',\n",
    "                     data=json.dumps(test_case_1_json),\n",
    "                     headers=header)\n",
    "resp.json()"
   ]
  },
  {
   "cell_type": "code",
   "execution_count": 3,
   "metadata": {
    "hidden": true
   },
   "outputs": [
    {
     "data": {
      "text/plain": [
       "{'predictions': '[{\"PatientID\":123,\"Predictions\":\"No\"}]'}"
      ]
     },
     "execution_count": 3,
     "metadata": {},
     "output_type": "execute_result"
    }
   ],
   "source": [
    "# One prediction\n",
    "test_case_2 = {\n",
    "    'PatientID':123,'Sex':'Male','Age':58.0,\n",
    "    'Hypertension_Status':0,'Heart_Disease_Status':0,\n",
    "    'Marital_Status':'Yes','Occupation':'Private',\n",
    "    'Residence':'Urban','Mean_Glucose':87.96,'BMI':39.2,\n",
    "    'Smoking_Status':'never smoked'\n",
    "}\n",
    "header = {'Content-Type': 'application/json',\n",
    "          'Accept': 'application/json'}\n",
    "test_case_2_json = pd.DataFrame(test_case_2, index=[0]).to_json()\n",
    "resp = requests.post('http://127.0.0.1:5000/predict',\n",
    "                     data=json.dumps(test_case_2_json),\n",
    "                     headers=header)\n",
    "resp.json()"
   ]
  },
  {
   "cell_type": "code",
   "execution_count": 4,
   "metadata": {
    "hidden": true
   },
   "outputs": [
    {
     "data": {
      "text/plain": [
       "{'predictions': '[{\"PatientID\":1,\"Predictions\":\"No\"},{\"PatientID\":2,\"Predictions\":\"No\"}]'}"
      ]
     },
     "execution_count": 4,
     "metadata": {},
     "output_type": "execute_result"
    }
   ],
   "source": [
    "# Multiple predictions\n",
    "test_case_3 = {\n",
    "    'PatientID':[1, 2], 'Sex':['Male', 'Female'], 'Age': [20, 30],\n",
    "    'Hypertension_Status': [1, 0], 'Heart_Disease_Status': [1, 1],\n",
    "    'Marital_Status': ['No', 'Yes'], 'Occupation': ['Self-employed', 'Govt_job'], \n",
    "    'Residence':'Urban','Mean_Glucose':[120, 90], 'BMI': [35, 45],\n",
    "    'Smoking_Status': ['smokes', 'formerly smoked']\n",
    "}\n",
    "header = {'Content-Type': 'application/json',\n",
    "          'Accept': 'application/json'}\n",
    "test_case_3_json = pd.DataFrame(test_case_3, index=[0, 1]).to_json()\n",
    "resp = requests.post('http://127.0.0.1:5000/predict',\n",
    "                     data=json.dumps(test_case_3_json),\n",
    "                     headers=header)\n",
    "resp.json()"
   ]
  },
  {
   "cell_type": "code",
   "execution_count": 5,
   "metadata": {
    "code_folding": [],
    "hidden": true
   },
   "outputs": [],
   "source": [
    "# Missing some features\n",
    "test_case_4 = {\n",
    "    'Sex':['Male', 'Female'], 'Age': [20, 30],\n",
    "    'Hypertension_Status': [1, 0], 'Heart_Disease_Status': [1, 1],\n",
    "    'Marital_Status': ['No', 'Yes'], 'Occupation': ['Self-employed', 'Govt_job'], \n",
    "    'Residence':'Urban','Mean_Glucose':[120, 90], 'BMI': [35, 45],\n",
    "    'Smoking_Status': ['smokes', 'formerly smoked']\n",
    "}\n",
    "header = {'Content-Type': 'application/json',\n",
    "          'Accept': 'application/json'}\n",
    "test_case_4_json = pd.DataFrame(test_case_4, index=[0, 1]).to_json()\n",
    "resp = requests.post('http://127.0.0.1:5000/predict',\n",
    "                     data=json.dumps(test_case_4_json),\n",
    "                     headers=header)"
   ]
  },
  {
   "cell_type": "code",
   "execution_count": 15,
   "metadata": {
    "hidden": true
   },
   "outputs": [
    {
     "data": {
      "text/plain": [
       "\"Please provide the following fields {'PatientID'}\""
      ]
     },
     "execution_count": 15,
     "metadata": {},
     "output_type": "execute_result"
    }
   ],
   "source": [
    "pat = re.compile('<p>(.+)<\\/p>')\n",
    "pat.search(resp.text).group(1)"
   ]
  }
 ],
 "metadata": {
  "kernelspec": {
   "display_name": "Python (pcci)",
   "language": "python",
   "name": "pcci"
  },
  "language_info": {
   "codemirror_mode": {
    "name": "ipython",
    "version": 3
   },
   "file_extension": ".py",
   "mimetype": "text/x-python",
   "name": "python",
   "nbconvert_exporter": "python",
   "pygments_lexer": "ipython3",
   "version": "3.6.7"
  },
  "toc": {
   "nav_menu": {},
   "number_sections": true,
   "sideBar": true,
   "skip_h1_title": false,
   "title_cell": "Table of Contents",
   "title_sidebar": "Contents",
   "toc_cell": false,
   "toc_position": {},
   "toc_section_display": true,
   "toc_window_display": false
  }
 },
 "nbformat": 4,
 "nbformat_minor": 2
}

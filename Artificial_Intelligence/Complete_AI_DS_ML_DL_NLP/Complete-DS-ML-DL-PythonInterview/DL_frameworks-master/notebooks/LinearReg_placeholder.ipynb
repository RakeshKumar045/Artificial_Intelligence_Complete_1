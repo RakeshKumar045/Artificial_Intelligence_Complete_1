{
 "cells": [
  {
   "cell_type": "code",
   "execution_count": 24,
   "metadata": {},
   "outputs": [],
   "source": [
    "import matplotlib.pyplot as plt\n",
    "import numpy as np\n",
    "import pandas as pd\n",
    "import seaborn as sns\n",
    "import tensorflow as tf\n",
    "\n",
    "%matplotlib inline\n",
    "plt.style.use(\"fivethirtyeight\")\n",
    "sns.set_context(\"notebook\")"
   ]
  },
  {
   "cell_type": "code",
   "execution_count": 25,
   "metadata": {},
   "outputs": [
    {
     "data": {
      "text/plain": [
       "<module 'tensorflow._api.v2.data' from '/Users/rakeshkumar/miniconda3/lib/python3.6/site-packages/tensorflow/_api/v2/data/__init__.py'>"
      ]
     },
     "execution_count": 25,
     "metadata": {},
     "output_type": "execute_result"
    }
   ],
   "source": [
    "tf.data"
   ]
  },
  {
   "cell_type": "markdown",
   "metadata": {},
   "source": [
    "We'll be working with *Life Expectancy* dataset from World Bank that captures the birth rate and life expectancy of 190 countries across the globe. We'll use this data to build linear regression model in tensorflow."
   ]
  },
  {
   "cell_type": "code",
   "execution_count": 26,
   "metadata": {},
   "outputs": [
    {
     "data": {
      "text/html": [
       "<div>\n",
       "<style scoped>\n",
       "    .dataframe tbody tr th:only-of-type {\n",
       "        vertical-align: middle;\n",
       "    }\n",
       "\n",
       "    .dataframe tbody tr th {\n",
       "        vertical-align: top;\n",
       "    }\n",
       "\n",
       "    .dataframe thead th {\n",
       "        text-align: right;\n",
       "    }\n",
       "</style>\n",
       "<table border=\"1\" class=\"dataframe\">\n",
       "  <thead>\n",
       "    <tr style=\"text-align: right;\">\n",
       "      <th></th>\n",
       "      <th>birth_rate</th>\n",
       "      <th>life_expectancy</th>\n",
       "    </tr>\n",
       "  </thead>\n",
       "  <tbody>\n",
       "    <tr>\n",
       "      <th>Vietnam</th>\n",
       "      <td>1.822</td>\n",
       "      <td>74.828244</td>\n",
       "    </tr>\n",
       "    <tr>\n",
       "      <th>Vanuatu</th>\n",
       "      <td>3.869</td>\n",
       "      <td>70.819488</td>\n",
       "    </tr>\n",
       "    <tr>\n",
       "      <th>Tonga</th>\n",
       "      <td>3.911</td>\n",
       "      <td>72.150659</td>\n",
       "    </tr>\n",
       "    <tr>\n",
       "      <th>Timor-Leste</th>\n",
       "      <td>5.578</td>\n",
       "      <td>61.999854</td>\n",
       "    </tr>\n",
       "    <tr>\n",
       "      <th>Thailand</th>\n",
       "      <td>1.579</td>\n",
       "      <td>73.927659</td>\n",
       "    </tr>\n",
       "  </tbody>\n",
       "</table>\n",
       "</div>"
      ],
      "text/plain": [
       "             birth_rate  life_expectancy\n",
       "Vietnam           1.822        74.828244\n",
       "Vanuatu           3.869        70.819488\n",
       "Tonga             3.911        72.150659\n",
       "Timor-Leste       5.578        61.999854\n",
       "Thailand          1.579        73.927659"
      ]
     },
     "execution_count": 26,
     "metadata": {},
     "output_type": "execute_result"
    }
   ],
   "source": [
    "data = {}\n",
    "with open(\"birth_life_2010.txt\", \"r\") as file:\n",
    "    for line in file.readlines()[1:]:\n",
    "        temp = line.split(\"\\t\")\n",
    "        data[temp[0]] = (float(temp[1]), float(temp[2][:-1]))\n",
    "        \n",
    "data = pd.DataFrame(data).transpose()\n",
    "data.columns = [\"birth_rate\", \"life_expectancy\"]\n",
    "data.head()"
   ]
  },
  {
   "cell_type": "code",
   "execution_count": 27,
   "metadata": {},
   "outputs": [
    {
     "data": {
      "text/plain": [
       "((190,), (190,))"
      ]
     },
     "execution_count": 27,
     "metadata": {},
     "output_type": "execute_result"
    }
   ],
   "source": [
    "# Convert dataframe into features and targets nd-arrays\n",
    "X_input = data[\"birth_rate\"].values\n",
    "target = data[\"life_expectancy\"].values\n",
    "\n",
    "# Shuffle the data\n",
    "np.random.seed(123)\n",
    "perms = np.random.permutation(X_input.shape[0])\n",
    "X_input = X_input[perms]\n",
    "target = target[perms]\n",
    "\n",
    "X_input.shape, target.shape"
   ]
  },
  {
   "cell_type": "code",
   "execution_count": 28,
   "metadata": {},
   "outputs": [
    {
     "data": {
      "image/png": "[encoded data removed]",
      "text/plain": [
       "<Figure size 432x288 with 1 Axes>"
      ]
     },
     "metadata": {},
     "output_type": "display_data"
    }
   ],
   "source": [
    "plt.scatter(X_input, target)\n",
    "plt.xlim([0, 8])\n",
    "plt.ylim([40, 90])\n",
    "plt.xlabel(\"Birth rates (%)\")\n",
    "plt.ylabel(\"Life expectancy\");"
   ]
  },
  {
   "cell_type": "code",
   "execution_count": 29,
   "metadata": {},
   "outputs": [
    {
     "ename": "AttributeError",
     "evalue": "module 'tensorflow' has no attribute 'placeholder'",
     "output_type": "error",
     "traceback": [
      "\u001b[0;31m---------------------------------------------------------------------------\u001b[0m",
      "\u001b[0;31mAttributeError\u001b[0m                            Traceback (most recent call last)",
      "\u001b[0;32m<ipython-input-29-6b7ccd3eea17>\u001b[0m in \u001b[0;36m<module>\u001b[0;34m()\u001b[0m\n\u001b[1;32m      5\u001b[0m \u001b[0;32mwith\u001b[0m \u001b[0mg\u001b[0m\u001b[0;34m.\u001b[0m\u001b[0mas_default\u001b[0m\u001b[0;34m(\u001b[0m\u001b[0;34m)\u001b[0m\u001b[0;34m:\u001b[0m\u001b[0;34m\u001b[0m\u001b[0m\n\u001b[1;32m      6\u001b[0m     \u001b[0;31m# Define placeholders\u001b[0m\u001b[0;34m\u001b[0m\u001b[0;34m\u001b[0m\u001b[0m\n\u001b[0;32m----> 7\u001b[0;31m     \u001b[0mX\u001b[0m \u001b[0;34m=\u001b[0m \u001b[0mtf\u001b[0m\u001b[0;34m.\u001b[0m\u001b[0mplaceholder\u001b[0m\u001b[0;34m(\u001b[0m\u001b[0mdtype\u001b[0m\u001b[0;34m=\u001b[0m\u001b[0mtf\u001b[0m\u001b[0;34m.\u001b[0m\u001b[0mfloat32\u001b[0m\u001b[0;34m,\u001b[0m \u001b[0mshape\u001b[0m\u001b[0;34m=\u001b[0m\u001b[0;34m(\u001b[0m\u001b[0;32mNone\u001b[0m\u001b[0;34m)\u001b[0m\u001b[0;34m,\u001b[0m \u001b[0mname\u001b[0m\u001b[0;34m=\u001b[0m\u001b[0;34m\"X\"\u001b[0m\u001b[0;34m)\u001b[0m\u001b[0;34m\u001b[0m\u001b[0m\n\u001b[0m\u001b[1;32m      8\u001b[0m     \u001b[0my\u001b[0m \u001b[0;34m=\u001b[0m \u001b[0mtf\u001b[0m\u001b[0;34m.\u001b[0m\u001b[0mplaceholder\u001b[0m\u001b[0;34m(\u001b[0m\u001b[0mdtype\u001b[0m\u001b[0;34m=\u001b[0m\u001b[0mtf\u001b[0m\u001b[0;34m.\u001b[0m\u001b[0mfloat32\u001b[0m\u001b[0;34m,\u001b[0m \u001b[0mshape\u001b[0m\u001b[0;34m=\u001b[0m\u001b[0;34m(\u001b[0m\u001b[0;32mNone\u001b[0m\u001b[0;34m)\u001b[0m\u001b[0;34m,\u001b[0m \u001b[0mname\u001b[0m\u001b[0;34m=\u001b[0m\u001b[0;34m\"y\"\u001b[0m\u001b[0;34m)\u001b[0m\u001b[0;34m\u001b[0m\u001b[0m\n\u001b[1;32m      9\u001b[0m \u001b[0;34m\u001b[0m\u001b[0m\n",
      "\u001b[0;31mAttributeError\u001b[0m: module 'tensorflow' has no attribute 'placeholder'"
     ]
    }
   ],
   "source": [
    "# Instatiate a graph object\n",
    "g = tf.Graph()\n",
    "\n",
    "# Define the computations within the graph\n",
    "with g.as_default():\n",
    "    # Define placeholders\n",
    "    X = tf.placeholder(dtype=tf.float32, shape=(None), name=\"X\")\n",
    "    y = tf.placeholder(dtype=tf.float32, shape=(None), name=\"y\")\n",
    "\n",
    "    # Define parameters\n",
    "    w = tf.get_variable(\"weight\", initializer=tf.constant(0, tf.float32))\n",
    "    b = tf.get_variable(\"bias\", initializer=tf.constant(0, tf.float32))\n",
    "\n",
    "    # Define predictions\n",
    "    y_pred = w * X + b\n",
    "\n",
    "    # Define loss\n",
    "    loss = tf.reduce_mean(tf.square(y - y_pred))\n",
    "\n",
    "    # Define optimizer\n",
    "    optimizer = tf.train.GradientDescentOptimizer(\n",
    "        learning_rate=0.09).minimize(loss)\n",
    "    \n",
    "    # Initialize all global variables\n",
    "    init = tf.global_variables_initializer()\n",
    "\n",
    "# Run the graph - Batch Gradient Descent\n",
    "with tf.Session(graph=g) as sess:\n",
    "    sess.run(init)\n",
    "    costs = []\n",
    "    \n",
    "    for epoch in range(300):\n",
    "        cost, _ = sess.run([loss, optimizer], feed_dict={X: X_input, y: target})\n",
    "        costs.append(cost)\n",
    "        \n",
    "    w_out, b_out = sess.run([w, b])\n",
    "\n",
    "# Plot the loss curve\n",
    "plt.plot(range(300), costs)\n",
    "plt.xlabel(\"Epoch\")\n",
    "plt.ylabel(\"Loss\")\n",
    "plt.title(\"Batch Gradient Descent\");"
   ]
  },
  {
   "cell_type": "code",
   "execution_count": 13,
   "metadata": {},
   "outputs": [
    {
     "ename": "NameError",
     "evalue": "name 'w_out' is not defined",
     "output_type": "error",
     "traceback": [
      "\u001b[0;31m---------------------------------------------------------------------------\u001b[0m",
      "\u001b[0;31mNameError\u001b[0m                                 Traceback (most recent call last)",
      "\u001b[0;32m<ipython-input-13-4c5d0a10a3c1>\u001b[0m in \u001b[0;36m<module>\u001b[0;34m()\u001b[0m\n\u001b[0;32m----> 1\u001b[0;31m \u001b[0mw_out\u001b[0m\u001b[0;34m,\u001b[0m \u001b[0mb_out\u001b[0m\u001b[0;34m,\u001b[0m \u001b[0mw_out\u001b[0m \u001b[0;34m*\u001b[0m \u001b[0;36m1.8220\u001b[0m \u001b[0;34m+\u001b[0m \u001b[0mb_out\u001b[0m\u001b[0;34m\u001b[0m\u001b[0m\n\u001b[0m",
      "\u001b[0;31mNameError\u001b[0m: name 'w_out' is not defined"
     ]
    }
   ],
   "source": [
    "w_out, b_out, w_out * 1.8220 + b_out"
   ]
  },
  {
   "cell_type": "code",
   "execution_count": 14,
   "metadata": {},
   "outputs": [
    {
     "ename": "AttributeError",
     "evalue": "module 'tensorflow' has no attribute 'placeholder'",
     "output_type": "error",
     "traceback": [
      "\u001b[0;31m---------------------------------------------------------------------------\u001b[0m",
      "\u001b[0;31mAttributeError\u001b[0m                            Traceback (most recent call last)",
      "\u001b[0;32m<ipython-input-14-45afce02e29f>\u001b[0m in \u001b[0;36m<module>\u001b[0;34m()\u001b[0m\n\u001b[1;32m      5\u001b[0m \u001b[0;32mwith\u001b[0m \u001b[0mg\u001b[0m\u001b[0;34m.\u001b[0m\u001b[0mas_default\u001b[0m\u001b[0;34m(\u001b[0m\u001b[0;34m)\u001b[0m\u001b[0;34m:\u001b[0m\u001b[0;34m\u001b[0m\u001b[0m\n\u001b[1;32m      6\u001b[0m     \u001b[0;31m# Define placeholders\u001b[0m\u001b[0;34m\u001b[0m\u001b[0;34m\u001b[0m\u001b[0m\n\u001b[0;32m----> 7\u001b[0;31m     \u001b[0mX\u001b[0m \u001b[0;34m=\u001b[0m \u001b[0mtf\u001b[0m\u001b[0;34m.\u001b[0m\u001b[0mplaceholder\u001b[0m\u001b[0;34m(\u001b[0m\u001b[0mdtype\u001b[0m\u001b[0;34m=\u001b[0m\u001b[0mtf\u001b[0m\u001b[0;34m.\u001b[0m\u001b[0mfloat32\u001b[0m\u001b[0;34m,\u001b[0m \u001b[0mshape\u001b[0m\u001b[0;34m=\u001b[0m\u001b[0;34m(\u001b[0m\u001b[0;32mNone\u001b[0m\u001b[0;34m)\u001b[0m\u001b[0;34m,\u001b[0m \u001b[0mname\u001b[0m\u001b[0;34m=\u001b[0m\u001b[0;34m\"X\"\u001b[0m\u001b[0;34m)\u001b[0m\u001b[0;34m\u001b[0m\u001b[0m\n\u001b[0m\u001b[1;32m      8\u001b[0m     \u001b[0my\u001b[0m \u001b[0;34m=\u001b[0m \u001b[0mtf\u001b[0m\u001b[0;34m.\u001b[0m\u001b[0mplaceholder\u001b[0m\u001b[0;34m(\u001b[0m\u001b[0mdtype\u001b[0m\u001b[0;34m=\u001b[0m\u001b[0mtf\u001b[0m\u001b[0;34m.\u001b[0m\u001b[0mfloat32\u001b[0m\u001b[0;34m,\u001b[0m \u001b[0mshape\u001b[0m\u001b[0;34m=\u001b[0m\u001b[0;34m(\u001b[0m\u001b[0;32mNone\u001b[0m\u001b[0;34m)\u001b[0m\u001b[0;34m,\u001b[0m \u001b[0mname\u001b[0m\u001b[0;34m=\u001b[0m\u001b[0;34m\"y\"\u001b[0m\u001b[0;34m)\u001b[0m\u001b[0;34m\u001b[0m\u001b[0m\n\u001b[1;32m      9\u001b[0m \u001b[0;34m\u001b[0m\u001b[0m\n",
      "\u001b[0;31mAttributeError\u001b[0m: module 'tensorflow' has no attribute 'placeholder'"
     ]
    }
   ],
   "source": [
    "# Instatiate a graph object\n",
    "g = tf.Graph()\n",
    "\n",
    "# Define the computations within the graph\n",
    "with g.as_default():\n",
    "    # Define placeholders\n",
    "    X = tf.placeholder(dtype=tf.float32, shape=(None), name=\"X\")\n",
    "    y = tf.placeholder(dtype=tf.float32, shape=(None), name=\"y\")\n",
    "\n",
    "    # Define parameters\n",
    "    w = tf.get_variable(\"weight\", initializer=tf.constant(0, tf.float32))\n",
    "    b = tf.get_variable(\"bias\", initializer=tf.constant(0, tf.float32))\n",
    "\n",
    "    # Define predictions\n",
    "    y_pred = w * X + b\n",
    "\n",
    "    # Define loss\n",
    "    loss = tf.square(y - y_pred)\n",
    "\n",
    "    # Define optimizer\n",
    "    optimizer = tf.train.RMSPropOptimizer(\n",
    "        learning_rate=0.01).minimize(loss)\n",
    "    \n",
    "    # Initialize all global variables\n",
    "    init = tf.global_variables_initializer()\n",
    "\n",
    "# Run the graph - Stochastic Gradient Descent\n",
    "with tf.Session(graph=g) as sess:\n",
    "    sess.run(init)\n",
    "    costs = []\n",
    "    \n",
    "    for epoch in range(200):\n",
    "        cost_epoch = 0\n",
    "        for x_, y_ in zip(X_input, target):\n",
    "            cost, _ = sess.run([loss, optimizer], feed_dict={X: x_, y: y_})\n",
    "            cost_epoch += cost\n",
    "            \n",
    "        costs.append(cost_epoch)\n",
    "        \n",
    "    w_out, b_out = sess.run([w, b])\n",
    "\n",
    "# Plot the loss curve\n",
    "plt.plot(range(200), costs)\n",
    "plt.xlabel(\"Epoch\")\n",
    "plt.ylabel(\"Loss\")\n",
    "plt.title(\"Stochastic Gradient Descent\");"
   ]
  },
  {
   "cell_type": "code",
   "execution_count": 15,
   "metadata": {},
   "outputs": [
    {
     "ename": "NameError",
     "evalue": "name 'w_out' is not defined",
     "output_type": "error",
     "traceback": [
      "\u001b[0;31m---------------------------------------------------------------------------\u001b[0m",
      "\u001b[0;31mNameError\u001b[0m                                 Traceback (most recent call last)",
      "\u001b[0;32m<ipython-input-15-4c5d0a10a3c1>\u001b[0m in \u001b[0;36m<module>\u001b[0;34m()\u001b[0m\n\u001b[0;32m----> 1\u001b[0;31m \u001b[0mw_out\u001b[0m\u001b[0;34m,\u001b[0m \u001b[0mb_out\u001b[0m\u001b[0;34m,\u001b[0m \u001b[0mw_out\u001b[0m \u001b[0;34m*\u001b[0m \u001b[0;36m1.8220\u001b[0m \u001b[0;34m+\u001b[0m \u001b[0mb_out\u001b[0m\u001b[0;34m\u001b[0m\u001b[0m\n\u001b[0m",
      "\u001b[0;31mNameError\u001b[0m: name 'w_out' is not defined"
     ]
    }
   ],
   "source": [
    "w_out, b_out, w_out * 1.8220 + b_out"
   ]
  },
  {
   "cell_type": "markdown",
   "metadata": {},
   "source": [
    "**Takeaway:** The lower the batch size, the more epochs we need to get the learning algorithm to converge to a very low loss. SGD is more expensive that BGD even though BGD has more epochs. Moreover, BGD converges to the parameters solved using normal equation method but SGD hasn't. Finally, we needed to use RmsProp to scale gradients while approaching the minimum that basically reduce learning rates as it gets closer to the minimum region to avoid divergence. Let's plot the fitted line:"
   ]
  },
  {
   "cell_type": "code",
   "execution_count": 16,
   "metadata": {},
   "outputs": [
    {
     "ename": "NameError",
     "evalue": "name 'w_out' is not defined",
     "output_type": "error",
     "traceback": [
      "\u001b[0;31m---------------------------------------------------------------------------\u001b[0m",
      "\u001b[0;31mNameError\u001b[0m                                 Traceback (most recent call last)",
      "\u001b[0;32m<ipython-input-16-ee0b513107b7>\u001b[0m in \u001b[0;36m<module>\u001b[0;34m()\u001b[0m\n\u001b[1;32m      1\u001b[0m \u001b[0mplt\u001b[0m\u001b[0;34m.\u001b[0m\u001b[0mscatter\u001b[0m\u001b[0;34m(\u001b[0m\u001b[0mX_input\u001b[0m\u001b[0;34m,\u001b[0m \u001b[0mtarget\u001b[0m\u001b[0;34m,\u001b[0m \u001b[0mlabel\u001b[0m\u001b[0;34m=\u001b[0m\u001b[0;34m\"Actual data\"\u001b[0m\u001b[0;34m)\u001b[0m\u001b[0;34m\u001b[0m\u001b[0m\n\u001b[0;32m----> 2\u001b[0;31m \u001b[0mplt\u001b[0m\u001b[0;34m.\u001b[0m\u001b[0mplot\u001b[0m\u001b[0;34m(\u001b[0m\u001b[0mX_input\u001b[0m\u001b[0;34m,\u001b[0m \u001b[0mw_out\u001b[0m \u001b[0;34m*\u001b[0m \u001b[0mX_input\u001b[0m \u001b[0;34m+\u001b[0m \u001b[0mb_out\u001b[0m\u001b[0;34m,\u001b[0m \u001b[0;34m'r'\u001b[0m\u001b[0;34m,\u001b[0m \u001b[0mlabel\u001b[0m\u001b[0;34m=\u001b[0m\u001b[0;34m\"Predicted data\"\u001b[0m\u001b[0;34m)\u001b[0m\u001b[0;34m\u001b[0m\u001b[0m\n\u001b[0m\u001b[1;32m      3\u001b[0m \u001b[0mplt\u001b[0m\u001b[0;34m.\u001b[0m\u001b[0mxlim\u001b[0m\u001b[0;34m(\u001b[0m\u001b[0;34m[\u001b[0m\u001b[0;36m0\u001b[0m\u001b[0;34m,\u001b[0m \u001b[0;36m8\u001b[0m\u001b[0;34m]\u001b[0m\u001b[0;34m)\u001b[0m\u001b[0;34m\u001b[0m\u001b[0m\n\u001b[1;32m      4\u001b[0m \u001b[0mplt\u001b[0m\u001b[0;34m.\u001b[0m\u001b[0mylim\u001b[0m\u001b[0;34m(\u001b[0m\u001b[0;34m[\u001b[0m\u001b[0;36m40\u001b[0m\u001b[0;34m,\u001b[0m \u001b[0;36m90\u001b[0m\u001b[0;34m]\u001b[0m\u001b[0;34m)\u001b[0m\u001b[0;34m\u001b[0m\u001b[0m\n\u001b[1;32m      5\u001b[0m \u001b[0mplt\u001b[0m\u001b[0;34m.\u001b[0m\u001b[0mxlabel\u001b[0m\u001b[0;34m(\u001b[0m\u001b[0;34m\"Birth rates (%)\"\u001b[0m\u001b[0;34m)\u001b[0m\u001b[0;34m\u001b[0m\u001b[0m\n",
      "\u001b[0;31mNameError\u001b[0m: name 'w_out' is not defined"
     ]
    },
    {
     "data": {
      "image/png": "[encoded data removed]",
      "text/plain": [
       "<Figure size 432x288 with 1 Axes>"
      ]
     },
     "metadata": {},
     "output_type": "display_data"
    }
   ],
   "source": [
    "plt.scatter(X_input, target, label=\"Actual data\")\n",
    "plt.plot(X_input, w_out * X_input + b_out, 'r', label=\"Predicted data\")\n",
    "plt.xlim([0, 8])\n",
    "plt.ylim([40, 90])\n",
    "plt.xlabel(\"Birth rates (%)\")\n",
    "plt.ylabel(\"Life expectancy\");"
   ]
  },
  {
   "cell_type": "markdown",
   "metadata": {},
   "source": [
    "Looks like we have some outliers here:"
   ]
  },
  {
   "cell_type": "code",
   "execution_count": 17,
   "metadata": {},
   "outputs": [
    {
     "name": "stderr",
     "output_type": "stream",
     "text": [
      "UsageError: Cell magic `%%R` not found.\n"
     ]
    }
   ],
   "source": [
    "%%R -i X_input,target\n",
    "lin_model = lm(target ~ X_input)\n",
    "plot(lin_model, which=4, cook.levels=(4/(190 - 2)))\n",
    "print(summary(lin_model))"
   ]
  },
  {
   "cell_type": "code",
   "execution_count": 18,
   "metadata": {},
   "outputs": [
    {
     "name": "stderr",
     "output_type": "stream",
     "text": [
      "UsageError: Cell magic `%%R` not found.\n"
     ]
    }
   ],
   "source": [
    "%%R -i data\n",
    "lin_model = lm(data$life_expectancy ~ ., data=data)\n",
    "plot(lin_model, which=4, cook.levels=(4/(190 - 2)))\n",
    "print(summary(lin_model))"
   ]
  },
  {
   "cell_type": "code",
   "execution_count": 19,
   "metadata": {},
   "outputs": [
    {
     "data": {
      "text/html": [
       "<div>\n",
       "<style scoped>\n",
       "    .dataframe tbody tr th:only-of-type {\n",
       "        vertical-align: middle;\n",
       "    }\n",
       "\n",
       "    .dataframe tbody tr th {\n",
       "        vertical-align: top;\n",
       "    }\n",
       "\n",
       "    .dataframe thead th {\n",
       "        text-align: right;\n",
       "    }\n",
       "</style>\n",
       "<table border=\"1\" class=\"dataframe\">\n",
       "  <thead>\n",
       "    <tr style=\"text-align: right;\">\n",
       "      <th></th>\n",
       "      <th>birth_rate</th>\n",
       "      <th>life_expectancy</th>\n",
       "    </tr>\n",
       "  </thead>\n",
       "  <tbody>\n",
       "    <tr>\n",
       "      <th>Niger</th>\n",
       "      <td>7.063</td>\n",
       "      <td>54.265634</td>\n",
       "    </tr>\n",
       "    <tr>\n",
       "      <th>South Africa</th>\n",
       "      <td>2.458</td>\n",
       "      <td>52.081488</td>\n",
       "    </tr>\n",
       "    <tr>\n",
       "      <th>Lesotho</th>\n",
       "      <td>3.199</td>\n",
       "      <td>47.365073</td>\n",
       "    </tr>\n",
       "  </tbody>\n",
       "</table>\n",
       "</div>"
      ],
      "text/plain": [
       "              birth_rate  life_expectancy\n",
       "Niger              7.063        54.265634\n",
       "South Africa       2.458        52.081488\n",
       "Lesotho            3.199        47.365073"
      ]
     },
     "execution_count": 19,
     "metadata": {},
     "output_type": "execute_result"
    }
   ],
   "source": [
    "data.loc[[\"Niger\", \"South Africa\", \"Lesotho\"]]"
   ]
  },
  {
   "cell_type": "markdown",
   "metadata": {},
   "source": [
    "We'll run 4 different models:\n",
    "1. model 1: use square error\n",
    "2. model 2: use absolute error\n",
    "3. model 3: use huber loss\n",
    "4. model 4: use square loss but remove the 3 outliers"
   ]
  },
  {
   "cell_type": "code",
   "execution_count": 20,
   "metadata": {
    "code_folding": []
   },
   "outputs": [],
   "source": [
    "def huber_loss(predictions, target, delta=1):\n",
    "    \"\"\"Implements Huber Loss.\"\"\"\n",
    "    residuals = tf.abs(target - predictions)\n",
    "    \n",
    "    def f1():\n",
    "        return 0.5 * tf.square(residuals)\n",
    "    \n",
    "    def f2():\n",
    "        return delta * (residuals - 0.5 * delta)\n",
    "    \n",
    "    return tf.cond(residuals < delta, f1, f2)"
   ]
  },
  {
   "cell_type": "code",
   "execution_count": 21,
   "metadata": {},
   "outputs": [
    {
     "ename": "AttributeError",
     "evalue": "module 'tensorflow' has no attribute 'placeholder'",
     "output_type": "error",
     "traceback": [
      "\u001b[0;31m---------------------------------------------------------------------------\u001b[0m",
      "\u001b[0;31mAttributeError\u001b[0m                            Traceback (most recent call last)",
      "\u001b[0;32m<ipython-input-21-c36e3e854af4>\u001b[0m in \u001b[0;36m<module>\u001b[0;34m()\u001b[0m\n\u001b[1;32m      5\u001b[0m \u001b[0;32mwith\u001b[0m \u001b[0mg\u001b[0m\u001b[0;34m.\u001b[0m\u001b[0mas_default\u001b[0m\u001b[0;34m(\u001b[0m\u001b[0;34m)\u001b[0m\u001b[0;34m:\u001b[0m\u001b[0;34m\u001b[0m\u001b[0m\n\u001b[1;32m      6\u001b[0m     \u001b[0;31m# Define placeholders\u001b[0m\u001b[0;34m\u001b[0m\u001b[0;34m\u001b[0m\u001b[0m\n\u001b[0;32m----> 7\u001b[0;31m     \u001b[0mX\u001b[0m \u001b[0;34m=\u001b[0m \u001b[0mtf\u001b[0m\u001b[0;34m.\u001b[0m\u001b[0mplaceholder\u001b[0m\u001b[0;34m(\u001b[0m\u001b[0mdtype\u001b[0m\u001b[0;34m=\u001b[0m\u001b[0mtf\u001b[0m\u001b[0;34m.\u001b[0m\u001b[0mfloat32\u001b[0m\u001b[0;34m,\u001b[0m \u001b[0mshape\u001b[0m\u001b[0;34m=\u001b[0m\u001b[0;34m(\u001b[0m\u001b[0;32mNone\u001b[0m\u001b[0;34m)\u001b[0m\u001b[0;34m,\u001b[0m \u001b[0mname\u001b[0m\u001b[0;34m=\u001b[0m\u001b[0;34m\"X\"\u001b[0m\u001b[0;34m)\u001b[0m\u001b[0;34m\u001b[0m\u001b[0m\n\u001b[0m\u001b[1;32m      8\u001b[0m     \u001b[0my\u001b[0m \u001b[0;34m=\u001b[0m \u001b[0mtf\u001b[0m\u001b[0;34m.\u001b[0m\u001b[0mplaceholder\u001b[0m\u001b[0;34m(\u001b[0m\u001b[0mdtype\u001b[0m\u001b[0;34m=\u001b[0m\u001b[0mtf\u001b[0m\u001b[0;34m.\u001b[0m\u001b[0mfloat32\u001b[0m\u001b[0;34m,\u001b[0m \u001b[0mshape\u001b[0m\u001b[0;34m=\u001b[0m\u001b[0;34m(\u001b[0m\u001b[0;32mNone\u001b[0m\u001b[0;34m)\u001b[0m\u001b[0;34m,\u001b[0m \u001b[0mname\u001b[0m\u001b[0;34m=\u001b[0m\u001b[0;34m\"y\"\u001b[0m\u001b[0;34m)\u001b[0m\u001b[0;34m\u001b[0m\u001b[0m\n\u001b[1;32m      9\u001b[0m \u001b[0;34m\u001b[0m\u001b[0m\n",
      "\u001b[0;31mAttributeError\u001b[0m: module 'tensorflow' has no attribute 'placeholder'"
     ]
    }
   ],
   "source": [
    "# Instatiate a graph object\n",
    "g = tf.Graph()\n",
    "\n",
    "# Define the computations within the graph\n",
    "with g.as_default():\n",
    "    # Define placeholders\n",
    "    X = tf.placeholder(dtype=tf.float32, shape=(None), name=\"X\")\n",
    "    y = tf.placeholder(dtype=tf.float32, shape=(None), name=\"y\")\n",
    "\n",
    "    # Define parameters\n",
    "    w = tf.get_variable(\"weight\", initializer=tf.constant(0, tf.float32))\n",
    "    b = tf.get_variable(\"bias\", initializer=tf.constant(0, tf.float32))\n",
    "\n",
    "    # Define predictions\n",
    "    y_pred = w * X + b\n",
    "\n",
    "    # Define loss\n",
    "    loss_sq = tf.square(y - y_pred)\n",
    "    loss_abs = tf.abs(y - y_pred)\n",
    "    loss_huber = huber_loss(y_pred, y, delta=14)\n",
    "\n",
    "    # Define optimizer\n",
    "    optimizer_sq = tf.train.RMSPropOptimizer(\n",
    "        learning_rate=0.01).minimize(loss_sq)\n",
    "    optimizer_abs = tf.train.RMSPropOptimizer(\n",
    "        learning_rate=0.01).minimize(loss_abs)\n",
    "    optimizer_huber = tf.train.RMSPropOptimizer(\n",
    "        learning_rate=0.01).minimize(loss_huber)\n",
    "\n",
    "    # Initialize all global variables\n",
    "    init = tf.global_variables_initializer()\n",
    "\n",
    "# Run the graph - Stochastic Gradient Descent\n",
    "methods = {\"sq\": [loss_sq, optimizer_sq],\n",
    "           \"abs\": [loss_abs, optimizer_abs],\n",
    "           \"huber\": [loss_huber, optimizer_huber],\n",
    "           \"without_outliers\": [loss_sq, optimizer_sq]}\n",
    "\n",
    "costs = {\"sq\": [], \"abs\": [], \"huber\": [], \"without_outliers\": []}\n",
    "params = {\"sq\": [], \"abs\": [], \"huber\": [], \"without_outliers\": []}\n",
    "\n",
    "# Exclude the outliers\n",
    "ouliers = [11, 43, 155]\n",
    "mask = np.array([i in outliers for i in range(len(X_input))])\n",
    "X_input_wo = X_input[~mask]\n",
    "target_wo = target[~mask]\n",
    "\n",
    "for method in methods.keys():\n",
    "    with tf.Session(graph=g) as sess:\n",
    "        sess.run(init)\n",
    "\n",
    "        for epoch in range(200):\n",
    "            cost_epoch = 0\n",
    "            if method == \"without_outliers\":\n",
    "                for x_, y_ in zip(X_input_wo, target_wo):\n",
    "                    cost, _ = sess.run([methods[method][0], methods[method][1]],\n",
    "                                       feed_dict={X: x_, y: y_})\n",
    "                    cost_epoch += cost\n",
    "\n",
    "                costs[method].append(cost_epoch)\n",
    "            else:\n",
    "                for x_, y_ in zip(X_input, target):\n",
    "                    cost, _ = sess.run([methods[method][0], methods[method][1]],\n",
    "                                       feed_dict={X: x_, y: y_})\n",
    "                    cost_epoch += cost\n",
    "\n",
    "                costs[method].append(cost_epoch)\n",
    "        print(sess.run([w, b]))\n",
    "        params[method].append(sess.run([w, b]))\n",
    "\n",
    "# Get the parameters\n",
    "w_out_sq, b_out_sq = params[\"sq\"][0]\n",
    "w_out_abs, b_out_abs = params[\"abs\"][0]\n",
    "w_out_huber, b_out_huber = params[\"huber\"][0]\n",
    "w_out_wo, b_out_wo = params[\"without_outliers\"][0]\n",
    "\n",
    "# Plot the fitted lines\n",
    "plt.figure(figsize=(12, 8))\n",
    "plt.scatter(X_input, target, label=\"Actual data\")\n",
    "plt.plot(X_input, w_out_sq * X_input + b_out_sq,\n",
    "         '--r', label=\"Fitted line - square loss\")\n",
    "plt.plot(X_input, w_out_abs * X_input + b_out_abs,\n",
    "         '--g', label=\"Fitted line - absolute loss\")\n",
    "plt.plot(X_input, w_out_huber * X_input + b_out_huber,\n",
    "         '--b', label=\"Fitted line - huber loss\")\n",
    "plt.plot(X_input, w_out_wo * X_input + b_out_wo,\n",
    "         '--y', label=\"Fitted line - without outliers\")\n",
    "plt.xlim([0, 8])\n",
    "plt.ylim([40, 90])\n",
    "plt.xlabel(\"Birth rates (%)\")\n",
    "plt.ylabel(\"Life expectancy (years)\")\n",
    "plt.title(\"Life expectancy vs. birth rate\")\n",
    "plt.legend();"
   ]
  },
  {
   "cell_type": "markdown",
   "metadata": {},
   "source": [
    "As the graph above shows, there is no noticeable difference between the fitted lines of 4 different models. The reason is because the outliers were not influential and outliers mainly affects $R^2$ and residual standard error. The 3 examples here either have high leverage and low studentized residuals or low leverage and high studentized residuals. In order for an example (observation) to be influential, the studentized residual should be greater than 3 and the leverage be > (number of predictors + 1 / number of examples) or Cook's distance > (4 / number of examples)."
   ]
  },
  {
   "cell_type": "code",
   "execution_count": 22,
   "metadata": {},
   "outputs": [],
   "source": [
    "outliers_countries = [\"Niger\", \"South Africa\", \"Lesotho\"]\n",
    "mask_index = np.array([i in outliers_countries for i in data.index])\n",
    "data_wo = data[~mask_index]"
   ]
  },
  {
   "cell_type": "code",
   "execution_count": 23,
   "metadata": {
    "scrolled": true
   },
   "outputs": [
    {
     "name": "stderr",
     "output_type": "stream",
     "text": [
      "UsageError: Cell magic `%%R` not found.\n"
     ]
    }
   ],
   "source": [
    "%%R -i data_wo\n",
    "lin_model = lm(data_wo$life_expectancy ~ ., data=data_wo)\n",
    "print(summary(lin_model))"
   ]
  },
  {
   "cell_type": "code",
   "execution_count": null,
   "metadata": {},
   "outputs": [],
   "source": []
  },
  {
   "cell_type": "code",
   "execution_count": null,
   "metadata": {},
   "outputs": [],
   "source": []
  }
 ],
 "metadata": {
  "kernelspec": {
   "display_name": "Python 3",
   "language": "python",
   "name": "python3"
  },
  "language_info": {
   "codemirror_mode": {
    "name": "ipython",
    "version": 3
   },
   "file_extension": ".py",
   "mimetype": "text/x-python",
   "name": "python",
   "nbconvert_exporter": "python",
   "pygments_lexer": "ipython3",
   "version": "3.6.6"
  }
 },
 "nbformat": 4,
 "nbformat_minor": 2
}

{
 "cells": [
  {
   "cell_type": "code",
   "execution_count": 1,
   "metadata": {
    "ExecuteTime": {
     "end_time": "2019-12-23T09:37:51.244082Z",
     "start_time": "2019-12-23T09:37:51.227428Z"
    }
   },
   "outputs": [
    {
     "data": {
      "text/plain": [
       "'\\n1\\t\\nobject\\n\\nAny object exposing the array interface method returns an array, or any (nested) sequence.\\n\\n2\\t\\ndtype\\n\\nDesired data type of array, optional\\n\\n3\\t\\ncopy\\n\\nOptional. By default (true), the object is copied\\n\\n4\\t\\norder\\n\\nC (row major) or F (column major) or A (any) (default)\\n\\n5\\t\\nsubok\\n\\nBy default, returned array forced to be a base class array. If true, sub-classes passed through\\n\\n6\\t\\nndimin\\n\\nSpecifies minimum dimensions of resultant array\\n'"
      ]
     },
     "execution_count": 1,
     "metadata": {},
     "output_type": "execute_result"
    }
   ],
   "source": [
    "#numpy.array(object, dtype = None, copy = True, order = None, subok = False, ndmin = 0)\n",
    "\n",
    "\n",
    "\n",
    "'''\n",
    "1\t\n",
    "object\n",
    "\n",
    "Any object exposing the array interface method returns an array, or any (nested) sequence.\n",
    "\n",
    "2\t\n",
    "dtype\n",
    "\n",
    "Desired data type of array, optional\n",
    "\n",
    "3\t\n",
    "copy\n",
    "\n",
    "Optional. By default (true), the object is copied\n",
    "\n",
    "4\t\n",
    "order\n",
    "\n",
    "C (row major) or F (column major) or A (any) (default)\n",
    "\n",
    "5\t\n",
    "subok\n",
    "\n",
    "By default, returned array forced to be a base class array. If true, sub-classes passed through\n",
    "\n",
    "6\t\n",
    "ndimin\n",
    "\n",
    "Specifies minimum dimensions of resultant array\n",
    "'''"
   ]
  },
  {
   "cell_type": "code",
   "execution_count": 9,
   "metadata": {
    "ExecuteTime": {
     "end_time": "2019-12-23T09:49:52.134287Z",
     "start_time": "2019-12-23T09:49:52.130331Z"
    }
   },
   "outputs": [
    {
     "name": "stdout",
     "output_type": "stream",
     "text": [
      "(2, 3)\n"
     ]
    }
   ],
   "source": [
    "import numpy as np \n",
    "a = np.array([[1,2,3],[4,5,6]]) \n",
    "print (a.shape)"
   ]
  },
  {
   "cell_type": "markdown",
   "metadata": {},
   "source": [
    "2 way to change the shape : 1) a.shape = (3,2) or 2) a = a.reshape(3,2)"
   ]
  },
  {
   "cell_type": "code",
   "execution_count": 10,
   "metadata": {
    "ExecuteTime": {
     "end_time": "2019-12-23T09:49:54.031537Z",
     "start_time": "2019-12-23T09:49:54.027547Z"
    }
   },
   "outputs": [
    {
     "name": "stdout",
     "output_type": "stream",
     "text": [
      "[[1 2]\n",
      " [3 4]\n",
      " [5 6]]\n"
     ]
    }
   ],
   "source": [
    "# this resizes the ndarray \n",
    "a.shape = (3,2) \n",
    "print (a) "
   ]
  },
  {
   "cell_type": "code",
   "execution_count": 12,
   "metadata": {
    "ExecuteTime": {
     "end_time": "2019-12-23T09:50:19.444500Z",
     "start_time": "2019-12-23T09:50:19.438516Z"
    }
   },
   "outputs": [
    {
     "name": "stdout",
     "output_type": "stream",
     "text": [
      "[[1 2]\n",
      " [3 4]\n",
      " [5 6]]\n",
      "**************************************************\n",
      "[[1 2]\n",
      " [3 4]\n",
      " [5 6]]\n"
     ]
    }
   ],
   "source": [
    "b = a.reshape(3,2) \n",
    "print(a)\n",
    "print(\"*\"*50)\n",
    "print (b)"
   ]
  },
  {
   "cell_type": "code",
   "execution_count": 28,
   "metadata": {
    "ExecuteTime": {
     "end_time": "2019-12-23T10:18:01.427885Z",
     "start_time": "2019-12-23T10:18:01.422900Z"
    }
   },
   "outputs": [
    {
     "name": "stdout",
     "output_type": "stream",
     "text": [
      "val :  [ 2  3  4  5  6  7  8  9 10 11 12 13 14 15 16 17 18 19 20 21 22 23]\n",
      "[ 0  1  2  3  4  5  6  7  8  9 10 11 12 13 14 15 16 17 18 19 20 21 22 23]\n",
      "4\n"
     ]
    }
   ],
   "source": [
    "\n",
    "# an array of evenly spaced numbers \n",
    "val = np.arange(2,24) \n",
    "print(\"val : \", val)\n",
    "a = np.arange(24) \n",
    "print (a)\n",
    "print (a.itemsize)"
   ]
  },
  {
   "cell_type": "code",
   "execution_count": 29,
   "metadata": {
    "ExecuteTime": {
     "end_time": "2019-12-23T10:18:02.518502Z",
     "start_time": "2019-12-23T10:18:02.514512Z"
    }
   },
   "outputs": [
    {
     "name": "stdout",
     "output_type": "stream",
     "text": [
      "[[[ 0  1  2]\n",
      "  [ 3  4  5]\n",
      "  [ 6  7  8]\n",
      "  [ 9 10 11]]\n",
      "\n",
      " [[12 13 14]\n",
      "  [15 16 17]\n",
      "  [18 19 20]\n",
      "  [21 22 23]]]\n"
     ]
    }
   ],
   "source": [
    "# now reshape it \n",
    "b = a.reshape(2,4,3) \n",
    "print (b)"
   ]
  },
  {
   "cell_type": "code",
   "execution_count": 30,
   "metadata": {
    "ExecuteTime": {
     "end_time": "2019-12-23T10:18:03.386006Z",
     "start_time": "2019-12-23T10:18:03.381020Z"
    }
   },
   "outputs": [
    {
     "name": "stdout",
     "output_type": "stream",
     "text": [
      "4\n"
     ]
    }
   ],
   "source": [
    "print (a.itemsize)"
   ]
  },
  {
   "cell_type": "code",
   "execution_count": 31,
   "metadata": {
    "ExecuteTime": {
     "end_time": "2019-12-23T10:18:04.681003Z",
     "start_time": "2019-12-23T10:18:04.675018Z"
    }
   },
   "outputs": [
    {
     "name": "stdout",
     "output_type": "stream",
     "text": [
      "4\n"
     ]
    }
   ],
   "source": [
    "print (b.itemsize)"
   ]
  },
  {
   "cell_type": "code",
   "execution_count": 32,
   "metadata": {
    "ExecuteTime": {
     "end_time": "2019-12-23T10:18:05.929870Z",
     "start_time": "2019-12-23T10:18:05.925915Z"
    }
   },
   "outputs": [
    {
     "data": {
      "text/plain": [
       "\"\\nnumpy.empty(shape, dtype = float, order = 'C')\\nThe constructor takes the following parameters.\\n\\nSr.No.\\tParameter & Description\\n1\\t\\nShape\\n\\nShape of an empty array in int or tuple of int\\n\\n2\\t\\nDtype\\n\\nDesired output data type. Optional\\n\\n3\\t\\nOrder\\n\\n'C' for C-style row-major array, 'F' for FORTRAN style column-major array\\n\""
      ]
     },
     "execution_count": 32,
     "metadata": {},
     "output_type": "execute_result"
    }
   ],
   "source": [
    "'''\n",
    "numpy.empty(shape, dtype = float, order = 'C')\n",
    "The constructor takes the following parameters.\n",
    "\n",
    "Sr.No.\tParameter & Description\n",
    "1\t\n",
    "Shape\n",
    "\n",
    "Shape of an empty array in int or tuple of int\n",
    "\n",
    "2\t\n",
    "Dtype\n",
    "\n",
    "Desired output data type. Optional\n",
    "\n",
    "3\t\n",
    "Order\n",
    "\n",
    "'C' for C-style row-major array, 'F' for FORTRAN style column-major array\n",
    "'''"
   ]
  },
  {
   "cell_type": "code",
   "execution_count": 34,
   "metadata": {
    "ExecuteTime": {
     "end_time": "2019-12-23T10:18:30.213360Z",
     "start_time": "2019-12-23T10:18:30.208374Z"
    }
   },
   "outputs": [
    {
     "name": "stdout",
     "output_type": "stream",
     "text": [
      "range(0, 50)\n",
      "range(0, 50)\n",
      "range(2, 50)\n"
     ]
    }
   ],
   "source": [
    "# create list object using range function \n",
    "list1 = range(50) \n",
    "list2 = range(2,50) \n",
    "print (range(50))\n",
    "print(list1)\n",
    "print(list2)"
   ]
  },
  {
   "cell_type": "code",
   "execution_count": 57,
   "metadata": {
    "ExecuteTime": {
     "end_time": "2019-12-23T10:30:55.938400Z",
     "start_time": "2019-12-23T10:30:55.930421Z"
    }
   },
   "outputs": [
    {
     "name": "stdout",
     "output_type": "stream",
     "text": [
      "[20 25 30 35]\n",
      "<class 'numpy.ndarray'>\n",
      "<class 'numpy.int32'>\n",
      "**************************************************\n",
      "[20 25 30 35]\n",
      "<class 'numpy.ndarray'>\n",
      "<class 'numpy.int32'>\n"
     ]
    }
   ],
   "source": [
    "list_age = [20,25,30,35]\n",
    "age = np.array(list_age)\n",
    "print(age)\n",
    "print(type(age))\n",
    "print(type(age[0]))\n",
    "\n",
    "\n",
    "age.astype(float)\n",
    "\n",
    "print(\"*\"*50)\n",
    "print(age)\n",
    "print(type(age))\n",
    "print(type(age[0]))"
   ]
  },
  {
   "cell_type": "markdown",
   "metadata": {},
   "source": [
    "# Change data types in dataframe and numpy\n",
    "\n",
    "1)DF :\n",
    "\n",
    "df[\"age\"].astype(float)\n",
    "\n",
    "2)Numpy: a = np.arrar(list_age)\n",
    "\n",
    "a = a.astype(float)"
   ]
  },
  {
   "cell_type": "code",
   "execution_count": 58,
   "metadata": {
    "ExecuteTime": {
     "end_time": "2019-12-23T10:34:37.482600Z",
     "start_time": "2019-12-23T10:34:37.475658Z"
    }
   },
   "outputs": [
    {
     "name": "stdout",
     "output_type": "stream",
     "text": [
      "[ 0.  1.  2.  3.  4.  5.  6.  7.  8.  9. 10. 11. 12. 13. 14. 15. 16. 17.\n",
      " 18. 19. 20. 21. 22. 23. 24. 25. 26. 27. 28. 29. 30. 31. 32. 33. 34. 35.\n",
      " 36. 37. 38. 39. 40. 41. 42. 43. 44. 45. 46. 47. 48. 49.]\n",
      "********************************************************************************\n",
      "[ 0  1  2  3  4  5  6  7  8  9 10 11 12 13 14 15 16 17 18 19 20 21 22 23\n",
      " 24 25 26 27 28 29 30 31 32 33 34 35 36 37 38 39 40 41 42 43 44 45 46 47\n",
      " 48 49]\n",
      "********************************************************************************\n",
      "<class 'numpy.ndarray'>\n",
      "<class 'numpy.ndarray'>\n"
     ]
    }
   ],
   "source": [
    "# use iterator to create ndarray \n",
    "x = np.fromiter(list, dtype = float) \n",
    "print (x)\n",
    "\n",
    "print(\"*\"*80)\n",
    "x1 = np.fromiter(list, dtype = int) \n",
    "print (x1)\n",
    "\n",
    "print(\"*\"*80)\n",
    "print(type(x))\n",
    "print(type(x1))"
   ]
  },
  {
   "cell_type": "code",
   "execution_count": 59,
   "metadata": {
    "ExecuteTime": {
     "end_time": "2019-12-23T10:34:41.633926Z",
     "start_time": "2019-12-23T10:34:41.627945Z"
    }
   },
   "outputs": [
    {
     "name": "stdout",
     "output_type": "stream",
     "text": [
      "[10 12 14 16 18]\n"
     ]
    }
   ],
   "source": [
    "x = np.arange(10,20,2) \n",
    "print(x)"
   ]
  },
  {
   "cell_type": "code",
   "execution_count": 60,
   "metadata": {
    "ExecuteTime": {
     "end_time": "2019-12-23T10:34:42.349209Z",
     "start_time": "2019-12-23T10:34:42.344224Z"
    }
   },
   "outputs": [
    {
     "name": "stdout",
     "output_type": "stream",
     "text": [
      "[10 13 16 19]\n"
     ]
    }
   ],
   "source": [
    "y = np.arange(10,20,3) \n",
    "print(y)"
   ]
  },
  {
   "cell_type": "code",
   "execution_count": 61,
   "metadata": {
    "ExecuteTime": {
     "end_time": "2019-12-23T10:34:54.770324Z",
     "start_time": "2019-12-23T10:34:54.765307Z"
    }
   },
   "outputs": [
    {
     "name": "stdout",
     "output_type": "stream",
     "text": [
      "[10 14 18]\n"
     ]
    }
   ],
   "source": [
    "xz = np.arange(10,20,4) \n",
    "print(xz)"
   ]
  },
  {
   "cell_type": "code",
   "execution_count": 62,
   "metadata": {
    "ExecuteTime": {
     "end_time": "2019-12-23T10:34:58.641111Z",
     "start_time": "2019-12-23T10:34:58.637122Z"
    }
   },
   "outputs": [
    {
     "name": "stdout",
     "output_type": "stream",
     "text": [
      "[ 10  16  22  28  34  40  46  52  58  64  70  76  82  88  94 100 106 112\n",
      " 118 124 130 136 142 148 154 160 166 172 178 184 190 196]\n"
     ]
    }
   ],
   "source": [
    "x = np.arange(10,200,6) \n",
    "print(x)"
   ]
  },
  {
   "cell_type": "code",
   "execution_count": 63,
   "metadata": {
    "ExecuteTime": {
     "end_time": "2019-12-23T10:34:59.731356Z",
     "start_time": "2019-12-23T10:34:59.727355Z"
    }
   },
   "outputs": [
    {
     "data": {
      "text/plain": [
       "'\\nnumpy.linspace\\nThis function is similar to arange() function. \\nIn this function, instead of step size, the number of evenly spaced values between the interval is specified. \\nThe usage of this function is as follows \\n\\nnumpy.linspace(start, stop, num, endpoint, retstep, dtype)\\n\\n'"
      ]
     },
     "execution_count": 63,
     "metadata": {},
     "output_type": "execute_result"
    }
   ],
   "source": [
    "'''\n",
    "numpy.linspace\n",
    "This function is similar to arange() function. \n",
    "In this function, instead of step size, the number of evenly spaced values between the interval is specified. \n",
    "The usage of this function is as follows \n",
    "\n",
    "numpy.linspace(start, stop, num, endpoint, retstep, dtype)\n",
    "\n",
    "'''"
   ]
  },
  {
   "cell_type": "code",
   "execution_count": 64,
   "metadata": {
    "ExecuteTime": {
     "end_time": "2019-12-23T10:35:01.207321Z",
     "start_time": "2019-12-23T10:35:01.202335Z"
    }
   },
   "outputs": [
    {
     "data": {
      "text/plain": [
       "'\\n1\\t\\nstart\\n\\nThe starting value of the sequence\\n\\n2\\t\\nstop\\n\\nThe end value of the sequence, included in the sequence if endpoint set to true\\n\\n3\\t\\nnum\\n\\nThe number of evenly spaced samples to be generated. Default is 50\\n\\n4\\t\\nendpoint\\n\\nTrue by default, hence the stop value is included in the sequence. If false, it is not included\\n\\n5\\t\\nretstep\\n\\nIf true, returns samples and step between the consecutive numbers\\n\\n6\\t\\ndtype\\n\\nData type of output ndarray\\n'"
      ]
     },
     "execution_count": 64,
     "metadata": {},
     "output_type": "execute_result"
    }
   ],
   "source": [
    "'''\n",
    "1\t\n",
    "start\n",
    "\n",
    "The starting value of the sequence\n",
    "\n",
    "2\t\n",
    "stop\n",
    "\n",
    "The end value of the sequence, included in the sequence if endpoint set to true\n",
    "\n",
    "3\t\n",
    "num\n",
    "\n",
    "The number of evenly spaced samples to be generated. Default is 50\n",
    "\n",
    "4\t\n",
    "endpoint\n",
    "\n",
    "True by default, hence the stop value is included in the sequence. If false, it is not included\n",
    "\n",
    "5\t\n",
    "retstep\n",
    "\n",
    "If true, returns samples and step between the consecutive numbers\n",
    "\n",
    "6\t\n",
    "dtype\n",
    "\n",
    "Data type of output ndarray\n",
    "'''"
   ]
  },
  {
   "cell_type": "code",
   "execution_count": 65,
   "metadata": {
    "ExecuteTime": {
     "end_time": "2019-12-23T10:35:02.779134Z",
     "start_time": "2019-12-23T10:35:02.775143Z"
    }
   },
   "outputs": [
    {
     "name": "stdout",
     "output_type": "stream",
     "text": [
      "[10.  12.5 15.  17.5 20. ]\n"
     ]
    }
   ],
   "source": [
    "x = np.linspace(10,20,5) \n",
    "print (x)\n"
   ]
  },
  {
   "cell_type": "code",
   "execution_count": 66,
   "metadata": {
    "ExecuteTime": {
     "end_time": "2019-12-23T10:35:03.890119Z",
     "start_time": "2019-12-23T10:35:03.886096Z"
    }
   },
   "outputs": [
    {
     "name": "stdout",
     "output_type": "stream",
     "text": [
      "[ 10.   57.5 105.  152.5 200. ]\n"
     ]
    }
   ],
   "source": [
    "x = np.linspace(10,200,5) \n",
    "print (x)"
   ]
  },
  {
   "cell_type": "code",
   "execution_count": 67,
   "metadata": {
    "ExecuteTime": {
     "end_time": "2019-12-23T10:35:04.562801Z",
     "start_time": "2019-12-23T10:35:04.556816Z"
    }
   },
   "outputs": [
    {
     "name": "stdout",
     "output_type": "stream",
     "text": [
      "[ 10.          31.11111111  52.22222222  73.33333333  94.44444444\n",
      " 115.55555556 136.66666667 157.77777778 178.88888889 200.        ]\n"
     ]
    }
   ],
   "source": [
    "x = np.linspace(10,200,10) \n",
    "print (x)"
   ]
  },
  {
   "cell_type": "code",
   "execution_count": 68,
   "metadata": {
    "ExecuteTime": {
     "end_time": "2019-12-23T10:35:05.289003Z",
     "start_time": "2019-12-23T10:35:05.284016Z"
    }
   },
   "outputs": [
    {
     "name": "stdout",
     "output_type": "stream",
     "text": [
      "[  0.          22.22222222  44.44444444  66.66666667  88.88888889\n",
      " 111.11111111 133.33333333 155.55555556 177.77777778 200.        ]\n"
     ]
    }
   ],
   "source": [
    "x = np.linspace(0,200,10) \n",
    "print (x)"
   ]
  },
  {
   "cell_type": "code",
   "execution_count": 69,
   "metadata": {
    "ExecuteTime": {
     "end_time": "2019-12-23T10:35:09.413730Z",
     "start_time": "2019-12-23T10:35:09.406750Z"
    }
   },
   "outputs": [
    {
     "name": "stdout",
     "output_type": "stream",
     "text": [
      "[10. 12. 14. 16. 18.]\n"
     ]
    }
   ],
   "source": [
    "# endpoint set to false \n",
    "x = np.linspace(10,20, 5, endpoint = False) \n",
    "print (x)"
   ]
  },
  {
   "cell_type": "code",
   "execution_count": 70,
   "metadata": {
    "ExecuteTime": {
     "end_time": "2019-12-23T10:35:10.163764Z",
     "start_time": "2019-12-23T10:35:10.158790Z"
    }
   },
   "outputs": [
    {
     "name": "stdout",
     "output_type": "stream",
     "text": [
      "[ 10.  48.  86. 124. 162.]\n"
     ]
    }
   ],
   "source": [
    "# endpoint set to false \n",
    "x = np.linspace(10,200, 5, endpoint = False) \n",
    "print (x)"
   ]
  },
  {
   "cell_type": "code",
   "execution_count": 71,
   "metadata": {
    "ExecuteTime": {
     "end_time": "2019-12-23T10:35:11.004962Z",
     "start_time": "2019-12-23T10:35:11.000987Z"
    }
   },
   "outputs": [
    {
     "name": "stdout",
     "output_type": "stream",
     "text": [
      "[100. 120. 140. 160. 180.]\n"
     ]
    }
   ],
   "source": [
    "# endpoint set to false \n",
    "x = np.linspace(100,200, 5, endpoint = False) \n",
    "print (x)"
   ]
  },
  {
   "cell_type": "code",
   "execution_count": 74,
   "metadata": {
    "ExecuteTime": {
     "end_time": "2019-12-23T10:36:43.040224Z",
     "start_time": "2019-12-23T10:36:43.036248Z"
    }
   },
   "outputs": [
    {
     "name": "stdout",
     "output_type": "stream",
     "text": [
      "(array([ 2.,  4.,  6.,  8., 10.]), 2.0)\n"
     ]
    }
   ],
   "source": [
    "# find retstep value \n",
    "\n",
    "\n",
    "x = np.linspace(2,10,5, retstep = True) \n",
    "print (x) \n",
    "# retstep here is 0.25"
   ]
  },
  {
   "cell_type": "code",
   "execution_count": 75,
   "metadata": {
    "ExecuteTime": {
     "end_time": "2019-12-23T10:36:48.373373Z",
     "start_time": "2019-12-23T10:36:48.367359Z"
    }
   },
   "outputs": [
    {
     "name": "stdout",
     "output_type": "stream",
     "text": [
      "(array([ 10. ,  57.5, 105. , 152.5, 200. ]), 47.5)\n"
     ]
    }
   ],
   "source": [
    "x = np.linspace(10,200,5, retstep = True) \n",
    "print (x) \n",
    "# retstep here is 0.25"
   ]
  },
  {
   "cell_type": "code",
   "execution_count": 76,
   "metadata": {
    "ExecuteTime": {
     "end_time": "2019-12-23T10:36:51.951232Z",
     "start_time": "2019-12-23T10:36:51.946215Z"
    }
   },
   "outputs": [
    {
     "data": {
      "text/plain": [
       "'\\nnumpy.logspace\\nThis function returns an ndarray object that contains the numbers that are evenly spaced on a log scale. \\nStart and stop endpoints of the scale are indices of the base, usually 10.\\n'"
      ]
     },
     "execution_count": 76,
     "metadata": {},
     "output_type": "execute_result"
    }
   ],
   "source": [
    "'''\n",
    "numpy.logspace\n",
    "This function returns an ndarray object that contains the numbers that are evenly spaced on a log scale. \n",
    "Start and stop endpoints of the scale are indices of the base, usually 10.\n",
    "'''"
   ]
  },
  {
   "cell_type": "code",
   "execution_count": 77,
   "metadata": {
    "ExecuteTime": {
     "end_time": "2019-12-23T10:36:52.529751Z",
     "start_time": "2019-12-23T10:36:52.523763Z"
    }
   },
   "outputs": [
    {
     "data": {
      "text/plain": [
       "'\\n1\\t\\nstart\\n\\nThe starting point of the sequence is basestart\\n\\n2\\t\\nstop\\n\\nThe final value of sequence is basestop\\n\\n3\\t\\nnum\\n\\nThe number of values between the range. Default is 50\\n\\n4\\t\\nendpoint\\n\\nIf true, stop is the last value in the range\\n\\n5\\t\\nbase\\n\\nBase of log space, default is 10\\n\\n6\\t\\ndtype\\n\\nData type of output array. If not given, it depends upon other input arguments\\n\\n'"
      ]
     },
     "execution_count": 77,
     "metadata": {},
     "output_type": "execute_result"
    }
   ],
   "source": [
    "'''\n",
    "1\t\n",
    "start\n",
    "\n",
    "The starting point of the sequence is basestart\n",
    "\n",
    "2\t\n",
    "stop\n",
    "\n",
    "The final value of sequence is basestop\n",
    "\n",
    "3\t\n",
    "num\n",
    "\n",
    "The number of values between the range. Default is 50\n",
    "\n",
    "4\t\n",
    "endpoint\n",
    "\n",
    "If true, stop is the last value in the range\n",
    "\n",
    "5\t\n",
    "base\n",
    "\n",
    "Base of log space, default is 10\n",
    "\n",
    "6\t\n",
    "dtype\n",
    "\n",
    "Data type of output array. If not given, it depends upon other input arguments\n",
    "\n",
    "'''"
   ]
  },
  {
   "cell_type": "code",
   "execution_count": 78,
   "metadata": {
    "ExecuteTime": {
     "end_time": "2019-12-23T10:36:58.464241Z",
     "start_time": "2019-12-23T10:36:58.459256Z"
    }
   },
   "outputs": [
    {
     "name": "stdout",
     "output_type": "stream",
     "text": [
      "[ 10.          12.91549665  16.68100537  21.5443469   27.82559402\n",
      "  35.93813664  46.41588834  59.94842503  77.42636827 100.        ]\n"
     ]
    }
   ],
   "source": [
    "\n",
    "# default base is 10 \n",
    "a = np.logspace(1.0, 2.0, num = 10) \n",
    "print (a)"
   ]
  },
  {
   "cell_type": "code",
   "execution_count": 79,
   "metadata": {
    "ExecuteTime": {
     "end_time": "2019-12-23T10:37:26.979968Z",
     "start_time": "2019-12-23T10:37:26.974981Z"
    }
   },
   "outputs": [
    {
     "name": "stdout",
     "output_type": "stream",
     "text": [
      "[1.00000000e+15 3.59381366e+13 1.29154967e+12 4.64158883e+10\n",
      " 1.66810054e+09 5.99484250e+07 2.15443469e+06 7.74263683e+04\n",
      " 2.78255940e+03 1.00000000e+02]\n"
     ]
    }
   ],
   "source": [
    "# default base is 10 \n",
    "a = np.logspace(15.0, 2.0, num = 10) \n",
    "print (a)"
   ]
  },
  {
   "cell_type": "code",
   "execution_count": 80,
   "metadata": {
    "ExecuteTime": {
     "end_time": "2019-12-23T10:37:34.464504Z",
     "start_time": "2019-12-23T10:37:34.459519Z"
    }
   },
   "outputs": [
    {
     "name": "stdout",
     "output_type": "stream",
     "text": [
      "[1.00000000e+15 3.59381366e+15 1.29154967e+16 4.64158883e+16\n",
      " 1.66810054e+17 5.99484250e+17 2.15443469e+18 7.74263683e+18\n",
      " 2.78255940e+19 1.00000000e+20]\n"
     ]
    }
   ],
   "source": [
    "# default base is 10 \n",
    "a = np.logspace(15.0, 20.0, num = 10) \n",
    "print (a)"
   ]
  },
  {
   "cell_type": "code",
   "execution_count": 81,
   "metadata": {
    "ExecuteTime": {
     "end_time": "2019-12-23T10:37:37.151915Z",
     "start_time": "2019-12-23T10:37:37.147890Z"
    }
   },
   "outputs": [
    {
     "name": "stdout",
     "output_type": "stream",
     "text": [
      "[   2.    4.    8.   16.   32.   64.  128.  256.  512. 1024.]\n"
     ]
    }
   ],
   "source": [
    "# set base of log space to 2 \n",
    "\n",
    "a = np.logspace(1,10,num = 10, base = 2) \n",
    "print (a)"
   ]
  },
  {
   "cell_type": "code",
   "execution_count": 82,
   "metadata": {
    "ExecuteTime": {
     "end_time": "2019-12-23T10:38:16.002285Z",
     "start_time": "2019-12-23T10:38:15.998293Z"
    }
   },
   "outputs": [
    {
     "name": "stdout",
     "output_type": "stream",
     "text": [
      "[1.02400000e+03 1.04857600e+06 1.07374182e+09 1.09951163e+12\n",
      " 1.12589991e+15 1.15292150e+18 1.18059162e+21 1.20892582e+24\n",
      " 1.23794004e+27 1.26765060e+30]\n"
     ]
    }
   ],
   "source": [
    "# set base of log space to 2 \n",
    "\n",
    "a = np.logspace(10,100,num = 10, base = 2) \n",
    "print (a)"
   ]
  },
  {
   "cell_type": "code",
   "execution_count": 83,
   "metadata": {
    "ExecuteTime": {
     "end_time": "2019-12-23T10:38:18.817508Z",
     "start_time": "2019-12-23T10:38:18.813517Z"
    }
   },
   "outputs": [
    {
     "name": "stdout",
     "output_type": "stream",
     "text": [
      "[4.000000e+00 1.600000e+01 6.400000e+01 2.560000e+02 1.024000e+03\n",
      " 4.096000e+03 1.638400e+04 6.553600e+04 2.621440e+05 1.048576e+06]\n"
     ]
    }
   ],
   "source": [
    "# set base of log space to 2 \n",
    "\n",
    "a = np.logspace(1,10,num = 10, base = 4) \n",
    "print (a)"
   ]
  },
  {
   "cell_type": "code",
   "execution_count": 84,
   "metadata": {
    "ExecuteTime": {
     "end_time": "2019-12-23T10:38:20.133433Z",
     "start_time": "2019-12-23T10:38:20.126489Z"
    }
   },
   "outputs": [
    {
     "name": "stdout",
     "output_type": "stream",
     "text": [
      "[8.00000000e+00 6.40000000e+01 5.12000000e+02 4.09600000e+03\n",
      " 3.27680000e+04 2.62144000e+05 2.09715200e+06 1.67772160e+07\n",
      " 1.34217728e+08 1.07374182e+09]\n"
     ]
    }
   ],
   "source": [
    "# set base of log space to 2 \n",
    "\n",
    "a = np.logspace(1,10,num = 10, base = 8) \n",
    "print (a)"
   ]
  },
  {
   "cell_type": "code",
   "execution_count": 85,
   "metadata": {
    "ExecuteTime": {
     "end_time": "2019-12-23T10:38:21.054180Z",
     "start_time": "2019-12-23T10:38:21.048194Z"
    }
   },
   "outputs": [
    {
     "data": {
      "text/plain": [
       "\"\\nAs mentioned earlier, items in ndarray object follows zero-based index.\\nThree types of indexing methods are available − field access, basic slicing and advanced indexing.\\n\\nBasic slicing is an extension of Python's basic concept of slicing to n dimensions. \\nA Python slice object is constructed by giving start, stop, and step parameters to the built-in slice function. \\nThis slice object is passed to the array to extract a part of array.\\n\""
      ]
     },
     "execution_count": 85,
     "metadata": {},
     "output_type": "execute_result"
    }
   ],
   "source": [
    "'''\n",
    "As mentioned earlier, items in ndarray object follows zero-based index.\n",
    "Three types of indexing methods are available − field access, basic slicing and advanced indexing.\n",
    "\n",
    "Basic slicing is an extension of Python's basic concept of slicing to n dimensions. \n",
    "A Python slice object is constructed by giving start, stop, and step parameters to the built-in slice function. \n",
    "This slice object is passed to the array to extract a part of array.\n",
    "'''"
   ]
  },
  {
   "cell_type": "code",
   "execution_count": 90,
   "metadata": {
    "ExecuteTime": {
     "end_time": "2019-12-23T10:39:30.977611Z",
     "start_time": "2019-12-23T10:39:30.972627Z"
    }
   },
   "outputs": [
    {
     "name": "stdout",
     "output_type": "stream",
     "text": [
      "[2 4 6]\n"
     ]
    }
   ],
   "source": [
    "a = np.arange(10) \n",
    "s = slice(2,7,2) \n",
    "print (a[s])"
   ]
  },
  {
   "cell_type": "code",
   "execution_count": 91,
   "metadata": {
    "ExecuteTime": {
     "end_time": "2019-12-23T10:40:23.560628Z",
     "start_time": "2019-12-23T10:40:23.556640Z"
    }
   },
   "outputs": [
    {
     "name": "stdout",
     "output_type": "stream",
     "text": [
      "[2 4 6]\n"
     ]
    }
   ],
   "source": [
    "## a = np.arange(100) \n",
    "s = slice(2,7,2) \n",
    "print (a[s])"
   ]
  },
  {
   "cell_type": "code",
   "execution_count": 92,
   "metadata": {
    "ExecuteTime": {
     "end_time": "2019-12-23T10:40:47.778584Z",
     "start_time": "2019-12-23T10:40:47.773601Z"
    }
   },
   "outputs": [
    {
     "name": "stdout",
     "output_type": "stream",
     "text": [
      "[2 6]\n"
     ]
    }
   ],
   "source": [
    "a = np.arange(10) \n",
    "s = slice(2,50,4) \n",
    "print (a[s])"
   ]
  },
  {
   "cell_type": "code",
   "execution_count": 93,
   "metadata": {
    "ExecuteTime": {
     "end_time": "2019-12-23T10:40:48.677397Z",
     "start_time": "2019-12-23T10:40:48.673406Z"
    }
   },
   "outputs": [
    {
     "name": "stdout",
     "output_type": "stream",
     "text": [
      "[2 4 6]\n"
     ]
    }
   ],
   "source": [
    "a = np.arange(10) \n",
    "b = a[2:7:2] \n",
    "print (b)"
   ]
  },
  {
   "cell_type": "code",
   "execution_count": 60,
   "metadata": {},
   "outputs": [
    {
     "name": "stdout",
     "output_type": "stream",
     "text": [
      "[2 4 6]\n"
     ]
    }
   ],
   "source": [
    "a = np.arange(100) \n",
    "b = a[2:7:2] \n",
    "print (b)"
   ]
  },
  {
   "cell_type": "code",
   "execution_count": 63,
   "metadata": {},
   "outputs": [
    {
     "name": "stdout",
     "output_type": "stream",
     "text": [
      "5\n"
     ]
    }
   ],
   "source": [
    "a = np.arange(400) \n",
    "b = a[5] \n",
    "print (b)"
   ]
  },
  {
   "cell_type": "code",
   "execution_count": 65,
   "metadata": {},
   "outputs": [
    {
     "name": "stdout",
     "output_type": "stream",
     "text": [
      "50\n"
     ]
    }
   ],
   "source": [
    "a = np.arange(4000) \n",
    "b = a[50] \n",
    "print (b)"
   ]
  },
  {
   "cell_type": "code",
   "execution_count": 66,
   "metadata": {},
   "outputs": [
    {
     "name": "stdout",
     "output_type": "stream",
     "text": [
      "[2 3 4 5 6 7 8 9]\n"
     ]
    }
   ],
   "source": [
    "# slice items starting from index \n",
    "a = np.arange(10) \n",
    "print (a[2:])"
   ]
  },
  {
   "cell_type": "code",
   "execution_count": 67,
   "metadata": {},
   "outputs": [
    {
     "name": "stdout",
     "output_type": "stream",
     "text": [
      "[8 9]\n"
     ]
    }
   ],
   "source": [
    "# slice items starting from index \n",
    "a = np.arange(10) \n",
    "print (a[-2:])"
   ]
  },
  {
   "cell_type": "code",
   "execution_count": 68,
   "metadata": {},
   "outputs": [
    {
     "name": "stdout",
     "output_type": "stream",
     "text": [
      "[5 6 7 8 9]\n"
     ]
    }
   ],
   "source": [
    "# slice items starting from index \n",
    "a = np.arange(10) \n",
    "print (a[5:])"
   ]
  },
  {
   "cell_type": "code",
   "execution_count": 69,
   "metadata": {},
   "outputs": [
    {
     "name": "stdout",
     "output_type": "stream",
     "text": [
      "[0 1 2 3 4 5 6 7]\n"
     ]
    }
   ],
   "source": [
    "# slice items starting from index \n",
    "a = np.arange(10) \n",
    "print (a[:-2])"
   ]
  },
  {
   "cell_type": "code",
   "execution_count": 70,
   "metadata": {},
   "outputs": [
    {
     "name": "stdout",
     "output_type": "stream",
     "text": [
      "[8]\n"
     ]
    }
   ],
   "source": [
    "# slice items starting from index \n",
    "a = np.arange(10) \n",
    "print (a[-2:-1])"
   ]
  },
  {
   "cell_type": "code",
   "execution_count": 71,
   "metadata": {},
   "outputs": [
    {
     "name": "stdout",
     "output_type": "stream",
     "text": [
      "[]\n"
     ]
    }
   ],
   "source": [
    "# slice items starting from index \n",
    "a = np.arange(10) \n",
    "print (a[-4:1])"
   ]
  },
  {
   "cell_type": "code",
   "execution_count": 72,
   "metadata": {},
   "outputs": [
    {
     "name": "stdout",
     "output_type": "stream",
     "text": [
      "[6 7 8]\n"
     ]
    }
   ],
   "source": [
    "# slice items starting from index \n",
    "a = np.arange(10) \n",
    "print (a[-4:-1])"
   ]
  },
  {
   "cell_type": "code",
   "execution_count": 73,
   "metadata": {},
   "outputs": [
    {
     "name": "stdout",
     "output_type": "stream",
     "text": [
      "[6 7]\n"
     ]
    }
   ],
   "source": [
    "# slice items starting from index \n",
    "a = np.arange(10) \n",
    "print (a[-4:-2])"
   ]
  },
  {
   "cell_type": "code",
   "execution_count": 74,
   "metadata": {},
   "outputs": [
    {
     "name": "stdout",
     "output_type": "stream",
     "text": [
      "[2 3 4]\n"
     ]
    }
   ],
   "source": [
    "a = np.arange(10) \n",
    "print (a[2:5])"
   ]
  },
  {
   "cell_type": "code",
   "execution_count": 77,
   "metadata": {},
   "outputs": [
    {
     "name": "stdout",
     "output_type": "stream",
     "text": [
      "[[1 2 3]\n",
      " [3 4 5]\n",
      " [4 5 6]]\n",
      "Now we will slice the array from the index a[1:]\n",
      "[[3 4 5]\n",
      " [4 5 6]]\n"
     ]
    }
   ],
   "source": [
    "a = np.array([[1,2,3],[3,4,5],[4,5,6]]) \n",
    "print (a)  \n",
    "\n",
    "# slice items starting from index\n",
    "print ('Now we will slice the array from the index a[1:]') \n",
    "print (a[1:])"
   ]
  },
  {
   "cell_type": "code",
   "execution_count": 78,
   "metadata": {},
   "outputs": [
    {
     "name": "stdout",
     "output_type": "stream",
     "text": [
      "[[1 2 3]\n",
      " [3 4 5]\n",
      " [4 5 6]]\n",
      "Now we will slice the array from the index a[1:]\n",
      "[[4 5 6]]\n"
     ]
    }
   ],
   "source": [
    "a = np.array([[1,2,3],[3,4,5],[4,5,6]]) \n",
    "print (a)  \n",
    "\n",
    "# slice items starting from index\n",
    "print ('Now we will slice the array from the index a[1:]') \n",
    "print (a[2:])"
   ]
  },
  {
   "cell_type": "code",
   "execution_count": 79,
   "metadata": {},
   "outputs": [
    {
     "name": "stdout",
     "output_type": "stream",
     "text": [
      "[[1 2 3]\n",
      " [3 4 5]\n",
      " [4 5 6]]\n",
      "Now we will slice the array from the index a[1:]\n",
      "[]\n"
     ]
    }
   ],
   "source": [
    "a = np.array([[1,2,3],[3,4,5],[4,5,6]]) \n",
    "print (a)  \n",
    "\n",
    "# slice items starting from index\n",
    "print ('Now we will slice the array from the index a[1:]') \n",
    "print (a[3:])"
   ]
  },
  {
   "cell_type": "code",
   "execution_count": 80,
   "metadata": {},
   "outputs": [
    {
     "name": "stdout",
     "output_type": "stream",
     "text": [
      "[[1 2 3]\n",
      " [3 4 5]\n",
      " [4 5 6]]\n",
      "Now we will slice the array from the index a[1:]\n",
      "[[1 2 3]]\n"
     ]
    }
   ],
   "source": [
    "a = np.array([[1,2,3],[3,4,5],[4,5,6]]) \n",
    "print (a)  \n",
    "\n",
    "# slice items starting from index\n",
    "print ('Now we will slice the array from the index a[1:]') \n",
    "print (a[:1])"
   ]
  },
  {
   "cell_type": "code",
   "execution_count": 81,
   "metadata": {},
   "outputs": [
    {
     "name": "stdout",
     "output_type": "stream",
     "text": [
      "[[1 2 3]\n",
      " [3 4 5]\n",
      " [4 5 6]]\n",
      "Now we will slice the array from the index a[1:]\n",
      "[[1 2 3]\n",
      " [3 4 5]]\n"
     ]
    }
   ],
   "source": [
    "a = np.array([[1,2,3],[3,4,5],[4,5,6]]) \n",
    "print (a)  \n",
    "\n",
    "# slice items starting from index\n",
    "print ('Now we will slice the array from the index a[1:]') \n",
    "print (a[:2])"
   ]
  },
  {
   "cell_type": "code",
   "execution_count": 82,
   "metadata": {},
   "outputs": [
    {
     "name": "stdout",
     "output_type": "stream",
     "text": [
      "[[1 2 3]\n",
      " [3 4 5]\n",
      " [4 5 6]]\n",
      "Now we will slice the array from the index a[1:]\n",
      "[[1 2 3]\n",
      " [3 4 5]\n",
      " [4 5 6]]\n"
     ]
    }
   ],
   "source": [
    "a = np.array([[1,2,3],[3,4,5],[4,5,6]]) \n",
    "print (a)  \n",
    "\n",
    "# slice items starting from index\n",
    "print ('Now we will slice the array from the index a[1:]') \n",
    "print (a[:3])"
   ]
  },
  {
   "cell_type": "code",
   "execution_count": 84,
   "metadata": {},
   "outputs": [
    {
     "name": "stdout",
     "output_type": "stream",
     "text": [
      "[[1 2 3]\n",
      " [3 4 5]\n",
      " [4 5 6]]\n",
      "The items in the second column are:\n",
      "[2 4 5]\n",
      "The items in the second row are:\n",
      "[3 4 5]\n",
      "The items column 1 onwards are:\n",
      "[[2 3]\n",
      " [4 5]\n",
      " [5 6]]\n"
     ]
    }
   ],
   "source": [
    "a = np.array([[1,2,3],[3,4,5],[4,5,6]]) \n",
    "print (a)  \n",
    "# this returns array of items in the second column \n",
    "print ('The items in the second column are:'  )\n",
    "print (a[...,1] )\n",
    "#print '\\n'  \n",
    "\n",
    "# Now we will slice all items from the second row \n",
    "print ('The items in the second row are:' )\n",
    "print (a[1,...] )\n",
    "#print '\\n'  \n",
    "\n",
    "# Now we will slice all items from column 1 onwards \n",
    "print ('The items column 1 onwards are:' )\n",
    "print (a[...,1:])"
   ]
  },
  {
   "cell_type": "code",
   "execution_count": 85,
   "metadata": {},
   "outputs": [
    {
     "name": "stdout",
     "output_type": "stream",
     "text": [
      "[ 10  40  90 160]\n"
     ]
    }
   ],
   "source": [
    "a = np.array([1,2,3,4]) \n",
    "b = np.array([10,20,30,40]) \n",
    "c = a * b \n",
    "print (c)"
   ]
  },
  {
   "cell_type": "code",
   "execution_count": 91,
   "metadata": {},
   "outputs": [
    {
     "name": "stdout",
     "output_type": "stream",
     "text": [
      "First array:\n",
      "[[  0.   0.   0.]\n",
      " [ 10.  10.  10.]\n",
      " [ 20.  20.  20.]\n",
      " [ 30.  30.  30.]]\n",
      "Second array:\n",
      "[ 1.  2.  3.]\n",
      "First Array + Second Array\n",
      "[[  1.   2.   3.]\n",
      " [ 11.  12.  13.]\n",
      " [ 21.  22.  23.]\n",
      " [ 31.  32.  33.]]\n"
     ]
    }
   ],
   "source": [
    "a = np.array([[0.0,0.0,0.0],[10.0,10.0,10.0],[20.0,20.0,20.0],[30.0,30.0,30.0]]) \n",
    "b = np.array([1.0,2.0,3.0])  \n",
    "   \n",
    "print ('First array:') \n",
    "print (a)\n",
    "  \n",
    "print ('Second array:') \n",
    "print (b) \n",
    " \n",
    "print ('First Array + Second Array' )\n",
    "print (a + b)"
   ]
  },
  {
   "cell_type": "code",
   "execution_count": 92,
   "metadata": {},
   "outputs": [
    {
     "ename": "TypeError",
     "evalue": "data type not understood",
     "output_type": "error",
     "traceback": [
      "\u001b[0;31m---------------------------------------------------------------------------\u001b[0m",
      "\u001b[0;31mTypeError\u001b[0m                                 Traceback (most recent call last)",
      "\u001b[0;32m<ipython-input-92-03012c428b12>\u001b[0m in \u001b[0;36m<module>\u001b[0;34m()\u001b[0m\n\u001b[1;32m      1\u001b[0m \u001b[0ma\u001b[0m \u001b[0;34m=\u001b[0m \u001b[0mnp\u001b[0m\u001b[0;34m.\u001b[0m\u001b[0marray\u001b[0m\u001b[0;34m(\u001b[0m\u001b[0;34m[\u001b[0m\u001b[0;34m[\u001b[0m\u001b[0;36m0.0\u001b[0m\u001b[0;34m,\u001b[0m\u001b[0;36m0.0\u001b[0m\u001b[0;34m,\u001b[0m\u001b[0;36m0.0\u001b[0m\u001b[0;34m]\u001b[0m\u001b[0;34m,\u001b[0m\u001b[0;34m[\u001b[0m\u001b[0;36m10.0\u001b[0m\u001b[0;34m,\u001b[0m\u001b[0;36m10.0\u001b[0m\u001b[0;34m,\u001b[0m\u001b[0;36m10.0\u001b[0m\u001b[0;34m]\u001b[0m\u001b[0;34m,\u001b[0m\u001b[0;34m[\u001b[0m\u001b[0;36m20.0\u001b[0m\u001b[0;34m,\u001b[0m\u001b[0;36m20.0\u001b[0m\u001b[0;34m,\u001b[0m\u001b[0;36m20.0\u001b[0m\u001b[0;34m]\u001b[0m\u001b[0;34m,\u001b[0m\u001b[0;34m[\u001b[0m\u001b[0;36m30.0\u001b[0m\u001b[0;34m,\u001b[0m\u001b[0;36m30.0\u001b[0m\u001b[0;34m,\u001b[0m\u001b[0;36m30.0\u001b[0m\u001b[0;34m]\u001b[0m\u001b[0;34m]\u001b[0m\u001b[0;34m)\u001b[0m\u001b[0;34m\u001b[0m\u001b[0m\n\u001b[0;32m----> 2\u001b[0;31m \u001b[0mb\u001b[0m \u001b[0;34m=\u001b[0m \u001b[0mnp\u001b[0m\u001b[0;34m.\u001b[0m\u001b[0marray\u001b[0m\u001b[0;34m(\u001b[0m\u001b[0;34m[\u001b[0m\u001b[0;36m1.0\u001b[0m\u001b[0;34m,\u001b[0m\u001b[0;36m2.0\u001b[0m\u001b[0;34m,\u001b[0m\u001b[0;36m3.0\u001b[0m\u001b[0;34m]\u001b[0m\u001b[0;34m,\u001b[0m\u001b[0;34m[\u001b[0m\u001b[0;36m4.0\u001b[0m\u001b[0;34m,\u001b[0m\u001b[0;36m6.0\u001b[0m\u001b[0;34m,\u001b[0m\u001b[0;36m8.0\u001b[0m\u001b[0;34m]\u001b[0m\u001b[0;34m)\u001b[0m\u001b[0;34m\u001b[0m\u001b[0m\n\u001b[0m\u001b[1;32m      3\u001b[0m \u001b[0;34m\u001b[0m\u001b[0m\n\u001b[1;32m      4\u001b[0m \u001b[0mprint\u001b[0m \u001b[0;34m(\u001b[0m\u001b[0;34m'First array:'\u001b[0m\u001b[0;34m)\u001b[0m\u001b[0;34m\u001b[0m\u001b[0m\n\u001b[1;32m      5\u001b[0m \u001b[0mprint\u001b[0m \u001b[0;34m(\u001b[0m\u001b[0ma\u001b[0m\u001b[0;34m)\u001b[0m\u001b[0;34m\u001b[0m\u001b[0m\n",
      "\u001b[0;31mTypeError\u001b[0m: data type not understood"
     ]
    }
   ],
   "source": [
    "a = np.array([[0.0,0.0,0.0],[10.0,10.0,10.0],[20.0,20.0,20.0],[30.0,30.0,30.0]]) \n",
    "b = np.array([1.0,2.0,3.0],[4.0,6.0,8.0])  \n",
    "   \n",
    "print ('First array:') \n",
    "print (a)\n",
    "  \n",
    "print ('Second array:') \n",
    "print (b) \n",
    " \n",
    "print ('First Array + Second Array' )\n",
    "print (a + b)"
   ]
  },
  {
   "cell_type": "code",
   "execution_count": 94,
   "metadata": {},
   "outputs": [
    {
     "name": "stdout",
     "output_type": "stream",
     "text": [
      "First array:\n",
      "[[  0.   0.   0.]\n",
      " [ 10.  10.  10.]\n",
      " [ 20.  20.  20.]\n",
      " [ 30.  30.  30.]]\n",
      "Second array:\n",
      "[ 4.  6.  8.]\n",
      "First Array + Second Array\n",
      "[[  4.   6.   8.]\n",
      " [ 14.  16.  18.]\n",
      " [ 24.  26.  28.]\n",
      " [ 34.  36.  38.]]\n"
     ]
    }
   ],
   "source": [
    "a = np.array([[0.0,0.0,0.0],[10.0,10.0,10.0],[20.0,20.0,20.0],[30.0,30.0,30.0]]) \n",
    "b = np.array([4.0,6.0,8.0])  \n",
    "   \n",
    "print ('First array:') \n",
    "print (a)\n",
    "  \n",
    "print ('Second array:') \n",
    "print (b) \n",
    " \n",
    "print ('First Array + Second Array' )\n",
    "print (a + b)"
   ]
  },
  {
   "cell_type": "code",
   "execution_count": 95,
   "metadata": {},
   "outputs": [
    {
     "name": "stdout",
     "output_type": "stream",
     "text": [
      "First array:\n",
      "[[  0.   0.   0.]\n",
      " [ 10.  10.  10.]\n",
      " [ 20.  20.  20.]\n",
      " [ 30.  30.  30.]]\n",
      "Second array:\n",
      "[ 4.  6.  8.]\n",
      "First Array + Second Array\n",
      "[[   0.    0.    0.]\n",
      " [  40.   60.   80.]\n",
      " [  80.  120.  160.]\n",
      " [ 120.  180.  240.]]\n"
     ]
    }
   ],
   "source": [
    "a = np.array([[0.0,0.0,0.0],[10.0,10.0,10.0],[20.0,20.0,20.0],[30.0,30.0,30.0]]) \n",
    "b = np.array([4.0,6.0,8.0])  \n",
    "   \n",
    "print ('First array:') \n",
    "print (a)\n",
    "  \n",
    "print ('Second array:') \n",
    "print (b) \n",
    " \n",
    "print ('First Array + Second Array' )\n",
    "print (a * b)"
   ]
  },
  {
   "cell_type": "code",
   "execution_count": null,
   "metadata": {},
   "outputs": [],
   "source": []
  }
 ],
 "metadata": {
  "kernelspec": {
   "display_name": "Python 3",
   "language": "python",
   "name": "python3"
  },
  "language_info": {
   "codemirror_mode": {
    "name": "ipython",
    "version": 3
   },
   "file_extension": ".py",
   "mimetype": "text/x-python",
   "name": "python",
   "nbconvert_exporter": "python",
   "pygments_lexer": "ipython3",
   "version": "3.7.3"
  },
  "toc": {
   "base_numbering": 1,
   "nav_menu": {},
   "number_sections": true,
   "sideBar": true,
   "skip_h1_title": false,
   "title_cell": "Table of Contents",
   "title_sidebar": "Contents",
   "toc_cell": false,
   "toc_position": {},
   "toc_section_display": true,
   "toc_window_display": false
  },
  "varInspector": {
   "cols": {
    "lenName": 16,
    "lenType": 16,
    "lenVar": 40
   },
   "kernels_config": {
    "python": {
     "delete_cmd_postfix": "",
     "delete_cmd_prefix": "del ",
     "library": "var_list.py",
     "varRefreshCmd": "print(var_dic_list())"
    },
    "r": {
     "delete_cmd_postfix": ") ",
     "delete_cmd_prefix": "rm(",
     "library": "var_list.r",
     "varRefreshCmd": "cat(var_dic_list()) "
    }
   },
   "types_to_exclude": [
    "module",
    "function",
    "builtin_function_or_method",
    "instance",
    "_Feature"
   ],
   "window_display": false
  }
 },
 "nbformat": 4,
 "nbformat_minor": 2
}

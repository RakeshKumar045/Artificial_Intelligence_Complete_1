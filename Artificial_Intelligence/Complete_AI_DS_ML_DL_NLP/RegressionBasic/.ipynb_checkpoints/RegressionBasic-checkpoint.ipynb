{
 "cells": [
  {
   "cell_type": "markdown",
   "metadata": {},
   "source": [
    "# Library"
   ]
  },
  {
   "cell_type": "code",
   "execution_count": null,
   "metadata": {
    "ExecuteTime": {
     "start_time": "2020-01-23T16:06:31.284Z"
    }
   },
   "outputs": [],
   "source": [
    "import pandas as pd\n",
    "from pandas import Series as s , DataFrame as df\n",
    "import numpy as np\n",
    "\n",
    "from sklearn.metrics import r2_score, mean_absolute_error, mean_squared_error\n",
    "from sklearn.model_selection import train_test_split\n",
    "from sklearn.preprocessing import LabelEncoder \n",
    "import seaborn as sb\n",
    "from matplotlib import pyplot as plt, rcParams as rc\n",
    "\n",
    "from sklearn.linear_model import LinearRegression\n",
    "from sklearn.tree import DecisionTreeRegressor\n",
    "\n",
    "\n",
    "from sklearn.ensemble import RandomForestRegressor\n",
    "from sklearn.svm import SVR\n",
    "from sklearn.neighbors import KNeighborsRegressor\n",
    "\n",
    "\n",
    "\n",
    "from sklearn.pipeline import Pipeline\n",
    "\n",
    "from xgboost import XGBRegressor , XGBRFRegressor\n",
    "\n",
    "\n",
    "\n",
    "import lightgbm\n",
    "\n",
    "\n",
    "from catboost import CatBoostRegressor\n",
    "\n",
    "\n",
    "\n",
    "\n",
    "\n",
    "\n",
    "\n",
    "\n",
    "\n",
    "\n",
    "\n",
    "\n",
    "\n",
    "# %matplotlib inline\n",
    "\n",
    "%matplotlib  notebook\n",
    "rc[\"figure.figsize\"] = 10,6\n",
    "\n",
    "\n",
    "import warnings\n",
    "warnings.filterwarnings(\"ignore\") "
   ]
  },
  {
   "cell_type": "code",
   "execution_count": null,
   "metadata": {},
   "outputs": [],
   "source": []
  },
  {
   "cell_type": "code",
   "execution_count": 87,
   "metadata": {
    "ExecuteTime": {
     "end_time": "2020-01-23T07:34:00.818934Z",
     "start_time": "2020-01-23T07:34:00.814944Z"
    }
   },
   "outputs": [],
   "source": [
    "pd.set_option('display.float_format', '{:.2f}'.format)"
   ]
  },
  {
   "cell_type": "code",
   "execution_count": null,
   "metadata": {},
   "outputs": [],
   "source": []
  },
  {
   "cell_type": "markdown",
   "metadata": {
    "heading_collapsed": true
   },
   "source": [
    "# Function"
   ]
  },
  {
   "cell_type": "code",
   "execution_count": 68,
   "metadata": {
    "ExecuteTime": {
     "end_time": "2020-01-23T07:17:09.690275Z",
     "start_time": "2020-01-23T07:17:09.681300Z"
    },
    "hidden": true
   },
   "outputs": [],
   "source": [
    "#Note : y_test = y_true and predict_x = y_pred\n",
    "\n",
    "def mean_absolute_percentage_error(y_true, y_pred) :\n",
    "    \n",
    "    y_true = np.array(y_true)\n",
    "    y_pred = np.array(y_pred)\n",
    "    \n",
    "    return np.mean(          np.abs(  (y_true - y_pred) / 100)         ) * 100\n",
    "\n",
    "\n",
    "\n",
    "def root_mean_sequare_error(y_true, y_pred) :\n",
    "    \n",
    "    mse = mean_squared_error(y_true,  y_pred)\n",
    "    \n",
    "    rmse = np.sqrt(mse)\n",
    "    \n",
    "    return rmse\n",
    "   \n",
    "\n",
    "\n",
    "def root_mean_sequare_error_1(y_true, y_pred) :\n",
    "    \n",
    "    rmse = np.sqrt(  ((y_true - y_pred) **2 ).mean()    )\n",
    "    \n",
    "    return rmse"
   ]
  },
  {
   "cell_type": "code",
   "execution_count": null,
   "metadata": {
    "hidden": true
   },
   "outputs": [],
   "source": []
  },
  {
   "cell_type": "markdown",
   "metadata": {
    "heading_collapsed": true
   },
   "source": [
    "# Step : 1) Load Data"
   ]
  },
  {
   "cell_type": "code",
   "execution_count": 2,
   "metadata": {
    "ExecuteTime": {
     "end_time": "2020-01-23T05:30:22.309256Z",
     "start_time": "2020-01-23T05:30:22.292271Z"
    },
    "hidden": true
   },
   "outputs": [],
   "source": [
    "#1) Load Data\n",
    "data = pd.read_csv(\"hp_data.csv\")"
   ]
  },
  {
   "cell_type": "markdown",
   "metadata": {
    "heading_collapsed": true
   },
   "source": [
    "# Step : 2) Read and Analysis Data"
   ]
  },
  {
   "cell_type": "code",
   "execution_count": 3,
   "metadata": {
    "ExecuteTime": {
     "end_time": "2020-01-23T05:30:22.345161Z",
     "start_time": "2020-01-23T05:30:22.324218Z"
    },
    "hidden": true
   },
   "outputs": [],
   "source": [
    "def getDataAllDetails(data):\n",
    "    print(\"Return a tuple representing the dimensionality of the DF.  :   \",data.shape)\n",
    "    print(\"Count of Each Data                                          :  \",data.count())\n",
    "    print(\"Start,End,Column,Step                                       :  \",data.axes)\n",
    "    print(\"Column                                                      :  \",data.columns)\n",
    "    print(\"First 5 items                                               :  \",data.head(2))\n",
    "    print(\"Missing Vlaue                                               :  \",data.isnull().sum())\n",
    "    print(\"information                                                 :  \",data.info())\n",
    "    print(\"Description                                                 :  \",data.describe())\n",
    "    print(\"Size(Row*Column) represent the no of elements in this object:  \",data.size)\n",
    "    print(\"Return unbiased skew over requested axis                    :  \",data.skew())\n",
    "    print(\"std err of mean                                             :  \",data.sem())\n",
    "    print(\"Return sample standard deviation over requested axis        :  \",data.std())\n",
    "    print(\"sum of every data                                           :  \",data.sum())\n",
    "    print(\"Copy Data to other                                          :  \",data.copy())\n",
    "    print(\"Correlation of Data                                         :  \",data.corr())\n",
    "    print(\"Covariance of Columns                                       :  \",data.cov())\n",
    "    print(\"cumulative sum over data                                    :  \",data.cumsum())\n",
    "    print(\"cumulative min or max                                       :  \",data.cummin())\n",
    "    print(\"Remove duplicate row                                        :  \",data.drop_duplicates())\n",
    "    print(\"Romove missing Value                                        :  \",data.dropna())\n",
    "    print(\"Drop Specify Label                                          :  \",data.drop(labels=[2,49,78,88]))\n",
    "    print(\"Drop Specify Label(Plz check inplace true means)            :  \",data.drop(labels=[2,49,78,88],inplace=True))\n",
    "    print(\"Tell about Data Types                                       :  \",data.dtypes)\n",
    "    print(\"Find the Duplicate Row                                      :  \",data.duplicated())\n",
    "    print(\"DataFrame is Empty(True) or not(False)                      :  \",data.empty)\n",
    "    print(\"Expanding                                                   :  \",data.expanding())\n",
    "    print(\"Fill Na/Nan Value using Specify metho                       :  \",data.fillna)\n",
    "    #print(\"rows/columns of DF A/c to labels in specified index   :  \",data.filter)\n",
    "    #print(\" check it(fill backward)          :  \",data.bfill())\n",
    "    #print(\" check it(fill forward)         :  \",data.ffill())\n",
    "    #print(\"    check it ?      :  \",data.from_csv)\n",
    "    #print(\"       check it ?   :  \",data.from_dict,data.from_items,data.from_records)\n",
    "    print(\"Return(indication of sparse/dense and dtype) in Df          :  \",data.from_records)\n",
    "    print(\"Tell about Data Types(check abobe ftypes)                   :  \",data.dtypes)\n",
    "    print(\"Return counts of unique dtypes in this object               :  \",data.get_dtype_counts())\n",
    "    print(\"Return counts of unique dtypes in this object(dense)        :  \",data.get_ftype_counts())\n",
    "    print(\"Return ndarray after convert sparse values to dense         :  \",data.get_values())\n",
    "    #print(\"   check it       :  \",data.groupby)\n",
    "    print(\"RangeIndex(start=0,stop=data size, step=1)                  :  \",data.index)\n",
    "    print(\"concise summary of DF,Dtypes,Memory,Shape,Many Info         :  \",data.info)\n",
    "    #print(\"    check it      :  \",data.insert)\n",
    "    #print(\"  check it        :  \",data.interpolate)\n",
    "    #print(\"   check it       :  \",data.is_copy)\n",
    "    print(\"Detect the Missing Value(Both Same isna & isnull )           :  \",data.isna().sum(),data.isnull().sum())\n",
    "    #print(\"    check it      :  \",data.join)\n",
    "    print(\"Get the 'info axis(same as columns : data.columns)           :  \",data.keys,data.columns)\n",
    "    print(\"unbiased kurt over requested axis using Fisher's def         :  \",data.kurt,data.kurtosis)\n",
    "    print(\"both are same data.kurt & data.kurtosis                      :  \",data.kurt,data.kurtosis)\n",
    "    print(\"Return index for last non-NA/null value                      :  \",data.last_valid_index())\n",
    "    print(\"mean absolute deviation value for the requested axis         :  \",data.mad())\n",
    "    print(\"Returns the maximum of the values in the object              :  \",data.max())\n",
    "    print(\"Returns the minimum of the values in the object              :  \",data.min())\n",
    "    print(\"Return the mean of the values for the requested axis         :  \",data.mean())\n",
    "    print(\"Return the median of the values for the request axis         :  \",data.median())\n",
    "    #print(\"   check it       :  \",data.melt())\n",
    "    print(\"Return the memory usage of each column in bytes.             :  \",data.memory_usage())\n",
    "    #print(\"  check it        :  \",data.merge)\n",
    "    #print(\"    check it (mod, mul,multiply)      :  \",data,mod,data.mul,data.multiply)\n",
    "    print(\"Return an int representing the no of axes/array dims         :  \",data.ndim)\n",
    "    print(\"row's DF sorted by the n smallest values of `columns         :  \",data.nsmallest(n=10,columns=\"price\"))\n",
    "    print(\"row's DF sorted by the n largest values of `columns          :  \",data.nlargest(n=10,columns=\"price\"))\n",
    "    print(\"Find existing(non-missing) values(Same:notna,notnull)        :  \",data.notna(),data.notnull())\n",
    "    print(\"Series with no of distinct observations over requested axis  :  \",data.nunique(axis=0))\n",
    "    #print(\"     check it     :  \",data.pct_change)\n",
    "    #print(\" check it(pivot,pivot_table)         :  \",data.pivot,data.pivot_table)\n",
    "    print(\"Return item & drop/delete from frame.Raise Error,if not found:  \",data.pop(\"price\"))\n",
    "    #print(\"  check it        :  \",data.pow)\n",
    "    print(\"product/prod same of the value for the request(default axis=0):  \",data.prod(axis=0),data.product(axis=0))\n",
    "    print(\"values quantile over requested axis, a la numpy.percentile.   :  \",data.quantile())\n",
    "    #print(\"    check it      :  \",data.query)\n",
    "    #print(\"       check it   :  \",data.radd)\n",
    "    print(\"Compute numerical data rank(1 through n)along axis.Equal values:  \",data.rank(numeric_only=True,axis=0))\n",
    "    print(\"Conform DF to new index with optional filling logic,placing    :  \",data.reindex().sum())\n",
    "    #print(\"check it  :  \",data.rename,data.rename_axis,data.reorder_levels,data.replace,data.resample,data.resample)\n",
    "    #print(\"   check it :  \",data.reset_index(),data.rmod,data.rmul,data.rolling,data.rpow,data.rsub,data.rtruediv)\n",
    "    print(\"Round a DataFrame to a variable number of decimal places.      :  \",data.round())\n",
    "    print(\"Return a random sample of items from an axis of object.        :  \",data.sample())\n",
    "    print(\"check it      :  \",data.select,data.set_index,data.set_value)\n",
    "    print(\"Return unbiased standard error of the mean over requested axis.:  \",data.sem())\n",
    "    print(\"Shift index by desired no of periods with an optional time freq:  \",data.shift(axis=0,periods=3))\n",
    "    print(\"Equivalent to `shift` without copying data                     :  \",data.slice_shift(axis=0,periods=5))\n",
    "    print(\"Sort object by labels (along an axis=0, default)               :  \",data.sort_index(axis=1,ascending=False))\n",
    "    print(\"Sort by the values along either axis                           :  \",data.sort_values(by=[\"price\",\"yearsOld\"],axis=0,ascending=False))\n",
    "    print(\"Sort multilevel index by chosen axis level(sort based on words):  \",data.sortlevel(level=0, axis=1, ascending=True))\n",
    "    #print(\"Check it  :  \",data.stack(),data.sub,data.subtract())\n",
    "    print(\"Display All Items(same as head(total no of items))             :  \",data.style)\n",
    "    print(\"Interchange axes & swap values axes(swap rows to columns)      :  \",data.swapaxes(axis1=0,axis2=1,copy=False))\n",
    "    print(\"Interchange axes & swap values axes appropriately              :  \",data.swaplevel(i=0,j=0,axis=0))\n",
    "    #print(\" check it    :  \",data.unstack,data.update())\n",
    "    print(\"Return unbiased variance over requested axis.                  :  \",data.var(axis=0))\n",
    "    #print(\"   check it       :  \",data.where,data.xs())\n",
    "    "
   ]
  },
  {
   "cell_type": "markdown",
   "metadata": {
    "heading_collapsed": true
   },
   "source": [
    "# Rename Column Name"
   ]
  },
  {
   "cell_type": "code",
   "execution_count": 4,
   "metadata": {
    "ExecuteTime": {
     "end_time": "2020-01-23T05:30:22.362084Z",
     "start_time": "2020-01-23T05:30:22.358094Z"
    },
    "hidden": true
   },
   "outputs": [],
   "source": [
    "# dic = { \"KEY\" : \"VALUE\"}\n",
    "def renameColumn(dic, data ) :\n",
    "    # DICTIONARY : KEY AND VALUE , KEY IS OLD COLUMN NAME , VALUE IS NEW COLUMN NAME\n",
    "    data = data.rename(columns=dic)\n",
    "    return data"
   ]
  },
  {
   "cell_type": "markdown",
   "metadata": {
    "heading_collapsed": true
   },
   "source": [
    "# Step : 3) Visualization the Data\n",
    "There are 2 types of library to visualization.\n",
    "##1) Matplot 2) Seaborn(use attractive and looking good and more features)\n",
    "#Draw the Graph (Histogram, Straight Line, Pie, Bar, Scatter, ETC)"
   ]
  },
  {
   "cell_type": "code",
   "execution_count": 5,
   "metadata": {
    "ExecuteTime": {
     "end_time": "2020-01-23T05:30:22.380060Z",
     "start_time": "2020-01-23T05:30:22.376046Z"
    },
    "hidden": true
   },
   "outputs": [],
   "source": [
    "def graphDetail():\n",
    "    print(\"Prints the values to a stream, or to sys.stdout by default boxplot      :  \",data.boxplot())\n",
    "    print(\"Prints the values to a stream, or to sys.stdout by default hist         :  \",data.hist())\n",
    "    print(\"Prints the values to a stream, or to sys.stdout by default plot         :  \",data.plot())\n",
    "    #print(\"Prints the values to a stream, or to sys.stdout by default              :  \",data.boxplot())\n",
    "    #print(\"Prints the values to a stream, or to sys.stdout by default              :  \",data.boxplot())\n",
    "    "
   ]
  },
  {
   "cell_type": "markdown",
   "metadata": {
    "heading_collapsed": true
   },
   "source": [
    "# Step : 4) Data Preprocessing\n",
    "used to convert the raw data into a clean data set"
   ]
  },
  {
   "cell_type": "markdown",
   "metadata": {
    "heading_collapsed": true
   },
   "source": [
    "# A) Data Cleaning"
   ]
  },
  {
   "cell_type": "code",
   "execution_count": 21,
   "metadata": {
    "ExecuteTime": {
     "end_time": "2020-01-23T05:31:18.817757Z",
     "start_time": "2020-01-23T05:31:18.810809Z"
    },
    "hidden": true
   },
   "outputs": [
    {
     "data": {
      "text/plain": [
       "ID            0\n",
       "price         0\n",
       "place         0\n",
       "built         0\n",
       "sqft          0\n",
       "sale          0\n",
       "yearsOld      0\n",
       "floor         0\n",
       "totalFloor    0\n",
       "bhk           0\n",
       "dtype: int64"
      ]
     },
     "execution_count": 21,
     "metadata": {},
     "output_type": "execute_result"
    }
   ],
   "source": [
    "data.isna().sum()"
   ]
  },
  {
   "cell_type": "code",
   "execution_count": null,
   "metadata": {
    "hidden": true
   },
   "outputs": [],
   "source": []
  },
  {
   "cell_type": "code",
   "execution_count": null,
   "metadata": {
    "hidden": true
   },
   "outputs": [],
   "source": []
  },
  {
   "cell_type": "code",
   "execution_count": null,
   "metadata": {
    "hidden": true
   },
   "outputs": [],
   "source": []
  },
  {
   "cell_type": "code",
   "execution_count": 6,
   "metadata": {
    "ExecuteTime": {
     "end_time": "2020-01-23T05:30:24.364539Z",
     "start_time": "2020-01-23T05:30:24.361578Z"
    },
    "hidden": true
   },
   "outputs": [],
   "source": [
    "#getDataAllDetails(data=data)"
   ]
  },
  {
   "cell_type": "code",
   "execution_count": 7,
   "metadata": {
    "ExecuteTime": {
     "end_time": "2020-01-23T05:30:24.736291Z",
     "start_time": "2020-01-23T05:30:24.733299Z"
    },
    "hidden": true
   },
   "outputs": [],
   "source": [
    "#data.head(3) # before label encoding"
   ]
  },
  {
   "cell_type": "markdown",
   "metadata": {
    "heading_collapsed": true
   },
   "source": [
    "# B) Label Encoding : Convert Categorical Value to Integer Value"
   ]
  },
  {
   "cell_type": "code",
   "execution_count": 8,
   "metadata": {
    "ExecuteTime": {
     "end_time": "2020-01-23T05:30:25.511289Z",
     "start_time": "2020-01-23T05:30:25.508266Z"
    },
    "hidden": true
   },
   "outputs": [],
   "source": [
    "#1st Method \n",
    "# char_cols = data.dtypes.pipe(lambda x: x[x == 'object']).index\n",
    "# for c in char_cols:\n",
    "#     data[c] = pd.factorize(data[c])[0]\n",
    "    \n",
    "#OR 2nd method\n",
    "# enc = LabelEncoder()\n",
    "# data[\"place\"] = enc.fit_transform(data[\"place\"])\n",
    "# data[\"sale\"] = enc.fit_transform(data[\"sale\"])\n",
    "# data[\"built\"] = enc.fit_transform(data[\"built\"])\n",
    "\n",
    "#Do not try to change integer value\n",
    "#data[\"price\"] = enc.fit_transform(data[\"price\"])"
   ]
  },
  {
   "cell_type": "markdown",
   "metadata": {
    "heading_collapsed": true
   },
   "source": [
    "# Label Encoding  and Inverse: Convert Categorical Value to Integer Value and Vice-versa"
   ]
  },
  {
   "cell_type": "code",
   "execution_count": 9,
   "metadata": {
    "ExecuteTime": {
     "end_time": "2020-01-23T05:30:26.032097Z",
     "start_time": "2020-01-23T05:30:26.023122Z"
    },
    "hidden": true
   },
   "outputs": [],
   "source": [
    "from sklearn.preprocessing import LabelEncoder \n",
    "def labelEncodingCategoryToIntergerViceVersa(dataset):\n",
    "    '''\n",
    "    @author Rakesh\n",
    "    @see The function label encodes the object type columns and gives label      encoded and inverse tranform of the label encoded data\n",
    "    @param dataset dataframe on whoes column the label encoding has to be done\n",
    "    @return label encoded and inverse tranform of the label encoded data.\n",
    "   ''' \n",
    "    data_original = dataset[:]\n",
    "    data_tranformed = dataset[:]\n",
    "    for y in dataset.columns:\n",
    "       #check the dtype of the column object type contains strings or chars\n",
    "        if (dataset[y].dtype == object):\n",
    "            print(\"The string type features are  : \" + y)\n",
    "            le = LabelEncoder()\n",
    "            le.fit(dataset[y].unique())\n",
    "            #label encoded data\n",
    "            data_tranformed[y] = le.transform(dataset[y])\n",
    "            #inverse label transform  data\n",
    "            data_original[y] = le.inverse_transform(data_tranformed[y])\n",
    "    return data_tranformed,data_original"
   ]
  },
  {
   "cell_type": "markdown",
   "metadata": {
    "heading_collapsed": true
   },
   "source": [
    "# Rename Column name"
   ]
  },
  {
   "cell_type": "code",
   "execution_count": 10,
   "metadata": {
    "ExecuteTime": {
     "end_time": "2020-01-23T05:30:26.766014Z",
     "start_time": "2020-01-23T05:30:26.761989Z"
    },
    "hidden": true
   },
   "outputs": [],
   "source": [
    "# dic = { \"place\" : \"Places\", \"built\" : \"builts\"}\n",
    "dic = { \"Unnamed: 0\" : \"ID\"}\n",
    "data = renameColumn(dic,data)"
   ]
  },
  {
   "cell_type": "code",
   "execution_count": 11,
   "metadata": {
    "ExecuteTime": {
     "end_time": "2020-01-23T05:30:26.991988Z",
     "start_time": "2020-01-23T05:30:26.981049Z"
    },
    "hidden": true
   },
   "outputs": [
    {
     "name": "stdout",
     "output_type": "stream",
     "text": [
      "The string type features are  : place\n",
      "The string type features are  : built\n",
      "The string type features are  : sale\n"
     ]
    }
   ],
   "source": [
    "data_tranformed,data_original = labelEncodingCategoryToIntergerViceVersa(data)"
   ]
  },
  {
   "cell_type": "code",
   "execution_count": 12,
   "metadata": {
    "ExecuteTime": {
     "end_time": "2020-01-23T05:30:27.194303Z",
     "start_time": "2020-01-23T05:30:27.181338Z"
    },
    "hidden": true
   },
   "outputs": [
    {
     "data": {
      "text/html": [
       "<div>\n",
       "<style scoped>\n",
       "    .dataframe tbody tr th:only-of-type {\n",
       "        vertical-align: middle;\n",
       "    }\n",
       "\n",
       "    .dataframe tbody tr th {\n",
       "        vertical-align: top;\n",
       "    }\n",
       "\n",
       "    .dataframe thead th {\n",
       "        text-align: right;\n",
       "    }\n",
       "</style>\n",
       "<table border=\"1\" class=\"dataframe\">\n",
       "  <thead>\n",
       "    <tr style=\"text-align: right;\">\n",
       "      <th></th>\n",
       "      <th>ID</th>\n",
       "      <th>price</th>\n",
       "      <th>place</th>\n",
       "      <th>built</th>\n",
       "      <th>sqft</th>\n",
       "      <th>sale</th>\n",
       "      <th>yearsOld</th>\n",
       "      <th>floor</th>\n",
       "      <th>totalFloor</th>\n",
       "      <th>bhk</th>\n",
       "    </tr>\n",
       "  </thead>\n",
       "  <tbody>\n",
       "    <tr>\n",
       "      <th>0</th>\n",
       "      <td>1341</td>\n",
       "      <td>6300000</td>\n",
       "      <td>2</td>\n",
       "      <td>1</td>\n",
       "      <td>1450</td>\n",
       "      <td>0</td>\n",
       "      <td>5</td>\n",
       "      <td>1</td>\n",
       "      <td>4</td>\n",
       "      <td>1</td>\n",
       "    </tr>\n",
       "    <tr>\n",
       "      <th>1</th>\n",
       "      <td>2126</td>\n",
       "      <td>11500000</td>\n",
       "      <td>14</td>\n",
       "      <td>1</td>\n",
       "      <td>2190</td>\n",
       "      <td>0</td>\n",
       "      <td>5</td>\n",
       "      <td>3</td>\n",
       "      <td>5</td>\n",
       "      <td>3</td>\n",
       "    </tr>\n",
       "    <tr>\n",
       "      <th>2</th>\n",
       "      <td>816</td>\n",
       "      <td>3800000</td>\n",
       "      <td>12</td>\n",
       "      <td>1</td>\n",
       "      <td>1019</td>\n",
       "      <td>0</td>\n",
       "      <td>1</td>\n",
       "      <td>2</td>\n",
       "      <td>5</td>\n",
       "      <td>2</td>\n",
       "    </tr>\n",
       "  </tbody>\n",
       "</table>\n",
       "</div>"
      ],
      "text/plain": [
       "     ID     price  place  built  sqft  sale  yearsOld  floor  totalFloor  bhk\n",
       "0  1341   6300000      2      1  1450     0         5      1           4    1\n",
       "1  2126  11500000     14      1  2190     0         5      3           5    3\n",
       "2   816   3800000     12      1  1019     0         1      2           5    2"
      ]
     },
     "execution_count": 12,
     "metadata": {},
     "output_type": "execute_result"
    }
   ],
   "source": [
    "data_tranformed.head(3)# after label encoding"
   ]
  },
  {
   "cell_type": "code",
   "execution_count": 13,
   "metadata": {
    "ExecuteTime": {
     "end_time": "2020-01-23T05:30:27.400271Z",
     "start_time": "2020-01-23T05:30:27.383319Z"
    },
    "hidden": true
   },
   "outputs": [
    {
     "data": {
      "text/html": [
       "<div>\n",
       "<style scoped>\n",
       "    .dataframe tbody tr th:only-of-type {\n",
       "        vertical-align: middle;\n",
       "    }\n",
       "\n",
       "    .dataframe tbody tr th {\n",
       "        vertical-align: top;\n",
       "    }\n",
       "\n",
       "    .dataframe thead th {\n",
       "        text-align: right;\n",
       "    }\n",
       "</style>\n",
       "<table border=\"1\" class=\"dataframe\">\n",
       "  <thead>\n",
       "    <tr style=\"text-align: right;\">\n",
       "      <th></th>\n",
       "      <th>ID</th>\n",
       "      <th>price</th>\n",
       "      <th>place</th>\n",
       "      <th>built</th>\n",
       "      <th>sqft</th>\n",
       "      <th>sale</th>\n",
       "      <th>yearsOld</th>\n",
       "      <th>floor</th>\n",
       "      <th>totalFloor</th>\n",
       "      <th>bhk</th>\n",
       "    </tr>\n",
       "  </thead>\n",
       "  <tbody>\n",
       "    <tr>\n",
       "      <th>0</th>\n",
       "      <td>1341</td>\n",
       "      <td>6300000</td>\n",
       "      <td>BTM Layout</td>\n",
       "      <td>Super built-up  Area</td>\n",
       "      <td>1450</td>\n",
       "      <td>Resale</td>\n",
       "      <td>5</td>\n",
       "      <td>1</td>\n",
       "      <td>4</td>\n",
       "      <td>1</td>\n",
       "    </tr>\n",
       "    <tr>\n",
       "      <th>1</th>\n",
       "      <td>2126</td>\n",
       "      <td>11500000</td>\n",
       "      <td>Yelahanka</td>\n",
       "      <td>Super built-up  Area</td>\n",
       "      <td>2190</td>\n",
       "      <td>Resale</td>\n",
       "      <td>5</td>\n",
       "      <td>3</td>\n",
       "      <td>5</td>\n",
       "      <td>3</td>\n",
       "    </tr>\n",
       "    <tr>\n",
       "      <th>2</th>\n",
       "      <td>816</td>\n",
       "      <td>3800000</td>\n",
       "      <td>Whitefield</td>\n",
       "      <td>Super built-up  Area</td>\n",
       "      <td>1019</td>\n",
       "      <td>Resale</td>\n",
       "      <td>1</td>\n",
       "      <td>2</td>\n",
       "      <td>5</td>\n",
       "      <td>2</td>\n",
       "    </tr>\n",
       "  </tbody>\n",
       "</table>\n",
       "</div>"
      ],
      "text/plain": [
       "     ID     price       place                 built  sqft    sale  yearsOld  \\\n",
       "0  1341   6300000  BTM Layout  Super built-up  Area  1450  Resale         5   \n",
       "1  2126  11500000   Yelahanka  Super built-up  Area  2190  Resale         5   \n",
       "2   816   3800000  Whitefield  Super built-up  Area  1019  Resale         1   \n",
       "\n",
       "   floor  totalFloor  bhk  \n",
       "0      1           4    1  \n",
       "1      3           5    3  \n",
       "2      2           5    2  "
      ]
     },
     "execution_count": 13,
     "metadata": {},
     "output_type": "execute_result"
    }
   ],
   "source": [
    "data_original.head(3)# original data"
   ]
  },
  {
   "cell_type": "markdown",
   "metadata": {
    "heading_collapsed": true
   },
   "source": [
    "# 5) Feature Engineering"
   ]
  },
  {
   "cell_type": "code",
   "execution_count": 14,
   "metadata": {
    "ExecuteTime": {
     "end_time": "2020-01-23T05:30:28.113431Z",
     "start_time": "2020-01-23T05:30:28.107446Z"
    },
    "hidden": true
   },
   "outputs": [],
   "source": [
    "# feature engineering\n",
    "x = data_tranformed.loc[:,[\"ID\",\"place\",\"built\",\"sqft\",\"sale\",\"yearsOld\",\"floor\",\"totalFloor\",\"bhk\"]]\n",
    "y = data_tranformed.price\n"
   ]
  },
  {
   "cell_type": "markdown",
   "metadata": {
    "heading_collapsed": true
   },
   "source": [
    "# 6) Split Dataset (x_train, x_test , y_train , y_test)"
   ]
  },
  {
   "cell_type": "code",
   "execution_count": 15,
   "metadata": {
    "ExecuteTime": {
     "end_time": "2020-01-23T05:30:28.780916Z",
     "start_time": "2020-01-23T05:30:28.774896Z"
    },
    "hidden": true
   },
   "outputs": [],
   "source": [
    "x_train, x_test , y_train , y_test = train_test_split(x ,y , test_size = 0.25 , random_state = 10)\n"
   ]
  },
  {
   "cell_type": "code",
   "execution_count": null,
   "metadata": {
    "hidden": true
   },
   "outputs": [],
   "source": []
  },
  {
   "cell_type": "code",
   "execution_count": null,
   "metadata": {
    "hidden": true
   },
   "outputs": [],
   "source": []
  },
  {
   "cell_type": "code",
   "execution_count": null,
   "metadata": {
    "hidden": true
   },
   "outputs": [],
   "source": []
  },
  {
   "cell_type": "markdown",
   "metadata": {},
   "source": [
    "# Single Model"
   ]
  },
  {
   "cell_type": "code",
   "execution_count": 147,
   "metadata": {
    "ExecuteTime": {
     "end_time": "2020-01-23T11:39:00.565106Z",
     "start_time": "2020-01-23T11:38:59.910213Z"
    }
   },
   "outputs": [],
   "source": [
    "# lm = LinearRegression()\n",
    "# lm.fit(x_train, y_train)\n",
    "# y_pred = lm.predict(x_test)\n",
    "\n",
    "\n",
    "\n",
    "\n",
    "# knr =NeighborsRegressor()\n",
    "# knr.fit(x_train, y_train)\n",
    "# y_pred = knr.predict(x_test)\n",
    "\n",
    "\n",
    "\n",
    "\n",
    "knr =SVR()\n",
    "knr.fit(x_train, y_train)\n",
    "y_pred = knr.predict(x_test)\n",
    "\n",
    "\n",
    "\n",
    "\n",
    "\n",
    "\n",
    "# # xgbRegressor = XGBRegressor()\n",
    "# xgbRegressor = XGBRegressor(base_score=0.5, colsample_bylevel=1, colsample_bytree=0.4,\n",
    "#        gamma=0, learning_rate=0.07, max_delta_step=0, max_depth=3,\n",
    "#        min_child_weight=1.5, missing=None, n_estimators=10000, nthread=-1,\n",
    "#        objective='reg:linear', reg_alpha=0.75, reg_lambda=0.45,\n",
    "#        scale_pos_weight=1, seed=42, silent=True, subsample=0.6)\n",
    "\n",
    "\n",
    "# xgbRegressor.fit(x_train, y_train)\n",
    "# y_pred = xgbRegressor.predict(x_test)\n",
    "\n",
    "\n",
    "\n",
    "\n",
    "\n",
    "\n",
    "# xgbrfRegressor = XGBRFRegressor()\n",
    "# xgbrfRegressor.fit(x_train, y_train)\n",
    "# y_pred = xgbrfRegressor.predict(x_test)"
   ]
  },
  {
   "cell_type": "code",
   "execution_count": null,
   "metadata": {},
   "outputs": [],
   "source": []
  },
  {
   "cell_type": "markdown",
   "metadata": {},
   "source": [
    "## lightgbm"
   ]
  },
  {
   "cell_type": "code",
   "execution_count": 187,
   "metadata": {
    "ExecuteTime": {
     "end_time": "2020-01-23T12:11:41.724063Z",
     "start_time": "2020-01-23T12:11:31.210954Z"
    }
   },
   "outputs": [],
   "source": [
    "# parameters = {\n",
    "#     'application': 'binary',\n",
    "#     'objective': 'binary',\n",
    "#     'metric': 'auc',\n",
    "#     'is_unbalance': 'true',\n",
    "#     'boosting': 'gbdt',\n",
    "#     'num_leaves': 31,\n",
    "#     'feature_fraction': 0.5,\n",
    "#     'bagging_fraction': 0.5,\n",
    "#     'bagging_freq': 20,\n",
    "#     'learning_rate': 0.05,\n",
    "#     'verbose': 0\n",
    "# }\n",
    "\n",
    "\n",
    "lgbm = lightgbm.LGBMRegressor(boosting_type='gbdt', objective='regression', num_leaves=1200,\n",
    "                                learning_rate=0.17, num_boost_round=5000,\n",
    "                                metric='rmse', bagging_fraction=0.8, feature_fraction=0.8, reg_lambda=0.9)\n",
    "\n",
    "lgbm.fit(x_train, y_train)\n",
    "y_pred = lgbm.predict(x_test)"
   ]
  },
  {
   "cell_type": "code",
   "execution_count": null,
   "metadata": {},
   "outputs": [],
   "source": []
  },
  {
   "cell_type": "markdown",
   "metadata": {},
   "source": [
    "## CatBoost "
   ]
  },
  {
   "cell_type": "code",
   "execution_count": 194,
   "metadata": {
    "ExecuteTime": {
     "end_time": "2020-01-23T12:15:57.467528Z",
     "start_time": "2020-01-23T12:15:57.386759Z"
    },
    "scrolled": true
   },
   "outputs": [
    {
     "name": "stdout",
     "output_type": "stream",
     "text": [
      "0:\tlearn: 4221110.8482269\ttotal: 1.07ms\tremaining: 52.7ms\n",
      "1:\tlearn: 3610941.3246022\ttotal: 2.12ms\tremaining: 50.8ms\n",
      "2:\tlearn: 3129785.5479046\ttotal: 3.02ms\tremaining: 47.3ms\n",
      "3:\tlearn: 2724338.8075333\ttotal: 3.89ms\tremaining: 44.8ms\n",
      "4:\tlearn: 2384509.0847423\ttotal: 4.78ms\tremaining: 43ms\n",
      "5:\tlearn: 2112589.0006117\ttotal: 5.65ms\tremaining: 41.4ms\n",
      "6:\tlearn: 1901863.5176625\ttotal: 6.42ms\tremaining: 39.4ms\n",
      "7:\tlearn: 1716372.0746748\ttotal: 7.18ms\tremaining: 37.7ms\n",
      "8:\tlearn: 1560257.8771590\ttotal: 8.05ms\tremaining: 36.7ms\n",
      "9:\tlearn: 1436748.4532924\ttotal: 8.94ms\tremaining: 35.7ms\n",
      "10:\tlearn: 1299700.3381387\ttotal: 9.89ms\tremaining: 35.1ms\n",
      "11:\tlearn: 1180991.3576157\ttotal: 10.7ms\tremaining: 34ms\n",
      "12:\tlearn: 1076896.3390977\ttotal: 11.5ms\tremaining: 32.8ms\n",
      "13:\tlearn: 992263.4422268\ttotal: 12.3ms\tremaining: 31.6ms\n",
      "14:\tlearn: 910082.4285333\ttotal: 13.1ms\tremaining: 30.6ms\n",
      "15:\tlearn: 829928.2709460\ttotal: 13.9ms\tremaining: 29.5ms\n",
      "16:\tlearn: 765282.1348491\ttotal: 14.7ms\tremaining: 28.5ms\n",
      "17:\tlearn: 732918.1187609\ttotal: 15.4ms\tremaining: 27.5ms\n",
      "18:\tlearn: 690652.0468060\ttotal: 16.2ms\tremaining: 26.5ms\n",
      "19:\tlearn: 648294.5117794\ttotal: 17ms\tremaining: 25.5ms\n",
      "20:\tlearn: 595803.0021805\ttotal: 17.8ms\tremaining: 24.6ms\n",
      "21:\tlearn: 556717.6783220\ttotal: 18.7ms\tremaining: 23.8ms\n",
      "22:\tlearn: 521219.1859188\ttotal: 19.6ms\tremaining: 23ms\n",
      "23:\tlearn: 469757.7873944\ttotal: 20.5ms\tremaining: 22.2ms\n",
      "24:\tlearn: 451947.5874857\ttotal: 21.4ms\tremaining: 21.4ms\n",
      "25:\tlearn: 416748.8431008\ttotal: 22.2ms\tremaining: 20.5ms\n",
      "26:\tlearn: 401235.3079758\ttotal: 22.9ms\tremaining: 19.5ms\n",
      "27:\tlearn: 379393.7389972\ttotal: 23.7ms\tremaining: 18.6ms\n",
      "28:\tlearn: 336625.8409219\ttotal: 24.5ms\tremaining: 17.8ms\n",
      "29:\tlearn: 323603.8489415\ttotal: 25.4ms\tremaining: 16.9ms\n",
      "30:\tlearn: 308350.9116284\ttotal: 26.2ms\tremaining: 16.1ms\n",
      "31:\tlearn: 276669.9486370\ttotal: 27ms\tremaining: 15.2ms\n",
      "32:\tlearn: 262105.3326034\ttotal: 27.9ms\tremaining: 14.4ms\n",
      "33:\tlearn: 237376.2953624\ttotal: 28.7ms\tremaining: 13.5ms\n",
      "34:\tlearn: 228541.1043347\ttotal: 29.6ms\tremaining: 12.7ms\n",
      "35:\tlearn: 219963.1707984\ttotal: 30.3ms\tremaining: 11.8ms\n",
      "36:\tlearn: 203046.2427819\ttotal: 31.1ms\tremaining: 10.9ms\n",
      "37:\tlearn: 186619.5266864\ttotal: 31.9ms\tremaining: 10.1ms\n",
      "38:\tlearn: 180362.0471067\ttotal: 32.7ms\tremaining: 9.23ms\n",
      "39:\tlearn: 175004.9037835\ttotal: 33.6ms\tremaining: 8.41ms\n",
      "40:\tlearn: 157831.0064841\ttotal: 34.8ms\tremaining: 7.64ms\n",
      "41:\tlearn: 149787.2540100\ttotal: 35.9ms\tremaining: 6.84ms\n",
      "42:\tlearn: 138414.6223372\ttotal: 37ms\tremaining: 6.03ms\n",
      "43:\tlearn: 131124.2181881\ttotal: 38.1ms\tremaining: 5.19ms\n",
      "44:\tlearn: 124914.8524770\ttotal: 39ms\tremaining: 4.33ms\n",
      "45:\tlearn: 119859.7455347\ttotal: 39.9ms\tremaining: 3.46ms\n",
      "46:\tlearn: 110396.0082116\ttotal: 40.9ms\tremaining: 2.61ms\n",
      "47:\tlearn: 102079.5081919\ttotal: 42.3ms\tremaining: 1.76ms\n",
      "48:\tlearn: 98146.4763440\ttotal: 43.2ms\tremaining: 881us\n",
      "49:\tlearn: 90353.9389474\ttotal: 44.1ms\tremaining: 0us\n"
     ]
    }
   ],
   "source": [
    "model  = CatBoostRegressor(iterations=50, depth=3, learning_rate=0.17, loss_function='RMSE')\n",
    "\n",
    "\n",
    "# model.fit(x_train,    y_train ,plot=True)\n",
    "\n",
    "model.fit(x_train,    y_train )\n",
    "\n",
    "y_pred = model.predict(x_test)"
   ]
  },
  {
   "cell_type": "code",
   "execution_count": null,
   "metadata": {},
   "outputs": [],
   "source": []
  },
  {
   "cell_type": "code",
   "execution_count": null,
   "metadata": {},
   "outputs": [],
   "source": []
  },
  {
   "cell_type": "code",
   "execution_count": null,
   "metadata": {},
   "outputs": [],
   "source": []
  },
  {
   "cell_type": "code",
   "execution_count": 195,
   "metadata": {
    "ExecuteTime": {
     "end_time": "2020-01-23T12:15:58.966475Z",
     "start_time": "2020-01-23T12:15:58.959495Z"
    }
   },
   "outputs": [],
   "source": [
    "accuracy = r2_score(y_test, y_pred) * 100\n",
    "\n",
    "mae = mean_absolute_error(y_test, y_pred)\n",
    "\n",
    "mse = mean_squared_error(y_test, y_pred)\n",
    "\n",
    "mape = mean_absolute_percentage_error(y_test, y_pred)\n",
    "\n",
    "rmse = root_mean_sequare_error(y_test, y_pred)\n",
    "\n",
    "rmse_1 = root_mean_sequare_error_1(y_test, y_pred)\n",
    "\n",
    "\n",
    "\n"
   ]
  },
  {
   "cell_type": "code",
   "execution_count": 196,
   "metadata": {
    "ExecuteTime": {
     "end_time": "2020-01-23T12:15:59.447101Z",
     "start_time": "2020-01-23T12:15:59.438169Z"
    }
   },
   "outputs": [
    {
     "name": "stdout",
     "output_type": "stream",
     "text": [
      "\n",
      " Accuracy                                     :     99.96152980960659\n",
      "\n",
      " mean_absolute_error                          :     74117.3981791192\n",
      "\n",
      " mean_sequare_error                           :     10481474901.256973\n",
      "\n",
      " mean_absolute_percentage_error               :     74117.3981791192\n",
      "\n",
      " root_mean_sequare_error                      :     102379.07452823049\n",
      "\n",
      " root_mean_sequare_error 1                    :     102379.07452823054\n"
     ]
    }
   ],
   "source": [
    "print(\"\\n Accuracy                                     :    \",    accuracy)\n",
    "\n",
    "print(\"\\n mean_absolute_error                          :    \",    mae)\n",
    "\n",
    "print(\"\\n mean_sequare_error                           :    \",    mse)\n",
    "\n",
    "print(\"\\n mean_absolute_percentage_error               :    \",    mape)\n",
    "\n",
    "print(\"\\n root_mean_sequare_error                      :    \",    rmse)\n",
    "\n",
    "print(\"\\n root_mean_sequare_error 1                    :    \",    rmse_1)"
   ]
  },
  {
   "cell_type": "code",
   "execution_count": null,
   "metadata": {},
   "outputs": [],
   "source": []
  },
  {
   "cell_type": "code",
   "execution_count": 166,
   "metadata": {
    "ExecuteTime": {
     "end_time": "2020-01-23T11:42:55.506751Z",
     "start_time": "2020-01-23T11:42:55.500766Z"
    }
   },
   "outputs": [
    {
     "name": "stdout",
     "output_type": "stream",
     "text": [
      "\n",
      " Accuracy                                     :  99.96 % \n",
      "\n",
      " mean_absolute_error                          :  9717.238  \n",
      "\n",
      " mean_sequare_error                           :  10966235779.575  \n",
      "\n",
      " mean_absolute_percentage_error               :  9717.238  \n",
      "\n",
      " root_mean_sequare_error                      :  104719.797  \n"
     ]
    }
   ],
   "source": [
    "print(\"\\n Accuracy                                     :  {} % \".format(  round(accuracy , 3) ))\n",
    "\n",
    "print(\"\\n mean_absolute_error                          :  {}  \".format(  round(mae , 3) ))\n",
    "\n",
    "print(\"\\n mean_sequare_error                           :  {}  \".format(  round(mse , 3) ))\n",
    "\n",
    "print(\"\\n mean_absolute_percentage_error               :  {}  \".format(  round(mape , 3) ))\n",
    "\n",
    "print(\"\\n root_mean_sequare_error                      :  {}  \".format(  round(rmse , 3) ))\n"
   ]
  },
  {
   "cell_type": "code",
   "execution_count": null,
   "metadata": {},
   "outputs": [],
   "source": []
  },
  {
   "cell_type": "code",
   "execution_count": null,
   "metadata": {},
   "outputs": [],
   "source": []
  },
  {
   "cell_type": "markdown",
   "metadata": {},
   "source": [
    "# Multple Model"
   ]
  },
  {
   "cell_type": "code",
   "execution_count": null,
   "metadata": {},
   "outputs": [],
   "source": []
  },
  {
   "cell_type": "code",
   "execution_count": 180,
   "metadata": {
    "ExecuteTime": {
     "end_time": "2020-01-23T11:50:24.220770Z",
     "start_time": "2020-01-23T11:50:24.147269Z"
    }
   },
   "outputs": [],
   "source": []
  },
  {
   "cell_type": "code",
   "execution_count": null,
   "metadata": {
    "ExecuteTime": {
     "end_time": "2020-01-23T06:48:15.310701Z",
     "start_time": "2020-01-23T06:48:15.305715Z"
    }
   },
   "outputs": [],
   "source": [
    "\n",
    "    \n",
    "    "
   ]
  },
  {
   "cell_type": "code",
   "execution_count": null,
   "metadata": {},
   "outputs": [],
   "source": []
  },
  {
   "cell_type": "code",
   "execution_count": null,
   "metadata": {},
   "outputs": [],
   "source": []
  },
  {
   "cell_type": "code",
   "execution_count": 197,
   "metadata": {
    "ExecuteTime": {
     "end_time": "2020-01-23T13:10:34.350426Z",
     "start_time": "2020-01-23T13:10:34.338458Z"
    }
   },
   "outputs": [],
   "source": [
    "rows=[]\n",
    "\n",
    "\n",
    "def addRandomStateForAlgorithm(x,y,names,algorithms,columns_name,random_state_list):    \n",
    "    for j in range(len(algorithms)):\n",
    "        model = algorithms[j]\n",
    "        for i in random_state_list:\n",
    "            \n",
    "            x_train, x_test , y_train , y_test = train_test_split(x ,y , test_size = 0.25 , random_state = i)\n",
    "            \n",
    "            model.fit(x_train,y_train)\n",
    "            y_pred = model.predict(x_test)\n",
    "            \n",
    "            accuracy = r2_score(y_test, y_pred)\n",
    "            accuracy = round(accuracy, 2) * 100\n",
    "            \n",
    "            mape = mean_absolute_percentage_error(y_test, y_pred)\n",
    "            mape = round(mape, 2)\n",
    "            \n",
    "            mae = mean_absolute_error(y_test, y_pred)   \n",
    "            mae = round(mae, 2)\n",
    "            \n",
    "            mse = mean_squared_error(y_test, y_pred)\n",
    "            mse = round(mse, 2)\n",
    "            \n",
    "            rmse = root_mean_sequare_error(y_test, y_pred)\n",
    "            rmse = round(rmse, 2)\n",
    "            \n",
    "            \n",
    "            row = [names[j],   i,   accuracy,   mape,    mae,    mse,    rmse]\n",
    "            \n",
    "            rows.append(row)\n",
    "            \n",
    "    models_df = pd.DataFrame(rows) \n",
    "    \n",
    "    models_df.columns = columns_name\n",
    "    print(models_df)"
   ]
  },
  {
   "cell_type": "code",
   "execution_count": null,
   "metadata": {
    "ExecuteTime": {
     "end_time": "2020-01-23T05:30:30.121788Z",
     "start_time": "2020-01-23T05:30:30.116770Z"
    }
   },
   "outputs": [],
   "source": []
  },
  {
   "cell_type": "code",
   "execution_count": null,
   "metadata": {
    "ExecuteTime": {
     "end_time": "2020-01-23T13:10:38.818070Z",
     "start_time": "2020-01-23T13:10:38.812086Z"
    }
   },
   "outputs": [],
   "source": []
  },
  {
   "cell_type": "code",
   "execution_count": 20,
   "metadata": {
    "ExecuteTime": {
     "end_time": "2020-01-23T05:30:36.176431Z",
     "start_time": "2020-01-23T05:30:36.173440Z"
    }
   },
   "outputs": [],
   "source": [
    "#data[2:]\n",
    "#data[:3]\n",
    "#data.iloc[:,2:]"
   ]
  },
  {
   "cell_type": "code",
   "execution_count": null,
   "metadata": {},
   "outputs": [],
   "source": []
  },
  {
   "cell_type": "markdown",
   "metadata": {
    "heading_collapsed": true
   },
   "source": [
    "## Simple Model"
   ]
  },
  {
   "cell_type": "code",
   "execution_count": null,
   "metadata": {
    "ExecuteTime": {
     "end_time": "2020-01-23T06:50:23.688761Z",
     "start_time": "2020-01-23T06:50:23.678792Z"
    },
    "hidden": true
   },
   "outputs": [],
   "source": [
    "\n",
    "\n",
    "\n",
    "names_regression = [\"Linear\", \"DT\", \"RF\" ]\n",
    "\n",
    "algorithms = [ LinearRegression(), DecisionTreeRegressor(), RandomForestRegressor()]\n",
    "\n",
    "columns_name = [\"Model_name\",    \"Random_state\",   'Accuracy',     \"  MAPE \",   \" MAE \",   \" MSE \", \" RMSE \"]\n",
    "\n",
    "random_state_list_up_to_3 = [0,1,2,3]\n",
    "random_state_list_up_to_10 = [0,1,2,3,4,5,6,7,8,9,10]\n",
    "random_state_list_10_up_to_20 = [10,11,12,13,14,15,16,17,18,19,20]"
   ]
  },
  {
   "cell_type": "code",
   "execution_count": null,
   "metadata": {
    "ExecuteTime": {
     "start_time": "2020-01-23T16:05:14.957Z"
    },
    "hidden": true
   },
   "outputs": [],
   "source": [
    "addRandomStateForAlgorithm(x,    y,    names_regression,     algorithms,    columns_name,   random_state_list_up_to_10)"
   ]
  },
  {
   "cell_type": "code",
   "execution_count": null,
   "metadata": {
    "hidden": true
   },
   "outputs": [],
   "source": []
  },
  {
   "cell_type": "code",
   "execution_count": null,
   "metadata": {
    "hidden": true
   },
   "outputs": [],
   "source": []
  },
  {
   "cell_type": "markdown",
   "metadata": {
    "heading_collapsed": true
   },
   "source": [
    "## Complex Model"
   ]
  },
  {
   "cell_type": "code",
   "execution_count": null,
   "metadata": {
    "hidden": true
   },
   "outputs": [],
   "source": []
  },
  {
   "cell_type": "code",
   "execution_count": null,
   "metadata": {
    "ExecuteTime": {
     "start_time": "2020-01-23T16:06:21.060Z"
    },
    "hidden": true
   },
   "outputs": [],
   "source": [
    "xgbRegressor = XGBRegressor(base_score=0.5, colsample_bylevel=1, colsample_bytree=0.4,\n",
    "       gamma=0, learning_rate=0.07, max_delta_step=0, max_depth=3,\n",
    "       min_child_weight=1.5, missing=None, n_estimators=10000, nthread=-1,\n",
    "       objective='reg:linear', reg_alpha=0.75, reg_lambda=0.45,\n",
    "       scale_pos_weight=1, seed=42, silent=True, subsample=0.6)\n",
    "\n",
    "\n",
    "lgbm = lightgbm.LGBMRegressor(boosting_type='gbdt', objective='regression', num_leaves=1200,\n",
    "                                learning_rate=0.17, num_boost_round=5000,\n",
    "                                metric='rmse', bagging_fraction=0.8, feature_fraction=0.8, reg_lambda=0.9)\n",
    "\n",
    "\n",
    "\n",
    "catBoostRegressor  = CatBoostRegressor(iterations=50, depth=3, learning_rate=0.17, loss_function='RMSE')\n",
    "\n",
    "\n",
    "names_regression = [\"XGBRegressor\", \"XGBRFRegressor\", \"LGBMRegressor\"]\n",
    "\n",
    "\n",
    "algorithms = [  xgbRegressor,  lgbm , catBoostRegressor]\n",
    "\n",
    "columns_name = [\"Model_name\",    \"Random_state\",   'Accuracy',     \"  MAPE \",   \" MAE \",   \" MSE \", \" RMSE \"]\n",
    "\n",
    "random_state_list_up_to_3 = [0,1,2,3]\n",
    "random_state_list_up_to_10 = [0,1,2,3,4,5,6,7,8,9,10]\n",
    "random_state_list_10_up_to_20 = [10,11,12,13,14,15,16,17,18,19,20]"
   ]
  },
  {
   "cell_type": "code",
   "execution_count": null,
   "metadata": {
    "hidden": true
   },
   "outputs": [],
   "source": []
  }
 ],
 "metadata": {
  "kernelspec": {
   "display_name": "Python 3",
   "language": "python",
   "name": "python3"
  },
  "language_info": {
   "codemirror_mode": {
    "name": "ipython",
    "version": 3
   },
   "file_extension": ".py",
   "mimetype": "text/x-python",
   "name": "python",
   "nbconvert_exporter": "python",
   "pygments_lexer": "ipython3",
   "version": "3.7.3"
  },
  "toc": {
   "base_numbering": 1,
   "nav_menu": {},
   "number_sections": true,
   "sideBar": true,
   "skip_h1_title": false,
   "title_cell": "Table of Contents",
   "title_sidebar": "Contents",
   "toc_cell": false,
   "toc_position": {},
   "toc_section_display": true,
   "toc_window_display": false
  },
  "varInspector": {
   "cols": {
    "lenName": 16,
    "lenType": 16,
    "lenVar": 40
   },
   "kernels_config": {
    "python": {
     "delete_cmd_postfix": "",
     "delete_cmd_prefix": "del ",
     "library": "var_list.py",
     "varRefreshCmd": "print(var_dic_list())"
    },
    "r": {
     "delete_cmd_postfix": ") ",
     "delete_cmd_prefix": "rm(",
     "library": "var_list.r",
     "varRefreshCmd": "cat(var_dic_list()) "
    }
   },
   "types_to_exclude": [
    "module",
    "function",
    "builtin_function_or_method",
    "instance",
    "_Feature"
   ],
   "window_display": false
  }
 },
 "nbformat": 4,
 "nbformat_minor": 2
}

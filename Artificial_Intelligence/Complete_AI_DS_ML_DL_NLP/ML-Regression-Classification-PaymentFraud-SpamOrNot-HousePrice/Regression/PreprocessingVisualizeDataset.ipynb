{
 "cells": [
  {
   "cell_type": "code",
   "execution_count": 1,
   "metadata": {},
   "outputs": [
    {
     "name": "stderr",
     "output_type": "stream",
     "text": [
      "/Users/rakeshkumar/miniconda3/lib/python3.6/site-packages/sklearn/ensemble/weight_boosting.py:29: DeprecationWarning: numpy.core.umath_tests is an internal NumPy module and should not be imported. It will be removed in a future NumPy release.\n",
      "  from numpy.core.umath_tests import inner1d\n"
     ]
    }
   ],
   "source": [
    "import pandas as pd\n",
    "from pandas import Series as s , DataFrame as df\n",
    "import numpy as np\n",
    "\n",
    "from sklearn.metrics import r2_score, mean_absolute_error, mean_squared_error\n",
    "from sklearn.model_selection import train_test_split\n",
    "from sklearn.preprocessing import LabelEncoder \n",
    "import seaborn as sb\n",
    "from matplotlib import pyplot as plt, rcParams as rc\n",
    "\n",
    "from sklearn.linear_model import LinearRegression\n",
    "from sklearn.tree import DecisionTreeRegressor\n",
    "from sklearn.ensemble import RandomForestRegressor\n",
    "from sklearn.svm import SVR\n",
    "from sklearn.neighbors import KNeighborsRegressor\n",
    "\n",
    "\n",
    "%matplotlib inline\n",
    "rc[\"figure.figsize\"] = 10,6\n",
    "\n",
    "\n",
    "import warnings\n",
    "warnings.filterwarnings(\"ignore\", category=DeprecationWarning) \n",
    "\n",
    "\n",
    "from sklearn.pipeline import Pipeline\n",
    "\n"
   ]
  },
  {
   "cell_type": "markdown",
   "metadata": {},
   "source": [
    "# Step : 1) Load Dataset"
   ]
  },
  {
   "cell_type": "code",
   "execution_count": 84,
   "metadata": {},
   "outputs": [],
   "source": [
    "#1) Load Data\n",
    "data = pd.read_csv(\"hp_data.csv\")"
   ]
  },
  {
   "cell_type": "markdown",
   "metadata": {},
   "source": [
    "# Step : 2) Read and Analysis Data"
   ]
  },
  {
   "cell_type": "markdown",
   "metadata": {},
   "source": [
    "# A)Read and Analysis Dataset "
   ]
  },
  {
   "cell_type": "code",
   "execution_count": 4,
   "metadata": {},
   "outputs": [],
   "source": [
    "def getDataAllDetailsFirst(data):\n",
    "    print(\"Return a tuple representing the dimensionality of the DF.   :   \",data.shape)\n",
    "    print(\"Count of Each Data                                          :  \",data.count())\n",
    "    print(\"Start,End,Column,Step                                       :  \",data.axes)\n",
    "    print(\"Column                                                      :  \",data.columns)\n",
    "    print(\"First 2 items                                               :  \",data.head(2))\n",
    "    print(\"Last 2 items                                                :  \",data.tail(2))\n",
    "    print(\"Detect the Missing Value(Both Same isna & isnull )          :  \",data.isna().sum(),data.isnull().sum())\n",
    "    print(\"concise summary of DF,Dtypes,Memory,Shape,Many Info         :  \",data.info)\n",
    "    print(\"Description                                                 :  \",data.describe())\n",
    "    \n",
    "# getDataAllDetailsFirst(data)"
   ]
  },
  {
   "cell_type": "markdown",
   "metadata": {},
   "source": [
    "# B)Read and Analysis Dataset "
   ]
  },
  {
   "cell_type": "code",
   "execution_count": 5,
   "metadata": {},
   "outputs": [],
   "source": [
    "def getDataAllDetailsSecond(data):\n",
    "    print(\"Size(Row*Column) represent the no of elements in this object:  \",data.size)\n",
    "    print(\"Return unbiased skew over requested axis                    :  \",data.skew())\n",
    "    print(\"std err of mean                                             :  \",data.sem())\n",
    "    print(\"Return sample standard deviation over requested axis        :  \",data.std())\n",
    "    print(\"sum of every data                                           :  \",data.sum())\n",
    "    print(\"Copy Data to other                                          :  \",data.copy())\n",
    "    print(\"Correlation of Data                                         :  \",data.corr())\n",
    "    print(\"Covariance of Columns                                       :  \",data.cov)\n",
    "    \n",
    "# getDataAllDetailsSecond(data)"
   ]
  },
  {
   "cell_type": "markdown",
   "metadata": {},
   "source": [
    "# C)Read and Analysis Dataset "
   ]
  },
  {
   "cell_type": "code",
   "execution_count": 6,
   "metadata": {},
   "outputs": [],
   "source": [
    "def getDataAllDetailsThird(data):\n",
    "    print(\"cumulative sum over data                                    :  \",data.cumsum())\n",
    "    print(\"cumulative min or max                                       :  \",data.cummin())\n",
    "    print(\"Remove duplicate row                                        :  \",data.drop_duplicates())\n",
    "    print(\"Romove missing Value                                        :  \",data.dropna())\n",
    "    print(\"Drop Specify Label                                          :  \",data.drop(labels=[2,49,78,88]))\n",
    "    print(\"Drop Specify Label(Plz check inplace true means)            :  \",data.drop(labels=[2,49,78,88],inplace=True))\n",
    "    print(\"Tell about Data Types                                       :  \",data.dtypes)\n",
    "    print(\"Find the Duplicate Row                                      :  \",data.duplicated())\n",
    "    \n",
    "    \n",
    "# getDataAllDetailsThird(data)"
   ]
  },
  {
   "cell_type": "markdown",
   "metadata": {},
   "source": [
    "# D)Read and Analysis Dataset "
   ]
  },
  {
   "cell_type": "code",
   "execution_count": 7,
   "metadata": {},
   "outputs": [],
   "source": [
    "def getDataAllDetailsFourth(data):\n",
    "    print(\"DataFrame is Empty(True) or not(False)                      :  \",data.empty)\n",
    "    print(\"Expanding                                                   :  \",data.expanding())\n",
    "    print(\"Fill Na/Nan Value using Specify metho                       :  \",data.fillna)\n",
    "    #print(\"rows/columns of DF A/c to labels in specified index   :  \",data.filter)\n",
    "    #print(\" check it(fill backward)          :  \",data.bfill())\n",
    "    #print(\" check it(fill forward)         :  \",data.ffill())\n",
    "    #print(\"    check it ?      :  \",data.from_csv)\n",
    "    #print(\"       check it ?   :  \",data.from_dict,data.from_items,data.from_records)\n",
    "    print(\"Return(indication of sparse/dense and dtype) in Df          :  \",data.from_records)\n",
    "    print(\"Tell about Data Types(check abobe ftypes)                   :  \",data.dtypes)\n",
    "    print(\"Return counts of unique dtypes in this object               :  \",data.get_dtype_counts())\n",
    "    print(\"Return counts of unique dtypes in this object(dense)        :  \",data.get_ftype_counts())\n",
    "    print(\"Return ndarray after convert sparse values to dense         :  \",data.get_values())\n",
    "    #print(\"   check it       :  \",data.groupby)\n",
    "    \n",
    "# getDataAllDetailsFourth(data)    "
   ]
  },
  {
   "cell_type": "markdown",
   "metadata": {},
   "source": [
    "# E)Read and Analysis Dataset "
   ]
  },
  {
   "cell_type": "code",
   "execution_count": 8,
   "metadata": {},
   "outputs": [],
   "source": [
    "def getDataAllDetailsFifth(data):\n",
    "    print(\"RangeIndex(start=0,stop=data size, step=1)                  :  \",data.index)\n",
    "    #print(\"    check it      :  \",data.insert)\n",
    "    #print(\"  check it        :  \",data.interpolate)\n",
    "    #print(\"   check it       :  \",data.is_copy)\n",
    "    print(\"Detect the Missing Value(Both Same isna & isnull )           :  \",data.isna().sum(),data.isnull().sum())\n",
    "    #print(\"    check it      :  \",data.join)\n",
    "    print(\"Get the 'info axis(same as columns : data.columns)           :  \",data.keys,data.columns)\n",
    "    print(\"unbiased kurt over requested axis using Fisher's def         :  \",data.kurt,data.kurtosis)\n",
    "    print(\"both are same data.kurt & data.kurtosis                      :  \",data.kurt,data.kurtosis)\n",
    "    print(\"Return index for last non-NA/null value                      :  \",data.last_valid_index())\n",
    "    print(\"mean absolute deviation value for the requested axis         :  \",data.mad())\n",
    "    print(\"Returns the maximum of the values in the object              :  \",data.max())\n",
    "    print(\"Returns the minimum of the values in the object              :  \",data.min())\n",
    "    print(\"Return the mean of the values for the requested axis         :  \",data.mean())\n",
    "    print(\"Return the median of the values for the request axis         :  \",data.median())\n",
    "    \n",
    "# getDataAllDetailsFifth(data)"
   ]
  },
  {
   "cell_type": "markdown",
   "metadata": {},
   "source": [
    "# F)Read and Analysis Dataset "
   ]
  },
  {
   "cell_type": "code",
   "execution_count": 10,
   "metadata": {},
   "outputs": [],
   "source": [
    "def getDataAllDetailsSixth(data):\n",
    "    #print(\"   check it       :  \",data.melt())\n",
    "    print(\"Return the memory usage of each column in bytes.             :  \",data.memory_usage())\n",
    "    #print(\"  check it        :  \",data.merge)\n",
    "    #print(\"    check it (mod, mul,multiply)      :  \",data,mod,data.mul,data.multiply)\n",
    "    print(\"Return an int representing the no of axes/array dims         :  \",data.ndim)\n",
    "    print(\"row's DF sorted by the n smallest values of `columns         :  \",data.nsmallest(n=10,columns=\"price\"))\n",
    "    print(\"row's DF sorted by the n largest values of `columns          :  \",data.nlargest(n=10,columns=\"price\"))\n",
    "    print(\"Find existing(non-missing) values(Same:notna,notnull)        :  \",data.notna(),data.notnull())\n",
    "    print(\"Series with no of distinct observations over requested axis  :  \",data.nunique(axis=0))\n",
    "    #print(\"     check it     :  \",data.pct_change)\n",
    "    #print(\" check it(pivot,pivot_table)         :  \",data.pivot,data.pivot_table)\n",
    "    print(\"Return item & drop/delete from frame.Raise Error,if not found:  \",data.pop(\"price\"))\n",
    "    #print(\"  check it        :  \",data.pow)\n",
    "    print(\"product/prod same of the value for the request(default axis=0):  \",data.prod(axis=0),data.product(axis=0))\n",
    "    print(\"values quantile over requested axis, a la numpy.percentile.   :  \",data.quantile())\n",
    "    #print(\"    check it      :  \",data.query)\n",
    "    #print(\"       check it   :  \",data.radd)\n",
    "    print(\"Compute numerical data rank(1 through n)along axis.Equal values:  \",data.rank(numeric_only=True,axis=0))\n",
    "    print(\"Conform DF to new index with optional filling logic,placing    :  \",data.reindex().sum())\n",
    "    #print(\"check it  :  \",data.rename,data.rename_axis,data.reorder_levels,data.replace,data.resample,data.resample)\n",
    "    #print(\"   check it :  \",data.reset_index(),data.rmod,data.rmul,data.rolling,data.rpow,data.rsub,data.rtruediv)\n",
    "    \n",
    "# getDataAllDetailsSixth(data)"
   ]
  },
  {
   "cell_type": "markdown",
   "metadata": {},
   "source": [
    "# G)Read and Analysis Dataset "
   ]
  },
  {
   "cell_type": "code",
   "execution_count": 12,
   "metadata": {},
   "outputs": [],
   "source": [
    "def getDataAllDetailsSeventh(data):\n",
    "    print(\"Round a DataFrame to a variable number of decimal places.      :  \",data.round())\n",
    "    print(\"Return a random sample of items from an axis of object.        :  \",data.sample())\n",
    "    print(\"check it      :  \",data.select,data.set_index,data.set_value)\n",
    "    print(\"Return unbiased standard error of the mean over requested axis.:  \",data.sem())\n",
    "    print(\"Shift index by desired no of periods with an optional time freq:  \",data.shift(axis=0,periods=3))\n",
    "    print(\"Equivalent to `shift` without copying data                     :  \",data.slice_shift(axis=0,periods=5))\n",
    "    print(\"Sort object by labels (along an axis=0, default)               :  \",data.sort_index(axis=1,ascending=False))\n",
    "    print(\"Sort by the values along either axis                           :  \",data.sort_values(by=[\"price\",\"yearsOld\"],axis=0,ascending=False))\n",
    "    print(\"Sort multilevel index by chosen axis level(sort based on words):  \",data.sortlevel(level=0, axis=1, ascending=True))\n",
    "    #print(\"Check it  :  \",data.stack(),data.sub,data.subtract())\n",
    "    print(\"Display All Items(same as head(total no of items))             :  \",data.style)\n",
    "    print(\"Interchange axes & swap values axes(swap rows to columns)      :  \",data.swapaxes(axis1=0,axis2=1,copy=False))\n",
    "    print(\"Interchange axes & swap values axes appropriately              :  \",data.swaplevel(i=0,j=0,axis=0))\n",
    "    #print(\" check it    :  \",data.unstack,data.update())\n",
    "    print(\"Return unbiased variance over requested axis.                  :  \",data.var(axis=0))\n",
    "    #print(\"   check it       :  \",data.where,data.xs())\n",
    "    \n",
    "# getDataAllDetailsSeventh(data)    "
   ]
  },
  {
   "cell_type": "code",
   "execution_count": null,
   "metadata": {},
   "outputs": [],
   "source": []
  },
  {
   "cell_type": "markdown",
   "metadata": {},
   "source": [
    "# Rename Column Name"
   ]
  },
  {
   "cell_type": "code",
   "execution_count": 13,
   "metadata": {},
   "outputs": [],
   "source": [
    "# dic = { \"KEY\" : \"VALUE\"}\n",
    "def renameColumn(dic, data ) :\n",
    "    # DICTIONARY : KEY AND VALUE , KEY IS OLD COLUMN NAME , VALUE IS NEW COLUMN NAME\n",
    "    data = data.rename(columns=dic)\n",
    "    return data"
   ]
  },
  {
   "cell_type": "code",
   "execution_count": 61,
   "metadata": {},
   "outputs": [],
   "source": [
    "# dic = { \"place\" : \"Places\", \"built\" : \"builts\"}\n",
    "dic = { \"Unnamed: 0\" : \"ID\"}\n",
    "data = renameColumn(dic,data)"
   ]
  },
  {
   "cell_type": "markdown",
   "metadata": {},
   "source": [
    "# Step : 3) Visualization the Data\n",
    "There are 2 types of library to visualization.\n",
    "##1) Matplot 2) Seaborn(use attractive and looking good and more features)\n",
    "#Draw the Graph (Histogram, Straight Line, Pie, Bar, Scatter, ETC)"
   ]
  },
  {
   "cell_type": "code",
   "execution_count": 15,
   "metadata": {},
   "outputs": [],
   "source": [
    "def graphDetail():\n",
    "    print(\"Prints the values to a stream, or to sys.stdout by default boxplot      :  \",data.boxplot())\n",
    "    print(\"Prints the values to a stream, or to sys.stdout by default hist         :  \",data.hist())\n",
    "    print(\"Prints the values to a stream, or to sys.stdout by default plot         :  \",data.plot())\n",
    "    #print(\"Prints the values to a stream, or to sys.stdout by default              :  \",data.boxplot())\n",
    "    #print(\"Prints the values to a stream, or to sys.stdout by default              :  \",data.boxplot())\n",
    "    "
   ]
  },
  {
   "cell_type": "code",
   "execution_count": 46,
   "metadata": {},
   "outputs": [
    {
     "name": "stdout",
     "output_type": "stream",
     "text": [
      "Prints the values to a stream, or to sys.stdout by default boxplot      :   AxesSubplot(0.125,0.125;0.775x0.755)\n",
      "Prints the values to a stream, or to sys.stdout by default hist         :   [[<matplotlib.axes._subplots.AxesSubplot object at 0x1a15a6f2b0>\n",
      "  <matplotlib.axes._subplots.AxesSubplot object at 0x1a15a981d0>]\n",
      " [<matplotlib.axes._subplots.AxesSubplot object at 0x1a15abe828>\n",
      "  <matplotlib.axes._subplots.AxesSubplot object at 0x1a15ae4eb8>]\n",
      " [<matplotlib.axes._subplots.AxesSubplot object at 0x1a15b15588>\n",
      "  <matplotlib.axes._subplots.AxesSubplot object at 0x1a15b155c0>]]\n",
      "Prints the values to a stream, or to sys.stdout by default plot         :   AxesSubplot(0.125,0.125;0.775x0.755)\n"
     ]
    },
    {
     "data": {
      "image/png": "[encoded data removed]",
      "text/plain": [
       "<Figure size 432x288 with 1 Axes>"
      ]
     },
     "metadata": {},
     "output_type": "display_data"
    },
    {
     "data": {
      "image/png": "[encoded data removed]",
      "text/plain": [
       "<Figure size 432x288 with 6 Axes>"
      ]
     },
     "metadata": {},
     "output_type": "display_data"
    },
    {
     "data": {
      "image/png": "[encoded data removed]",
      "text/plain": [
       "<Figure size 432x288 with 1 Axes>"
      ]
     },
     "metadata": {},
     "output_type": "display_data"
    }
   ],
   "source": [
    "graphDetail()"
   ]
  },
  {
   "cell_type": "markdown",
   "metadata": {},
   "source": [
    "# Step : 4) Data Preprocessing\n",
    "used to convert the raw data into a clean data set"
   ]
  },
  {
   "cell_type": "markdown",
   "metadata": {},
   "source": [
    "# A) Data Cleaning"
   ]
  },
  {
   "cell_type": "code",
   "execution_count": null,
   "metadata": {},
   "outputs": [],
   "source": []
  },
  {
   "cell_type": "code",
   "execution_count": 47,
   "metadata": {},
   "outputs": [
    {
     "data": {
      "text/html": [
       "<div>\n",
       "<style scoped>\n",
       "    .dataframe tbody tr th:only-of-type {\n",
       "        vertical-align: middle;\n",
       "    }\n",
       "\n",
       "    .dataframe tbody tr th {\n",
       "        vertical-align: top;\n",
       "    }\n",
       "\n",
       "    .dataframe thead th {\n",
       "        text-align: right;\n",
       "    }\n",
       "</style>\n",
       "<table border=\"1\" class=\"dataframe\">\n",
       "  <thead>\n",
       "    <tr style=\"text-align: right;\">\n",
       "      <th></th>\n",
       "      <th>Unnamed: 0</th>\n",
       "      <th>place</th>\n",
       "      <th>built</th>\n",
       "      <th>sqft</th>\n",
       "      <th>sale</th>\n",
       "      <th>yearsOld</th>\n",
       "      <th>floor</th>\n",
       "      <th>totalFloor</th>\n",
       "      <th>bhk</th>\n",
       "    </tr>\n",
       "  </thead>\n",
       "  <tbody>\n",
       "    <tr>\n",
       "      <th>0</th>\n",
       "      <td>1341</td>\n",
       "      <td>BTM Layout</td>\n",
       "      <td>Super built-up  Area</td>\n",
       "      <td>1450</td>\n",
       "      <td>Resale</td>\n",
       "      <td>5</td>\n",
       "      <td>1</td>\n",
       "      <td>4</td>\n",
       "      <td>1</td>\n",
       "    </tr>\n",
       "    <tr>\n",
       "      <th>1</th>\n",
       "      <td>2126</td>\n",
       "      <td>Yelahanka</td>\n",
       "      <td>Super built-up  Area</td>\n",
       "      <td>2190</td>\n",
       "      <td>Resale</td>\n",
       "      <td>5</td>\n",
       "      <td>3</td>\n",
       "      <td>5</td>\n",
       "      <td>3</td>\n",
       "    </tr>\n",
       "  </tbody>\n",
       "</table>\n",
       "</div>"
      ],
      "text/plain": [
       "   Unnamed: 0       place                 built  sqft    sale  yearsOld  \\\n",
       "0        1341  BTM Layout  Super built-up  Area  1450  Resale         5   \n",
       "1        2126   Yelahanka  Super built-up  Area  2190  Resale         5   \n",
       "\n",
       "   floor  totalFloor  bhk  \n",
       "0      1           4    1  \n",
       "1      3           5    3  "
      ]
     },
     "execution_count": 47,
     "metadata": {},
     "output_type": "execute_result"
    }
   ],
   "source": [
    "# repace ? values\n",
    "data.replace('?', np.nan, inplace=True)\n",
    "\n",
    "data.head(2)"
   ]
  },
  {
   "cell_type": "code",
   "execution_count": null,
   "metadata": {},
   "outputs": [],
   "source": []
  },
  {
   "cell_type": "markdown",
   "metadata": {},
   "source": [
    "# B) (1) Label Encoding : Convert Categorical Value to Integer Value"
   ]
  },
  {
   "cell_type": "code",
   "execution_count": 48,
   "metadata": {},
   "outputs": [],
   "source": [
    "#1st Method \n",
    "# char_cols = data.dtypes.pipe(lambda x: x[x == 'object']).index\n",
    "# for c in char_cols:\n",
    "#     data[c] = pd.factorize(data[c])[0]\n",
    "    \n",
    "#OR 2nd method\n",
    "# enc = LabelEncoder()\n",
    "# data[\"place\"] = enc.fit_transform(data[\"place\"])\n",
    "# data[\"sale\"] = enc.fit_transform(data[\"sale\"])\n",
    "# data[\"built\"] = enc.fit_transform(data[\"built\"])\n",
    "\n",
    "#Do not try to change integer value\n",
    "#data[\"price\"] = enc.fit_transform(data[\"price\"])"
   ]
  },
  {
   "cell_type": "markdown",
   "metadata": {},
   "source": [
    "# (B) (2) Label Encoding  and Inverse: Convert Categorical Value to Integer Value and Vice-versa"
   ]
  },
  {
   "cell_type": "code",
   "execution_count": 70,
   "metadata": {},
   "outputs": [],
   "source": [
    "from sklearn.preprocessing import LabelEncoder \n",
    "le = LabelEncoder()\n",
    "# there are many way to do it \n",
    "#method : 1) labelEncodingCategoryToIntergerViceVersaForObject1stMethod (Note : 1st method is use for both conver & inverse)\n",
    "#This is use for vice-versa\n",
    "def labelEncodingCategoryToIntergerViceVersaForObject1stMethod(dataset):\n",
    "    '''\n",
    "    @author Rakesh\n",
    "    @see The function label encodes the object type columns and gives label      encoded and inverse tranform of the label encoded data\n",
    "    @param dataset dataframe on whoes column the label encoding has to be done\n",
    "    @return label encoded and inverse tranform of the label encoded data.\n",
    "   ''' \n",
    "    data_original = dataset[:]\n",
    "    data_tranformed = dataset[:]\n",
    "    for y in dataset.columns:\n",
    "       #check the dtype of the column object type contains strings or chars\n",
    "        if (dataset[y].dtype == object):\n",
    "            print(\"The string type features are  : \" + y)\n",
    "            le.fit(dataset[y].unique())\n",
    "            #label encoded data\n",
    "            data_tranformed[y] = le.transform(dataset[y])\n",
    "            #inverse label transform  data\n",
    "            data_original[y] = le.inverse_transform(data_tranformed[y])\n",
    "    return data_tranformed,data_original\n",
    "\n",
    "\n",
    "#method : 2) labelEncodingCategoryToIntergerViceVersaForObject2ndMethod\n",
    "def labelEncodingCategoryToIntergerViceVersaForObject2ndMethod(dataset):\n",
    "    data_original = dataset[:]\n",
    "    data_tranformed = dataset[:]\n",
    "    \n",
    "    # Categorical string mask\n",
    "    categorical_feature_mask = data_tranformed.dtypes==object\n",
    "    \n",
    "    # filter categorical columns using mask and turn it into a list\n",
    "    categorical_cols = data_tranformed.columns[categorical_feature_mask].tolist()\n",
    "   \n",
    "    # apply le on categorical feature columns\n",
    "    data_tranformed[categorical_cols] = data_tranformed[categorical_cols].apply(lambda col: le.fit_transform(col))\n",
    "    \n",
    "    return data_tranformed,data_original\n",
    "    \n",
    "\n",
    "    \n",
    "#Lable Encoding for bool(Convert bool to interger)    \n",
    "def convertBoolToIntegerEncoding(dataset):\n",
    "    #original data\n",
    "    data_original = dataset[:]\n",
    "    data_tranformed = dataset[:]\n",
    "    \n",
    "    # Categorical boolean mask\n",
    "    categorical_feature_mask = data_tranformed.dtypes==bool\n",
    "    \n",
    "    # filter categorical columns using mask and turn it into a list\n",
    "    categorical_cols = data_tranformed.columns[categorical_feature_mask].tolist()\n",
    "    \n",
    "    # apply le on categorical feature columns\n",
    "    data_tranformed[categorical_cols] = data_tranformed[categorical_cols].apply(lambda col: le.fit_transform(col))\n",
    "    \n",
    "    return data_tranformed,data_original\n",
    "\n",
    "\n",
    "\n",
    "\n",
    "#Lable Encoding for bool(Convert String and Boolean together to interger) \n",
    "#Convert All DataTypes(Object(String), Boolean) to Integer \n",
    "def convertAllDataTypeslToIntegerLabelEncoding(dataset):\n",
    "    #original data\n",
    "    data_original = dataset[:]\n",
    "    data_tranformed = dataset[:]\n",
    "    \n",
    "    \n",
    "    # Categorical string mask\n",
    "    categorical_feature_mask = data_tranformed.dtypes==object \n",
    "    # filter categorical columns using mask and turn it into a list\n",
    "    categorical_cols = data_tranformed.columns[categorical_feature_mask].tolist() \n",
    "    # apply le on categorical feature columns\n",
    "    data_tranformed[categorical_cols] = data_tranformed[categorical_cols].apply(lambda col: le.fit_transform(col))\n",
    "  \n",
    "\n",
    "    # Categorical boolean mask\n",
    "    categorical_feature_mask = data_tranformed.dtypes==bool \n",
    "    # filter categorical columns using mask and turn it into a list\n",
    "    categorical_cols = data_tranformed.columns[categorical_feature_mask].tolist() \n",
    "    # apply le on categorical feature columns\n",
    "    data_tranformed[categorical_cols] = data_tranformed[categorical_cols].apply(lambda col: le.fit_transform(col))\n",
    "    \n",
    "    return data_tranformed,data_original\n",
    "\n",
    "\n",
    "\n",
    "    "
   ]
  },
  {
   "cell_type": "markdown",
   "metadata": {},
   "source": [
    "# A) Note : Default\n",
    "IF you do not have Boolean categorical vlaue in Dataset Please run the labelEncodingCategoryToIntergerViceVersaForObject1stMethod this function"
   ]
  },
  {
   "cell_type": "code",
   "execution_count": 67,
   "metadata": {},
   "outputs": [
    {
     "name": "stdout",
     "output_type": "stream",
     "text": [
      "The string type features are  : place\n",
      "The string type features are  : built\n",
      "The string type features are  : sale\n"
     ]
    }
   ],
   "source": [
    "data_tranformed,data_original = labelEncodingCategoryToIntergerViceVersaForObject1stMethod(data)"
   ]
  },
  {
   "cell_type": "markdown",
   "metadata": {},
   "source": [
    "# B) Note :\n",
    "IF you have Boolean categorical vlaue in Dataset\n",
    "Please run the convertAllDataTypeslToIntegerLabelEncoding this function"
   ]
  },
  {
   "cell_type": "code",
   "execution_count": 69,
   "metadata": {},
   "outputs": [],
   "source": [
    "# data_tranformed,data_original = convertAllDataTypeslToIntegerLabelEncoding(data)"
   ]
  },
  {
   "cell_type": "code",
   "execution_count": 72,
   "metadata": {},
   "outputs": [
    {
     "data": {
      "text/html": [
       "<div>\n",
       "<style scoped>\n",
       "    .dataframe tbody tr th:only-of-type {\n",
       "        vertical-align: middle;\n",
       "    }\n",
       "\n",
       "    .dataframe tbody tr th {\n",
       "        vertical-align: top;\n",
       "    }\n",
       "\n",
       "    .dataframe thead th {\n",
       "        text-align: right;\n",
       "    }\n",
       "</style>\n",
       "<table border=\"1\" class=\"dataframe\">\n",
       "  <thead>\n",
       "    <tr style=\"text-align: right;\">\n",
       "      <th></th>\n",
       "      <th>ID</th>\n",
       "      <th>place</th>\n",
       "      <th>built</th>\n",
       "      <th>sqft</th>\n",
       "      <th>sale</th>\n",
       "      <th>yearsOld</th>\n",
       "      <th>floor</th>\n",
       "      <th>totalFloor</th>\n",
       "      <th>bhk</th>\n",
       "    </tr>\n",
       "  </thead>\n",
       "  <tbody>\n",
       "    <tr>\n",
       "      <th>0</th>\n",
       "      <td>1341</td>\n",
       "      <td>2</td>\n",
       "      <td>1</td>\n",
       "      <td>1450</td>\n",
       "      <td>0</td>\n",
       "      <td>5</td>\n",
       "      <td>1</td>\n",
       "      <td>4</td>\n",
       "      <td>1</td>\n",
       "    </tr>\n",
       "    <tr>\n",
       "      <th>1</th>\n",
       "      <td>2126</td>\n",
       "      <td>14</td>\n",
       "      <td>1</td>\n",
       "      <td>2190</td>\n",
       "      <td>0</td>\n",
       "      <td>5</td>\n",
       "      <td>3</td>\n",
       "      <td>5</td>\n",
       "      <td>3</td>\n",
       "    </tr>\n",
       "  </tbody>\n",
       "</table>\n",
       "</div>"
      ],
      "text/plain": [
       "     ID  place  built  sqft  sale  yearsOld  floor  totalFloor  bhk\n",
       "0  1341      2      1  1450     0         5      1           4    1\n",
       "1  2126     14      1  2190     0         5      3           5    3"
      ]
     },
     "execution_count": 72,
     "metadata": {},
     "output_type": "execute_result"
    }
   ],
   "source": [
    "data_tranformed.head(2)# after label encoding"
   ]
  },
  {
   "cell_type": "code",
   "execution_count": 76,
   "metadata": {
    "scrolled": true
   },
   "outputs": [
    {
     "data": {
      "text/html": [
       "<div>\n",
       "<style scoped>\n",
       "    .dataframe tbody tr th:only-of-type {\n",
       "        vertical-align: middle;\n",
       "    }\n",
       "\n",
       "    .dataframe tbody tr th {\n",
       "        vertical-align: top;\n",
       "    }\n",
       "\n",
       "    .dataframe thead th {\n",
       "        text-align: right;\n",
       "    }\n",
       "</style>\n",
       "<table border=\"1\" class=\"dataframe\">\n",
       "  <thead>\n",
       "    <tr style=\"text-align: right;\">\n",
       "      <th></th>\n",
       "      <th>ID</th>\n",
       "      <th>place</th>\n",
       "      <th>built</th>\n",
       "      <th>sqft</th>\n",
       "      <th>sale</th>\n",
       "      <th>yearsOld</th>\n",
       "      <th>floor</th>\n",
       "      <th>totalFloor</th>\n",
       "      <th>bhk</th>\n",
       "    </tr>\n",
       "  </thead>\n",
       "  <tbody>\n",
       "    <tr>\n",
       "      <th>0</th>\n",
       "      <td>1341</td>\n",
       "      <td>BTM Layout</td>\n",
       "      <td>Super built-up  Area</td>\n",
       "      <td>1450</td>\n",
       "      <td>Resale</td>\n",
       "      <td>5</td>\n",
       "      <td>1</td>\n",
       "      <td>4</td>\n",
       "      <td>1</td>\n",
       "    </tr>\n",
       "    <tr>\n",
       "      <th>1</th>\n",
       "      <td>2126</td>\n",
       "      <td>Yelahanka</td>\n",
       "      <td>Super built-up  Area</td>\n",
       "      <td>2190</td>\n",
       "      <td>Resale</td>\n",
       "      <td>5</td>\n",
       "      <td>3</td>\n",
       "      <td>5</td>\n",
       "      <td>3</td>\n",
       "    </tr>\n",
       "  </tbody>\n",
       "</table>\n",
       "</div>"
      ],
      "text/plain": [
       "     ID       place                 built  sqft    sale  yearsOld  floor  \\\n",
       "0  1341  BTM Layout  Super built-up  Area  1450  Resale         5      1   \n",
       "1  2126   Yelahanka  Super built-up  Area  2190  Resale         5      3   \n",
       "\n",
       "   totalFloor  bhk  \n",
       "0           4    1  \n",
       "1           5    3  "
      ]
     },
     "execution_count": 76,
     "metadata": {},
     "output_type": "execute_result"
    }
   ],
   "source": [
    "#data and data_original both are same\n",
    "\n",
    "data_original.head(2)# original data\n",
    "# data.head(2)# original data"
   ]
  },
  {
   "cell_type": "code",
   "execution_count": 74,
   "metadata": {},
   "outputs": [
    {
     "name": "stdout",
     "output_type": "stream",
     "text": [
      "<class 'pandas.core.frame.DataFrame'>\n",
      "RangeIndex: 3500 entries, 0 to 3499\n",
      "Data columns (total 9 columns):\n",
      "ID            3500 non-null int64\n",
      "place         3500 non-null int64\n",
      "built         3500 non-null int64\n",
      "sqft          3500 non-null int64\n",
      "sale          3500 non-null int64\n",
      "yearsOld      3500 non-null int64\n",
      "floor         3500 non-null int64\n",
      "totalFloor    3500 non-null int64\n",
      "bhk           3500 non-null int64\n",
      "dtypes: int64(9)\n",
      "memory usage: 246.2 KB\n"
     ]
    }
   ],
   "source": [
    "data_tranformed.info()"
   ]
  },
  {
   "cell_type": "code",
   "execution_count": null,
   "metadata": {},
   "outputs": [],
   "source": []
  },
  {
   "cell_type": "code",
   "execution_count": 50,
   "metadata": {},
   "outputs": [],
   "source": [
    "# from collections import Counter\n",
    "# Counter(data)\n",
    "# Counter(data[\"state\"])"
   ]
  },
  {
   "cell_type": "markdown",
   "metadata": {},
   "source": [
    "# Created New CSV File :\n",
    "Finally, We have done Data Preprocessing and Data Analysis and Data Visualiztion"
   ]
  },
  {
   "cell_type": "markdown",
   "metadata": {},
   "source": [
    "# Save CSV File : FileName -> final_dataset.csv"
   ]
  },
  {
   "cell_type": "code",
   "execution_count": 78,
   "metadata": {},
   "outputs": [],
   "source": [
    "\n",
    "data_tranformed.to_csv(\"final_dataset.csv\",index=False)"
   ]
  },
  {
   "cell_type": "code",
   "execution_count": 80,
   "metadata": {},
   "outputs": [
    {
     "name": "stdout",
     "output_type": "stream",
     "text": [
      "PreprocessingVisualizeDataset.ipynb  final_dataset.csv\r\n",
      "RegressionBasic.ipynb                hp_data.csv\r\n",
      "RegressionBasic.py\r\n"
     ]
    }
   ],
   "source": [
    "ls"
   ]
  },
  {
   "cell_type": "code",
   "execution_count": 83,
   "metadata": {},
   "outputs": [
    {
     "data": {
      "text/html": [
       "<div>\n",
       "<style scoped>\n",
       "    .dataframe tbody tr th:only-of-type {\n",
       "        vertical-align: middle;\n",
       "    }\n",
       "\n",
       "    .dataframe tbody tr th {\n",
       "        vertical-align: top;\n",
       "    }\n",
       "\n",
       "    .dataframe thead th {\n",
       "        text-align: right;\n",
       "    }\n",
       "</style>\n",
       "<table border=\"1\" class=\"dataframe\">\n",
       "  <thead>\n",
       "    <tr style=\"text-align: right;\">\n",
       "      <th></th>\n",
       "      <th>ID</th>\n",
       "      <th>place</th>\n",
       "      <th>built</th>\n",
       "      <th>sqft</th>\n",
       "      <th>sale</th>\n",
       "      <th>yearsOld</th>\n",
       "      <th>floor</th>\n",
       "      <th>totalFloor</th>\n",
       "      <th>bhk</th>\n",
       "    </tr>\n",
       "  </thead>\n",
       "  <tbody>\n",
       "    <tr>\n",
       "      <th>0</th>\n",
       "      <td>1341</td>\n",
       "      <td>2</td>\n",
       "      <td>1</td>\n",
       "      <td>1450</td>\n",
       "      <td>0</td>\n",
       "      <td>5</td>\n",
       "      <td>1</td>\n",
       "      <td>4</td>\n",
       "      <td>1</td>\n",
       "    </tr>\n",
       "    <tr>\n",
       "      <th>1</th>\n",
       "      <td>2126</td>\n",
       "      <td>14</td>\n",
       "      <td>1</td>\n",
       "      <td>2190</td>\n",
       "      <td>0</td>\n",
       "      <td>5</td>\n",
       "      <td>3</td>\n",
       "      <td>5</td>\n",
       "      <td>3</td>\n",
       "    </tr>\n",
       "  </tbody>\n",
       "</table>\n",
       "</div>"
      ],
      "text/plain": [
       "     ID  place  built  sqft  sale  yearsOld  floor  totalFloor  bhk\n",
       "0  1341      2      1  1450     0         5      1           4    1\n",
       "1  2126     14      1  2190     0         5      3           5    3"
      ]
     },
     "execution_count": 83,
     "metadata": {},
     "output_type": "execute_result"
    }
   ],
   "source": [
    "\n",
    "final_data = pd.read_csv(\"final_dataset.csv\")\n",
    "final_data.head(2)"
   ]
  },
  {
   "cell_type": "code",
   "execution_count": 81,
   "metadata": {},
   "outputs": [
    {
     "data": {
      "text/html": [
       "<div>\n",
       "<style scoped>\n",
       "    .dataframe tbody tr th:only-of-type {\n",
       "        vertical-align: middle;\n",
       "    }\n",
       "\n",
       "    .dataframe tbody tr th {\n",
       "        vertical-align: top;\n",
       "    }\n",
       "\n",
       "    .dataframe thead th {\n",
       "        text-align: right;\n",
       "    }\n",
       "</style>\n",
       "<table border=\"1\" class=\"dataframe\">\n",
       "  <thead>\n",
       "    <tr style=\"text-align: right;\">\n",
       "      <th></th>\n",
       "      <th>ID</th>\n",
       "      <th>place</th>\n",
       "      <th>built</th>\n",
       "      <th>sqft</th>\n",
       "      <th>sale</th>\n",
       "      <th>yearsOld</th>\n",
       "      <th>floor</th>\n",
       "      <th>totalFloor</th>\n",
       "    </tr>\n",
       "  </thead>\n",
       "  <tbody>\n",
       "    <tr>\n",
       "      <th>0</th>\n",
       "      <td>1341</td>\n",
       "      <td>2</td>\n",
       "      <td>1</td>\n",
       "      <td>1450</td>\n",
       "      <td>0</td>\n",
       "      <td>5</td>\n",
       "      <td>1</td>\n",
       "      <td>4</td>\n",
       "    </tr>\n",
       "    <tr>\n",
       "      <th>1</th>\n",
       "      <td>2126</td>\n",
       "      <td>14</td>\n",
       "      <td>1</td>\n",
       "      <td>2190</td>\n",
       "      <td>0</td>\n",
       "      <td>5</td>\n",
       "      <td>3</td>\n",
       "      <td>5</td>\n",
       "    </tr>\n",
       "    <tr>\n",
       "      <th>2</th>\n",
       "      <td>816</td>\n",
       "      <td>12</td>\n",
       "      <td>1</td>\n",
       "      <td>1019</td>\n",
       "      <td>0</td>\n",
       "      <td>1</td>\n",
       "      <td>2</td>\n",
       "      <td>5</td>\n",
       "    </tr>\n",
       "  </tbody>\n",
       "</table>\n",
       "</div>"
      ],
      "text/plain": [
       "     ID  place  built  sqft  sale  yearsOld  floor  totalFloor\n",
       "0  1341      2      1  1450     0         5      1           4\n",
       "1  2126     14      1  2190     0         5      3           5\n",
       "2   816     12      1  1019     0         1      2           5"
      ]
     },
     "execution_count": 81,
     "metadata": {},
     "output_type": "execute_result"
    }
   ],
   "source": [
    "final_data.iloc[0:3,0:8]"
   ]
  },
  {
   "cell_type": "code",
   "execution_count": 82,
   "metadata": {},
   "outputs": [
    {
     "data": {
      "text/html": [
       "<div>\n",
       "<style scoped>\n",
       "    .dataframe tbody tr th:only-of-type {\n",
       "        vertical-align: middle;\n",
       "    }\n",
       "\n",
       "    .dataframe tbody tr th {\n",
       "        vertical-align: top;\n",
       "    }\n",
       "\n",
       "    .dataframe thead th {\n",
       "        text-align: right;\n",
       "    }\n",
       "</style>\n",
       "<table border=\"1\" class=\"dataframe\">\n",
       "  <thead>\n",
       "    <tr style=\"text-align: right;\">\n",
       "      <th></th>\n",
       "      <th>bhk</th>\n",
       "    </tr>\n",
       "  </thead>\n",
       "  <tbody>\n",
       "    <tr>\n",
       "      <th>0</th>\n",
       "      <td>1</td>\n",
       "    </tr>\n",
       "    <tr>\n",
       "      <th>1</th>\n",
       "      <td>3</td>\n",
       "    </tr>\n",
       "    <tr>\n",
       "      <th>2</th>\n",
       "      <td>2</td>\n",
       "    </tr>\n",
       "  </tbody>\n",
       "</table>\n",
       "</div>"
      ],
      "text/plain": [
       "   bhk\n",
       "0    1\n",
       "1    3\n",
       "2    2"
      ]
     },
     "execution_count": 82,
     "metadata": {},
     "output_type": "execute_result"
    }
   ],
   "source": [
    "final_data.iloc[0:3,8:9]"
   ]
  },
  {
   "cell_type": "code",
   "execution_count": 41,
   "metadata": {},
   "outputs": [
    {
     "name": "stdout",
     "output_type": "stream",
     "text": [
      "PreprocessingVisualizeDataset.ipynb  RegressionBasic.py\r\n",
      "RegressionBasic.ipynb                hp_data.csv\r\n"
     ]
    }
   ],
   "source": [
    "da\n"
   ]
  },
  {
   "cell_type": "code",
   "execution_count": null,
   "metadata": {},
   "outputs": [],
   "source": []
  },
  {
   "cell_type": "code",
   "execution_count": null,
   "metadata": {},
   "outputs": [],
   "source": []
  },
  {
   "cell_type": "code",
   "execution_count": null,
   "metadata": {},
   "outputs": [],
   "source": []
  }
 ],
 "metadata": {
  "kernelspec": {
   "display_name": "Python 3",
   "language": "python",
   "name": "python3"
  },
  "language_info": {
   "codemirror_mode": {
    "name": "ipython",
    "version": 3
   },
   "file_extension": ".py",
   "mimetype": "text/x-python",
   "name": "python",
   "nbconvert_exporter": "python",
   "pygments_lexer": "ipython3",
   "version": "3.6.6"
  }
 },
 "nbformat": 4,
 "nbformat_minor": 2
}

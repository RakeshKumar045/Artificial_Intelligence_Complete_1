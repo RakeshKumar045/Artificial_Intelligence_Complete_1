{
 "cells": [
  {
   "cell_type": "markdown",
   "metadata": {},
   "source": [
    "## Using BentoML with scikit-learn\n",
    "\n",
    "In thus notebook we will wrap a Logistic Regression classifier (trained using the Titanic dataset) into a REST API endpoint using `bentoml`.\n",
    "\n",
    "BentoML makes this really easier. For details on `BentoML` head over to https://github.com/bentoml/BentoML."
   ]
  },
  {
   "cell_type": "code",
   "execution_count": 14,
   "metadata": {},
   "outputs": [],
   "source": [
    "# Import dependencies\n",
    "import pandas as pd\n",
    "import numpy as np\n",
    "import warnings\n",
    "\n",
    "warnings.filterwarnings(\"ignore\")"
   ]
  },
  {
   "cell_type": "code",
   "execution_count": 15,
   "metadata": {},
   "outputs": [],
   "source": [
    "# Load the dataset in a DataFrame object\n",
    "url = \"http://s3.amazonaws.com/assets.datacamp.com/course/Kaggle/train.csv\"\n",
    "df = pd.read_csv(url)\n",
    "\n",
    "include = ['Age', 'Sex', 'Embarked', 'Survived'] # Only four features\n",
    "df_ = df[include]"
   ]
  },
  {
   "cell_type": "code",
   "execution_count": 16,
   "metadata": {},
   "outputs": [
    {
     "name": "stdout",
     "output_type": "stream",
     "text": [
      "(891, 12)\n",
      "Index(['PassengerId', 'Survived', 'Pclass', 'Name', 'Sex', 'Age', 'SibSp',\n",
      "       'Parch', 'Ticket', 'Fare', 'Cabin', 'Embarked'],\n",
      "      dtype='object')\n"
     ]
    }
   ],
   "source": [
    "print(df.shape)\n",
    "print(df.columns)"
   ]
  },
  {
   "cell_type": "code",
   "execution_count": 17,
   "metadata": {},
   "outputs": [],
   "source": [
    "# Data preprocessing: Missing value replacement with 0 and one-hot encoding of the categoricals\n",
    "categoricals = []\n",
    "for col, col_type in df_.dtypes.iteritems():\n",
    "     if col_type == 'O':\n",
    "          categoricals.append(col)\n",
    "     else:\n",
    "          df_[col].fillna(0, inplace=True)\n",
    "\n",
    "df_ohe = pd.get_dummies(df_, columns=categoricals, dummy_na=True)"
   ]
  },
  {
   "cell_type": "code",
   "execution_count": 18,
   "metadata": {},
   "outputs": [
    {
     "data": {
      "text/plain": [
       "LogisticRegression(C=1.0, class_weight=None, dual=False, fit_intercept=True,\n",
       "          intercept_scaling=1, max_iter=100, multi_class='ovr', n_jobs=1,\n",
       "          penalty='l2', random_state=None, solver='liblinear', tol=0.0001,\n",
       "          verbose=0, warm_start=False)"
      ]
     },
     "execution_count": 18,
     "metadata": {},
     "output_type": "execute_result"
    }
   ],
   "source": [
    "# Ready to call clf.fit() :P\n",
    "from sklearn.linear_model import LogisticRegression\n",
    "\n",
    "dependent_variable = 'Survived'\n",
    "x = df_ohe[df_ohe.columns.difference([dependent_variable])]\n",
    "y = df_ohe[dependent_variable]\n",
    "\n",
    "lr = LogisticRegression()\n",
    "lr.fit(x, y)"
   ]
  },
  {
   "cell_type": "code",
   "execution_count": 19,
   "metadata": {},
   "outputs": [
    {
     "name": "stdout",
     "output_type": "stream",
     "text": [
      "Overwriting passenger_classifier.py\n"
     ]
    }
   ],
   "source": [
    "%%writefile passenger_classifier.py\n",
    "from bentoml import BentoService, api, env, artifacts\n",
    "from bentoml.artifact import PickleArtifact\n",
    "from bentoml.handlers import JsonHandler\n",
    "\n",
    "# Explicitly specify it\n",
    "import pandas as pd \n",
    "\n",
    "# You can also import your own python module here and BentoML will automatically\n",
    "# figure out the dependency chain and package all those python modules\n",
    "\n",
    "@artifacts([PickleArtifact('model')])\n",
    "@env(conda_pip_dependencies=[\"scikit-learn\"])\n",
    "class PassengerClassifier(BentoService):\n",
    "    \n",
    "    @api(JsonHandler)\n",
    "    def predict(self, json):\n",
    "        # Arbitrary preprocessing or feature fetching code can be placed here \n",
    "        query_df = pd.DataFrame(json)\n",
    "        query = pd.get_dummies(query_df)\n",
    "        column_names = ['Age',\n",
    "                     'Embarked_C',\n",
    "                     'Embarked_Q',\n",
    "                     'Embarked_S',\n",
    "                     'Embarked_nan',\n",
    "                     'Sex_female',\n",
    "                     'Sex_male',\n",
    "                     'Sex_nan']\n",
    "        query = query.reindex(columns=column_names, fill_value=0)\n",
    "        prediction = self.artifacts.model.predict(query)\n",
    "    \n",
    "        return prediction"
   ]
  },
  {
   "cell_type": "code",
   "execution_count": 20,
   "metadata": {},
   "outputs": [
    {
     "data": {
      "text/plain": [
       "'rakesh_drive/PassengerClassifier/2019_06_26_2ca97a3f'"
      ]
     },
     "execution_count": 20,
     "metadata": {},
     "output_type": "execute_result"
    }
   ],
   "source": [
    "# 1) import the custom BentoService defined above\n",
    "from passenger_classifier import PassengerClassifier\n",
    "\n",
    "# 2) `pack` it with required artifacts\n",
    "svc = PassengerClassifier.pack(model=lr)\n",
    "\n",
    "# 3) save packed rakesh_drive as archive\n",
    "svc.save('rakesh_drive')\n",
    "# Archive will be saved to ./bento_archive/PassengerClassifier/v0.0.1/"
   ]
  },
  {
   "cell_type": "markdown",
   "metadata": {},
   "source": [
    "When you execute `bentoml serve ./bento_archive/PassengerClassifier/0.0.v0.0.1/` you should get a trace which looks something like the following - \n",
    "```\n",
    "* Serving Flask app \"PassengerClassifier\" (lazy loading)\n",
    "* Environment: production\n",
    "  WARNING: Do not use the development server in a production environment.\n",
    "  Use a production WSGI server instead.\n",
    "* Debug mode: off\n",
    "* Running on http://127.0.0.1:5000/ (Press CTRL+C to quit)\n",
    "```"
   ]
  },
  {
   "cell_type": "markdown",
   "metadata": {},
   "source": [
    "You can now use an API client like Postman to test your API endpoint. You can send request to the endpoint with the following configuration in Postman - \n",
    "\n",
    "![](https://i.ibb.co/R21pF1f/Screen-Shot-2019-04-19-at-12-01-02-PM.png)"
   ]
  },
  {
   "cell_type": "markdown",
   "metadata": {},
   "source": [
    "When you hit the `Send` button, you should get a response like the following - \n",
    "```\n",
    "[\n",
    "    0,\n",
    "    1,\n",
    "    0,\n",
    "    0\n",
    "]\n",
    "```\n",
    "\n",
    "Feel free to map these integer values to more meaningful messages. "
   ]
  },
  {
   "cell_type": "code",
   "execution_count": 21,
   "metadata": {},
   "outputs": [
    {
     "data": {
      "text/plain": [
       "[{'Age': 85, 'Sex': 'male', 'Embarked': 'S'},\n",
       " {'Age': 42, 'Sex': 'female', 'Embarked': 'C'},\n",
       " {'Age': 3, 'Sex': 'male', 'Embarked': 'C'},\n",
       " {'Age': 21, 'Sex': 'male', 'Embarked': 'S'}]"
      ]
     },
     "execution_count": 21,
     "metadata": {},
     "output_type": "execute_result"
    }
   ],
   "source": [
    "[\n",
    "    {\"Age\" : 85, \"Sex\" : \"male\", \"Embarked\" : \"S\"},\n",
    "    {\"Age\" : 42, \"Sex\" : \"female\", \"Embarked\" : \"C\"},\n",
    "    {\"Age\" : 3, \"Sex\" : \"male\", \"Embarked\" : \"C\"},\n",
    "    {\"Age\" : 21, \"Sex\" : \"male\", \"Embarked\" : \"S\"}\n",
    "]"
   ]
  },
  {
   "cell_type": "code",
   "execution_count": 22,
   "metadata": {},
   "outputs": [],
   "source": [
    "# !pip install bentoml"
   ]
  },
  {
   "cell_type": "code",
   "execution_count": 23,
   "metadata": {},
   "outputs": [],
   "source": [
    "data = pd.read_csv(url)"
   ]
  },
  {
   "cell_type": "code",
   "execution_count": 24,
   "metadata": {},
   "outputs": [
    {
     "name": "stdout",
     "output_type": "stream",
     "text": [
      "The number of null values in:PassengerId == 0\n",
      "The number of null values in:Survived == 0\n",
      "The number of null values in:Pclass == 0\n",
      "The number of null values in:Name == 0\n",
      "The number of null values in:Sex == 0\n",
      "The number of null values in:Age == 177\n",
      "The number of null values in:SibSp == 0\n",
      "The number of null values in:Parch == 0\n",
      "The number of null values in:Ticket == 0\n",
      "The number of null values in:Fare == 0\n",
      "The number of null values in:Cabin == 687\n",
      "The number of null values in:Embarked == 2\n"
     ]
    }
   ],
   "source": [
    "for _ in data.columns:\n",
    "    print(\"The number of null values in:{} == {}\".format(_, data[_].isnull().sum()))"
   ]
  },
  {
   "cell_type": "code",
   "execution_count": 25,
   "metadata": {},
   "outputs": [
    {
     "data": {
      "text/plain": [
       "['PassengerId',\n",
       " 'Survived',\n",
       " 'Pclass',\n",
       " 'Name',\n",
       " 'Sex',\n",
       " 'Age',\n",
       " 'SibSp',\n",
       " 'Parch',\n",
       " 'Ticket',\n",
       " 'Fare',\n",
       " 'Cabin',\n",
       " 'Embarked']"
      ]
     },
     "execution_count": 25,
     "metadata": {},
     "output_type": "execute_result"
    }
   ],
   "source": [
    "list(data.columns)\n"
   ]
  },
  {
   "cell_type": "code",
   "execution_count": 26,
   "metadata": {},
   "outputs": [
    {
     "name": "stdout",
     "output_type": "stream",
     "text": [
      "Index(['PassengerId', 'Survived', 'Pclass', 'Name', 'Sex', 'Age', 'SibSp',\n",
      "       'Parch', 'Ticket', 'Fare', 'Cabin', 'Embarked'],\n",
      "      dtype='object')\n"
     ]
    }
   ],
   "source": [
    "print(data.columns)"
   ]
  },
  {
   "cell_type": "code",
   "execution_count": null,
   "metadata": {},
   "outputs": [],
   "source": []
  },
  {
   "cell_type": "code",
   "execution_count": null,
   "metadata": {},
   "outputs": [],
   "source": []
  },
  {
   "cell_type": "code",
   "execution_count": null,
   "metadata": {},
   "outputs": [],
   "source": []
  },
  {
   "cell_type": "code",
   "execution_count": null,
   "metadata": {},
   "outputs": [],
   "source": []
  }
 ],
 "metadata": {
  "kernelspec": {
   "display_name": "Python 3",
   "language": "python",
   "name": "python3"
  },
  "language_info": {
   "codemirror_mode": {
    "name": "ipython",
    "version": 3
   },
   "file_extension": ".py",
   "mimetype": "text/x-python",
   "name": "python",
   "nbconvert_exporter": "python",
   "pygments_lexer": "ipython3",
   "version": "3.6.6"
  }
 },
 "nbformat": 4,
 "nbformat_minor": 2
}

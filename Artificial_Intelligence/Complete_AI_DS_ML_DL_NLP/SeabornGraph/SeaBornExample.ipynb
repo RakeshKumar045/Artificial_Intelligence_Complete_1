{
 "cells": [
  {
   "cell_type": "markdown",
   "metadata": {},
   "source": [
    "# Plot Contents:\n",
    "Bar Plot ,\n",
    "Point Plot ,\n",
    "Joint Plot ,\n",
    "Pie Chart ,\n",
    "Lm Plot ,\n",
    "Kde Plot ,\n",
    "Violin Plot ,\n",
    "Heatmap ,\n",
    "Box Plot ,\n",
    "Swarm Plot ,\n",
    "Pair Plot ,\n",
    "Count Plot\n"
   ]
  },
  {
   "cell_type": "code",
   "execution_count": null,
   "metadata": {},
   "outputs": [],
   "source": [
    "import pandas as pd\n",
    "import seaborn as sns\n",
    "import numpy as np\n",
    "from matplotlib import pyplot as plt"
   ]
  },
  {
   "cell_type": "code",
   "execution_count": null,
   "metadata": {},
   "outputs": [],
   "source": [
    "# Data\n",
    "data = np.random.normal(size=(20, 6)) + np.arange(6) / 2\n",
    " \n",
    "# Proposed themes: darkgrid, whitegrid, dark, white, and ticks\n",
    " \n",
    "sns.set_style(\"whitegrid\")\n",
    "sns.boxplot(data=data)\n",
    "plt.title(\"whitegrid\")\n",
    " \n",
    "sns.set_style(\"darkgrid\")\n",
    "sns.boxplot(data=data);\n",
    "plt.title(\"darkgrid\")\n",
    " \n",
    "sns.set_style(\"white\")\n",
    "sns.boxplot(data=data);\n",
    "plt.title(\"white\")\n",
    " \n",
    "sns.set_style(\"dark\")\n",
    "sns.boxplot(data=data);\n",
    "plt.title(\"dark\")\n",
    " \n",
    "sns.set_style(\"ticks\")\n",
    "sns.boxplot(data=data);\n",
    "plt.title(\"ticks\")"
   ]
  },
  {
   "cell_type": "code",
   "execution_count": 55,
   "metadata": {},
   "outputs": [],
   "source": [
    "# Read dataset\n",
    "df = pd.read_csv('Pokemon.csv', index_col=0 ,encoding = 'unicode_escape')"
   ]
  },
  {
   "cell_type": "code",
   "execution_count": 57,
   "metadata": {},
   "outputs": [
    {
     "data": {
      "text/html": [
       "<div>\n",
       "<style scoped>\n",
       "    .dataframe tbody tr th:only-of-type {\n",
       "        vertical-align: middle;\n",
       "    }\n",
       "\n",
       "    .dataframe tbody tr th {\n",
       "        vertical-align: top;\n",
       "    }\n",
       "\n",
       "    .dataframe thead th {\n",
       "        text-align: right;\n",
       "    }\n",
       "</style>\n",
       "<table border=\"1\" class=\"dataframe\">\n",
       "  <thead>\n",
       "    <tr style=\"text-align: right;\">\n",
       "      <th></th>\n",
       "      <th>Name</th>\n",
       "      <th>Type 1</th>\n",
       "      <th>Type 2</th>\n",
       "      <th>Total</th>\n",
       "      <th>HP</th>\n",
       "      <th>Attack</th>\n",
       "      <th>Defense</th>\n",
       "      <th>Sp. Atk</th>\n",
       "      <th>Sp. Def</th>\n",
       "      <th>Speed</th>\n",
       "      <th>Stage</th>\n",
       "      <th>Legendary</th>\n",
       "    </tr>\n",
       "    <tr>\n",
       "      <th>#</th>\n",
       "      <th></th>\n",
       "      <th></th>\n",
       "      <th></th>\n",
       "      <th></th>\n",
       "      <th></th>\n",
       "      <th></th>\n",
       "      <th></th>\n",
       "      <th></th>\n",
       "      <th></th>\n",
       "      <th></th>\n",
       "      <th></th>\n",
       "      <th></th>\n",
       "    </tr>\n",
       "  </thead>\n",
       "  <tbody>\n",
       "    <tr>\n",
       "      <th>1</th>\n",
       "      <td>Bulbasaur</td>\n",
       "      <td>Grass</td>\n",
       "      <td>Poison</td>\n",
       "      <td>318</td>\n",
       "      <td>45</td>\n",
       "      <td>49</td>\n",
       "      <td>49</td>\n",
       "      <td>65</td>\n",
       "      <td>65</td>\n",
       "      <td>45</td>\n",
       "      <td>1</td>\n",
       "      <td>False</td>\n",
       "    </tr>\n",
       "    <tr>\n",
       "      <th>2</th>\n",
       "      <td>Ivysaur</td>\n",
       "      <td>Grass</td>\n",
       "      <td>Poison</td>\n",
       "      <td>405</td>\n",
       "      <td>60</td>\n",
       "      <td>62</td>\n",
       "      <td>63</td>\n",
       "      <td>80</td>\n",
       "      <td>80</td>\n",
       "      <td>60</td>\n",
       "      <td>2</td>\n",
       "      <td>False</td>\n",
       "    </tr>\n",
       "    <tr>\n",
       "      <th>3</th>\n",
       "      <td>Venusaur</td>\n",
       "      <td>Grass</td>\n",
       "      <td>Poison</td>\n",
       "      <td>525</td>\n",
       "      <td>80</td>\n",
       "      <td>82</td>\n",
       "      <td>83</td>\n",
       "      <td>100</td>\n",
       "      <td>100</td>\n",
       "      <td>80</td>\n",
       "      <td>3</td>\n",
       "      <td>False</td>\n",
       "    </tr>\n",
       "  </tbody>\n",
       "</table>\n",
       "</div>"
      ],
      "text/plain": [
       "        Name Type 1  Type 2  Total  HP  Attack  Defense  Sp. Atk  Sp. Def  \\\n",
       "#                                                                           \n",
       "1  Bulbasaur  Grass  Poison    318  45      49       49       65       65   \n",
       "2    Ivysaur  Grass  Poison    405  60      62       63       80       80   \n",
       "3   Venusaur  Grass  Poison    525  80      82       83      100      100   \n",
       "\n",
       "   Speed  Stage  Legendary  \n",
       "#                           \n",
       "1     45      1      False  \n",
       "2     60      2      False  \n",
       "3     80      3      False  "
      ]
     },
     "execution_count": 57,
     "metadata": {},
     "output_type": "execute_result"
    }
   ],
   "source": [
    "df.head(3)\n",
    "# df.shape"
   ]
  },
  {
   "cell_type": "code",
   "execution_count": 30,
   "metadata": {},
   "outputs": [],
   "source": [
    "x = df[\"Attack\"]\n",
    "y = df[\"Defense\"]"
   ]
  },
  {
   "cell_type": "markdown",
   "metadata": {},
   "source": [
    "# lmplot"
   ]
  },
  {
   "cell_type": "markdown",
   "metadata": {},
   "source": [
    "# 3: Seaborn's plotting functions.\n",
    "One of Seaborn's greatest strengths is its diversity of plotting functions. For instance, making a scatter plot is just one line of code using the lmplot() function.\n",
    "\n",
    "There are two ways you can do so.\n",
    "\n",
    "The first way (recommended) is to pass your DataFrame to the data= argument, while passing column names to the axes arguments, x= and y=.\n",
    "The second way is to directly pass in Series of data to the axes arguments."
   ]
  },
  {
   "cell_type": "code",
   "execution_count": 50,
   "metadata": {},
   "outputs": [
    {
     "name": "stderr",
     "output_type": "stream",
     "text": [
      "/Users/rakeshkumar/miniconda3/lib/python3.6/site-packages/scipy/stats/stats.py:1713: FutureWarning: Using a non-tuple sequence for multidimensional indexing is deprecated; use `arr[tuple(seq)]` instead of `arr[seq]`. In the future this will be interpreted as an array index, `arr[np.array(seq)]`, which will result either in an error or a different result.\n",
      "  return np.add.reduce(sorted[indexer] * weights, axis=axis) / sumval\n"
     ]
    },
    {
     "data": {
      "text/plain": [
       "<seaborn.axisgrid.FacetGrid at 0x1a25cf0b00>"
      ]
     },
     "execution_count": 50,
     "metadata": {},
     "output_type": "execute_result"
    },
    {
     "data": {
      "image/png": "[encoded data removed]",
      "text/plain": [
       "<Figure size 360x360 with 1 Axes>"
      ]
     },
     "metadata": {},
     "output_type": "display_data"
    }
   ],
   "source": [
    "# Default ScatterPlot (Careful for passing parameters)\n",
    "sns.lmplot(x='Attack', y='Defense', data=df)\n",
    " \n",
    "# Alternative way\n",
    "# sns.lmplot(x=df.Attack, y=df.Defense)\n"
   ]
  },
  {
   "cell_type": "code",
   "execution_count": 45,
   "metadata": {},
   "outputs": [
    {
     "data": {
      "text/plain": [
       "<seaborn.axisgrid.FacetGrid at 0x1a25145ac8>"
      ]
     },
     "execution_count": 45,
     "metadata": {},
     "output_type": "execute_result"
    },
    {
     "data": {
      "image/png": "[encoded data removed]",
      "text/plain": [
       "<Figure size 401.625x360 with 1 Axes>"
      ]
     },
     "metadata": {},
     "output_type": "display_data"
    }
   ],
   "source": [
    "# Scatterplot arguments\n",
    "sns.lmplot(x='Attack', y='Defense', data=df,\n",
    "           fit_reg=False, # No regression line\n",
    "           hue='Stage')   # Color by evolution stage\n",
    "# we'll set fit_reg=False to remove the regression line, since we only want a scatter plot.\n",
    "# we'll set hue='Stage' to color our points by the Pokémon's evolution stage. This hue argument is very useful \n",
    "# because it allows you to express a third dimension of information using color."
   ]
  },
  {
   "cell_type": "markdown",
   "metadata": {},
   "source": [
    "# 4: Customizing with Matplotlib.\n",
    "Remember, Seaborn is a high-level interface to Matplotlib. From our experience, Seaborn will get you most of the way there, but you'll sometimes need to bring in Matplotlib.\n",
    "\n",
    "Setting your axes limits is one of those times, but the process is pretty simple:\n",
    "\n",
    "First, invoke your Seaborn plotting function as normal.\n",
    "Then, invoke Matplotlib's customization functions. In this case, we'll use its ylim() and xlim() functions."
   ]
  },
  {
   "cell_type": "code",
   "execution_count": 46,
   "metadata": {},
   "outputs": [
    {
     "data": {
      "text/plain": [
       "(0, 141.97310248937742)"
      ]
     },
     "execution_count": 46,
     "metadata": {},
     "output_type": "execute_result"
    },
    {
     "data": {
      "image/png": "[encoded data removed]",
      "text/plain": [
       "<Figure size 401.625x360 with 1 Axes>"
      ]
     },
     "metadata": {},
     "output_type": "display_data"
    }
   ],
   "source": [
    "# Plot using Seaborn\n",
    "sns.lmplot(x='Attack', y='Defense', data=df,\n",
    "           fit_reg=False, \n",
    "           hue='Stage')\n",
    " \n",
    "# Tweak using Matplotlib\n",
    "plt.ylim(0, None)\n",
    "plt.xlim(0, None)"
   ]
  },
  {
   "cell_type": "markdown",
   "metadata": {},
   "source": [
    "# 5: The role of Pandas.\n",
    "Even though this is a Seaborn tutorial, Pandas actually plays a very important role. You see, Seaborn's plotting functions benefit from a base DataFrame that's reasonably formatted.\n",
    "\n"
   ]
  },
  {
   "cell_type": "code",
   "execution_count": 47,
   "metadata": {},
   "outputs": [
    {
     "data": {
      "text/plain": [
       "<matplotlib.axes._subplots.AxesSubplot at 0x1a25af51d0>"
      ]
     },
     "execution_count": 47,
     "metadata": {},
     "output_type": "execute_result"
    },
    {
     "data": {
      "image/png": "[encoded data removed]",
      "text/plain": [
       "<Figure size 432x288 with 1 Axes>"
      ]
     },
     "metadata": {},
     "output_type": "display_data"
    }
   ],
   "source": [
    "# Default Boxplot\n",
    "sns.boxplot(data=df)"
   ]
  },
  {
   "cell_type": "markdown",
   "metadata": {},
   "source": [
    "Well, that's a reasonable start, but there are some columns we'd probably like to remove:\n",
    "\n",
    "We can remove the Total since we have individual stats.\n",
    "We can remove the Stage and Legendary columns because they aren't combat stats.\n",
    "In turns out that this isn't easy to do within Seaborn alone. Instead, it's much simpler to pre-format your DataFrame.\n",
    "\n",
    "Let's create a new DataFrame called stats_df that only keeps the stats columns:\n",
    "\n"
   ]
  },
  {
   "cell_type": "code",
   "execution_count": 58,
   "metadata": {},
   "outputs": [
    {
     "data": {
      "text/plain": [
       "<matplotlib.axes._subplots.AxesSubplot at 0x1a25fe4b38>"
      ]
     },
     "execution_count": 58,
     "metadata": {},
     "output_type": "execute_result"
    },
    {
     "data": {
      "image/png": "[encoded data removed]",
      "text/plain": [
       "<Figure size 432x288 with 1 Axes>"
      ]
     },
     "metadata": {},
     "output_type": "display_data"
    }
   ],
   "source": [
    "# Pre-format DataFrame\n",
    "stats_df = df.drop(['Total', 'Stage', 'Legendary'], axis=1)\n",
    " \n",
    "# New boxplot using stats_df\n",
    "sns.boxplot(data=stats_df)"
   ]
  },
  {
   "cell_type": "code",
   "execution_count": 63,
   "metadata": {},
   "outputs": [
    {
     "data": {
      "text/plain": [
       "(151, 9)"
      ]
     },
     "execution_count": 63,
     "metadata": {},
     "output_type": "execute_result"
    }
   ],
   "source": [
    "stats_df.shape"
   ]
  },
  {
   "cell_type": "code",
   "execution_count": 64,
   "metadata": {},
   "outputs": [
    {
     "data": {
      "text/plain": [
       "(151, 12)"
      ]
     },
     "execution_count": 64,
     "metadata": {},
     "output_type": "execute_result"
    }
   ],
   "source": [
    "df.shape"
   ]
  },
  {
   "cell_type": "markdown",
   "metadata": {},
   "source": [
    "# 6: Seaborn themes.\n",
    "Another advantage of Seaborn is that it comes with decent style themes right out of the box. The default theme is called 'darkgrid'.\n",
    "\n",
    "Next, we'll change the theme to 'whitegrid' while making a violin plot.\n",
    "\n",
    "Violin plots are useful alternatives to box plots.\n",
    "They show the distribution (through the thickness of the violin) instead of only the summary statistics.\n",
    "For example, we can visualize the distribution of Attack by Pokémon's primary type:"
   ]
  },
  {
   "cell_type": "code",
   "execution_count": null,
   "metadata": {},
   "outputs": [],
   "source": [
    "# Set theme , plot violin plot\n",
    "sns.set_style('whitegrid')\n",
    " \n",
    "# Violin plot\n",
    "sns.violinplot(x='Type 1', y='Attack', data=df)"
   ]
  },
  {
   "cell_type": "markdown",
   "metadata": {},
   "source": [
    "As you can see, Dragon types tend to have higher Attack stats than Ghost types, but they also have greater variance.\n",
    "\n",
    "Now, Pokémon fans might find something quite jarring about that plot: The colors are nonsensical. Why is the Grass type colored pink or the Water type colored orange? We must fix this!\n",
    "\n"
   ]
  },
  {
   "cell_type": "markdown",
   "metadata": {},
   "source": [
    "# 7: Color palettes.\n",
    "Fortunately, Seaborn allows us to set custom color palettes. We can simply create an ordered Python list of color hex values.\n",
    "\n",
    "Let's use Bulbapedia to help us create a new color palette:"
   ]
  },
  {
   "cell_type": "code",
   "execution_count": null,
   "metadata": {},
   "outputs": [],
   "source": [
    "#Pokeman Color palatte\n",
    "pkmn_type_colors = ['#78C850',  # Grass\n",
    "                    '#F08030',  # Fire\n",
    "                    '#6890F0',  # Water\n",
    "                    '#A8B820',  # Bug\n",
    "                    '#A8A878',  # Normal\n",
    "                    '#A040A0',  # Poison\n",
    "                    '#F8D030',  # Electric\n",
    "                    '#E0C068',  # Ground\n",
    "                    '#EE99AC',  # Fairy\n",
    "                    '#C03028',  # Fighting\n",
    "                    '#F85888',  # Psychic\n",
    "                    '#B8A038',  # Rock\n",
    "                    '#705898',  # Ghost\n",
    "                    '#98D8D8',  # Ice\n",
    "                    '#7038F8',  # Dragon\n",
    "                   ]"
   ]
  },
  {
   "cell_type": "code",
   "execution_count": null,
   "metadata": {},
   "outputs": [],
   "source": [
    "# Violin plot with Pokemon color palette\n",
    "#Custom color palatte\n",
    "sns.violinplot(x='Type 1', y='Attack', data=df, \n",
    "               palette=pkmn_type_colors) # Set color palette"
   ]
  },
  {
   "cell_type": "markdown",
   "metadata": {},
   "source": [
    "Violin plots are great for visualizing distributions. However, since we only have 151 Pokémon in our dataset, we may want to simply display each point.\n",
    "\n",
    "That's where the swarm plot comes in. This visualization will show each point, while \"stacking\" those with similar values:\n",
    "\n",
    "Swarm plotPython"
   ]
  },
  {
   "cell_type": "code",
   "execution_count": null,
   "metadata": {},
   "outputs": [],
   "source": [
    "# Swarm plot with Pokemon color palette\n",
    "sns.swarmplot(x='Type 1', y='Attack', data=df, \n",
    "              palette=pkmn_type_colors)"
   ]
  },
  {
   "cell_type": "markdown",
   "metadata": {},
   "source": [
    "That's handy, but can't we combine our swarm plot and the violin plot? After all, they display similar information, right?"
   ]
  },
  {
   "cell_type": "markdown",
   "metadata": {},
   "source": [
    "# 8: Overlaying plots.\n",
    "The answer is yes.\n",
    "\n",
    "It's pretty straightforward to overlay plots using Seaborn, and it works the same way as with Matplotlib. Here's what we'll do:\n",
    "\n",
    "First, we'll make our figure larger using Matplotlib.\n",
    "Then, we'll plot the violin plot. However, we'll set inner=None to remove the bars inside the violins.\n",
    "Next, we'll plot the swarm plot. This time, we'll make the points black so they pop out more.\n",
    "Finally, we'll set a title using Matplotlib."
   ]
  },
  {
   "cell_type": "code",
   "execution_count": null,
   "metadata": {},
   "outputs": [],
   "source": [
    "#overlaying swarm and violin plot\n",
    "# Set figure size with matplotlib\n",
    "plt.figure(figsize=(10,6))\n",
    " \n",
    "# Create plot\n",
    "sns.violinplot(x='Type 1',\n",
    "               y='Attack', \n",
    "               data=df, \n",
    "               inner=None, # Remove the bars inside the violins\n",
    "               palette=pkmn_type_colors)\n",
    " \n",
    "sns.swarmplot(x='Type 1', \n",
    "              y='Attack', \n",
    "              data=df, \n",
    "              color='k', # Make points black\n",
    "              alpha=0.7) # and slightly transparent\n",
    " \n",
    "# Set title with matplotlib\n",
    "plt.title('Attack by Type')"
   ]
  },
  {
   "cell_type": "markdown",
   "metadata": {},
   "source": [
    "Awesome, now we have a pretty chart that tells us how Attack values are distributed across different Pokémon types. But what it we want to see all of the other stats as well?\n",
    "\n"
   ]
  },
  {
   "cell_type": "markdown",
   "metadata": {},
   "source": [
    "# 9: Putting it all together.\n",
    "Well, we could certainly repeat that chart for each stat. But we can also combine the information into one chart... we just have to do some data wrangling with Pandas beforehand.\n",
    "\n",
    "First, here's a reminder of our data format:"
   ]
  },
  {
   "cell_type": "markdown",
   "metadata": {},
   "source": [
    "To do so, we'll use Pandas's melt() function. It takes 3 arguments:\n",
    "\n",
    "First, the DataFrame to melt.\n",
    "Second, ID variables to keep (Pandas will melt all of the other ones).\n",
    "Finally, a name for the new, melted variable."
   ]
  },
  {
   "cell_type": "code",
   "execution_count": null,
   "metadata": {},
   "outputs": [],
   "source": [
    "# Melt DataFrame\n",
    "melted_df = pd.melt(stats_df, \n",
    "                    id_vars=[\"Name\", \"Type 1\", \"Type 2\"], # Variables to keep\n",
    "                    var_name=\"Stat\") # Name of melted variable\n",
    "melted_df.head()"
   ]
  },
  {
   "cell_type": "markdown",
   "metadata": {},
   "source": [
    "All 6 of the stat columns have been \"melted\" into one, and the new Stat column indicates the original stat (HP, Attack, Defense, Sp. Attack, Sp. Defense, or Speed). For example, it's hard to see here, but Bulbasaur now has 6 rows of data.\n",
    "\n",
    "In fact, if you print the shape of these two DataFrames...\n",
    "\n"
   ]
  },
  {
   "cell_type": "code",
   "execution_count": null,
   "metadata": {},
   "outputs": [],
   "source": [
    "print( stats_df.shape )\n",
    "print( melted_df.shape )\n",
    "# (151, 9)\n",
    "# (906, 5)"
   ]
  },
  {
   "cell_type": "markdown",
   "metadata": {},
   "source": [
    "you'll find that melted_df has 6 times the number of rows as stats_df.\n",
    "\n",
    "Now we can make a swarm plot with melted_df.\n",
    "\n",
    "But this time, we're going to set x='Stat' and y='value' so our swarms are separated by stat.\n",
    "Then, we'll set hue='Type 1' to color our points by the Pokémon type."
   ]
  },
  {
   "cell_type": "code",
   "execution_count": null,
   "metadata": {},
   "outputs": [],
   "source": [
    "# Swarmplot with melted_df\n",
    "sns.swarmplot(x='Stat', y='value', data=melted_df, \n",
    "              hue='Type 1')"
   ]
  },
  {
   "cell_type": "code",
   "execution_count": null,
   "metadata": {},
   "outputs": [],
   "source": [
    "Finally, let's make a few final tweaks for a more readable chart:\n",
    "\n",
    "Enlarge the plot.\n",
    "Separate points by hue using the argument split=True .\n",
    "Use our custom Pokemon color palette.\n",
    "Adjust the y-axis limits to end at 0.\n",
    "Place the legend to the right."
   ]
  },
  {
   "cell_type": "code",
   "execution_count": null,
   "metadata": {},
   "outputs": [],
   "source": [
    "# 1. Enlarge the plot , Customize\n",
    "plt.figure(figsize=(10,6))\n",
    " \n",
    "sns.swarmplot(x='Stat', \n",
    "              y='value', \n",
    "              data=melted_df, \n",
    "              hue='Type 1', \n",
    "              split=True, # 2. Separate points by hue\n",
    "              palette=pkmn_type_colors) # 3. Use Pokemon palette\n",
    " \n",
    "# 4. Adjust the y-axis\n",
    "plt.ylim(0, 260)\n",
    " \n",
    "# 5. Place legend to the right\n",
    "plt.legend(bbox_to_anchor=(1, 1), loc=2)"
   ]
  },
  {
   "cell_type": "markdown",
   "metadata": {},
   "source": [
    "# 10: Pokédex (mini-gallery).\n",
    "We're going to conclude this tutorial with a few quick-fire data visualizations, just to give you a sense of what's possible with Seaborn.\n",
    "\n"
   ]
  },
  {
   "cell_type": "markdown",
   "metadata": {},
   "source": [
    "# 10.1 - Heatmap\n",
    "Heatmaps help you visualize matrix-like data."
   ]
  },
  {
   "cell_type": "code",
   "execution_count": null,
   "metadata": {},
   "outputs": [],
   "source": [
    "# Calculate correlations\n",
    "corr = stats_df.corr()\n",
    " \n",
    "# Heatmap\n",
    "sns.heatmap(corr)\n"
   ]
  },
  {
   "cell_type": "markdown",
   "metadata": {},
   "source": [
    "# 10.2 - Histogram\n",
    "Histograms allow you to plot the distributions of numeric variables."
   ]
  },
  {
   "cell_type": "code",
   "execution_count": null,
   "metadata": {},
   "outputs": [],
   "source": [
    "# Distribution Plot (Histogram)\n",
    "sns.distplot(df.Attack)"
   ]
  },
  {
   "cell_type": "markdown",
   "metadata": {},
   "source": [
    "# 10.3 - Bar Plot\n",
    "Bar plots help you visualize the distributions of categorical variables"
   ]
  },
  {
   "cell_type": "code",
   "execution_count": null,
   "metadata": {},
   "outputs": [],
   "source": [
    "\n",
    "# Count Plot (a.k.a. Bar Plot)\n",
    "sns.countplot(x='Type 1', data=df, palette=pkmn_type_colors)\n",
    " \n",
    "# Rotate x-labels\n",
    "plt.xticks(rotation=-45)"
   ]
  },
  {
   "cell_type": "markdown",
   "metadata": {},
   "source": [
    "# 10.4 - Factor Plot\n",
    "Factor plots make it easy to separate plots by categorical classes."
   ]
  },
  {
   "cell_type": "code",
   "execution_count": null,
   "metadata": {},
   "outputs": [],
   "source": [
    "# Factor Plot\n",
    "g = sns.factorplot(x='Type 1', \n",
    "                   y='Attack', \n",
    "                   data=df, \n",
    "                   hue='Stage',  # Color by stage\n",
    "                   col='Stage',  # Separate by stage\n",
    "                   kind='swarm') # Swarmplot\n",
    " \n",
    "# Rotate x-axis labels\n",
    "g.set_xticklabels(rotation=-45)\n",
    " \n",
    "# Doesn't work because only rotates last plot\n",
    "# plt.xticks(rotation=-45)"
   ]
  },
  {
   "cell_type": "markdown",
   "metadata": {},
   "source": [
    "# 10.5 - Density Plot\n",
    "Density plots display the distribution between two variables.\n",
    "\n",
    "Tip: Consider overlaying this with a scatter plot."
   ]
  },
  {
   "cell_type": "code",
   "execution_count": null,
   "metadata": {},
   "outputs": [],
   "source": [
    "# Density Plot\n",
    "sns.kdeplot(df.Attack, df.Defense)"
   ]
  },
  {
   "cell_type": "markdown",
   "metadata": {},
   "source": [
    "# 10.6 - Joint Distribution Plot\n",
    "Joint distribution plots combine information from scatter plots and histograms to give you detailed information for bi-variate distributions."
   ]
  },
  {
   "cell_type": "code",
   "execution_count": null,
   "metadata": {},
   "outputs": [],
   "source": [
    "# Joint Distribution Plot\n",
    "sns.jointplot(x='Attack', y='Defense', data=df)"
   ]
  },
  {
   "cell_type": "code",
   "execution_count": null,
   "metadata": {},
   "outputs": [],
   "source": []
  },
  {
   "cell_type": "code",
   "execution_count": null,
   "metadata": {},
   "outputs": [],
   "source": []
  },
  {
   "cell_type": "code",
   "execution_count": null,
   "metadata": {},
   "outputs": [],
   "source": []
  },
  {
   "cell_type": "code",
   "execution_count": null,
   "metadata": {},
   "outputs": [],
   "source": []
  }
 ],
 "metadata": {
  "kernelspec": {
   "display_name": "Python 3",
   "language": "python",
   "name": "python3"
  },
  "language_info": {
   "codemirror_mode": {
    "name": "ipython",
    "version": 3
   },
   "file_extension": ".py",
   "mimetype": "text/x-python",
   "name": "python",
   "nbconvert_exporter": "python",
   "pygments_lexer": "ipython3",
   "version": "3.6.6"
  }
 },
 "nbformat": 4,
 "nbformat_minor": 2
}

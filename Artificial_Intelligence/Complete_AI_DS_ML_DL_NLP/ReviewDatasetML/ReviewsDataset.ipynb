{
 "cells": [
  {
   "cell_type": "code",
   "execution_count": 24,
   "metadata": {},
   "outputs": [],
   "source": [
    "%matplotlib inline\n",
    "\n",
    "import numpy as np # linear algebra\n",
    "import pandas as pd # data processing, CSV file I/O (e.g. pd.read_csv)\n",
    "import nltk\n",
    "\n",
    "\n",
    "# Input data files are available in the \"../input/\" directory.\n",
    "from subprocess import check_output\n",
    "#print(check_output([\"ls\", \"../input\"]).decode(\"utf8\"))\n",
    "\n",
    "# Any results you write to the current directory are saved as output."
   ]
  },
  {
   "cell_type": "code",
   "execution_count": 25,
   "metadata": {},
   "outputs": [
    {
     "name": "stdout",
     "output_type": "stream",
     "text": [
      "Number of reviews = 568454\n"
     ]
    }
   ],
   "source": [
    "df = pd.read_csv(\"Reviews.csv\", index_col = 0)\n",
    "print(\"Number of reviews = {}\".format(len(df)))"
   ]
  },
  {
   "cell_type": "code",
   "execution_count": 26,
   "metadata": {},
   "outputs": [
    {
     "data": {
      "text/plain": [
       "B007JFMH8M    913\n",
       "B002QWP89S    632\n",
       "B002QWP8H0    632\n",
       "B0026RQTGE    632\n",
       "B002QWHJOU    632\n",
       "Name: ProductId, dtype: int64"
      ]
     },
     "execution_count": 26,
     "metadata": {},
     "output_type": "execute_result"
    }
   ],
   "source": [
    "df.ProductId.value_counts().head()"
   ]
  },
  {
   "cell_type": "code",
   "execution_count": 27,
   "metadata": {},
   "outputs": [
    {
     "data": {
      "text/plain": [
       "Id\n",
       "1                         delmartian\n",
       "2                             dll pa\n",
       "3    Natalia Corres \"Natalia Corres\"\n",
       "4                               Karl\n",
       "5      Michael D. Bigham \"M. Wassir\"\n",
       "Name: ProfileName, dtype: object"
      ]
     },
     "execution_count": 27,
     "metadata": {},
     "output_type": "execute_result"
    }
   ],
   "source": [
    "\n",
    "df.ProfileName.head()\n"
   ]
  },
  {
   "cell_type": "code",
   "execution_count": 21,
   "metadata": {},
   "outputs": [
    {
     "data": {
      "text/plain": [
       "0    A3SGXH7AUHU8GW\n",
       "1    A1D87F6ZCVE5NK\n",
       "2     ABXLMWJIXXAIN\n",
       "3    A395BORC6FGVXV\n",
       "4    A1UQRSCLF8GW1T\n",
       "Name: UserId, dtype: object"
      ]
     },
     "execution_count": 21,
     "metadata": {},
     "output_type": "execute_result"
    }
   ],
   "source": [
    "df.UserId.head()"
   ]
  },
  {
   "cell_type": "code",
   "execution_count": 33,
   "metadata": {},
   "outputs": [
    {
     "data": {
      "text/plain": [
       "5    363122\n",
       "4     80655\n",
       "1     52268\n",
       "3     42640\n",
       "2     29769\n",
       "Name: Score, dtype: int64"
      ]
     },
     "execution_count": 33,
     "metadata": {},
     "output_type": "execute_result"
    }
   ],
   "source": [
    "\n",
    "df.Score.value_counts()"
   ]
  },
  {
   "cell_type": "code",
   "execution_count": 22,
   "metadata": {},
   "outputs": [
    {
     "data": {
      "text/html": [
       "<div>\n",
       "<style>\n",
       "    .dataframe thead tr:only-child th {\n",
       "        text-align: right;\n",
       "    }\n",
       "\n",
       "    .dataframe thead th {\n",
       "        text-align: left;\n",
       "    }\n",
       "\n",
       "    .dataframe tbody tr th {\n",
       "        vertical-align: top;\n",
       "    }\n",
       "</style>\n",
       "<table border=\"1\" class=\"dataframe\">\n",
       "  <thead>\n",
       "    <tr style=\"text-align: right;\">\n",
       "      <th></th>\n",
       "      <th>Id</th>\n",
       "      <th>ProductId</th>\n",
       "      <th>UserId</th>\n",
       "      <th>ProfileName</th>\n",
       "      <th>HelpfulnessNumerator</th>\n",
       "      <th>HelpfulnessDenominator</th>\n",
       "      <th>Score</th>\n",
       "      <th>Time</th>\n",
       "      <th>Summary</th>\n",
       "      <th>Text</th>\n",
       "    </tr>\n",
       "  </thead>\n",
       "  <tbody>\n",
       "    <tr>\n",
       "      <th>0</th>\n",
       "      <td>1</td>\n",
       "      <td>B001E4KFG0</td>\n",
       "      <td>A3SGXH7AUHU8GW</td>\n",
       "      <td>delmartian</td>\n",
       "      <td>1</td>\n",
       "      <td>1</td>\n",
       "      <td>5</td>\n",
       "      <td>1303862400</td>\n",
       "      <td>Good Quality Dog Food</td>\n",
       "      <td>I have bought several of the Vitality canned d...</td>\n",
       "    </tr>\n",
       "    <tr>\n",
       "      <th>1</th>\n",
       "      <td>2</td>\n",
       "      <td>B00813GRG4</td>\n",
       "      <td>A1D87F6ZCVE5NK</td>\n",
       "      <td>dll pa</td>\n",
       "      <td>0</td>\n",
       "      <td>0</td>\n",
       "      <td>1</td>\n",
       "      <td>1346976000</td>\n",
       "      <td>Not as Advertised</td>\n",
       "      <td>Product arrived labeled as Jumbo Salted Peanut...</td>\n",
       "    </tr>\n",
       "    <tr>\n",
       "      <th>2</th>\n",
       "      <td>3</td>\n",
       "      <td>B000LQOCH0</td>\n",
       "      <td>ABXLMWJIXXAIN</td>\n",
       "      <td>Natalia Corres \"Natalia Corres\"</td>\n",
       "      <td>1</td>\n",
       "      <td>1</td>\n",
       "      <td>4</td>\n",
       "      <td>1219017600</td>\n",
       "      <td>\"Delight\" says it all</td>\n",
       "      <td>This is a confection that has been around a fe...</td>\n",
       "    </tr>\n",
       "    <tr>\n",
       "      <th>3</th>\n",
       "      <td>4</td>\n",
       "      <td>B000UA0QIQ</td>\n",
       "      <td>A395BORC6FGVXV</td>\n",
       "      <td>Karl</td>\n",
       "      <td>3</td>\n",
       "      <td>3</td>\n",
       "      <td>2</td>\n",
       "      <td>1307923200</td>\n",
       "      <td>Cough Medicine</td>\n",
       "      <td>If you are looking for the secret ingredient i...</td>\n",
       "    </tr>\n",
       "    <tr>\n",
       "      <th>4</th>\n",
       "      <td>5</td>\n",
       "      <td>B006K2ZZ7K</td>\n",
       "      <td>A1UQRSCLF8GW1T</td>\n",
       "      <td>Michael D. Bigham \"M. Wassir\"</td>\n",
       "      <td>0</td>\n",
       "      <td>0</td>\n",
       "      <td>5</td>\n",
       "      <td>1350777600</td>\n",
       "      <td>Great taffy</td>\n",
       "      <td>Great taffy at a great price.  There was a wid...</td>\n",
       "    </tr>\n",
       "  </tbody>\n",
       "</table>\n",
       "</div>"
      ],
      "text/plain": [
       "   Id   ProductId          UserId                      ProfileName  \\\n",
       "0   1  B001E4KFG0  A3SGXH7AUHU8GW                       delmartian   \n",
       "1   2  B00813GRG4  A1D87F6ZCVE5NK                           dll pa   \n",
       "2   3  B000LQOCH0   ABXLMWJIXXAIN  Natalia Corres \"Natalia Corres\"   \n",
       "3   4  B000UA0QIQ  A395BORC6FGVXV                             Karl   \n",
       "4   5  B006K2ZZ7K  A1UQRSCLF8GW1T    Michael D. Bigham \"M. Wassir\"   \n",
       "\n",
       "   HelpfulnessNumerator  HelpfulnessDenominator  Score        Time  \\\n",
       "0                     1                       1      5  1303862400   \n",
       "1                     0                       0      1  1346976000   \n",
       "2                     1                       1      4  1219017600   \n",
       "3                     3                       3      2  1307923200   \n",
       "4                     0                       0      5  1350777600   \n",
       "\n",
       "                 Summary                                               Text  \n",
       "0  Good Quality Dog Food  I have bought several of the Vitality canned d...  \n",
       "1      Not as Advertised  Product arrived labeled as Jumbo Salted Peanut...  \n",
       "2  \"Delight\" says it all  This is a confection that has been around a fe...  \n",
       "3         Cough Medicine  If you are looking for the secret ingredient i...  \n",
       "4            Great taffy  Great taffy at a great price.  There was a wid...  "
      ]
     },
     "execution_count": 22,
     "metadata": {},
     "output_type": "execute_result"
    }
   ],
   "source": [
    "df.head()"
   ]
  },
  {
   "cell_type": "code",
   "execution_count": 23,
   "metadata": {},
   "outputs": [
    {
     "name": "stdout",
     "output_type": "stream",
     "text": [
      "<class 'pandas.core.frame.DataFrame'>\n",
      "RangeIndex: 568454 entries, 0 to 568453\n",
      "Data columns (total 10 columns):\n",
      "Id                        568454 non-null int64\n",
      "ProductId                 568454 non-null object\n",
      "UserId                    568454 non-null object\n",
      "ProfileName               568438 non-null object\n",
      "HelpfulnessNumerator      568454 non-null int64\n",
      "HelpfulnessDenominator    568454 non-null int64\n",
      "Score                     568454 non-null int64\n",
      "Time                      568454 non-null int64\n",
      "Summary                   568428 non-null object\n",
      "Text                      568454 non-null object\n",
      "dtypes: int64(5), object(5)\n",
      "memory usage: 43.4+ MB\n"
     ]
    }
   ],
   "source": [
    "df.info()"
   ]
  },
  {
   "cell_type": "code",
   "execution_count": 6,
   "metadata": {},
   "outputs": [
    {
     "data": {
      "text/html": [
       "<div>\n",
       "<style>\n",
       "    .dataframe thead tr:only-child th {\n",
       "        text-align: right;\n",
       "    }\n",
       "\n",
       "    .dataframe thead th {\n",
       "        text-align: left;\n",
       "    }\n",
       "\n",
       "    .dataframe tbody tr th {\n",
       "        vertical-align: top;\n",
       "    }\n",
       "</style>\n",
       "<table border=\"1\" class=\"dataframe\">\n",
       "  <thead>\n",
       "    <tr style=\"text-align: right;\">\n",
       "      <th></th>\n",
       "      <th>HelpfulnessNumerator</th>\n",
       "      <th>HelpfulnessDenominator</th>\n",
       "      <th>Score</th>\n",
       "      <th>Time</th>\n",
       "    </tr>\n",
       "  </thead>\n",
       "  <tbody>\n",
       "    <tr>\n",
       "      <th>count</th>\n",
       "      <td>568454.000000</td>\n",
       "      <td>568454.00000</td>\n",
       "      <td>568454.000000</td>\n",
       "      <td>5.684540e+05</td>\n",
       "    </tr>\n",
       "    <tr>\n",
       "      <th>mean</th>\n",
       "      <td>1.743817</td>\n",
       "      <td>2.22881</td>\n",
       "      <td>4.183199</td>\n",
       "      <td>1.296257e+09</td>\n",
       "    </tr>\n",
       "    <tr>\n",
       "      <th>std</th>\n",
       "      <td>7.636513</td>\n",
       "      <td>8.28974</td>\n",
       "      <td>1.310436</td>\n",
       "      <td>4.804331e+07</td>\n",
       "    </tr>\n",
       "    <tr>\n",
       "      <th>min</th>\n",
       "      <td>0.000000</td>\n",
       "      <td>0.00000</td>\n",
       "      <td>1.000000</td>\n",
       "      <td>9.393408e+08</td>\n",
       "    </tr>\n",
       "    <tr>\n",
       "      <th>25%</th>\n",
       "      <td>0.000000</td>\n",
       "      <td>0.00000</td>\n",
       "      <td>4.000000</td>\n",
       "      <td>1.271290e+09</td>\n",
       "    </tr>\n",
       "    <tr>\n",
       "      <th>50%</th>\n",
       "      <td>0.000000</td>\n",
       "      <td>1.00000</td>\n",
       "      <td>5.000000</td>\n",
       "      <td>1.311120e+09</td>\n",
       "    </tr>\n",
       "    <tr>\n",
       "      <th>75%</th>\n",
       "      <td>2.000000</td>\n",
       "      <td>2.00000</td>\n",
       "      <td>5.000000</td>\n",
       "      <td>1.332720e+09</td>\n",
       "    </tr>\n",
       "    <tr>\n",
       "      <th>max</th>\n",
       "      <td>866.000000</td>\n",
       "      <td>923.00000</td>\n",
       "      <td>5.000000</td>\n",
       "      <td>1.351210e+09</td>\n",
       "    </tr>\n",
       "  </tbody>\n",
       "</table>\n",
       "</div>"
      ],
      "text/plain": [
       "       HelpfulnessNumerator  HelpfulnessDenominator          Score  \\\n",
       "count         568454.000000            568454.00000  568454.000000   \n",
       "mean               1.743817                 2.22881       4.183199   \n",
       "std                7.636513                 8.28974       1.310436   \n",
       "min                0.000000                 0.00000       1.000000   \n",
       "25%                0.000000                 0.00000       4.000000   \n",
       "50%                0.000000                 1.00000       5.000000   \n",
       "75%                2.000000                 2.00000       5.000000   \n",
       "max              866.000000               923.00000       5.000000   \n",
       "\n",
       "               Time  \n",
       "count  5.684540e+05  \n",
       "mean   1.296257e+09  \n",
       "std    4.804331e+07  \n",
       "min    9.393408e+08  \n",
       "25%    1.271290e+09  \n",
       "50%    1.311120e+09  \n",
       "75%    1.332720e+09  \n",
       "max    1.351210e+09  "
      ]
     },
     "execution_count": 6,
     "metadata": {},
     "output_type": "execute_result"
    }
   ],
   "source": [
    "df.describe()"
   ]
  },
  {
   "cell_type": "code",
   "execution_count": 10,
   "metadata": {},
   "outputs": [
    {
     "data": {
      "text/plain": [
       "pandas.core.frame.DataFrame"
      ]
     },
     "execution_count": 10,
     "metadata": {},
     "output_type": "execute_result"
    }
   ],
   "source": [
    "type(df)"
   ]
  },
  {
   "cell_type": "code",
   "execution_count": 28,
   "metadata": {},
   "outputs": [
    {
     "data": {
      "text/plain": [
       "Id\n",
       "1         False\n",
       "2         False\n",
       "3         False\n",
       "4         False\n",
       "5         False\n",
       "6         False\n",
       "7         False\n",
       "8         False\n",
       "9         False\n",
       "10        False\n",
       "11        False\n",
       "12        False\n",
       "13        False\n",
       "14        False\n",
       "15        False\n",
       "16        False\n",
       "17        False\n",
       "18        False\n",
       "19        False\n",
       "20        False\n",
       "21        False\n",
       "22        False\n",
       "23        False\n",
       "24        False\n",
       "25        False\n",
       "26        False\n",
       "27        False\n",
       "28        False\n",
       "29        False\n",
       "30        False\n",
       "          ...  \n",
       "568425    False\n",
       "568426    False\n",
       "568427    False\n",
       "568428    False\n",
       "568429    False\n",
       "568430    False\n",
       "568431    False\n",
       "568432    False\n",
       "568433    False\n",
       "568434    False\n",
       "568435    False\n",
       "568436    False\n",
       "568437    False\n",
       "568438    False\n",
       "568439    False\n",
       "568440    False\n",
       "568441    False\n",
       "568442    False\n",
       "568443    False\n",
       "568444    False\n",
       "568445    False\n",
       "568446    False\n",
       "568447    False\n",
       "568448    False\n",
       "568449    False\n",
       "568450    False\n",
       "568451    False\n",
       "568452    False\n",
       "568453    False\n",
       "568454    False\n",
       "Name: ProductId, Length: 568454, dtype: bool"
      ]
     },
     "execution_count": 28,
     "metadata": {},
     "output_type": "execute_result"
    }
   ],
   "source": [
    "df.ProductId=='B007JFMH8M'\n"
   ]
  },
  {
   "cell_type": "code",
   "execution_count": 30,
   "metadata": {},
   "outputs": [
    {
     "data": {
      "text/html": [
       "<div>\n",
       "<style>\n",
       "    .dataframe thead tr:only-child th {\n",
       "        text-align: right;\n",
       "    }\n",
       "\n",
       "    .dataframe thead th {\n",
       "        text-align: left;\n",
       "    }\n",
       "\n",
       "    .dataframe tbody tr th {\n",
       "        vertical-align: top;\n",
       "    }\n",
       "</style>\n",
       "<table border=\"1\" class=\"dataframe\">\n",
       "  <thead>\n",
       "    <tr style=\"text-align: right;\">\n",
       "      <th></th>\n",
       "      <th>ProductId</th>\n",
       "      <th>UserId</th>\n",
       "      <th>ProfileName</th>\n",
       "      <th>HelpfulnessNumerator</th>\n",
       "      <th>HelpfulnessDenominator</th>\n",
       "      <th>Score</th>\n",
       "      <th>Time</th>\n",
       "      <th>Summary</th>\n",
       "      <th>Text</th>\n",
       "    </tr>\n",
       "    <tr>\n",
       "      <th>Id</th>\n",
       "      <th></th>\n",
       "      <th></th>\n",
       "      <th></th>\n",
       "      <th></th>\n",
       "      <th></th>\n",
       "      <th></th>\n",
       "      <th></th>\n",
       "      <th></th>\n",
       "      <th></th>\n",
       "    </tr>\n",
       "  </thead>\n",
       "  <tbody>\n",
       "    <tr>\n",
       "      <th>562971</th>\n",
       "      <td>B007JFMH8M</td>\n",
       "      <td>A368Z46FIKHSEZ</td>\n",
       "      <td>jaimoi \"Appreciator of good music\"</td>\n",
       "      <td>0</td>\n",
       "      <td>0</td>\n",
       "      <td>5</td>\n",
       "      <td>1343433600</td>\n",
       "      <td>Delicious!</td>\n",
       "      <td>I love these cookies!  Not only are they healt...</td>\n",
       "    </tr>\n",
       "    <tr>\n",
       "      <th>562972</th>\n",
       "      <td>B007JFMH8M</td>\n",
       "      <td>A1JAPP1CXRG57A</td>\n",
       "      <td>Linda Painchaud-Steinman \"PARK EDGE BOOKS\"</td>\n",
       "      <td>0</td>\n",
       "      <td>0</td>\n",
       "      <td>5</td>\n",
       "      <td>1343433600</td>\n",
       "      <td>Great Anytime of Day!</td>\n",
       "      <td>Quaker Soft Baked Oatmeal Cookies with raisins...</td>\n",
       "    </tr>\n",
       "    <tr>\n",
       "      <th>562973</th>\n",
       "      <td>B007JFMH8M</td>\n",
       "      <td>A2Z9JNXPIEL2B9</td>\n",
       "      <td>carwash169</td>\n",
       "      <td>0</td>\n",
       "      <td>0</td>\n",
       "      <td>5</td>\n",
       "      <td>1343433600</td>\n",
       "      <td>Very good!</td>\n",
       "      <td>I am usually not a huge fan of oatmeal cookies...</td>\n",
       "    </tr>\n",
       "    <tr>\n",
       "      <th>562974</th>\n",
       "      <td>B007JFMH8M</td>\n",
       "      <td>A31CYJQO3FL586</td>\n",
       "      <td>P. Titus \"Knitgirlll\"</td>\n",
       "      <td>0</td>\n",
       "      <td>0</td>\n",
       "      <td>5</td>\n",
       "      <td>1343433600</td>\n",
       "      <td>Quaker Oats Oatmeal Raisin Mom Voxbox Review C...</td>\n",
       "      <td>I participated in a product review that includ...</td>\n",
       "    </tr>\n",
       "    <tr>\n",
       "      <th>562975</th>\n",
       "      <td>B007JFMH8M</td>\n",
       "      <td>A2KXQ2EKFF3K2G</td>\n",
       "      <td>Jessica</td>\n",
       "      <td>0</td>\n",
       "      <td>0</td>\n",
       "      <td>5</td>\n",
       "      <td>1343433600</td>\n",
       "      <td>Quick, simple HEALTHY snack for the kiddos!!!</td>\n",
       "      <td>My kids loved these. I was very pleased to giv...</td>\n",
       "    </tr>\n",
       "  </tbody>\n",
       "</table>\n",
       "</div>"
      ],
      "text/plain": [
       "         ProductId          UserId  \\\n",
       "Id                                   \n",
       "562971  B007JFMH8M  A368Z46FIKHSEZ   \n",
       "562972  B007JFMH8M  A1JAPP1CXRG57A   \n",
       "562973  B007JFMH8M  A2Z9JNXPIEL2B9   \n",
       "562974  B007JFMH8M  A31CYJQO3FL586   \n",
       "562975  B007JFMH8M  A2KXQ2EKFF3K2G   \n",
       "\n",
       "                                       ProfileName  HelpfulnessNumerator  \\\n",
       "Id                                                                         \n",
       "562971          jaimoi \"Appreciator of good music\"                     0   \n",
       "562972  Linda Painchaud-Steinman \"PARK EDGE BOOKS\"                     0   \n",
       "562973                                  carwash169                     0   \n",
       "562974                       P. Titus \"Knitgirlll\"                     0   \n",
       "562975                                     Jessica                     0   \n",
       "\n",
       "        HelpfulnessDenominator  Score        Time  \\\n",
       "Id                                                  \n",
       "562971                       0      5  1343433600   \n",
       "562972                       0      5  1343433600   \n",
       "562973                       0      5  1343433600   \n",
       "562974                       0      5  1343433600   \n",
       "562975                       0      5  1343433600   \n",
       "\n",
       "                                                  Summary  \\\n",
       "Id                                                          \n",
       "562971                                         Delicious!   \n",
       "562972                              Great Anytime of Day!   \n",
       "562973                                         Very good!   \n",
       "562974  Quaker Oats Oatmeal Raisin Mom Voxbox Review C...   \n",
       "562975      Quick, simple HEALTHY snack for the kiddos!!!   \n",
       "\n",
       "                                                     Text  \n",
       "Id                                                         \n",
       "562971  I love these cookies!  Not only are they healt...  \n",
       "562972  Quaker Soft Baked Oatmeal Cookies with raisins...  \n",
       "562973  I am usually not a huge fan of oatmeal cookies...  \n",
       "562974  I participated in a product review that includ...  \n",
       "562975  My kids loved these. I was very pleased to giv...  "
      ]
     },
     "execution_count": 30,
     "metadata": {},
     "output_type": "execute_result"
    }
   ],
   "source": [
    "df[df.ProductId=='B007JFMH8M'].head()"
   ]
  },
  {
   "cell_type": "code",
   "execution_count": 31,
   "metadata": {},
   "outputs": [
    {
     "data": {
      "text/html": [
       "<div>\n",
       "<style>\n",
       "    .dataframe thead tr:only-child th {\n",
       "        text-align: right;\n",
       "    }\n",
       "\n",
       "    .dataframe thead th {\n",
       "        text-align: left;\n",
       "    }\n",
       "\n",
       "    .dataframe tbody tr th {\n",
       "        vertical-align: top;\n",
       "    }\n",
       "</style>\n",
       "<table border=\"1\" class=\"dataframe\">\n",
       "  <thead>\n",
       "    <tr style=\"text-align: right;\">\n",
       "      <th></th>\n",
       "      <th>Score</th>\n",
       "      <th>Summary</th>\n",
       "      <th>Text</th>\n",
       "    </tr>\n",
       "    <tr>\n",
       "      <th>Id</th>\n",
       "      <th></th>\n",
       "      <th></th>\n",
       "      <th></th>\n",
       "    </tr>\n",
       "  </thead>\n",
       "  <tbody>\n",
       "    <tr>\n",
       "      <th>562971</th>\n",
       "      <td>5</td>\n",
       "      <td>Delicious!</td>\n",
       "      <td>I love these cookies!  Not only are they healt...</td>\n",
       "    </tr>\n",
       "    <tr>\n",
       "      <th>562972</th>\n",
       "      <td>5</td>\n",
       "      <td>Great Anytime of Day!</td>\n",
       "      <td>Quaker Soft Baked Oatmeal Cookies with raisins...</td>\n",
       "    </tr>\n",
       "    <tr>\n",
       "      <th>562973</th>\n",
       "      <td>5</td>\n",
       "      <td>Very good!</td>\n",
       "      <td>I am usually not a huge fan of oatmeal cookies...</td>\n",
       "    </tr>\n",
       "    <tr>\n",
       "      <th>562974</th>\n",
       "      <td>5</td>\n",
       "      <td>Quaker Oats Oatmeal Raisin Mom Voxbox Review C...</td>\n",
       "      <td>I participated in a product review that includ...</td>\n",
       "    </tr>\n",
       "    <tr>\n",
       "      <th>562975</th>\n",
       "      <td>5</td>\n",
       "      <td>Quick, simple HEALTHY snack for the kiddos!!!</td>\n",
       "      <td>My kids loved these. I was very pleased to giv...</td>\n",
       "    </tr>\n",
       "  </tbody>\n",
       "</table>\n",
       "</div>"
      ],
      "text/plain": [
       "        Score                                            Summary  \\\n",
       "Id                                                                 \n",
       "562971      5                                         Delicious!   \n",
       "562972      5                              Great Anytime of Day!   \n",
       "562973      5                                         Very good!   \n",
       "562974      5  Quaker Oats Oatmeal Raisin Mom Voxbox Review C...   \n",
       "562975      5      Quick, simple HEALTHY snack for the kiddos!!!   \n",
       "\n",
       "                                                     Text  \n",
       "Id                                                         \n",
       "562971  I love these cookies!  Not only are they healt...  \n",
       "562972  Quaker Soft Baked Oatmeal Cookies with raisins...  \n",
       "562973  I am usually not a huge fan of oatmeal cookies...  \n",
       "562974  I participated in a product review that includ...  \n",
       "562975  My kids loved these. I was very pleased to giv...  "
      ]
     },
     "execution_count": 31,
     "metadata": {},
     "output_type": "execute_result"
    }
   ],
   "source": [
    "df[df.ProductId=='B007JFMH8M'][['Score','Summary','Text']].head()"
   ]
  },
  {
   "cell_type": "code",
   "execution_count": 32,
   "metadata": {},
   "outputs": [
    {
     "name": "stderr",
     "output_type": "stream",
     "text": [
      "/home/rakesh/anaconda3/lib/python3.6/site-packages/ipykernel_launcher.py:1: DeprecationWarning: \n",
      ".ix is deprecated. Please use\n",
      ".loc for label based indexing or\n",
      ".iloc for positional indexing\n",
      "\n",
      "See the documentation here:\n",
      "http://pandas.pydata.org/pandas-docs/stable/indexing.html#ix-indexer-is-deprecated\n",
      "  \"\"\"Entry point for launching an IPython kernel.\n"
     ]
    },
    {
     "data": {
      "text/plain": [
       "ProductId                                                        B001E4KFG0\n",
       "UserId                                                       A3SGXH7AUHU8GW\n",
       "ProfileName                                                      delmartian\n",
       "HelpfulnessNumerator                                                      1\n",
       "HelpfulnessDenominator                                                    1\n",
       "Score                                                                     5\n",
       "Time                                                             1303862400\n",
       "Summary                                               Good Quality Dog Food\n",
       "Text                      I have bought several of the Vitality canned d...\n",
       "Name: 1, dtype: object"
      ]
     },
     "execution_count": 32,
     "metadata": {},
     "output_type": "execute_result"
    }
   ],
   "source": [
    "df.ix[1]"
   ]
  },
  {
   "cell_type": "code",
   "execution_count": 34,
   "metadata": {},
   "outputs": [
    {
     "data": {
      "text/plain": [
       "<matplotlib.axes._subplots.AxesSubplot at 0x7f99455e2320>"
      ]
     },
     "execution_count": 34,
     "metadata": {},
     "output_type": "execute_result"
    },
    {
     "data": {
      "image/png": "[encoded data removed]",
      "text/plain": [
       "<matplotlib.figure.Figure at 0x7f99455e2c88>"
      ]
     },
     "metadata": {},
     "output_type": "display_data"
    }
   ],
   "source": [
    "df['datetime'] = pd.to_datetime(df[\"Time\"], unit='s')\n",
    "df.groupby([df.datetime.dt.year, df.datetime.dt.month]).count()['ProductId'].plot(kind=\"bar\",figsize=(30,10))"
   ]
  },
  {
   "cell_type": "code",
   "execution_count": 37,
   "metadata": {},
   "outputs": [
    {
     "data": {
      "text/plain": [
       "Id\n",
       "1                                     good quality dog food\n",
       "2                                         not as advertised\n",
       "3                                     \"delight\" says it all\n",
       "4                                            cough medicine\n",
       "5                                               great taffy\n",
       "6                                                nice taffy\n",
       "7             great!  just as good as the expensive brands!\n",
       "8                                    wonderful, tasty taffy\n",
       "9                                                yay barley\n",
       "10                                         healthy dog food\n",
       "11                          the best hot sauce in the world\n",
       "12        my cats love this \"diet\" food better than thei...\n",
       "13                     my cats are not fans of the new food\n",
       "14                                        fresh and greasy!\n",
       "15                             strawberry twizzlers - yummy\n",
       "16                 lots of twizzlers, just what you expect.\n",
       "17                                               poor taste\n",
       "18                                                 love it!\n",
       "19                                       great sweet candy!\n",
       "20                                  home delivered twizlers\n",
       "21                                             always fresh\n",
       "22                                                twizzlers\n",
       "23                                       delicious product!\n",
       "24                                                twizzlers\n",
       "25                            please sell these in mexico!!\n",
       "26                                   twizzlers - strawberry\n",
       "27                                          nasty no flavor\n",
       "28                              great bargain for the price\n",
       "29                                                   yummy!\n",
       "30                          the best hot sauce in the world\n",
       "                                ...                        \n",
       "568425                     unusual, even for a violet candy\n",
       "568426                                            very good\n",
       "568427                                              rip off\n",
       "568428                                the search has ended!\n",
       "568429                                           very tasty\n",
       "568430                             violet french hard candy\n",
       "568431                                            delicious\n",
       "568432                                         mostly water\n",
       "568433                                              no good\n",
       "568434                                     tastes horrible!\n",
       "568435                                          not so good\n",
       "568436                              where's the tortellini?\n",
       "568437                       baker's ammonia small quantity\n",
       "568438                                            good buy.\n",
       "568439                            baking ammonia that works\n",
       "568440                                                 a-ok\n",
       "568441      delicious, all natural and allergy free treats!\n",
       "568442                              great for fast gulasch!\n",
       "568443                                     great cafe latte\n",
       "568444                                        excellent tea\n",
       "568445                       best value for chinese 5 spice\n",
       "568446                                    five spice powder\n",
       "568447                                          mixed wrong\n",
       "568448    if its all natural, this is like panacea of sp...\n",
       "568449                        very large ground spice jars.\n",
       "568450                                  will not do without\n",
       "568451                                         disappointed\n",
       "568452                             perfect for our maltipoo\n",
       "568453                   favorite training and reward treat\n",
       "568454                                          great honey\n",
       "Name: Summary, Length: 568454, dtype: object"
      ]
     },
     "execution_count": 37,
     "metadata": {},
     "output_type": "execute_result"
    }
   ],
   "source": [
    "\n",
    "# Start with the summary data\n",
    "df.Summary = df.Summary.astype(str)\n",
    "downcase = lambda x: x.lower()\n",
    "df.Summary.apply(downcase)"
   ]
  },
  {
   "cell_type": "code",
   "execution_count": 40,
   "metadata": {},
   "outputs": [
    {
     "name": "stderr",
     "output_type": "stream",
     "text": [
      "/home/rakesh/anaconda3/lib/python3.6/site-packages/ipykernel_launcher.py:2: DeprecationWarning: \n",
      ".ix is deprecated. Please use\n",
      ".loc for label based indexing or\n",
      ".iloc for positional indexing\n",
      "\n",
      "See the documentation here:\n",
      "http://pandas.pydata.org/pandas-docs/stable/indexing.html#ix-indexer-is-deprecated\n",
      "  \n"
     ]
    },
    {
     "data": {
      "text/plain": [
       "'\"Delight\" says it all'"
      ]
     },
     "execution_count": 40,
     "metadata": {},
     "output_type": "execute_result"
    }
   ],
   "source": [
    "df.Summary = df.Summary.astype(str)\n",
    "df.Summary.ix[3]"
   ]
  },
  {
   "cell_type": "code",
   "execution_count": 44,
   "metadata": {},
   "outputs": [
    {
     "name": "stderr",
     "output_type": "stream",
     "text": [
      "/home/rakesh/anaconda3/lib/python3.6/site-packages/ipykernel_launcher.py:2: DeprecationWarning: \n",
      ".ix is deprecated. Please use\n",
      ".loc for label based indexing or\n",
      ".iloc for positional indexing\n",
      "\n",
      "See the documentation here:\n",
      "http://pandas.pydata.org/pandas-docs/stable/indexing.html#ix-indexer-is-deprecated\n",
      "  \n"
     ]
    },
    {
     "data": {
      "text/plain": [
       "'Good Quality Dog Food'"
      ]
     },
     "execution_count": 44,
     "metadata": {},
     "output_type": "execute_result"
    }
   ],
   "source": [
    "df.Summary = df.Summary.astype(str)\n",
    "df.Summary.ix[1]"
   ]
  },
  {
   "cell_type": "code",
   "execution_count": 42,
   "metadata": {},
   "outputs": [
    {
     "data": {
      "text/plain": [
       "Id\n",
       "1                                     Good Quality Dog Food\n",
       "2                                         Not as Advertised\n",
       "3                                     \"Delight\" says it all\n",
       "4                                            Cough Medicine\n",
       "5                                               Great taffy\n",
       "6                                                Nice Taffy\n",
       "7             Great!  Just as good as the expensive brands!\n",
       "8                                    Wonderful, tasty taffy\n",
       "9                                                Yay Barley\n",
       "10                                         Healthy Dog Food\n",
       "11                          The Best Hot Sauce in the World\n",
       "12        My cats LOVE this \"diet\" food better than thei...\n",
       "13                     My Cats Are Not Fans of the New Food\n",
       "14                                        fresh and greasy!\n",
       "15                             Strawberry Twizzlers - Yummy\n",
       "16                 Lots of twizzlers, just what you expect.\n",
       "17                                               poor taste\n",
       "18                                                 Love it!\n",
       "19                                       GREAT SWEET CANDY!\n",
       "20                                  Home delivered twizlers\n",
       "21                                             Always fresh\n",
       "22                                                TWIZZLERS\n",
       "23                                       Delicious product!\n",
       "24                                                Twizzlers\n",
       "25                            Please sell these in Mexico!!\n",
       "26                                   Twizzlers - Strawberry\n",
       "27                                          Nasty No flavor\n",
       "28                              Great Bargain for the Price\n",
       "29                                                   YUMMY!\n",
       "30                          The Best Hot Sauce in the World\n",
       "                                ...                        \n",
       "568425                     Unusual, even for a violet candy\n",
       "568426                                            Very good\n",
       "568427                                              rip off\n",
       "568428                                The search has ended!\n",
       "568429                                           very tasty\n",
       "568430                             Violet French Hard Candy\n",
       "568431                                            delicious\n",
       "568432                                         Mostly water\n",
       "568433                                              No Good\n",
       "568434                                     Tastes horrible!\n",
       "568435                                          Not so good\n",
       "568436                              Where's the tortellini?\n",
       "568437                       Baker's Ammonia Small quantity\n",
       "568438                                            Good buy.\n",
       "568439                            Baking Ammonia that Works\n",
       "568440                                                 a-ok\n",
       "568441      Delicious, all natural and allergy free treats!\n",
       "568442                              Great For Fast Gulasch!\n",
       "568443                                     Great Cafe Latte\n",
       "568444                                        Excellent Tea\n",
       "568445                       Best Value for Chinese 5 Spice\n",
       "568446                                    Five Spice Powder\n",
       "568447                                          Mixed wrong\n",
       "568448    If its all natural, this is like panacea of Sp...\n",
       "568449                        Very large ground spice jars.\n",
       "568450                                  Will not do without\n",
       "568451                                         disappointed\n",
       "568452                             Perfect for our maltipoo\n",
       "568453                   Favorite Training and reward treat\n",
       "568454                                          Great Honey\n",
       "Name: Summary, Length: 568454, dtype: object"
      ]
     },
     "execution_count": 42,
     "metadata": {},
     "output_type": "execute_result"
    }
   ],
   "source": [
    "df.Summary"
   ]
  },
  {
   "cell_type": "code",
   "execution_count": 46,
   "metadata": {},
   "outputs": [
    {
     "data": {
      "text/plain": [
       "Delicious!                                                     2462\n",
       "Delicious                                                      2316\n",
       "Yummy!                                                         1594\n",
       "Yummy                                                          1268\n",
       "Great product                                                  1091\n",
       "Yum!                                                           1081\n",
       "Excellent                                                       985\n",
       "Love it!                                                        910\n",
       "Great Product                                                   910\n",
       "Great                                                           749\n",
       "Great!                                                          748\n",
       "Tasty                                                           645\n",
       "Yum                                                             618\n",
       "Disappointed                                                    587\n",
       "Excellent!                                                      573\n",
       "Great Coffee                                                    558\n",
       "Awesome!                                                        550\n",
       "Awesome                                                         546\n",
       "Good stuff                                                      515\n",
       "yummy                                                           512\n",
       "great product                                                   476\n",
       "Great product!                                                  474\n",
       "Good Stuff                                                      472\n",
       "Great coffee                                                    459\n",
       "Love it                                                         444\n",
       "delicious                                                       431\n",
       "YUM!                                                            429\n",
       "Good                                                            406\n",
       "The Best                                                        404\n",
       "Very good                                                       400\n",
       "                                                               ... \n",
       "terrific marinade                                                 1\n",
       "No more seasoning. Mostly pretzels                                1\n",
       "overpriced spices                                                 1\n",
       "DANG.....!                                                        1\n",
       "It is so nice to be able to eat Oatmeal again                     1\n",
       "terrible quality... soggy and soft                                1\n",
       "Five glorious pounds of GUMMI!                                    1\n",
       "I'm sure it works if you can stomach it...                        1\n",
       "Great but a bit overpriced                                        1\n",
       "What happened to these things?                                    1\n",
       "Too Sweet. Not sour enough.                                       1\n",
       "Quite Good! Fresh Taste And Not Sweet At All.                     1\n",
       "Great for canned soup!                                            1\n",
       "Great stuff!  Watch the caffeine!                                 1\n",
       "Love the Olive Oil; Hate the Cans                                 1\n",
       "This rub is for Everything!                                       1\n",
       "NOT gluten free!!                                                 1\n",
       "Not of exceptional quality                                        1\n",
       "Barely Bacon                                                      1\n",
       "Best available coffee for the Kuerig                              1\n",
       "This hard to find product for celiacs actually TASTE great!       1\n",
       "Hard to find reminder of childhood                                1\n",
       "beammedown                                                        1\n",
       "Family favorite for 10 years                                      1\n",
       "ONLY 15% Juice!                                                   1\n",
       "Black Tellicherry Peppercorns                                     1\n",
       "With this seasoned coating, it can't get any better               1\n",
       "good butter flavor                                                1\n",
       "A little hard to get used to...                                   1\n",
       "Way better than I expected!                                       1\n",
       "Name: Summary, Length: 295744, dtype: int64"
      ]
     },
     "execution_count": 46,
     "metadata": {},
     "output_type": "execute_result"
    }
   ],
   "source": [
    "df.Summary.value_counts()"
   ]
  },
  {
   "cell_type": "code",
   "execution_count": 47,
   "metadata": {},
   "outputs": [
    {
     "data": {
      "text/plain": [
       "<bound method NDFrame.head of Delicious!                                                     2462\n",
       "Delicious                                                      2316\n",
       "Yummy!                                                         1594\n",
       "Yummy                                                          1268\n",
       "Great product                                                  1091\n",
       "Yum!                                                           1081\n",
       "Excellent                                                       985\n",
       "Love it!                                                        910\n",
       "Great Product                                                   910\n",
       "Great                                                           749\n",
       "Great!                                                          748\n",
       "Tasty                                                           645\n",
       "Yum                                                             618\n",
       "Disappointed                                                    587\n",
       "Excellent!                                                      573\n",
       "Great Coffee                                                    558\n",
       "Awesome!                                                        550\n",
       "Awesome                                                         546\n",
       "Good stuff                                                      515\n",
       "yummy                                                           512\n",
       "great product                                                   476\n",
       "Great product!                                                  474\n",
       "Good Stuff                                                      472\n",
       "Great coffee                                                    459\n",
       "Love it                                                         444\n",
       "delicious                                                       431\n",
       "YUM!                                                            429\n",
       "Good                                                            406\n",
       "The Best                                                        404\n",
       "Very good                                                       400\n",
       "                                                               ... \n",
       "terrific marinade                                                 1\n",
       "No more seasoning. Mostly pretzels                                1\n",
       "overpriced spices                                                 1\n",
       "DANG.....!                                                        1\n",
       "It is so nice to be able to eat Oatmeal again                     1\n",
       "terrible quality... soggy and soft                                1\n",
       "Five glorious pounds of GUMMI!                                    1\n",
       "I'm sure it works if you can stomach it...                        1\n",
       "Great but a bit overpriced                                        1\n",
       "What happened to these things?                                    1\n",
       "Too Sweet. Not sour enough.                                       1\n",
       "Quite Good! Fresh Taste And Not Sweet At All.                     1\n",
       "Great for canned soup!                                            1\n",
       "Great stuff!  Watch the caffeine!                                 1\n",
       "Love the Olive Oil; Hate the Cans                                 1\n",
       "This rub is for Everything!                                       1\n",
       "NOT gluten free!!                                                 1\n",
       "Not of exceptional quality                                        1\n",
       "Barely Bacon                                                      1\n",
       "Best available coffee for the Kuerig                              1\n",
       "This hard to find product for celiacs actually TASTE great!       1\n",
       "Hard to find reminder of childhood                                1\n",
       "beammedown                                                        1\n",
       "Family favorite for 10 years                                      1\n",
       "ONLY 15% Juice!                                                   1\n",
       "Black Tellicherry Peppercorns                                     1\n",
       "With this seasoned coating, it can't get any better               1\n",
       "good butter flavor                                                1\n",
       "A little hard to get used to...                                   1\n",
       "Way better than I expected!                                       1\n",
       "Name: Summary, Length: 295744, dtype: int64>"
      ]
     },
     "execution_count": 47,
     "metadata": {},
     "output_type": "execute_result"
    }
   ],
   "source": [
    "df.Summary.value_counts().head"
   ]
  },
  {
   "cell_type": "code",
   "execution_count": 50,
   "metadata": {},
   "outputs": [
    {
     "data": {
      "text/plain": [
       "<bound method NDFrame.describe of Delicious!                                                     2462\n",
       "Delicious                                                      2316\n",
       "Yummy!                                                         1594\n",
       "Yummy                                                          1268\n",
       "Great product                                                  1091\n",
       "Yum!                                                           1081\n",
       "Excellent                                                       985\n",
       "Love it!                                                        910\n",
       "Great Product                                                   910\n",
       "Great                                                           749\n",
       "Great!                                                          748\n",
       "Tasty                                                           645\n",
       "Yum                                                             618\n",
       "Disappointed                                                    587\n",
       "Excellent!                                                      573\n",
       "Great Coffee                                                    558\n",
       "Awesome!                                                        550\n",
       "Awesome                                                         546\n",
       "Good stuff                                                      515\n",
       "yummy                                                           512\n",
       "great product                                                   476\n",
       "Great product!                                                  474\n",
       "Good Stuff                                                      472\n",
       "Great coffee                                                    459\n",
       "Love it                                                         444\n",
       "delicious                                                       431\n",
       "YUM!                                                            429\n",
       "Good                                                            406\n",
       "The Best                                                        404\n",
       "Very good                                                       400\n",
       "                                                               ... \n",
       "terrific marinade                                                 1\n",
       "No more seasoning. Mostly pretzels                                1\n",
       "overpriced spices                                                 1\n",
       "DANG.....!                                                        1\n",
       "It is so nice to be able to eat Oatmeal again                     1\n",
       "terrible quality... soggy and soft                                1\n",
       "Five glorious pounds of GUMMI!                                    1\n",
       "I'm sure it works if you can stomach it...                        1\n",
       "Great but a bit overpriced                                        1\n",
       "What happened to these things?                                    1\n",
       "Too Sweet. Not sour enough.                                       1\n",
       "Quite Good! Fresh Taste And Not Sweet At All.                     1\n",
       "Great for canned soup!                                            1\n",
       "Great stuff!  Watch the caffeine!                                 1\n",
       "Love the Olive Oil; Hate the Cans                                 1\n",
       "This rub is for Everything!                                       1\n",
       "NOT gluten free!!                                                 1\n",
       "Not of exceptional quality                                        1\n",
       "Barely Bacon                                                      1\n",
       "Best available coffee for the Kuerig                              1\n",
       "This hard to find product for celiacs actually TASTE great!       1\n",
       "Hard to find reminder of childhood                                1\n",
       "beammedown                                                        1\n",
       "Family favorite for 10 years                                      1\n",
       "ONLY 15% Juice!                                                   1\n",
       "Black Tellicherry Peppercorns                                     1\n",
       "With this seasoned coating, it can't get any better               1\n",
       "good butter flavor                                                1\n",
       "A little hard to get used to...                                   1\n",
       "Way better than I expected!                                       1\n",
       "Name: Summary, Length: 295744, dtype: int64>"
      ]
     },
     "execution_count": 50,
     "metadata": {},
     "output_type": "execute_result"
    }
   ],
   "source": [
    "df.Summary.value_counts().describe"
   ]
  },
  {
   "cell_type": "code",
   "execution_count": 51,
   "metadata": {},
   "outputs": [
    {
     "data": {
      "text/plain": [
       "ProductId                         object\n",
       "UserId                            object\n",
       "ProfileName                       object\n",
       "HelpfulnessNumerator               int64\n",
       "HelpfulnessDenominator             int64\n",
       "Score                              int64\n",
       "Time                               int64\n",
       "Summary                           object\n",
       "Text                              object\n",
       "datetime                  datetime64[ns]\n",
       "dtype: object"
      ]
     },
     "execution_count": 51,
     "metadata": {},
     "output_type": "execute_result"
    }
   ],
   "source": [
    "\n",
    "df.dtypes"
   ]
  },
  {
   "cell_type": "code",
   "execution_count": null,
   "metadata": {},
   "outputs": [],
   "source": []
  }
 ],
 "metadata": {
  "kernelspec": {
   "display_name": "Python 3",
   "language": "python",
   "name": "python3"
  },
  "language_info": {
   "codemirror_mode": {
    "name": "ipython",
    "version": 3
   },
   "file_extension": ".py",
   "mimetype": "text/x-python",
   "name": "python",
   "nbconvert_exporter": "python",
   "pygments_lexer": "ipython3",
   "version": "3.6.3"
  }
 },
 "nbformat": 4,
 "nbformat_minor": 2
}

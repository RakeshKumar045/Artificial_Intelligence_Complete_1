{
 "cells": [
  {
   "cell_type": "code",
   "execution_count": 1,
   "metadata": {},
   "outputs": [
    {
     "name": "stderr",
     "output_type": "stream",
     "text": [
      "/Users/rakeshkumar/miniconda3/lib/python3.6/site-packages/sklearn/ensemble/weight_boosting.py:29: DeprecationWarning: numpy.core.umath_tests is an internal NumPy module and should not be imported. It will be removed in a future NumPy release.\n",
      "  from numpy.core.umath_tests import inner1d\n"
     ]
    }
   ],
   "source": [
    "import pandas as pd\n",
    "import numpy as np\n",
    "\n",
    "from pandas import Series as s, DataFrame as df\n",
    "from sklearn.model_selection import train_test_split\n",
    "from sklearn import datasets, linear_model, metrics \n",
    "from sklearn.metrics import r2_score , mean_squared_error \n",
    "from scipy import stats\n",
    "\n",
    "from sklearn.linear_model import LinearRegression\n",
    "from sklearn.ensemble import RandomForestRegressor\n",
    "from sklearn.tree import DecisionTreeRegressor\n",
    " \n",
    "\n",
    "\n",
    "import matplotlib.pyplot as plt\n",
    "from matplotlib import rcParams\n",
    "import seaborn as sb\n",
    "\n",
    "#setting configs plot size 5x4 inches and seaborn style whitegrid\n",
    "%matplotlib inline\n",
    "rcParams['figure.figsize'] = 5,4\n",
    "sb.set_style('whitegrid')\n",
    "\n",
    "from sklearn.preprocessing import LabelEncoder\n",
    "\n"
   ]
  },
  {
   "cell_type": "code",
   "execution_count": 2,
   "metadata": {},
   "outputs": [],
   "source": [
    "#get the folder path\n",
    "#%pwd"
   ]
  },
  {
   "cell_type": "code",
   "execution_count": 3,
   "metadata": {},
   "outputs": [],
   "source": [
    "hp = pd.read_csv(\"hp_data.csv\")"
   ]
  },
  {
   "cell_type": "code",
   "execution_count": 4,
   "metadata": {
    "scrolled": true
   },
   "outputs": [
    {
     "name": "stdout",
     "output_type": "stream",
     "text": [
      "Shape is   :   (3500, 10)\n",
      "\n",
      "No of cloumns  :   Index(['id', 'price', 'place', 'built', 'sqft', 'sale', 'yearsOld', 'floor',\n",
      "       'totalFloor', 'bhk'],\n",
      "      dtype='object')\n",
      "\n",
      "Print fisrt 1 items  :  \n",
      "     id    price       place                 built  sqft    sale  yearsOld  \\\n",
      "0  1341  6300000  BTM Layout  Super built-up  Area  1450  Resale         5   \n",
      "\n",
      "   floor  totalFloor  bhk  \n",
      "0      1           4    1  \n",
      "\n",
      "Checking missing value   :  \n",
      "id            0\n",
      "price         0\n",
      "place         0\n",
      "built         0\n",
      "sqft          0\n",
      "sale          0\n",
      "yearsOld      0\n",
      "floor         0\n",
      "totalFloor    0\n",
      "bhk           0\n",
      "dtype: int64\n"
     ]
    }
   ],
   "source": [
    "\n",
    "print(\"Shape is   :  \",hp.shape)\n",
    "print()\n",
    "\n",
    "print(\"No of cloumns  :  \",hp.columns)\n",
    "print()\n",
    "\n",
    "print(\"Print fisrt 1 items  :  \")\n",
    "print(hp.head(1))\n",
    "print()\n",
    "\n",
    "print(\"Checking missing value   :  \")\n",
    "print(hp.isnull().sum())\n",
    "\n",
    "\n"
   ]
  },
  {
   "cell_type": "code",
   "execution_count": 5,
   "metadata": {},
   "outputs": [],
   "source": [
    "enc = LabelEncoder()"
   ]
  },
  {
   "cell_type": "code",
   "execution_count": 6,
   "metadata": {},
   "outputs": [],
   "source": [
    "hp.place= enc.fit_transform(hp.place)\n",
    "hp.sale = enc.fit_transform(hp.sale)\n",
    "hp.built = enc.fit_transform(hp.built)\n"
   ]
  },
  {
   "cell_type": "code",
   "execution_count": 7,
   "metadata": {},
   "outputs": [
    {
     "name": "stdout",
     "output_type": "stream",
     "text": [
      "     id     price  place  built  sqft  sale  yearsOld  floor  totalFloor  bhk\n",
      "0  1341   6300000      2      1  1450     0         5      1           4    1\n",
      "1  2126  11500000     14      1  2190     0         5      3           5    3\n"
     ]
    }
   ],
   "source": [
    "print(hp.head(2))"
   ]
  },
  {
   "cell_type": "code",
   "execution_count": 8,
   "metadata": {},
   "outputs": [
    {
     "name": "stdout",
     "output_type": "stream",
     "text": [
      "<bound method NDFrame.describe of         id     price  place  built  sqft  sale  yearsOld  floor  totalFloor  \\\n",
      "0     1341   6300000      2      1  1450     0         5      1           4   \n",
      "1     2126  11500000     14      1  2190     0         5      3           5   \n",
      "2      816   3800000     12      1  1019     0         1      2           5   \n",
      "3     2708  10500000      1      1  1857     0        15      4           5   \n",
      "4     1041  11500000     14      1  2190     0         5      3           5   \n",
      "5     2783  15000000      3      1  1672     0        10      6          10   \n",
      "6      703   7350000     13      1  1330     0        10      1           4   \n",
      "7       88  15000000      3      1  1672     0        10      6          10   \n",
      "8     1973  10500000      1      1  1857     0        15      4           5   \n",
      "9      256   4900000      7      1  1100     0         5      3           4   \n",
      "10    1831   3800000     12      1  1019     0         1      2           5   \n",
      "11     464   3800000     12      1  1019     0         1      2           5   \n",
      "12    1102  15000000      3      1  1672     0        10      6          10   \n",
      "13     902   4025000      4      1  1543     0        10      3           4   \n",
      "14    2139   4025000      4      1  1543     0        10      3           4   \n",
      "15     162   4800000      0      0  1200     0        10      1           4   \n",
      "16      95  10500000      1      1  1857     0        15      4           5   \n",
      "17     830   7900000     11      1  1784     0         5     18          18   \n",
      "18     581   4025000      4      1  1543     0        10      3           4   \n",
      "19    1120   7350000     13      1  1330     0        10      1           4   \n",
      "20    2559  11500000     14      1  2190     0         5      3           5   \n",
      "21     329  10500000      1      1  1857     0        15      4           5   \n",
      "22    1783   4900000      7      1  1100     0         5      3           4   \n",
      "23    2202  15000000      3      1  1672     0        10      6          10   \n",
      "24    1073   3800000     12      1  1019     0         1      2           5   \n",
      "25    2005   4900000      7      1  1100     0         5      3           4   \n",
      "26    2649   7350000     13      1  1330     0        10      1           4   \n",
      "27     747   4025000      4      1  1543     0        10      3           4   \n",
      "28     142   4800000      0      0  1200     0        10      1           4   \n",
      "29    2677   6300000      2      1  1450     0         5      1           4   \n",
      "...    ...       ...    ...    ...   ...   ...       ...    ...         ...   \n",
      "3470   119   3800000     12      1  1019     0         1      2           5   \n",
      "3471   560   6300000      2      1  1450     0         5      1           4   \n",
      "3472  2421   7350000     13      1  1330     0        10      1           4   \n",
      "3473  2138   3800000     12      1  1019     0         1      2           5   \n",
      "3474  2180   7350000     13      1  1330     0        10      1           4   \n",
      "3475  1108   6300000      2      1  1450     0         5      1           4   \n",
      "3476   836   3800000     12      1  1019     0         1      2           5   \n",
      "3477  2011  15000000      3      1  1672     0        10      6          10   \n",
      "3478   496   4800000      0      0  1200     0        10      1           4   \n",
      "3479  1136   4900000      7      1  1100     0         5      3           4   \n",
      "3480  2166   4900000      7      1  1100     0         5      3           4   \n",
      "3481  1540   4800000      0      0  1200     0        10      1           4   \n",
      "3482   734  11500000     14      1  2190     0         5      3           5   \n",
      "3483  2043   3800000     12      1  1019     0         1      2           5   \n",
      "3484  2214   4025000      4      1  1543     0        10      3           4   \n",
      "3485  2240   7350000     13      1  1330     0        10      1           4   \n",
      "3486  1154   4025000      4      1  1543     0        10      3           4   \n",
      "3487  2771   7350000     13      1  1330     0        10      1           4   \n",
      "3488   114   6300000      2      1  1450     0         5      1           4   \n",
      "3489  2785   4025000      4      1  1543     0        10      3           4   \n",
      "3490  2271   7350000     13      1  1330     0        10      1           4   \n",
      "3491  1629  10500000      1      1  1857     0        15      4           5   \n",
      "3492   227  10500000      1      1  1857     0        15      4           5   \n",
      "3493  1282  10500000      1      1  1857     0        15      4           5   \n",
      "3494   595  15000000      3      1  1672     0        10      6          10   \n",
      "3495   636   3800000     12      1  1019     0         1      2           5   \n",
      "3496  1664   6300000      2      1  1450     0         5      1           4   \n",
      "3497  1252   7350000     13      1  1330     0        10      1           4   \n",
      "3498   903   4800000      0      0  1200     0        10      1           4   \n",
      "3499  2183   3800000     12      1  1019     0         1      2           5   \n",
      "\n",
      "      bhk  \n",
      "0       1  \n",
      "1       3  \n",
      "2       2  \n",
      "3       4  \n",
      "4       3  \n",
      "5       6  \n",
      "6       1  \n",
      "7       6  \n",
      "8       4  \n",
      "9       3  \n",
      "10      2  \n",
      "11      2  \n",
      "12      6  \n",
      "13      3  \n",
      "14      3  \n",
      "15      1  \n",
      "16      4  \n",
      "17     18  \n",
      "18      3  \n",
      "19      1  \n",
      "20      3  \n",
      "21      4  \n",
      "22      3  \n",
      "23      6  \n",
      "24      2  \n",
      "25      3  \n",
      "26      1  \n",
      "27      3  \n",
      "28      1  \n",
      "29      1  \n",
      "...   ...  \n",
      "3470    2  \n",
      "3471    1  \n",
      "3472    1  \n",
      "3473    2  \n",
      "3474    1  \n",
      "3475    1  \n",
      "3476    2  \n",
      "3477    6  \n",
      "3478    1  \n",
      "3479    3  \n",
      "3480    3  \n",
      "3481    1  \n",
      "3482    3  \n",
      "3483    2  \n",
      "3484    3  \n",
      "3485    1  \n",
      "3486    3  \n",
      "3487    1  \n",
      "3488    1  \n",
      "3489    3  \n",
      "3490    1  \n",
      "3491    4  \n",
      "3492    4  \n",
      "3493    4  \n",
      "3494    6  \n",
      "3495    2  \n",
      "3496    1  \n",
      "3497    1  \n",
      "3498    1  \n",
      "3499    2  \n",
      "\n",
      "[3500 rows x 10 columns]>\n"
     ]
    }
   ],
   "source": [
    "print(hp.describe)"
   ]
  },
  {
   "cell_type": "code",
   "execution_count": 22,
   "metadata": {},
   "outputs": [
    {
     "data": {
      "text/plain": [
       "<matplotlib.axes._subplots.AxesSubplot at 0x114a72e48>"
      ]
     },
     "execution_count": 22,
     "metadata": {},
     "output_type": "execute_result"
    },
    {
     "data": {
      "image/png": "[encoded data removed]",
      "text/plain": [
       "<Figure size 360x288 with 1 Axes>"
      ]
     },
     "metadata": {},
     "output_type": "display_data"
    }
   ],
   "source": [
    "sb.regplot(x=\"sqft\", y=\"price\", data=hp)"
   ]
  },
  {
   "cell_type": "code",
   "execution_count": 23,
   "metadata": {},
   "outputs": [
    {
     "data": {
      "text/plain": [
       "<matplotlib.axes._subplots.AxesSubplot at 0x116ab8160>"
      ]
     },
     "execution_count": 23,
     "metadata": {},
     "output_type": "execute_result"
    },
    {
     "data": {
      "image/png": "[encoded data removed]",
      "text/plain": [
       "<Figure size 360x288 with 1 Axes>"
      ]
     },
     "metadata": {},
     "output_type": "display_data"
    }
   ],
   "source": [
    "sb.regplot(x=\"yearsOld\", y=\"price\", data=hp)"
   ]
  },
  {
   "cell_type": "code",
   "execution_count": 24,
   "metadata": {},
   "outputs": [
    {
     "data": {
      "text/plain": [
       "<matplotlib.axes._subplots.AxesSubplot at 0x116b2e1d0>"
      ]
     },
     "execution_count": 24,
     "metadata": {},
     "output_type": "execute_result"
    },
    {
     "data": {
      "image/png": "[encoded data removed]",
      "text/plain": [
       "<Figure size 360x288 with 1 Axes>"
      ]
     },
     "metadata": {},
     "output_type": "display_data"
    }
   ],
   "source": [
    "sb.regplot(x=\"floor\", y=\"price\", data=hp)"
   ]
  },
  {
   "cell_type": "code",
   "execution_count": 25,
   "metadata": {},
   "outputs": [
    {
     "data": {
      "text/plain": [
       "<matplotlib.axes._subplots.AxesSubplot at 0x116b14438>"
      ]
     },
     "execution_count": 25,
     "metadata": {},
     "output_type": "execute_result"
    },
    {
     "data": {
      "image/png": "[encoded data removed]",
      "text/plain": [
       "<Figure size 360x288 with 1 Axes>"
      ]
     },
     "metadata": {},
     "output_type": "display_data"
    }
   ],
   "source": [
    "sb.regplot(x=\"totalFloor\", y=\"price\", data=hp)"
   ]
  },
  {
   "cell_type": "code",
   "execution_count": 26,
   "metadata": {},
   "outputs": [
    {
     "data": {
      "text/plain": [
       "<matplotlib.axes._subplots.AxesSubplot at 0x116c46e80>"
      ]
     },
     "execution_count": 26,
     "metadata": {},
     "output_type": "execute_result"
    },
    {
     "data": {
      "image/png": "[encoded data removed]",
      "text/plain": [
       "<Figure size 360x288 with 1 Axes>"
      ]
     },
     "metadata": {},
     "output_type": "display_data"
    }
   ],
   "source": [
    "sb.regplot(x=\"bhk\", y=\"price\", data=hp)"
   ]
  },
  {
   "cell_type": "code",
   "execution_count": 27,
   "metadata": {},
   "outputs": [
    {
     "data": {
      "text/plain": [
       "<matplotlib.axes._subplots.AxesSubplot at 0x116aa3d68>"
      ]
     },
     "execution_count": 27,
     "metadata": {},
     "output_type": "execute_result"
    },
    {
     "data": {
      "image/png": "[encoded data removed]",
      "text/plain": [
       "<Figure size 360x288 with 1 Axes>"
      ]
     },
     "metadata": {},
     "output_type": "display_data"
    }
   ],
   "source": [
    "sb.regplot(x=\"place\", y=\"price\", data=hp)"
   ]
  },
  {
   "cell_type": "code",
   "execution_count": 28,
   "metadata": {},
   "outputs": [
    {
     "data": {
      "text/plain": [
       "<matplotlib.axes._subplots.AxesSubplot at 0x116da4860>"
      ]
     },
     "execution_count": 28,
     "metadata": {},
     "output_type": "execute_result"
    },
    {
     "data": {
      "image/png": "[encoded data removed]",
      "text/plain": [
       "<Figure size 360x288 with 1 Axes>"
      ]
     },
     "metadata": {},
     "output_type": "display_data"
    }
   ],
   "source": [
    "hp.plot()"
   ]
  },
  {
   "cell_type": "code",
   "execution_count": 29,
   "metadata": {},
   "outputs": [
    {
     "data": {
      "text/plain": [
       "<matplotlib.axes._subplots.AxesSubplot at 0x116f2c5c0>"
      ]
     },
     "execution_count": 29,
     "metadata": {},
     "output_type": "execute_result"
    },
    {
     "data": {
      "image/png": "[encoded data removed]",
      "text/plain": [
       "<Figure size 360x288 with 1 Axes>"
      ]
     },
     "metadata": {},
     "output_type": "display_data"
    }
   ],
   "source": [
    "hp.price.plot()"
   ]
  },
  {
   "cell_type": "code",
   "execution_count": 30,
   "metadata": {
    "scrolled": true
   },
   "outputs": [
    {
     "data": {
      "text/plain": [
       "<matplotlib.axes._subplots.AxesSubplot at 0x1171f89b0>"
      ]
     },
     "execution_count": 30,
     "metadata": {},
     "output_type": "execute_result"
    },
    {
     "data": {
      "image/png": "[encoded data removed]",
      "text/plain": [
       "<Figure size 360x288 with 1 Axes>"
      ]
     },
     "metadata": {},
     "output_type": "display_data"
    }
   ],
   "source": [
    "#plot several variables\n",
    "graph_data = hp.loc[:,[\"sqft\",\"floor\",\"bhk\" ,\"totalFloor\" , \"yearsOld\"]]\n",
    "\n",
    "color_theme = ['red', 'blue','yellow','green']\n",
    "graph_data.plot(color=color_theme)"
   ]
  },
  {
   "cell_type": "code",
   "execution_count": 9,
   "metadata": {
    "scrolled": true
   },
   "outputs": [
    {
     "name": "stdout",
     "output_type": "stream",
     "text": [
      "Index(['id', 'price', 'place', 'built', 'sqft', 'sale', 'yearsOld', 'floor',\n",
      "       'totalFloor', 'bhk'],\n",
      "      dtype='object')\n"
     ]
    }
   ],
   "source": [
    "print(hp.columns)"
   ]
  },
  {
   "cell_type": "code",
   "execution_count": 10,
   "metadata": {
    "scrolled": true
   },
   "outputs": [
    {
     "data": {
      "text/plain": [
       "<matplotlib.collections.PathCollection at 0x103bbc208>"
      ]
     },
     "execution_count": 10,
     "metadata": {},
     "output_type": "execute_result"
    },
    {
     "data": {
      "image/png": "[encoded data removed]",
      "text/plain": [
       "<Figure size 432x288 with 1 Axes>"
      ]
     },
     "metadata": {},
     "output_type": "display_data"
    }
   ],
   "source": [
    "plt.scatter((hp[\"sqft\"]  + hp[\"yearsOld\"] +hp[\"floor\"] +hp[\"totalFloor\"] +hp[\"bhk\"]) ,hp[\"price\"])"
   ]
  },
  {
   "cell_type": "code",
   "execution_count": 11,
   "metadata": {},
   "outputs": [
    {
     "data": {
      "text/plain": [
       "<matplotlib.collections.PathCollection at 0x103befbe0>"
      ]
     },
     "execution_count": 11,
     "metadata": {},
     "output_type": "execute_result"
    },
    {
     "data": {
      "image/png": "[encoded data removed]",
      "text/plain": [
       "<Figure size 432x288 with 1 Axes>"
      ]
     },
     "metadata": {},
     "output_type": "display_data"
    }
   ],
   "source": [
    "plt.scatter((hp[\"id\"]+hp[\"place\"]+ hp[\"built\"] +hp[\"sqft\"]+hp[\"sale\"]+hp[\"yearsOld\"]+hp[\"floor\"] +hp[\"totalFloor\"] +hp[\"bhk\"]) ,hp[\"price\"])"
   ]
  },
  {
   "cell_type": "code",
   "execution_count": 12,
   "metadata": {},
   "outputs": [
    {
     "data": {
      "text/plain": [
       "<matplotlib.collections.PathCollection at 0x1a1692fd30>"
      ]
     },
     "execution_count": 12,
     "metadata": {},
     "output_type": "execute_result"
    },
    {
     "data": {
      "image/png": "[encoded data removed]",
      "text/plain": [
       "<Figure size 432x288 with 1 Axes>"
      ]
     },
     "metadata": {},
     "output_type": "display_data"
    }
   ],
   "source": [
    "plt.scatter((hp[\"place\"]  +hp[\"sqft\"]  + hp[\"yearsOld\"] +hp[\"floor\"] +hp[\"totalFloor\"] +hp[\"bhk\"]) ,hp[\"price\"])"
   ]
  },
  {
   "cell_type": "code",
   "execution_count": 13,
   "metadata": {},
   "outputs": [],
   "source": [
    "#droping the sqft value , if sqrt > 3500\n",
    "#hp = hp[hp[\"sqft\"] < 3500]\n",
    "    "
   ]
  },
  {
   "cell_type": "code",
   "execution_count": 14,
   "metadata": {},
   "outputs": [
    {
     "data": {
      "text/plain": [
       "<matplotlib.collections.PathCollection at 0x1a16a48390>"
      ]
     },
     "execution_count": 14,
     "metadata": {},
     "output_type": "execute_result"
    },
    {
     "data": {
      "image/png": "[encoded data removed]",
      "text/plain": [
       "<Figure size 432x288 with 1 Axes>"
      ]
     },
     "metadata": {},
     "output_type": "display_data"
    }
   ],
   "source": [
    "plt.scatter((hp[\"sqft\"]  + hp[\"yearsOld\"] +hp[\"floor\"] +hp[\"totalFloor\"] +hp[\"bhk\"]) ,hp[\"price\"])"
   ]
  },
  {
   "cell_type": "code",
   "execution_count": 15,
   "metadata": {},
   "outputs": [
    {
     "data": {
      "text/plain": [
       "<matplotlib.axes._subplots.AxesSubplot at 0x1a16a68278>"
      ]
     },
     "execution_count": 15,
     "metadata": {},
     "output_type": "execute_result"
    },
    {
     "data": {
      "image/png": "[encoded data removed]",
      "text/plain": [
       "<Figure size 432x288 with 1 Axes>"
      ]
     },
     "metadata": {},
     "output_type": "display_data"
    }
   ],
   "source": [
    "hp.price.plot()"
   ]
  },
  {
   "cell_type": "code",
   "execution_count": 16,
   "metadata": {
    "scrolled": false
   },
   "outputs": [
    {
     "data": {
      "text/plain": [
       "<matplotlib.axes._subplots.AxesSubplot at 0x1a16b38e10>"
      ]
     },
     "execution_count": 16,
     "metadata": {},
     "output_type": "execute_result"
    },
    {
     "data": {
      "image/png": "[encoded data removed]",
      "text/plain": [
       "<Figure size 432x288 with 1 Axes>"
      ]
     },
     "metadata": {},
     "output_type": "display_data"
    }
   ],
   "source": [
    "\n",
    "hp.sqft.plot()"
   ]
  },
  {
   "cell_type": "code",
   "execution_count": 19,
   "metadata": {},
   "outputs": [
    {
     "name": "stdout",
     "output_type": "stream",
     "text": [
      "     id     price  place  built  sqft  sale  yearsOld  floor  totalFloor  bhk\n",
      "0  1341   6300000      2      1  1450     0         5      1           4    1\n",
      "1  2126  11500000     14      1  2190     0         5      3           5    3\n"
     ]
    }
   ],
   "source": [
    "print(hp.head(2))"
   ]
  },
  {
   "cell_type": "code",
   "execution_count": 21,
   "metadata": {},
   "outputs": [],
   "source": [
    "# creating simple bar using X and Y \n",
    "#plt.bar(hp.sqft,y)"
   ]
  },
  {
   "cell_type": "code",
   "execution_count": 22,
   "metadata": {},
   "outputs": [],
   "source": [
    "# feature engineering\n",
    "x = hp.loc[:,[\"id\",\"place\",\"built\",\"sqft\",\"sale\",\"yearsOld\",\"floor\",\"totalFloor\",\"bhk\"]]\n",
    "y = hp.price"
   ]
  },
  {
   "cell_type": "code",
   "execution_count": 23,
   "metadata": {},
   "outputs": [
    {
     "name": "stdout",
     "output_type": "stream",
     "text": [
      "     id  place  built  sqft  sale  yearsOld  floor  totalFloor  bhk\n",
      "0  1341      2      1  1450     0         5      1           4    1\n",
      "1  2126     14      1  2190     0         5      3           5    3\n"
     ]
    }
   ],
   "source": [
    "print(x.head(2))"
   ]
  },
  {
   "cell_type": "code",
   "execution_count": 24,
   "metadata": {
    "scrolled": true
   },
   "outputs": [
    {
     "name": "stdout",
     "output_type": "stream",
     "text": [
      "\n",
      "\n",
      "linear rgression r2_score_accuracy :  0.8814760246811135\n",
      "linear rgression mean_squared_error_accuracy :  3229269363623.1724\n",
      "\n",
      "Accuracy on training set:  0.8479682335548173\n",
      "Accuracy on test set:  0.8814760246811135\n",
      "        id  place  built  sqft  sale  yearsOld  floor  totalFloor  bhk\n",
      "2509   837      4      1  1543     0        10      3           4    3\n",
      "3344  2077      3      1  1672     0        10      6          10    6\n",
      "1361  2536      2      1  1450     0         5      1           4    1\n",
      "188   1987      2      1  1450     0         5      1           4    1\n",
      "1707  2849      3      1  1672     0        10      6          10    6\n",
      "3090  2513      7      1  1100     0         5      3           4    3\n",
      "1591   451     13      1  1330     0        10      1           4    1\n",
      "1476   431     13      1  1330     0        10      1           4    1\n",
      "838    435      4      1  1543     0        10      3           4    3\n",
      "616   1649     12      1  1019     0         1      2           5    2\n"
     ]
    }
   ],
   "source": [
    "\n",
    "#print(\"X  :  \" , x)\n",
    "print()\n",
    "\n",
    "#print(\"Y  :  \", y)\n",
    "print()\n",
    "#print(x)\n",
    "\n",
    "x_train, x_test , y_train , y_test = train_test_split(x ,y , test_size = 0.25 , random_state = 10)\n",
    "\n",
    "#print(y_train)\n",
    "# print(x_train)\n",
    "\n",
    "linear_regression_model = LinearRegression()\n",
    "#print(linear_regression_model)\n",
    "#print()\n",
    "\n",
    "linear_regression_model.fit(x_train,y_train)\n",
    "\n",
    "predict_x = linear_regression_model.predict(x_test)\n",
    "#print(\" predict_x :  \" ,predict_x)\n",
    "\n",
    "r2_score_accuracy = r2_score(y_test , predict_x )# r2_score is standrad accuracy\n",
    "print(\"linear rgression r2_score_accuracy : \" , r2_score_accuracy)\n",
    "#print()\n",
    "\n",
    "mean_squared_error_accuracy = mean_squared_error(y_test , predict_x )\n",
    "print(\"linear rgression mean_squared_error_accuracy : \" ,mean_squared_error_accuracy)\n",
    "print()\n",
    "\n",
    "# check the accuracy on the training set\n",
    "print(\"Accuracy on training set: \", linear_regression_model.score(x_train, y_train))\n",
    "# check the accuracy on the test set\n",
    "print(\"Accuracy on test set: \", linear_regression_model.score(x_test, y_test))\n",
    "print(x_test.head(10))\n"
   ]
  },
  {
   "cell_type": "code",
   "execution_count": 25,
   "metadata": {},
   "outputs": [
    {
     "name": "stdout",
     "output_type": "stream",
     "text": [
      "decision_tree_regression_model r2_score_accuracy :  1.0\n",
      "\n",
      "decision_tree_regression_model mean_squared_error_accuracy :  0.0\n",
      "\n",
      "Accuracy on training set:  1.0\n",
      "Accuracy on test set:  1.0\n"
     ]
    }
   ],
   "source": [
    "decision_tree_regression_model = DecisionTreeRegressor()\n",
    "decision_tree_regression_model.fit(x_train,y_train)\n",
    "\n",
    "predict_x = decision_tree_regression_model.predict(x_test)\n",
    "#print(\" predict_x :  \" ,predict_x)\n",
    "\n",
    "r2_score_accuracy = r2_score(y_test , predict_x )# r2_score is standrad accuracy\n",
    "print(\"decision_tree_regression_model r2_score_accuracy : \" , r2_score_accuracy)\n",
    "print()\n",
    "\n",
    "mean_squared_error_accuracy = mean_squared_error(y_test , predict_x )\n",
    "print(\"decision_tree_regression_model mean_squared_error_accuracy : \" ,mean_squared_error_accuracy)\n",
    "print()\n",
    "\n",
    "# check the accuracy on the training set\n",
    "print(\"Accuracy on training set: \", decision_tree_regression_model.score(x_train, y_train))\n",
    "# check the accuracy on the test set\n",
    "print(\"Accuracy on test set: \", decision_tree_regression_model.score(x_test, y_test))"
   ]
  },
  {
   "cell_type": "code",
   "execution_count": 26,
   "metadata": {},
   "outputs": [
    {
     "name": "stdout",
     "output_type": "stream",
     "text": [
      "Index(['id', 'place', 'built', 'sqft', 'sale', 'yearsOld', 'floor',\n",
      "       'totalFloor', 'bhk'],\n",
      "      dtype='object') [0.         0.00220251 0.         0.94420107 0.         0.00160142\n",
      " 0.02104142 0.02609991 0.00485367]\n"
     ]
    }
   ],
   "source": [
    "print(x_test.columns,decision_tree_regression_model.feature_importances_)"
   ]
  },
  {
   "cell_type": "code",
   "execution_count": 27,
   "metadata": {},
   "outputs": [
    {
     "name": "stdout",
     "output_type": "stream",
     "text": [
      "random_forest_regression_model r2_score_accuracy :  0.9998769841548284\n",
      "\n",
      "random_forest_regression_model mean_squared_error_accuracy :  3159771428.571429\n",
      "\n",
      "Accuracy on training set:  0.9999968235375891\n",
      "Accuracy on test set:  0.9998769841548284\n"
     ]
    }
   ],
   "source": [
    "random_forest_regression_model = RandomForestRegressor()\n",
    "\n",
    "x_train, x_test , y_train , y_test = train_test_split(x ,y , test_size = 0.25 , random_state = 7)\n",
    "\n",
    "random_forest_regression_model.fit(x_train,y_train)\n",
    "\n",
    "predict_x = random_forest_regression_model.predict(x_test)\n",
    "#print(\" predict_x :  \" ,predict_x)\n",
    "\n",
    "r2_score_accuracy = r2_score(y_test , predict_x )# r2_score is standrad accuracy\n",
    "print(\"random_forest_regression_model r2_score_accuracy : \" , r2_score_accuracy)\n",
    "print()\n",
    "\n",
    "mean_squared_error_accuracy = mean_squared_error(y_test , predict_x )\n",
    "print(\"random_forest_regression_model mean_squared_error_accuracy : \" ,mean_squared_error_accuracy)\n",
    "print()\n",
    "\n",
    "# check the accuracy on the training set\n",
    "print(\"Accuracy on training set: \", random_forest_regression_model.score(x_train, y_train))\n",
    "# check the accuracy on the test set\n",
    "print(\"Accuracy on test set: \", random_forest_regression_model.score(x_test, y_test))"
   ]
  },
  {
   "cell_type": "code",
   "execution_count": 28,
   "metadata": {},
   "outputs": [
    {
     "name": "stdout",
     "output_type": "stream",
     "text": [
      "Training Features Shape: (2625, 9)\n",
      "Training Labels Shape: (2625,)\n",
      "Testing Features Shape: (875, 9)\n",
      "Testing Labels Shape: (875,)\n"
     ]
    }
   ],
   "source": [
    "print(\"Training Features Shape:\", x_train.shape)\n",
    "print('Training Labels Shape:', y_train.shape)\n",
    "print('Testing Features Shape:', x_test.shape)\n",
    "print('Testing Labels Shape:', y_test.shape)"
   ]
  },
  {
   "cell_type": "code",
   "execution_count": 29,
   "metadata": {},
   "outputs": [
    {
     "name": "stdout",
     "output_type": "stream",
     "text": [
      "\n"
     ]
    }
   ],
   "source": [
    "#print(\"x train is  :  \", x_train)\n",
    "print()\n",
    "\n",
    "#print(\"y train is  :  \",y_train)\n"
   ]
  },
  {
   "cell_type": "code",
   "execution_count": 30,
   "metadata": {},
   "outputs": [
    {
     "name": "stdout",
     "output_type": "stream",
     "text": [
      "\n"
     ]
    }
   ],
   "source": [
    "#print(\"x test is  :  \",x_test)\n",
    "print()\n",
    "\n",
    "#print(\"y test is  :  \",y_test)\n"
   ]
  },
  {
   "cell_type": "code",
   "execution_count": 31,
   "metadata": {},
   "outputs": [
    {
     "name": "stdout",
     "output_type": "stream",
     "text": [
      "skew :  2.0598294564758115\n",
      "\n",
      "kurtosis :  12.327838959810109\n",
      "\n"
     ]
    }
   ],
   "source": [
    "\n",
    "print(\"skew : \" , stats.skew(hp.sqft))\n",
    "print()\n",
    "\n",
    "print(\"kurtosis : \" , stats.kurtosis(hp.sqft))\n",
    "print()\n",
    "\n",
    "#print(\"coefficient : \",model.coef_)\n"
   ]
  },
  {
   "cell_type": "code",
   "execution_count": 32,
   "metadata": {},
   "outputs": [
    {
     "name": "stdout",
     "output_type": "stream",
     "text": [
      "x train head : \n",
      "        id  place  built  sqft  sale  yearsOld  floor  totalFloor  bhk\n",
      "1420  2701      3      1  1672     0        10      6          10    6\n",
      "y train head :\n",
      "1420    15000000\n",
      "Name: price, dtype: int64\n"
     ]
    }
   ],
   "source": [
    "print(\"x train head : \")\n",
    "print(x_train.head(1))\n",
    "\n",
    "print(\"y train head :\" )\n",
    "print(y_train.head(1))"
   ]
  },
  {
   "cell_type": "code",
   "execution_count": 33,
   "metadata": {},
   "outputs": [],
   "source": [
    "# print(model.predict([[1450, 1 , 1 ,2 , 3]]))\n",
    "# print()\n",
    "\n",
    "# print(model.predict([[1450, 1 , 0 ,2 , 1]]))\n",
    "# print()\n",
    "\n",
    "# print(model.predict([[1400, 1 , 0 ,2 , 1]]))\n",
    "# print()\n",
    "\n",
    "# print(model.predict([[1400, 1 , 1 ,2 , 3]]))"
   ]
  },
  {
   "cell_type": "code",
   "execution_count": 34,
   "metadata": {},
   "outputs": [],
   "source": [
    "names = [\"Linear Regression\",         \n",
    "         \"Decision Tree Regression\",\n",
    "         \"Random Forest Regression\"\n",
    "        ]"
   ]
  },
  {
   "cell_type": "code",
   "execution_count": 35,
   "metadata": {},
   "outputs": [],
   "source": [
    "algorithms = [ LinearRegression(),\n",
    "              DecisionTreeRegressor(),\n",
    "              RandomForestRegressor()\n",
    "              ]"
   ]
  },
  {
   "cell_type": "code",
   "execution_count": 36,
   "metadata": {},
   "outputs": [],
   "source": [
    "columns_name = [\"Model_name\", \"Random_state\",'r2_score']"
   ]
  },
  {
   "cell_type": "code",
   "execution_count": 37,
   "metadata": {},
   "outputs": [],
   "source": [
    "rows=[]\n",
    "def addRandomStateForAlgorithm(x,y,names,algorithms,columns_name,random_state_list):    \n",
    "    for j in range(len(algorithms)):\n",
    "        model = algorithms[j]\n",
    "        for i in random_state_list:\n",
    "            x_train, x_test , y_train , y_test = train_test_split(x ,y , test_size = 0.25 , random_state = i)\n",
    "            model.fit(x_train,y_train)\n",
    "            pred_test = model.predict(x_test)\n",
    "            row = [names[j],i,r2_score (y_test,pred_test)]\n",
    "            rows.append(row)\n",
    "    models_df = pd.DataFrame(rows)   \n",
    "    models_df.columns = columns_name\n",
    "    print(models_df)\n",
    "    "
   ]
  },
  {
   "cell_type": "code",
   "execution_count": 38,
   "metadata": {},
   "outputs": [],
   "source": [
    "random_state_list_up_to_10 = [0,1,2,3,4,5,6,7,8,9,10]\n",
    "random_state_list_10_up_to_20 = [10,11,12,13,14,15,16,17,18,19,20]"
   ]
  },
  {
   "cell_type": "code",
   "execution_count": 39,
   "metadata": {
    "scrolled": false
   },
   "outputs": [
    {
     "name": "stdout",
     "output_type": "stream",
     "text": [
      "                  Model_name  Random_state  r2_score\n",
      "0          Linear Regression             0  0.864431\n",
      "1          Linear Regression             1  0.841275\n",
      "2          Linear Regression             2  0.842930\n",
      "3          Linear Regression             3  0.875680\n",
      "4          Linear Regression             4  0.819867\n",
      "5          Linear Regression             5  0.865792\n",
      "6          Linear Regression             6  0.845014\n",
      "7          Linear Regression             7  0.865988\n",
      "8          Linear Regression             8  0.859320\n",
      "9          Linear Regression             9  0.845247\n",
      "10         Linear Regression            10  0.881476\n",
      "11  Decision Tree Regression             0  1.000000\n",
      "12  Decision Tree Regression             1  1.000000\n",
      "13  Decision Tree Regression             2  1.000000\n",
      "14  Decision Tree Regression             3  1.000000\n",
      "15  Decision Tree Regression             4  1.000000\n",
      "16  Decision Tree Regression             5  1.000000\n",
      "17  Decision Tree Regression             6  1.000000\n",
      "18  Decision Tree Regression             7  1.000000\n",
      "19  Decision Tree Regression             8  1.000000\n",
      "20  Decision Tree Regression             9  1.000000\n",
      "21  Decision Tree Regression            10  1.000000\n",
      "22  Random Forest Regression             0  1.000000\n",
      "23  Random Forest Regression             1  0.999991\n",
      "24  Random Forest Regression             2  0.999893\n",
      "25  Random Forest Regression             3  1.000000\n",
      "26  Random Forest Regression             4  1.000000\n",
      "27  Random Forest Regression             5  0.999853\n",
      "28  Random Forest Regression             6  1.000000\n",
      "29  Random Forest Regression             7  0.999945\n",
      "30  Random Forest Regression             8  1.000000\n",
      "31  Random Forest Regression             9  0.999996\n",
      "32  Random Forest Regression            10  1.000000\n"
     ]
    }
   ],
   "source": [
    "addRandomStateForAlgorithm(x, y,names,algorithms,columns_name,random_state_list_up_to_10)"
   ]
  },
  {
   "cell_type": "code",
   "execution_count": 40,
   "metadata": {},
   "outputs": [],
   "source": [
    "#addRandomStateForAlgorithm(x, y,names,algorithms,columns_name,random_state_list_10_up_to_20)"
   ]
  },
  {
   "cell_type": "code",
   "execution_count": 41,
   "metadata": {},
   "outputs": [
    {
     "name": "stdout",
     "output_type": "stream",
     "text": [
      "(3500, 9) (3500, 10)\n"
     ]
    }
   ],
   "source": [
    "print(x.shape,hp.shape)"
   ]
  },
  {
   "cell_type": "code",
   "execution_count": 42,
   "metadata": {},
   "outputs": [
    {
     "name": "stdout",
     "output_type": "stream",
     "text": [
      "     id     price  place  built  sqft  sale  yearsOld  floor  totalFloor  bhk\n",
      "0  1341   6300000      2      1  1450     0         5      1           4    1\n",
      "1  2126  11500000     14      1  2190     0         5      3           5    3\n",
      "2   816   3800000     12      1  1019     0         1      2           5    2\n",
      "3  2708  10500000      1      1  1857     0        15      4           5    4\n",
      "4  1041  11500000     14      1  2190     0         5      3           5    3\n"
     ]
    }
   ],
   "source": [
    "print(hp.head())"
   ]
  },
  {
   "cell_type": "code",
   "execution_count": 43,
   "metadata": {},
   "outputs": [],
   "source": [
    "x=hp.drop([\"id\",\"built\",\"sale\",\"price\"],1)\n",
    "y=hp[\"price\"]"
   ]
  },
  {
   "cell_type": "code",
   "execution_count": 44,
   "metadata": {},
   "outputs": [],
   "source": [
    "x_train,x_test,y_train,y_test=train_test_split(x,y,test_size=0.25, random_state=3)"
   ]
  },
  {
   "cell_type": "code",
   "execution_count": 45,
   "metadata": {},
   "outputs": [
    {
     "name": "stdout",
     "output_type": "stream",
     "text": [
      "      place  sqft  yearsOld  floor  totalFloor  bhk\n",
      "439      12  1019         1      2           5    2\n",
      "1365      3  1672        10      6          10    6\n",
      "2803      0  1200        10      1           4    1\n",
      "3197      7  1100         5      3           4    3\n",
      "1044     12  1019         1      2           5    2\n",
      "1730      2  1450         5      1           4    1\n",
      "2959      1  1857        15      4           5    4\n",
      "1081     12  1019         1      2           5    2\n",
      "1476     13  1330        10      1           4    1\n",
      "1865     12  1019         1      2           5    2\n"
     ]
    }
   ],
   "source": [
    "print(x_test.head(10))"
   ]
  },
  {
   "cell_type": "code",
   "execution_count": 46,
   "metadata": {},
   "outputs": [
    {
     "name": "stdout",
     "output_type": "stream",
     "text": [
      "0.835097898461768\n"
     ]
    }
   ],
   "source": [
    "lm1=LinearRegression()\n",
    "lm1.fit(x_train,y_train)\n",
    "print(lm1.score(x_train,y_train))\n"
   ]
  },
  {
   "cell_type": "code",
   "execution_count": 47,
   "metadata": {},
   "outputs": [
    {
     "name": "stdout",
     "output_type": "stream",
     "text": [
      "0.8605479694549594\n"
     ]
    }
   ],
   "source": [
    "y_lm1=lm1.predict(x_test)\n",
    "print(r2_score(y_test,y_lm1))"
   ]
  },
  {
   "cell_type": "code",
   "execution_count": null,
   "metadata": {},
   "outputs": [],
   "source": []
  }
 ],
 "metadata": {
  "kernelspec": {
   "display_name": "Python 3",
   "language": "python",
   "name": "python3"
  },
  "language_info": {
   "codemirror_mode": {
    "name": "ipython",
    "version": 3
   },
   "file_extension": ".py",
   "mimetype": "text/x-python",
   "name": "python",
   "nbconvert_exporter": "python",
   "pygments_lexer": "ipython3",
   "version": "3.7.6"
  },
  "varInspector": {
   "cols": {
    "lenName": 16,
    "lenType": 16,
    "lenVar": 40
   },
   "kernels_config": {
    "python": {
     "delete_cmd_postfix": "",
     "delete_cmd_prefix": "del ",
     "library": "var_list.py",
     "varRefreshCmd": "print(var_dic_list())"
    },
    "r": {
     "delete_cmd_postfix": ") ",
     "delete_cmd_prefix": "rm(",
     "library": "var_list.r",
     "varRefreshCmd": "cat(var_dic_list()) "
    }
   },
   "types_to_exclude": [
    "module",
    "function",
    "builtin_function_or_method",
    "instance",
    "_Feature"
   ],
   "window_display": false
  }
 },
 "nbformat": 4,
 "nbformat_minor": 2
}

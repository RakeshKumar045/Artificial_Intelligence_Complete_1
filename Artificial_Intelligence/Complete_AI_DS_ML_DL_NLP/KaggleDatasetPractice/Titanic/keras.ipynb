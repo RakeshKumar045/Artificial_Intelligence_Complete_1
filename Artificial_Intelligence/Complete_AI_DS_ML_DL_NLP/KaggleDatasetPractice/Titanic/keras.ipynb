{
 "cells": [
  {
   "cell_type": "code",
   "execution_count": 1,
   "metadata": {},
   "outputs": [],
   "source": [
    "import numpy as np \n",
    "import pandas as pd \n",
    "from sklearn.model_selection import train_test_split\n",
    "from sklearn import preprocessing\n",
    "import matplotlib.pyplot as plt \n",
    "%matplotlib inline\n",
    "from sklearn import metrics"
   ]
  },
  {
   "cell_type": "markdown",
   "metadata": {},
   "source": [
    "## Load Titanic data set"
   ]
  },
  {
   "cell_type": "code",
   "execution_count": 2,
   "metadata": {},
   "outputs": [],
   "source": [
    "train_df = pd.read_csv(\"titanic-train.csv\")"
   ]
  },
  {
   "cell_type": "code",
   "execution_count": 4,
   "metadata": {},
   "outputs": [
    {
     "data": {
      "text/plain": [
       "PassengerId      0\n",
       "Survived         0\n",
       "Pclass           0\n",
       "Name             0\n",
       "Sex              0\n",
       "Age            177\n",
       "SibSp            0\n",
       "Parch            0\n",
       "Ticket           0\n",
       "Fare             0\n",
       "Cabin          687\n",
       "Embarked         2\n",
       "dtype: int64"
      ]
     },
     "execution_count": 4,
     "metadata": {},
     "output_type": "execute_result"
    }
   ],
   "source": [
    "train_df.isnull().sum()"
   ]
  },
  {
   "cell_type": "code",
   "execution_count": 13,
   "metadata": {},
   "outputs": [
    {
     "data": {
      "text/plain": [
       "nan"
      ]
     },
     "execution_count": 13,
     "metadata": {},
     "output_type": "execute_result"
    }
   ],
   "source": [
    "train_df[\"Age\"][5]"
   ]
  },
  {
   "cell_type": "code",
   "execution_count": 3,
   "metadata": {},
   "outputs": [
    {
     "name": "stdout",
     "output_type": "stream",
     "text": [
      "dataset shape: (891, 12)\n"
     ]
    }
   ],
   "source": [
    "print(\"dataset shape:\",train_df.shape)"
   ]
  },
  {
   "cell_type": "code",
   "execution_count": 4,
   "metadata": {},
   "outputs": [
    {
     "data": {
      "text/html": [
       "<div>\n",
       "<style scoped>\n",
       "    .dataframe tbody tr th:only-of-type {\n",
       "        vertical-align: middle;\n",
       "    }\n",
       "\n",
       "    .dataframe tbody tr th {\n",
       "        vertical-align: top;\n",
       "    }\n",
       "\n",
       "    .dataframe thead th {\n",
       "        text-align: right;\n",
       "    }\n",
       "</style>\n",
       "<table border=\"1\" class=\"dataframe\">\n",
       "  <thead>\n",
       "    <tr style=\"text-align: right;\">\n",
       "      <th></th>\n",
       "      <th>PassengerId</th>\n",
       "      <th>Survived</th>\n",
       "      <th>Pclass</th>\n",
       "      <th>Name</th>\n",
       "      <th>Sex</th>\n",
       "      <th>Age</th>\n",
       "      <th>SibSp</th>\n",
       "      <th>Parch</th>\n",
       "      <th>Ticket</th>\n",
       "      <th>Fare</th>\n",
       "      <th>Cabin</th>\n",
       "      <th>Embarked</th>\n",
       "    </tr>\n",
       "  </thead>\n",
       "  <tbody>\n",
       "    <tr>\n",
       "      <th>0</th>\n",
       "      <td>1</td>\n",
       "      <td>0</td>\n",
       "      <td>3</td>\n",
       "      <td>Braund, Mr. Owen Harris</td>\n",
       "      <td>male</td>\n",
       "      <td>22.0</td>\n",
       "      <td>1</td>\n",
       "      <td>0</td>\n",
       "      <td>A/5 21171</td>\n",
       "      <td>7.2500</td>\n",
       "      <td>NaN</td>\n",
       "      <td>S</td>\n",
       "    </tr>\n",
       "    <tr>\n",
       "      <th>1</th>\n",
       "      <td>2</td>\n",
       "      <td>1</td>\n",
       "      <td>1</td>\n",
       "      <td>Cumings, Mrs. John Bradley (Florence Briggs Th...</td>\n",
       "      <td>female</td>\n",
       "      <td>38.0</td>\n",
       "      <td>1</td>\n",
       "      <td>0</td>\n",
       "      <td>PC 17599</td>\n",
       "      <td>71.2833</td>\n",
       "      <td>C85</td>\n",
       "      <td>C</td>\n",
       "    </tr>\n",
       "    <tr>\n",
       "      <th>2</th>\n",
       "      <td>3</td>\n",
       "      <td>1</td>\n",
       "      <td>3</td>\n",
       "      <td>Heikkinen, Miss. Laina</td>\n",
       "      <td>female</td>\n",
       "      <td>26.0</td>\n",
       "      <td>0</td>\n",
       "      <td>0</td>\n",
       "      <td>STON/O2. 3101282</td>\n",
       "      <td>7.9250</td>\n",
       "      <td>NaN</td>\n",
       "      <td>S</td>\n",
       "    </tr>\n",
       "    <tr>\n",
       "      <th>3</th>\n",
       "      <td>4</td>\n",
       "      <td>1</td>\n",
       "      <td>1</td>\n",
       "      <td>Futrelle, Mrs. Jacques Heath (Lily May Peel)</td>\n",
       "      <td>female</td>\n",
       "      <td>35.0</td>\n",
       "      <td>1</td>\n",
       "      <td>0</td>\n",
       "      <td>113803</td>\n",
       "      <td>53.1000</td>\n",
       "      <td>C123</td>\n",
       "      <td>S</td>\n",
       "    </tr>\n",
       "    <tr>\n",
       "      <th>4</th>\n",
       "      <td>5</td>\n",
       "      <td>0</td>\n",
       "      <td>3</td>\n",
       "      <td>Allen, Mr. William Henry</td>\n",
       "      <td>male</td>\n",
       "      <td>35.0</td>\n",
       "      <td>0</td>\n",
       "      <td>0</td>\n",
       "      <td>373450</td>\n",
       "      <td>8.0500</td>\n",
       "      <td>NaN</td>\n",
       "      <td>S</td>\n",
       "    </tr>\n",
       "  </tbody>\n",
       "</table>\n",
       "</div>"
      ],
      "text/plain": [
       "   PassengerId  Survived  Pclass  \\\n",
       "0            1         0       3   \n",
       "1            2         1       1   \n",
       "2            3         1       3   \n",
       "3            4         1       1   \n",
       "4            5         0       3   \n",
       "\n",
       "                                                Name     Sex   Age  SibSp  \\\n",
       "0                            Braund, Mr. Owen Harris    male  22.0      1   \n",
       "1  Cumings, Mrs. John Bradley (Florence Briggs Th...  female  38.0      1   \n",
       "2                             Heikkinen, Miss. Laina  female  26.0      0   \n",
       "3       Futrelle, Mrs. Jacques Heath (Lily May Peel)  female  35.0      1   \n",
       "4                           Allen, Mr. William Henry    male  35.0      0   \n",
       "\n",
       "   Parch            Ticket     Fare Cabin Embarked  \n",
       "0      0         A/5 21171   7.2500   NaN        S  \n",
       "1      0          PC 17599  71.2833   C85        C  \n",
       "2      0  STON/O2. 3101282   7.9250   NaN        S  \n",
       "3      0            113803  53.1000  C123        S  \n",
       "4      0            373450   8.0500   NaN        S  "
      ]
     },
     "execution_count": 4,
     "metadata": {},
     "output_type": "execute_result"
    }
   ],
   "source": [
    "train_df.head(5)"
   ]
  },
  {
   "cell_type": "code",
   "execution_count": 14,
   "metadata": {},
   "outputs": [
    {
     "data": {
      "text/plain": [
       "0              NaN\n",
       "1              C85\n",
       "2              NaN\n",
       "3             C123\n",
       "4              NaN\n",
       "5              NaN\n",
       "6              E46\n",
       "7              NaN\n",
       "8              NaN\n",
       "9              NaN\n",
       "10              G6\n",
       "11            C103\n",
       "12             NaN\n",
       "13             NaN\n",
       "14             NaN\n",
       "15             NaN\n",
       "16             NaN\n",
       "17             NaN\n",
       "18             NaN\n",
       "19             NaN\n",
       "20             NaN\n",
       "21             D56\n",
       "22             NaN\n",
       "23              A6\n",
       "24             NaN\n",
       "25             NaN\n",
       "26             NaN\n",
       "27     C23 C25 C27\n",
       "28             NaN\n",
       "29             NaN\n",
       "          ...     \n",
       "861            NaN\n",
       "862            D17\n",
       "863            NaN\n",
       "864            NaN\n",
       "865            NaN\n",
       "866            NaN\n",
       "867            A24\n",
       "868            NaN\n",
       "869            NaN\n",
       "870            NaN\n",
       "871            D35\n",
       "872    B51 B53 B55\n",
       "873            NaN\n",
       "874            NaN\n",
       "875            NaN\n",
       "876            NaN\n",
       "877            NaN\n",
       "878            NaN\n",
       "879            C50\n",
       "880            NaN\n",
       "881            NaN\n",
       "882            NaN\n",
       "883            NaN\n",
       "884            NaN\n",
       "885            NaN\n",
       "886            NaN\n",
       "887            B42\n",
       "888            NaN\n",
       "889           C148\n",
       "890            NaN\n",
       "Name: Cabin, Length: 891, dtype: object"
      ]
     },
     "execution_count": 14,
     "metadata": {},
     "output_type": "execute_result"
    }
   ],
   "source": [
    "train_df[\"Cabin\"]"
   ]
  },
  {
   "cell_type": "markdown",
   "metadata": {},
   "source": [
    "### Set 'CABIN' values to 'Yes' or 'No'. If value is NAN the set CABIN is NO else Yes"
   ]
  },
  {
   "cell_type": "code",
   "execution_count": 15,
   "metadata": {},
   "outputs": [],
   "source": [
    "def set_Cabin_type(df):\n",
    "    df.loc[(df.Cabin.notnull()), 'Cabin'] = \"Yes\"\n",
    "    df.loc[(df.Cabin.isnull()), 'Cabin'] = \"No\"\n",
    "    return df"
   ]
  },
  {
   "cell_type": "code",
   "execution_count": 18,
   "metadata": {},
   "outputs": [
    {
     "data": {
      "text/plain": [
       "0      False\n",
       "1      False\n",
       "2      False\n",
       "3      False\n",
       "4      False\n",
       "5      False\n",
       "6      False\n",
       "7      False\n",
       "8      False\n",
       "9      False\n",
       "10     False\n",
       "11     False\n",
       "12     False\n",
       "13     False\n",
       "14     False\n",
       "15     False\n",
       "16     False\n",
       "17     False\n",
       "18     False\n",
       "19     False\n",
       "20     False\n",
       "21     False\n",
       "22     False\n",
       "23     False\n",
       "24     False\n",
       "25     False\n",
       "26     False\n",
       "27     False\n",
       "28     False\n",
       "29     False\n",
       "       ...  \n",
       "861    False\n",
       "862    False\n",
       "863    False\n",
       "864    False\n",
       "865    False\n",
       "866    False\n",
       "867    False\n",
       "868    False\n",
       "869    False\n",
       "870    False\n",
       "871    False\n",
       "872    False\n",
       "873    False\n",
       "874    False\n",
       "875    False\n",
       "876    False\n",
       "877    False\n",
       "878    False\n",
       "879    False\n",
       "880    False\n",
       "881    False\n",
       "882    False\n",
       "883    False\n",
       "884    False\n",
       "885    False\n",
       "886    False\n",
       "887    False\n",
       "888    False\n",
       "889    False\n",
       "890    False\n",
       "Name: Cabin, Length: 891, dtype: bool"
      ]
     },
     "execution_count": 18,
     "metadata": {},
     "output_type": "execute_result"
    }
   ],
   "source": [
    "train_df.Cabin.isnull()"
   ]
  },
  {
   "cell_type": "code",
   "execution_count": 16,
   "metadata": {},
   "outputs": [],
   "source": [
    "dataset = set_Cabin_type(train_df)"
   ]
  },
  {
   "cell_type": "markdown",
   "metadata": {},
   "source": [
    "### Convert 'CABIN' to dummy variable"
   ]
  },
  {
   "cell_type": "code",
   "execution_count": 17,
   "metadata": {},
   "outputs": [
    {
     "data": {
      "text/plain": [
       "0       No\n",
       "1      Yes\n",
       "2       No\n",
       "3      Yes\n",
       "4       No\n",
       "5       No\n",
       "6      Yes\n",
       "7       No\n",
       "8       No\n",
       "9       No\n",
       "10     Yes\n",
       "11     Yes\n",
       "12      No\n",
       "13      No\n",
       "14      No\n",
       "15      No\n",
       "16      No\n",
       "17      No\n",
       "18      No\n",
       "19      No\n",
       "20      No\n",
       "21     Yes\n",
       "22      No\n",
       "23     Yes\n",
       "24      No\n",
       "25      No\n",
       "26      No\n",
       "27     Yes\n",
       "28      No\n",
       "29      No\n",
       "      ... \n",
       "861     No\n",
       "862    Yes\n",
       "863     No\n",
       "864     No\n",
       "865     No\n",
       "866     No\n",
       "867    Yes\n",
       "868     No\n",
       "869     No\n",
       "870     No\n",
       "871    Yes\n",
       "872    Yes\n",
       "873     No\n",
       "874     No\n",
       "875     No\n",
       "876     No\n",
       "877     No\n",
       "878     No\n",
       "879    Yes\n",
       "880     No\n",
       "881     No\n",
       "882     No\n",
       "883     No\n",
       "884     No\n",
       "885     No\n",
       "886     No\n",
       "887    Yes\n",
       "888     No\n",
       "889    Yes\n",
       "890     No\n",
       "Name: Cabin, Length: 891, dtype: object"
      ]
     },
     "execution_count": 17,
     "metadata": {},
     "output_type": "execute_result"
    }
   ],
   "source": [
    "train_df[\"Cabin\"]"
   ]
  },
  {
   "cell_type": "code",
   "execution_count": 7,
   "metadata": {},
   "outputs": [],
   "source": [
    "dataset = pd.get_dummies(dataset, columns=[\"Cabin\"])\n",
    "dataset.drop('Cabin_No', axis=1, inplace=True)"
   ]
  },
  {
   "cell_type": "markdown",
   "metadata": {},
   "source": [
    "### Convert 'SEX' to dummy variable"
   ]
  },
  {
   "cell_type": "code",
   "execution_count": 8,
   "metadata": {},
   "outputs": [],
   "source": [
    "dataset = pd.get_dummies(dataset, columns=[\"Sex\"])\n",
    "dataset.drop('Sex_female', axis=1, inplace=True)"
   ]
  },
  {
   "cell_type": "markdown",
   "metadata": {},
   "source": [
    "### Fill NA data with median values"
   ]
  },
  {
   "cell_type": "code",
   "execution_count": 9,
   "metadata": {},
   "outputs": [],
   "source": [
    "dataset[\"Age\"].fillna(dataset[\"Age\"].median(skipna=True), inplace=True)\n",
    "dataset[\"Embarked\"].fillna(dataset['Embarked'].value_counts().idxmax(), inplace=True)"
   ]
  },
  {
   "cell_type": "markdown",
   "metadata": {},
   "source": [
    "### Convert dummy variables for 'Embarked' and 'Pclass'"
   ]
  },
  {
   "cell_type": "code",
   "execution_count": 10,
   "metadata": {},
   "outputs": [],
   "source": [
    "dataset = pd.get_dummies(dataset, columns=[\"Embarked\"])\n",
    "dataset = pd.get_dummies(dataset, columns=[\"Pclass\"])"
   ]
  },
  {
   "cell_type": "code",
   "execution_count": 11,
   "metadata": {},
   "outputs": [
    {
     "data": {
      "text/html": [
       "<div>\n",
       "<style scoped>\n",
       "    .dataframe tbody tr th:only-of-type {\n",
       "        vertical-align: middle;\n",
       "    }\n",
       "\n",
       "    .dataframe tbody tr th {\n",
       "        vertical-align: top;\n",
       "    }\n",
       "\n",
       "    .dataframe thead th {\n",
       "        text-align: right;\n",
       "    }\n",
       "</style>\n",
       "<table border=\"1\" class=\"dataframe\">\n",
       "  <thead>\n",
       "    <tr style=\"text-align: right;\">\n",
       "      <th></th>\n",
       "      <th>PassengerId</th>\n",
       "      <th>Survived</th>\n",
       "      <th>Name</th>\n",
       "      <th>Age</th>\n",
       "      <th>SibSp</th>\n",
       "      <th>Parch</th>\n",
       "      <th>Ticket</th>\n",
       "      <th>Fare</th>\n",
       "      <th>Cabin_Yes</th>\n",
       "      <th>Sex_male</th>\n",
       "      <th>Embarked_C</th>\n",
       "      <th>Embarked_Q</th>\n",
       "      <th>Embarked_S</th>\n",
       "      <th>Pclass_1</th>\n",
       "      <th>Pclass_2</th>\n",
       "      <th>Pclass_3</th>\n",
       "    </tr>\n",
       "  </thead>\n",
       "  <tbody>\n",
       "    <tr>\n",
       "      <th>0</th>\n",
       "      <td>1</td>\n",
       "      <td>0</td>\n",
       "      <td>Braund, Mr. Owen Harris</td>\n",
       "      <td>22.0</td>\n",
       "      <td>1</td>\n",
       "      <td>0</td>\n",
       "      <td>A/5 21171</td>\n",
       "      <td>7.2500</td>\n",
       "      <td>0</td>\n",
       "      <td>1</td>\n",
       "      <td>0</td>\n",
       "      <td>0</td>\n",
       "      <td>1</td>\n",
       "      <td>0</td>\n",
       "      <td>0</td>\n",
       "      <td>1</td>\n",
       "    </tr>\n",
       "    <tr>\n",
       "      <th>1</th>\n",
       "      <td>2</td>\n",
       "      <td>1</td>\n",
       "      <td>Cumings, Mrs. John Bradley (Florence Briggs Th...</td>\n",
       "      <td>38.0</td>\n",
       "      <td>1</td>\n",
       "      <td>0</td>\n",
       "      <td>PC 17599</td>\n",
       "      <td>71.2833</td>\n",
       "      <td>1</td>\n",
       "      <td>0</td>\n",
       "      <td>1</td>\n",
       "      <td>0</td>\n",
       "      <td>0</td>\n",
       "      <td>1</td>\n",
       "      <td>0</td>\n",
       "      <td>0</td>\n",
       "    </tr>\n",
       "    <tr>\n",
       "      <th>2</th>\n",
       "      <td>3</td>\n",
       "      <td>1</td>\n",
       "      <td>Heikkinen, Miss. Laina</td>\n",
       "      <td>26.0</td>\n",
       "      <td>0</td>\n",
       "      <td>0</td>\n",
       "      <td>STON/O2. 3101282</td>\n",
       "      <td>7.9250</td>\n",
       "      <td>0</td>\n",
       "      <td>0</td>\n",
       "      <td>0</td>\n",
       "      <td>0</td>\n",
       "      <td>1</td>\n",
       "      <td>0</td>\n",
       "      <td>0</td>\n",
       "      <td>1</td>\n",
       "    </tr>\n",
       "  </tbody>\n",
       "</table>\n",
       "</div>"
      ],
      "text/plain": [
       "   PassengerId  Survived                                               Name  \\\n",
       "0            1         0                            Braund, Mr. Owen Harris   \n",
       "1            2         1  Cumings, Mrs. John Bradley (Florence Briggs Th...   \n",
       "2            3         1                             Heikkinen, Miss. Laina   \n",
       "\n",
       "    Age  SibSp  Parch            Ticket     Fare  Cabin_Yes  Sex_male  \\\n",
       "0  22.0      1      0         A/5 21171   7.2500          0         1   \n",
       "1  38.0      1      0          PC 17599  71.2833          1         0   \n",
       "2  26.0      0      0  STON/O2. 3101282   7.9250          0         0   \n",
       "\n",
       "   Embarked_C  Embarked_Q  Embarked_S  Pclass_1  Pclass_2  Pclass_3  \n",
       "0           0           0           1         0         0         1  \n",
       "1           1           0           0         1         0         0  \n",
       "2           0           0           1         0         0         1  "
      ]
     },
     "execution_count": 11,
     "metadata": {},
     "output_type": "execute_result"
    }
   ],
   "source": [
    "dataset.head(3)"
   ]
  },
  {
   "cell_type": "markdown",
   "metadata": {},
   "source": [
    "### Drop colums which do not add any information for prediction"
   ]
  },
  {
   "cell_type": "code",
   "execution_count": 12,
   "metadata": {},
   "outputs": [],
   "source": [
    "dataset.drop('Name', axis=1, inplace=True)\n",
    "dataset.drop('PassengerId', axis=1, inplace=True)\n",
    "dataset.drop('Ticket', axis=1, inplace=True)"
   ]
  },
  {
   "cell_type": "code",
   "execution_count": 13,
   "metadata": {},
   "outputs": [],
   "source": [
    "X = dataset.iloc[:, 1:12].values\n",
    "y = dataset.iloc[:,0].values"
   ]
  },
  {
   "cell_type": "markdown",
   "metadata": {},
   "source": [
    "### Split train and test using sklearn library"
   ]
  },
  {
   "cell_type": "code",
   "execution_count": 14,
   "metadata": {},
   "outputs": [],
   "source": [
    "from sklearn.model_selection import train_test_split\n",
    "X_train, X_test, y_train, y_test = train_test_split(X, y, test_size = 0.2, random_state = 0)"
   ]
  },
  {
   "cell_type": "markdown",
   "metadata": {},
   "source": [
    "###  Importing the Keras libraries and packages"
   ]
  },
  {
   "cell_type": "code",
   "execution_count": 15,
   "metadata": {},
   "outputs": [
    {
     "name": "stderr",
     "output_type": "stream",
     "text": [
      "/anaconda3/lib/python3.6/importlib/_bootstrap.py:219: RuntimeWarning: numpy.dtype size changed, may indicate binary incompatibility. Expected 96, got 88\n",
      "  return f(*args, **kwds)\n",
      "/anaconda3/lib/python3.6/site-packages/h5py/__init__.py:36: FutureWarning: Conversion of the second argument of issubdtype from `float` to `np.floating` is deprecated. In future, it will be treated as `np.float64 == np.dtype(float).type`.\n",
      "  from ._conv import register_converters as _register_converters\n",
      "Using TensorFlow backend.\n"
     ]
    }
   ],
   "source": [
    "import keras\n",
    "from keras.models import Sequential\n",
    "from keras.layers import Dense"
   ]
  },
  {
   "cell_type": "code",
   "execution_count": 16,
   "metadata": {},
   "outputs": [
    {
     "name": "stdout",
     "output_type": "stream",
     "text": [
      "Epoch 1/100\n",
      "712/712 [==============================] - 0s 426us/step - loss: 0.6903 - acc: 0.6559\n",
      "Epoch 2/100\n",
      "712/712 [==============================] - 0s 94us/step - loss: 0.6839 - acc: 0.6657\n",
      "Epoch 3/100\n",
      "712/712 [==============================] - 0s 96us/step - loss: 0.6745 - acc: 0.6756\n",
      "Epoch 4/100\n",
      "712/712 [==============================] - 0s 94us/step - loss: 0.6618 - acc: 0.6728\n",
      "Epoch 5/100\n",
      "712/712 [==============================] - 0s 93us/step - loss: 0.6449 - acc: 0.6756\n",
      "Epoch 6/100\n",
      "712/712 [==============================] - 0s 101us/step - loss: 0.6264 - acc: 0.6854\n",
      "Epoch 7/100\n",
      "712/712 [==============================] - 0s 110us/step - loss: 0.6147 - acc: 0.6938\n",
      "Epoch 8/100\n",
      "712/712 [==============================] - 0s 97us/step - loss: 0.6034 - acc: 0.6882\n",
      "Epoch 9/100\n",
      "712/712 [==============================] - 0s 93us/step - loss: 0.5987 - acc: 0.6938\n",
      "Epoch 10/100\n",
      "712/712 [==============================] - 0s 93us/step - loss: 0.5922 - acc: 0.7022\n",
      "Epoch 11/100\n",
      "712/712 [==============================] - 0s 79us/step - loss: 0.5860 - acc: 0.7051\n",
      "Epoch 12/100\n",
      "712/712 [==============================] - 0s 96us/step - loss: 0.5823 - acc: 0.6980\n",
      "Epoch 13/100\n",
      "712/712 [==============================] - 0s 100us/step - loss: 0.5743 - acc: 0.7079\n",
      "Epoch 14/100\n",
      "712/712 [==============================] - 0s 109us/step - loss: 0.5700 - acc: 0.7037\n",
      "Epoch 15/100\n",
      "712/712 [==============================] - 0s 124us/step - loss: 0.5616 - acc: 0.7121\n",
      "Epoch 16/100\n",
      "712/712 [==============================] - 0s 97us/step - loss: 0.5573 - acc: 0.7149\n",
      "Epoch 17/100\n",
      "712/712 [==============================] - 0s 114us/step - loss: 0.5491 - acc: 0.7107\n",
      "Epoch 18/100\n",
      "712/712 [==============================] - 0s 113us/step - loss: 0.5442 - acc: 0.7205\n",
      "Epoch 19/100\n",
      "712/712 [==============================] - 0s 95us/step - loss: 0.5365 - acc: 0.7275\n",
      "Epoch 20/100\n",
      "712/712 [==============================] - 0s 105us/step - loss: 0.5315 - acc: 0.7261\n",
      "Epoch 21/100\n",
      "712/712 [==============================] - 0s 120us/step - loss: 0.5233 - acc: 0.7374\n",
      "Epoch 22/100\n",
      "712/712 [==============================] - 0s 127us/step - loss: 0.5176 - acc: 0.7542\n",
      "Epoch 23/100\n",
      "712/712 [==============================] - 0s 153us/step - loss: 0.5137 - acc: 0.7486\n",
      "Epoch 24/100\n",
      "712/712 [==============================] - 0s 160us/step - loss: 0.5077 - acc: 0.7725\n",
      "Epoch 25/100\n",
      "712/712 [==============================] - 0s 106us/step - loss: 0.5037 - acc: 0.7683\n",
      "Epoch 26/100\n",
      "712/712 [==============================] - 0s 132us/step - loss: 0.4916 - acc: 0.7865\n",
      "Epoch 27/100\n",
      "712/712 [==============================] - 0s 186us/step - loss: 0.4902 - acc: 0.7879\n",
      "Epoch 28/100\n",
      "712/712 [==============================] - 0s 135us/step - loss: 0.4833 - acc: 0.7851\n",
      "Epoch 29/100\n",
      "712/712 [==============================] - 0s 126us/step - loss: 0.4742 - acc: 0.8034\n",
      "Epoch 30/100\n",
      "712/712 [==============================] - 0s 98us/step - loss: 0.4725 - acc: 0.8076\n",
      "Epoch 31/100\n",
      "712/712 [==============================] - 0s 101us/step - loss: 0.4726 - acc: 0.8062\n",
      "Epoch 32/100\n",
      "712/712 [==============================] - 0s 101us/step - loss: 0.4621 - acc: 0.8090\n",
      "Epoch 33/100\n",
      "712/712 [==============================] - 0s 105us/step - loss: 0.4591 - acc: 0.8160\n",
      "Epoch 34/100\n",
      "712/712 [==============================] - 0s 112us/step - loss: 0.4544 - acc: 0.8160\n",
      "Epoch 35/100\n",
      "712/712 [==============================] - 0s 125us/step - loss: 0.4549 - acc: 0.8090\n",
      "Epoch 36/100\n",
      "712/712 [==============================] - ETA: 0s - loss: 0.4646 - acc: 0.790 - 0s 149us/step - loss: 0.4479 - acc: 0.8104\n",
      "Epoch 37/100\n",
      "712/712 [==============================] - 0s 135us/step - loss: 0.4536 - acc: 0.8202\n",
      "Epoch 38/100\n",
      "712/712 [==============================] - 0s 111us/step - loss: 0.4440 - acc: 0.8090\n",
      "Epoch 39/100\n",
      "712/712 [==============================] - 0s 98us/step - loss: 0.4517 - acc: 0.8090\n",
      "Epoch 40/100\n",
      "712/712 [==============================] - 0s 104us/step - loss: 0.4523 - acc: 0.8104\n",
      "Epoch 41/100\n",
      "712/712 [==============================] - 0s 108us/step - loss: 0.4448 - acc: 0.8160\n",
      "Epoch 42/100\n",
      "712/712 [==============================] - 0s 115us/step - loss: 0.4403 - acc: 0.8174\n",
      "Epoch 43/100\n",
      "712/712 [==============================] - 0s 104us/step - loss: 0.4420 - acc: 0.8244\n",
      "Epoch 44/100\n",
      "712/712 [==============================] - 0s 122us/step - loss: 0.4389 - acc: 0.8160\n",
      "Epoch 45/100\n",
      "712/712 [==============================] - 0s 99us/step - loss: 0.4425 - acc: 0.8146\n",
      "Epoch 46/100\n",
      "712/712 [==============================] - 0s 103us/step - loss: 0.4373 - acc: 0.8174\n",
      "Epoch 47/100\n",
      "712/712 [==============================] - 0s 98us/step - loss: 0.4371 - acc: 0.8160\n",
      "Epoch 48/100\n",
      "712/712 [==============================] - 0s 108us/step - loss: 0.4351 - acc: 0.8202\n",
      "Epoch 49/100\n",
      "712/712 [==============================] - 0s 113us/step - loss: 0.4371 - acc: 0.8160\n",
      "Epoch 50/100\n",
      "712/712 [==============================] - 0s 100us/step - loss: 0.4439 - acc: 0.8020\n",
      "Epoch 51/100\n",
      "712/712 [==============================] - 0s 102us/step - loss: 0.4385 - acc: 0.8188\n",
      "Epoch 52/100\n",
      "712/712 [==============================] - 0s 121us/step - loss: 0.4366 - acc: 0.8118\n",
      "Epoch 53/100\n",
      "712/712 [==============================] - 0s 93us/step - loss: 0.4349 - acc: 0.8188\n",
      "Epoch 54/100\n",
      "712/712 [==============================] - 0s 97us/step - loss: 0.4342 - acc: 0.8160\n",
      "Epoch 55/100\n",
      "712/712 [==============================] - 0s 87us/step - loss: 0.4364 - acc: 0.8202\n",
      "Epoch 56/100\n",
      "712/712 [==============================] - 0s 87us/step - loss: 0.4344 - acc: 0.8132\n",
      "Epoch 57/100\n",
      "712/712 [==============================] - 0s 75us/step - loss: 0.4380 - acc: 0.8188\n",
      "Epoch 58/100\n",
      "712/712 [==============================] - 0s 87us/step - loss: 0.4349 - acc: 0.8188\n",
      "Epoch 59/100\n",
      "712/712 [==============================] - 0s 71us/step - loss: 0.4359 - acc: 0.8146\n",
      "Epoch 60/100\n",
      "712/712 [==============================] - 0s 91us/step - loss: 0.4338 - acc: 0.8230\n",
      "Epoch 61/100\n",
      "712/712 [==============================] - 0s 98us/step - loss: 0.4294 - acc: 0.8104\n",
      "Epoch 62/100\n",
      "712/712 [==============================] - 0s 117us/step - loss: 0.4317 - acc: 0.8216\n",
      "Epoch 63/100\n",
      "712/712 [==============================] - 0s 108us/step - loss: 0.4305 - acc: 0.8258\n",
      "Epoch 64/100\n",
      "712/712 [==============================] - 0s 87us/step - loss: 0.4326 - acc: 0.8202\n",
      "Epoch 65/100\n",
      "712/712 [==============================] - 0s 88us/step - loss: 0.4285 - acc: 0.8272\n",
      "Epoch 66/100\n",
      "712/712 [==============================] - 0s 89us/step - loss: 0.4293 - acc: 0.8174\n",
      "Epoch 67/100\n",
      "712/712 [==============================] - 0s 89us/step - loss: 0.4400 - acc: 0.8174\n",
      "Epoch 68/100\n",
      "712/712 [==============================] - 0s 89us/step - loss: 0.4281 - acc: 0.8230\n",
      "Epoch 69/100\n",
      "712/712 [==============================] - 0s 74us/step - loss: 0.4283 - acc: 0.8244\n",
      "Epoch 70/100\n",
      "712/712 [==============================] - 0s 72us/step - loss: 0.4261 - acc: 0.8216\n",
      "Epoch 71/100\n",
      "712/712 [==============================] - 0s 79us/step - loss: 0.4258 - acc: 0.8272\n",
      "Epoch 72/100\n",
      "712/712 [==============================] - 0s 73us/step - loss: 0.4249 - acc: 0.8160\n",
      "Epoch 73/100\n",
      "712/712 [==============================] - 0s 84us/step - loss: 0.4287 - acc: 0.8132\n",
      "Epoch 74/100\n",
      "712/712 [==============================] - 0s 99us/step - loss: 0.4295 - acc: 0.8188\n",
      "Epoch 75/100\n",
      "712/712 [==============================] - 0s 93us/step - loss: 0.4289 - acc: 0.8202\n",
      "Epoch 76/100\n",
      "712/712 [==============================] - 0s 97us/step - loss: 0.4270 - acc: 0.8230\n",
      "Epoch 77/100\n",
      "712/712 [==============================] - 0s 89us/step - loss: 0.4241 - acc: 0.8216\n",
      "Epoch 78/100\n",
      "712/712 [==============================] - 0s 72us/step - loss: 0.4301 - acc: 0.8244\n",
      "Epoch 79/100\n",
      "712/712 [==============================] - 0s 90us/step - loss: 0.4266 - acc: 0.8230\n",
      "Epoch 80/100\n",
      "712/712 [==============================] - 0s 78us/step - loss: 0.4278 - acc: 0.8216\n",
      "Epoch 81/100\n",
      "712/712 [==============================] - 0s 77us/step - loss: 0.4300 - acc: 0.8146\n",
      "Epoch 82/100\n",
      "712/712 [==============================] - 0s 76us/step - loss: 0.4248 - acc: 0.8202\n",
      "Epoch 83/100\n",
      "712/712 [==============================] - 0s 94us/step - loss: 0.4233 - acc: 0.8230\n",
      "Epoch 84/100\n",
      "712/712 [==============================] - 0s 105us/step - loss: 0.4230 - acc: 0.8258\n",
      "Epoch 85/100\n",
      "712/712 [==============================] - 0s 121us/step - loss: 0.4235 - acc: 0.8272\n",
      "Epoch 86/100\n",
      "712/712 [==============================] - 0s 163us/step - loss: 0.4305 - acc: 0.8258\n",
      "Epoch 87/100\n",
      "712/712 [==============================] - 0s 186us/step - loss: 0.4265 - acc: 0.8244\n",
      "Epoch 88/100\n",
      "712/712 [==============================] - 0s 186us/step - loss: 0.4226 - acc: 0.8244\n",
      "Epoch 89/100\n",
      "712/712 [==============================] - 0s 136us/step - loss: 0.4240 - acc: 0.8258\n",
      "Epoch 90/100\n",
      "712/712 [==============================] - 0s 187us/step - loss: 0.4249 - acc: 0.8202\n",
      "Epoch 91/100\n",
      "712/712 [==============================] - 0s 123us/step - loss: 0.4221 - acc: 0.8272\n",
      "Epoch 92/100\n",
      "712/712 [==============================] - 0s 108us/step - loss: 0.4222 - acc: 0.8244\n",
      "Epoch 93/100\n",
      "712/712 [==============================] - 0s 91us/step - loss: 0.4218 - acc: 0.8287\n",
      "Epoch 94/100\n",
      "712/712 [==============================] - 0s 120us/step - loss: 0.4197 - acc: 0.8230\n",
      "Epoch 95/100\n",
      "712/712 [==============================] - 0s 105us/step - loss: 0.4245 - acc: 0.8258\n",
      "Epoch 96/100\n",
      "712/712 [==============================] - 0s 101us/step - loss: 0.4210 - acc: 0.8329\n",
      "Epoch 97/100\n",
      "712/712 [==============================] - 0s 99us/step - loss: 0.4235 - acc: 0.8315\n",
      "Epoch 98/100\n",
      "712/712 [==============================] - 0s 103us/step - loss: 0.4201 - acc: 0.8258\n",
      "Epoch 99/100\n",
      "712/712 [==============================] - 0s 88us/step - loss: 0.4193 - acc: 0.8301\n",
      "Epoch 100/100\n",
      "712/712 [==============================] - 0s 92us/step - loss: 0.4226 - acc: 0.8188\n"
     ]
    },
    {
     "data": {
      "text/plain": [
       "<keras.callbacks.History at 0x123082ef0>"
      ]
     },
     "execution_count": 16,
     "metadata": {},
     "output_type": "execute_result"
    }
   ],
   "source": [
    "# Initialising the ANN\n",
    "classifier = Sequential()\n",
    "\n",
    "# Adding the input layer and the first hidden layer\n",
    "classifier.add(Dense(units = 6, kernel_initializer = 'uniform', activation = 'relu', input_dim = 11))\n",
    "\n",
    "# Adding the second hidden layer\n",
    "classifier.add(Dense(units = 6, kernel_initializer = 'uniform', activation = 'relu'))\n",
    "\n",
    "# Adding the output layer\n",
    "classifier.add(Dense(units = 1, kernel_initializer = 'uniform', activation = 'sigmoid'))\n",
    "\n",
    "# Compiling the ANN\n",
    "classifier.compile(optimizer = 'adam', loss = 'binary_crossentropy', metrics = ['accuracy'])\n",
    "\n",
    "# Fitting the ANN to the Training set\n",
    "classifier.fit(X_train, y_train, batch_size = 20, epochs = 100)"
   ]
  },
  {
   "cell_type": "raw",
   "metadata": {},
   "source": [
    "kernel_initializer - Defines the way to set the initial random weights of Keras layers.\n",
    "activation - activation function is used to intoduce non-linear nature to data.\n",
    "optimizer - Optimazation function like Stocastic GD,adam,RMSprop etc"
   ]
  },
  {
   "cell_type": "code",
   "execution_count": 17,
   "metadata": {},
   "outputs": [],
   "source": [
    "y_pred = classifier.predict(X_test)"
   ]
  },
  {
   "cell_type": "code",
   "execution_count": 18,
   "metadata": {},
   "outputs": [
    {
     "data": {
      "text/plain": [
       "0.8268156424581006"
      ]
     },
     "execution_count": 18,
     "metadata": {},
     "output_type": "execute_result"
    }
   ],
   "source": [
    "y_pred1 = (y_pred > 0.5)\n",
    "score = metrics.accuracy_score(y_test, y_pred1)\n",
    "score"
   ]
  }
 ],
 "metadata": {
  "kernelspec": {
   "display_name": "Python 3",
   "language": "python",
   "name": "python3"
  },
  "language_info": {
   "codemirror_mode": {
    "name": "ipython",
    "version": 3
   },
   "file_extension": ".py",
   "mimetype": "text/x-python",
   "name": "python",
   "nbconvert_exporter": "python",
   "pygments_lexer": "ipython3",
   "version": "3.6.6"
  }
 },
 "nbformat": 4,
 "nbformat_minor": 2
}

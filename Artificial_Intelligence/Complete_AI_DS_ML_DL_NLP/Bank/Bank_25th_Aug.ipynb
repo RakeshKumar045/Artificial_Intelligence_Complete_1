{
 "cells": [
  {
   "cell_type": "code",
   "execution_count": 55,
   "metadata": {},
   "outputs": [],
   "source": [
    "import pandas as pd\n",
    "import numpy as np\n",
    "\n",
    "from pandas import Series as s, DataFrame as df\n",
    "from sklearn.model_selection import train_test_split\n",
    "from sklearn import datasets, linear_model, metrics \n",
    "from sklearn.metrics import r2_score , mean_squared_error \n",
    "from scipy import stats\n",
    "\n",
    "from sklearn.linear_model import LinearRegression , LogisticRegression\n",
    "\n",
    "from sklearn.ensemble import RandomForestRegressor\n",
    "from sklearn.tree import DecisionTreeRegressor\n",
    " \n",
    "import matplotlib.pyplot as plt\n",
    "from matplotlib import rcParams\n",
    "import seaborn as sb\n",
    "\n",
    "#setting configs plot size 5x4 inches and seaborn style whitegrid\n",
    "%matplotlib inline\n",
    "rcParams['figure.figsize'] = 5,4\n",
    "sb.set_style('whitegrid')\n",
    "\n",
    "from sklearn.preprocessing import LabelEncoder\n",
    "\n",
    "\n",
    "\n",
    "import numpy as np\n",
    "import pandas as pd\n",
    "import matplotlib.pyplot as plt\n",
    "from matplotlib import rcParams\n",
    "\n",
    "import sklearn\n",
    "from sklearn.cluster import KMeans\n",
    "from sklearn.preprocessing import scale,normalize, StandardScaler\n",
    "\n",
    "\n",
    "from sklearn.metrics import confusion_matrix, classification_report , accuracy_score\n",
    "from collections import Counter as c\n",
    "from sklearn.preprocessing import LabelEncoder\n",
    "\n",
    "from pandas import Series as s, DataFrame as df\n",
    "from sklearn.model_selection import train_test_split\n",
    "from sklearn import datasets, linear_model, metrics\n",
    "from sklearn.neighbors import KNeighborsClassifier as KNN\n",
    "from sklearn.ensemble import RandomForestClassifier\n",
    "\n",
    "# differnece sklearn.cross_validation and sklearn.model_selection\n",
    "\n",
    "from sklearn.cross_validation import train_test_split\n",
    "from sklearn.tree import DecisionTreeClassifier\n",
    "from sklearn.metrics import accuracy_score\n",
    "from sklearn.metrics import classification_report\n",
    "\n",
    "from sklearn.externals.six import StringIO \n",
    "from sklearn.tree import DecisionTreeClassifier\n",
    "from sklearn.externals.six import StringIO  \n",
    "from IPython.display import Image  \n",
    "from sklearn.tree import export_graphviz\n",
    "import pydotplus\n",
    " "
   ]
  },
  {
   "cell_type": "code",
   "execution_count": 3,
   "metadata": {},
   "outputs": [],
   "source": [
    "data = pd.read_csv(\"bank-full_25thAug.csv\" , \";\")"
   ]
  },
  {
   "cell_type": "code",
   "execution_count": 9,
   "metadata": {},
   "outputs": [
    {
     "name": "stdout",
     "output_type": "stream",
     "text": [
      "(45211, 17)\n",
      "Index(['age', 'job', 'marital', 'education', 'default', 'balance', 'housing',\n",
      "       'loan', 'contact', 'day', 'month', 'duration', 'campaign', 'pdays',\n",
      "       'previous', 'poutcome', 'y'],\n",
      "      dtype='object')\n"
     ]
    }
   ],
   "source": [
    "print(data.shape)\n",
    "print(data.columns)\n"
   ]
  },
  {
   "cell_type": "code",
   "execution_count": 6,
   "metadata": {},
   "outputs": [
    {
     "name": "stdout",
     "output_type": "stream",
     "text": [
      "   age         job  marital  education default  balance housing loan  contact  \\\n",
      "0   58  management  married   tertiary      no     2143     yes   no  unknown   \n",
      "1   44  technician   single  secondary      no       29     yes   no  unknown   \n",
      "\n",
      "   day month  duration  campaign  pdays  previous poutcome   y  \n",
      "0    5   may       261         1     -1         0  unknown  no  \n",
      "1    5   may       151         1     -1         0  unknown  no  \n"
     ]
    }
   ],
   "source": [
    "print(data.head(2))"
   ]
  },
  {
   "cell_type": "code",
   "execution_count": 13,
   "metadata": {},
   "outputs": [],
   "source": [
    "#print(data.info)"
   ]
  },
  {
   "cell_type": "code",
   "execution_count": 12,
   "metadata": {},
   "outputs": [],
   "source": [
    "#data.isnull().sum()"
   ]
  },
  {
   "cell_type": "code",
   "execution_count": 11,
   "metadata": {},
   "outputs": [],
   "source": [
    "enc = LabelEncoder()"
   ]
  },
  {
   "cell_type": "code",
   "execution_count": 14,
   "metadata": {},
   "outputs": [],
   "source": [
    "data[\"job\"] = enc.fit_transform(data[\"job\"])\n",
    "data[\"marital\"] = enc.fit_transform(data[\"marital\"])\n",
    "data[\"education\"] = enc.fit_transform(data[\"education\"])\n",
    "data[\"default\"] = enc.fit_transform(data[\"default\"])\n",
    "data[\"housing\"] = enc.fit_transform(data[\"housing\"])\n",
    "data[\"loan\"] = enc.fit_transform(data[\"loan\"])\n",
    "data[\"contact\"] = enc.fit_transform(data[\"contact\"])\n",
    "\n",
    "data[\"month\"] = enc.fit_transform(data[\"month\"])\n",
    "data[\"poutcome\"] = enc.fit_transform(data[\"poutcome\"])\n",
    "data[\"y\"] = enc.fit_transform(data[\"y\"])\n",
    "\n",
    "\n"
   ]
  },
  {
   "cell_type": "code",
   "execution_count": 15,
   "metadata": {},
   "outputs": [
    {
     "data": {
      "text/plain": [
       "Counter({'age': 1,\n",
       "         'job': 1,\n",
       "         'marital': 1,\n",
       "         'education': 1,\n",
       "         'default': 1,\n",
       "         'balance': 1,\n",
       "         'housing': 1,\n",
       "         'loan': 1,\n",
       "         'contact': 1,\n",
       "         'day': 1,\n",
       "         'month': 1,\n",
       "         'duration': 1,\n",
       "         'campaign': 1,\n",
       "         'pdays': 1,\n",
       "         'previous': 1,\n",
       "         'poutcome': 1,\n",
       "         'y': 1})"
      ]
     },
     "execution_count": 15,
     "metadata": {},
     "output_type": "execute_result"
    }
   ],
   "source": [
    "c(data)"
   ]
  },
  {
   "cell_type": "code",
   "execution_count": 25,
   "metadata": {},
   "outputs": [],
   "source": [
    "#(data.iloc[:,:16])"
   ]
  },
  {
   "cell_type": "code",
   "execution_count": 27,
   "metadata": {},
   "outputs": [],
   "source": [
    "#data.iloc[:,-1]"
   ]
  },
  {
   "cell_type": "code",
   "execution_count": 16,
   "metadata": {
    "scrolled": true
   },
   "outputs": [
    {
     "data": {
      "text/html": [
       "<div>\n",
       "<style scoped>\n",
       "    .dataframe tbody tr th:only-of-type {\n",
       "        vertical-align: middle;\n",
       "    }\n",
       "\n",
       "    .dataframe tbody tr th {\n",
       "        vertical-align: top;\n",
       "    }\n",
       "\n",
       "    .dataframe thead th {\n",
       "        text-align: right;\n",
       "    }\n",
       "</style>\n",
       "<table border=\"1\" class=\"dataframe\">\n",
       "  <thead>\n",
       "    <tr style=\"text-align: right;\">\n",
       "      <th></th>\n",
       "      <th>age</th>\n",
       "      <th>job</th>\n",
       "      <th>marital</th>\n",
       "      <th>education</th>\n",
       "      <th>default</th>\n",
       "      <th>balance</th>\n",
       "      <th>housing</th>\n",
       "      <th>loan</th>\n",
       "      <th>contact</th>\n",
       "      <th>day</th>\n",
       "      <th>month</th>\n",
       "      <th>duration</th>\n",
       "      <th>campaign</th>\n",
       "      <th>pdays</th>\n",
       "      <th>previous</th>\n",
       "      <th>poutcome</th>\n",
       "      <th>y</th>\n",
       "    </tr>\n",
       "  </thead>\n",
       "  <tbody>\n",
       "    <tr>\n",
       "      <th>0</th>\n",
       "      <td>58</td>\n",
       "      <td>4</td>\n",
       "      <td>1</td>\n",
       "      <td>2</td>\n",
       "      <td>0</td>\n",
       "      <td>2143</td>\n",
       "      <td>1</td>\n",
       "      <td>0</td>\n",
       "      <td>2</td>\n",
       "      <td>5</td>\n",
       "      <td>8</td>\n",
       "      <td>261</td>\n",
       "      <td>1</td>\n",
       "      <td>-1</td>\n",
       "      <td>0</td>\n",
       "      <td>3</td>\n",
       "      <td>0</td>\n",
       "    </tr>\n",
       "    <tr>\n",
       "      <th>1</th>\n",
       "      <td>44</td>\n",
       "      <td>9</td>\n",
       "      <td>2</td>\n",
       "      <td>1</td>\n",
       "      <td>0</td>\n",
       "      <td>29</td>\n",
       "      <td>1</td>\n",
       "      <td>0</td>\n",
       "      <td>2</td>\n",
       "      <td>5</td>\n",
       "      <td>8</td>\n",
       "      <td>151</td>\n",
       "      <td>1</td>\n",
       "      <td>-1</td>\n",
       "      <td>0</td>\n",
       "      <td>3</td>\n",
       "      <td>0</td>\n",
       "    </tr>\n",
       "  </tbody>\n",
       "</table>\n",
       "</div>"
      ],
      "text/plain": [
       "   age  job  marital  education  default  balance  housing  loan  contact  \\\n",
       "0   58    4        1          2        0     2143        1     0        2   \n",
       "1   44    9        2          1        0       29        1     0        2   \n",
       "\n",
       "   day  month  duration  campaign  pdays  previous  poutcome  y  \n",
       "0    5      8       261         1     -1         0         3  0  \n",
       "1    5      8       151         1     -1         0         3  0  "
      ]
     },
     "execution_count": 16,
     "metadata": {},
     "output_type": "execute_result"
    }
   ],
   "source": [
    "data.head(2)"
   ]
  },
  {
   "cell_type": "code",
   "execution_count": 24,
   "metadata": {},
   "outputs": [],
   "source": [
    "#plt.scatter((data.iloc[1]) ,data[\"y\"])"
   ]
  },
  {
   "cell_type": "code",
   "execution_count": 32,
   "metadata": {},
   "outputs": [],
   "source": [
    "# feature engineering\n",
    "x = data.iloc[:,:16]\n",
    "y = data.iloc[:,-1]"
   ]
  },
  {
   "cell_type": "code",
   "execution_count": 33,
   "metadata": {},
   "outputs": [
    {
     "data": {
      "text/html": [
       "<div>\n",
       "<style scoped>\n",
       "    .dataframe tbody tr th:only-of-type {\n",
       "        vertical-align: middle;\n",
       "    }\n",
       "\n",
       "    .dataframe tbody tr th {\n",
       "        vertical-align: top;\n",
       "    }\n",
       "\n",
       "    .dataframe thead th {\n",
       "        text-align: right;\n",
       "    }\n",
       "</style>\n",
       "<table border=\"1\" class=\"dataframe\">\n",
       "  <thead>\n",
       "    <tr style=\"text-align: right;\">\n",
       "      <th></th>\n",
       "      <th>age</th>\n",
       "      <th>job</th>\n",
       "      <th>marital</th>\n",
       "      <th>education</th>\n",
       "      <th>default</th>\n",
       "      <th>balance</th>\n",
       "      <th>housing</th>\n",
       "      <th>loan</th>\n",
       "      <th>contact</th>\n",
       "      <th>day</th>\n",
       "      <th>month</th>\n",
       "      <th>duration</th>\n",
       "      <th>campaign</th>\n",
       "      <th>pdays</th>\n",
       "      <th>previous</th>\n",
       "      <th>poutcome</th>\n",
       "    </tr>\n",
       "  </thead>\n",
       "  <tbody>\n",
       "    <tr>\n",
       "      <th>0</th>\n",
       "      <td>58</td>\n",
       "      <td>4</td>\n",
       "      <td>1</td>\n",
       "      <td>2</td>\n",
       "      <td>0</td>\n",
       "      <td>2143</td>\n",
       "      <td>1</td>\n",
       "      <td>0</td>\n",
       "      <td>2</td>\n",
       "      <td>5</td>\n",
       "      <td>8</td>\n",
       "      <td>261</td>\n",
       "      <td>1</td>\n",
       "      <td>-1</td>\n",
       "      <td>0</td>\n",
       "      <td>3</td>\n",
       "    </tr>\n",
       "    <tr>\n",
       "      <th>1</th>\n",
       "      <td>44</td>\n",
       "      <td>9</td>\n",
       "      <td>2</td>\n",
       "      <td>1</td>\n",
       "      <td>0</td>\n",
       "      <td>29</td>\n",
       "      <td>1</td>\n",
       "      <td>0</td>\n",
       "      <td>2</td>\n",
       "      <td>5</td>\n",
       "      <td>8</td>\n",
       "      <td>151</td>\n",
       "      <td>1</td>\n",
       "      <td>-1</td>\n",
       "      <td>0</td>\n",
       "      <td>3</td>\n",
       "    </tr>\n",
       "  </tbody>\n",
       "</table>\n",
       "</div>"
      ],
      "text/plain": [
       "   age  job  marital  education  default  balance  housing  loan  contact  \\\n",
       "0   58    4        1          2        0     2143        1     0        2   \n",
       "1   44    9        2          1        0       29        1     0        2   \n",
       "\n",
       "   day  month  duration  campaign  pdays  previous  poutcome  \n",
       "0    5      8       261         1     -1         0         3  \n",
       "1    5      8       151         1     -1         0         3  "
      ]
     },
     "execution_count": 33,
     "metadata": {},
     "output_type": "execute_result"
    }
   ],
   "source": [
    "x.head(2)"
   ]
  },
  {
   "cell_type": "code",
   "execution_count": 39,
   "metadata": {},
   "outputs": [
    {
     "name": "stdout",
     "output_type": "stream",
     "text": [
      "\n",
      "\n",
      "accuracy :  0.8915332212686897\n"
     ]
    }
   ],
   "source": [
    "\n",
    "#print(\"X  :  \" , x)\n",
    "print()\n",
    "\n",
    "#print(\"Y  :  \", y)\n",
    "print()\n",
    "#print(x)\n",
    "\n",
    "x_train, x_test , y_train , y_test = train_test_split(x ,y , test_size = 0.25 , random_state = 10)\n",
    "\n",
    "#print(y_train)\n",
    "# print(x_train)\n",
    "\n",
    "linear_regression_model = LogisticRegression()\n",
    "#print(linear_regression_model)\n",
    "#print()\n",
    "\n",
    "linear_regression_model.fit(x_train,y_train)\n",
    "\n",
    "predict_x = linear_regression_model.predict(x_test)\n",
    "#print(\" predict_x :  \" ,predict_x)\n",
    "\n",
    "accuracy = accuracy_score(y_test , predict_x )# r2_score is standrad accuracy\n",
    "print(\"accuracy : \" , accuracy)\n"
   ]
  },
  {
   "cell_type": "code",
   "execution_count": 45,
   "metadata": {},
   "outputs": [
    {
     "name": "stdout",
     "output_type": "stream",
     "text": [
      "Training Features Shape: (33908, 16)\n",
      "Training Labels Shape: (33908,)\n",
      "Testing Features Shape: (11303, 16)\n",
      "Testing Labels Shape: (11303,)\n"
     ]
    }
   ],
   "source": [
    "print(\"Training Features Shape:\", x_train.shape)\n",
    "print('Training Labels Shape:', y_train.shape)\n",
    "print('Testing Features Shape:', x_test.shape)\n",
    "print('Testing Labels Shape:', y_test.shape)"
   ]
  },
  {
   "cell_type": "code",
   "execution_count": 69,
   "metadata": {},
   "outputs": [],
   "source": [
    "names = [\"Logistic Regression\",         \n",
    "         \"Decision Tree Classification\",\n",
    "         \"KNN\",\n",
    "         \"RandomForestClassifier\"\n",
    "        ]"
   ]
  },
  {
   "cell_type": "code",
   "execution_count": 70,
   "metadata": {},
   "outputs": [],
   "source": [
    "algorithms = [ LogisticRegression(),\n",
    "              DecisionTreeClassifier(),\n",
    "              KNN(n_neighbors=3),\n",
    "              RandomForestClassifier()\n",
    "              ]"
   ]
  },
  {
   "cell_type": "code",
   "execution_count": 71,
   "metadata": {},
   "outputs": [],
   "source": [
    "columns_name = [\"Model_name\", \"Random_state\",'accuracy_score']\n",
    "random_state_list_up_to_10 = [0,1,2,3,4,5,6,7,8,9,10]"
   ]
  },
  {
   "cell_type": "code",
   "execution_count": 93,
   "metadata": {},
   "outputs": [],
   "source": [
    "rows=[]\n",
    "def addRandomStateForAlgorithm(x,y,names,algorithms,columns_name,random_state_list):    \n",
    "    for j in range(len(algorithms)):\n",
    "        model = algorithms[j]\n",
    "        for i in random_state_list:\n",
    "            x_train, x_test , y_train , y_test = train_test_split(x ,y , stratify=y, test_size = 0.3 , random_state = i)\n",
    "            model.fit(x_train,y_train)\n",
    "            pred_test = model.predict(x_test)\n",
    "            row = [names[j],i,accuracy_score (y_test,pred_test)]\n",
    "            rows.append(row)\n",
    "    models_df = pd.DataFrame(rows)   \n",
    "    models_df.columns = columns_name\n",
    "    print(models_df)"
   ]
  },
  {
   "cell_type": "code",
   "execution_count": 94,
   "metadata": {},
   "outputs": [
    {
     "name": "stdout",
     "output_type": "stream",
     "text": [
      "                      Model_name  Random_state  accuracy_score\n",
      "0            Logistic Regression             0        0.890298\n",
      "1            Logistic Regression             1        0.889929\n",
      "2            Logistic Regression             2        0.890666\n",
      "3            Logistic Regression             3        0.889487\n",
      "4            Logistic Regression             4        0.890372\n",
      "5            Logistic Regression             5        0.894132\n",
      "6            Logistic Regression             6        0.890298\n",
      "7            Logistic Regression             7        0.892657\n",
      "8            Logistic Regression             8        0.888602\n",
      "9            Logistic Regression             9        0.889339\n",
      "10           Logistic Regression            10        0.891035\n",
      "11  Decision Tree Classification             0        0.869950\n",
      "12  Decision Tree Classification             1        0.870392\n",
      "13  Decision Tree Classification             2        0.871719\n",
      "14  Decision Tree Classification             3        0.871793\n",
      "15  Decision Tree Classification             4        0.870835\n",
      "16  Decision Tree Classification             5        0.875848\n",
      "17  Decision Tree Classification             6        0.873046\n",
      "18  Decision Tree Classification             7        0.872751\n",
      "19  Decision Tree Classification             8        0.874889\n",
      "20  Decision Tree Classification             9        0.873562\n",
      "21  Decision Tree Classification            10        0.875258\n",
      "22                           KNN             0        0.879534\n",
      "23                           KNN             1        0.877765\n",
      "24                           KNN             2        0.875553\n",
      "25                           KNN             3        0.876585\n",
      "26                           KNN             4        0.876364\n",
      "27                           KNN             5        0.876806\n",
      "28                           KNN             6        0.873046\n",
      "29                           KNN             7        0.875627\n",
      "30                           KNN             8        0.875332\n",
      "31                           KNN             9        0.875184\n",
      "32                           KNN            10        0.875922\n",
      "33        RandomForestClassifier             0        0.897965\n",
      "34        RandomForestClassifier             1        0.898850\n",
      "35        RandomForestClassifier             2        0.899661\n",
      "36        RandomForestClassifier             3        0.900177\n",
      "37        RandomForestClassifier             4        0.901283\n",
      "38        RandomForestClassifier             5        0.901799\n",
      "39        RandomForestClassifier             6        0.898408\n",
      "40        RandomForestClassifier             7        0.900619\n",
      "41        RandomForestClassifier             8        0.900398\n",
      "42        RandomForestClassifier             9        0.897523\n",
      "43        RandomForestClassifier            10        0.901209\n"
     ]
    }
   ],
   "source": [
    "addRandomStateForAlgorithm(x, y,names,algorithms,columns_name,random_state_list_up_to_10)"
   ]
  },
  {
   "cell_type": "code",
   "execution_count": 95,
   "metadata": {},
   "outputs": [
    {
     "data": {
      "text/plain": [
       "Counter({0: 39922, 1: 5289})"
      ]
     },
     "execution_count": 95,
     "metadata": {},
     "output_type": "execute_result"
    }
   ],
   "source": [
    "c(data.y)"
   ]
  },
  {
   "cell_type": "code",
   "execution_count": 66,
   "metadata": {},
   "outputs": [
    {
     "data": {
      "text/plain": [
       "Counter({'age': 1,\n",
       "         'job': 1,\n",
       "         'marital': 1,\n",
       "         'education': 1,\n",
       "         'default': 1,\n",
       "         'balance': 1,\n",
       "         'housing': 1,\n",
       "         'loan': 1,\n",
       "         'contact': 1,\n",
       "         'day': 1,\n",
       "         'month': 1,\n",
       "         'duration': 1,\n",
       "         'campaign': 1,\n",
       "         'pdays': 1,\n",
       "         'previous': 1,\n",
       "         'poutcome': 1,\n",
       "         'y': 1})"
      ]
     },
     "execution_count": 66,
     "metadata": {},
     "output_type": "execute_result"
    }
   ],
   "source": [
    "c(data)"
   ]
  },
  {
   "cell_type": "code",
   "execution_count": 91,
   "metadata": {},
   "outputs": [],
   "source": [
    "x_train, x_test , y_train , y_test = train_test_split(x ,y , stratify=y, test_size = 0.25 , random_state = 3)\n"
   ]
  },
  {
   "cell_type": "code",
   "execution_count": 97,
   "metadata": {},
   "outputs": [
    {
     "data": {
      "text/plain": [
       "array([[9563,  418],\n",
       "       [1263,   59]])"
      ]
     },
     "execution_count": 97,
     "metadata": {},
     "output_type": "execute_result"
    }
   ],
   "source": [
    "#right format\n",
    "confusion_matrix(y_test,predict_x)"
   ]
  },
  {
   "cell_type": "code",
   "execution_count": 98,
   "metadata": {
    "scrolled": true
   },
   "outputs": [
    {
     "data": {
      "text/plain": [
       "array([[9563, 1263],\n",
       "       [ 418,   59]])"
      ]
     },
     "execution_count": 98,
     "metadata": {},
     "output_type": "execute_result"
    }
   ],
   "source": [
    "#wrong format\n",
    "confusion_matrix(predict_x,y_test)"
   ]
  },
  {
   "cell_type": "code",
   "execution_count": null,
   "metadata": {},
   "outputs": [],
   "source": []
  }
 ],
 "metadata": {
  "kernelspec": {
   "display_name": "Python 3",
   "language": "python",
   "name": "python3"
  },
  "language_info": {
   "codemirror_mode": {
    "name": "ipython",
    "version": 3
   },
   "file_extension": ".py",
   "mimetype": "text/x-python",
   "name": "python",
   "nbconvert_exporter": "python",
   "pygments_lexer": "ipython3",
   "version": "3.6.5"
  }
 },
 "nbformat": 4,
 "nbformat_minor": 2
}

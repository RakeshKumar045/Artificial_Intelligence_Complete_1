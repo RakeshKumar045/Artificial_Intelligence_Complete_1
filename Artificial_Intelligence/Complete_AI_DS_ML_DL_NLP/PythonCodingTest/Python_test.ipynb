{
 "cells": [
  {
   "cell_type": "code",
   "execution_count": 1,
   "metadata": {},
   "outputs": [
    {
     "name": "stdout",
     "output_type": "stream",
     "text": [
      "y\n"
     ]
    }
   ],
   "source": [
    "print(max(\"who are you\"))"
   ]
  },
  {
   "cell_type": "code",
   "execution_count": 22,
   "metadata": {},
   "outputs": [],
   "source": [
    "def pureNumbers(list_a):  \n",
    "  \n",
    "    c = 0\n",
    "    # loop till list is not empty \n",
    "    for i,val in enumerate(list_a):              \n",
    "  \n",
    "        # Find reverse of current number \n",
    "        t = i \n",
    "        rev = 0\n",
    "        while t > 0: \n",
    "            #print(i,\"   = \",rev)\n",
    "            rev = rev * 10 + t % 10\n",
    "            t = t / 10\n",
    "  \n",
    "        # compare rev with the current number \n",
    "        if rev == i:  \n",
    "            c = c + 1\n",
    "    print(\"Total palindrome nos. are\", c) \n",
    "   "
   ]
  },
  {
   "cell_type": "code",
   "execution_count": 23,
   "metadata": {},
   "outputs": [
    {
     "name": "stdout",
     "output_type": "stream",
     "text": [
      "Total palindrome nos. are 1\n"
     ]
    }
   ],
   "source": [
    "list_a = [10, 121, 133, 155, 141, 252] \n",
    "palindromeNumbers(list_a) \n",
    "  \n"
   ]
  },
  {
   "cell_type": "code",
   "execution_count": 6,
   "metadata": {},
   "outputs": [
    {
     "name": "stdout",
     "output_type": "stream",
     "text": [
      "Total palindrome nos. are 0\n"
     ]
    }
   ],
   "source": [
    "list_b = [ 111, 220, 784, 565, 498, 787, 363] \n",
    "palindromeNumbers(list_b) "
   ]
  },
  {
   "cell_type": "code",
   "execution_count": 17,
   "metadata": {},
   "outputs": [
    {
     "name": "stdout",
     "output_type": "stream",
     "text": [
      "3628800\n"
     ]
    }
   ],
   "source": [
    "#kases = int(raw_input())\n",
    "kases = 1\n",
    "for kase in range(kases):\n",
    "    #N = int(raw_input())\n",
    "    N=10\n",
    "    result = 1\n",
    "    for i in range(1, N + 1):\n",
    "        result = result * i\n",
    "    print(result)"
   ]
  },
  {
   "cell_type": "code",
   "execution_count": null,
   "metadata": {},
   "outputs": [],
   "source": []
  }
 ],
 "metadata": {
  "kernelspec": {
   "display_name": "Python 3",
   "language": "python",
   "name": "python3"
  },
  "language_info": {
   "codemirror_mode": {
    "name": "ipython",
    "version": 3
   },
   "file_extension": ".py",
   "mimetype": "text/x-python",
   "name": "python",
   "nbconvert_exporter": "python",
   "pygments_lexer": "ipython3",
   "version": "3.6.5"
  }
 },
 "nbformat": 4,
 "nbformat_minor": 2
}
